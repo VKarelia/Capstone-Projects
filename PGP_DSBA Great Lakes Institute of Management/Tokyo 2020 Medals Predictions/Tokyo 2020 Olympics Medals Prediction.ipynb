{
 "cells": [
  {
   "cell_type": "markdown",
   "metadata": {},
   "source": [
    "<h1 align=center><font size = 5>Tokyo 2020 Olympics Medals Prediction</font></h1>"
   ]
  },
  {
   "cell_type": "markdown",
   "metadata": {},
   "source": [
    "_Importing necessary libraris_"
   ]
  },
  {
   "cell_type": "code",
   "execution_count": 1,
   "metadata": {},
   "outputs": [],
   "source": [
    "import pandas as pd\n",
    "pd.set_option('display.float_format', lambda x: '%.3f' % x)\n",
    "\n",
    "from sci_analysis import analyze\n",
    "\n",
    "import seaborn as sns\n",
    "import matplotlib.pyplot as plt\n",
    "import plotly.express as px\n",
    "\n",
    "from sklearn.preprocessing import StandardScaler #Scaling of data\n",
    "\n",
    "from sklearn.model_selection import train_test_split\n",
    "\n",
    "# Linear regression Model using Sklearn \n",
    "from sklearn.linear_model import LinearRegression\n",
    "\n",
    "from sklearn.metrics import r2_score\n",
    "from sklearn.feature_selection import RFE\n",
    "import statsmodels.api as sm\n",
    "from statsmodels.stats.outliers_influence import variance_inflation_factor\n",
    "\n",
    "import warnings\n",
    "warnings.filterwarnings('ignore')\n",
    "\n",
    "class color:\n",
    "   PURPLE = '\\033[95m'\n",
    "   CYAN = '\\033[96m'\n",
    "   DARKCYAN = '\\033[36m'\n",
    "   BLUE = '\\033[94m'\n",
    "   GREEN = '\\033[92m'\n",
    "   YELLOW = '\\033[93m'\n",
    "   RED = '\\033[91m'\n",
    "   BOLD = '\\033[1m'\n",
    "   UNDERLINE = '\\033[4m'\n",
    "   END = '\\033[0m'"
   ]
  },
  {
   "cell_type": "markdown",
   "metadata": {},
   "source": [
    "### Medals won and Contingent size by country in last 4 Olympics\n",
    "\n",
    "source<br>\n",
    "Rio 2016: https://en.wikipedia.org/wiki/2016_Summer_Olympics_medal_table#Medal_table\n",
    "\n",
    "London 2012: https://en.wikipedia.org/wiki/2012_Summer_Olympics_medal_table\n",
    "\n",
    "Beijing 2008: https://en.wikipedia.org/wiki/2008_Summer_Olympics_medal_table\n",
    "\n",
    "Athens 2004: https://en.wikipedia.org/wiki/2004_Summer_Olympics_medal_table"
   ]
  },
  {
   "cell_type": "markdown",
   "metadata": {},
   "source": [
    "### Rio 2016 Olympics"
   ]
  },
  {
   "cell_type": "code",
   "execution_count": 2,
   "metadata": {},
   "outputs": [],
   "source": [
    "url = 'https://en.wikipedia.org/wiki/2016_Summer_Olympics_medal_table#Medal_table'"
   ]
  },
  {
   "cell_type": "code",
   "execution_count": 3,
   "metadata": {},
   "outputs": [],
   "source": [
    "dataframe_list = pd.read_html(url,flavor='bs4')"
   ]
  },
  {
   "cell_type": "code",
   "execution_count": 4,
   "metadata": {},
   "outputs": [
    {
     "data": {
      "text/plain": [
       "6"
      ]
     },
     "execution_count": 4,
     "metadata": {},
     "output_type": "execute_result"
    }
   ],
   "source": [
    "len(dataframe_list)"
   ]
  },
  {
   "cell_type": "code",
   "execution_count": 5,
   "metadata": {},
   "outputs": [
    {
     "data": {
      "text/html": [
       "<div>\n",
       "<style scoped>\n",
       "    .dataframe tbody tr th:only-of-type {\n",
       "        vertical-align: middle;\n",
       "    }\n",
       "\n",
       "    .dataframe tbody tr th {\n",
       "        vertical-align: top;\n",
       "    }\n",
       "\n",
       "    .dataframe thead th {\n",
       "        text-align: right;\n",
       "    }\n",
       "</style>\n",
       "<table border=\"1\" class=\"dataframe\">\n",
       "  <thead>\n",
       "    <tr style=\"text-align: right;\">\n",
       "      <th></th>\n",
       "      <th>Country Name</th>\n",
       "      <th>Rio 2016 (G+S+B)</th>\n",
       "    </tr>\n",
       "  </thead>\n",
       "  <tbody>\n",
       "    <tr>\n",
       "      <th>0</th>\n",
       "      <td>United States (USA)</td>\n",
       "      <td>121</td>\n",
       "    </tr>\n",
       "    <tr>\n",
       "      <th>1</th>\n",
       "      <td>Great Britain (GBR)</td>\n",
       "      <td>67</td>\n",
       "    </tr>\n",
       "    <tr>\n",
       "      <th>2</th>\n",
       "      <td>China (CHN)</td>\n",
       "      <td>70</td>\n",
       "    </tr>\n",
       "    <tr>\n",
       "      <th>3</th>\n",
       "      <td>Russia (RUS)</td>\n",
       "      <td>56</td>\n",
       "    </tr>\n",
       "    <tr>\n",
       "      <th>4</th>\n",
       "      <td>Germany (GER)</td>\n",
       "      <td>42</td>\n",
       "    </tr>\n",
       "  </tbody>\n",
       "</table>\n",
       "</div>"
      ],
      "text/plain": [
       "          Country Name  Rio 2016 (G+S+B)\n",
       "0  United States (USA)               121\n",
       "1  Great Britain (GBR)                67\n",
       "2          China (CHN)                70\n",
       "3         Russia (RUS)                56\n",
       "4        Germany (GER)                42"
      ]
     },
     "execution_count": 5,
     "metadata": {},
     "output_type": "execute_result"
    }
   ],
   "source": [
    "Rio = dataframe_list[1]\n",
    "Rio.rename({'NOC':\"Country Name\",'Total':'Rio 2016 (G+S+B)'},axis=1,inplace=True)\n",
    "Rio.drop(['Rank','Gold','Silver','Bronze'],inplace=True,axis=1)\n",
    "Rio.head()"
   ]
  },
  {
   "cell_type": "code",
   "execution_count": 6,
   "metadata": {},
   "outputs": [],
   "source": [
    "country = []\n",
    "for i in Rio['Country Name']:\n",
    "    country.append(i[:-6])\n",
    "\n",
    "Rio['Country Name'] = country\n",
    "\n",
    "Rio.replace('\\xa0','',inplace=True)\n",
    "Rio.replace('Chinese Taipei','Taiwan',inplace=True)\n",
    "Rio.replace('Great Britain','United Kingdom',inplace=True)"
   ]
  },
  {
   "cell_type": "code",
   "execution_count": 7,
   "metadata": {},
   "outputs": [
    {
     "name": "stdout",
     "output_type": "stream",
     "text": [
      "['United States', 'United Kingdom', 'China', 'Russia', 'Germany', 'Japan', 'France', 'South Korea', 'Italy', 'Australia', 'Netherlands', 'Hungary', 'Brazil\\xa0', 'Spain', 'Kenya', 'Jamaica', 'Croatia', 'Cuba', 'New Zealand', 'Canada', 'Uzbekistan', 'Kazakhstan', 'Colombia', 'Switzerland', 'Iran', 'Greece', 'Argentina', 'Denmark', 'Sweden', 'South Africa', 'Ukraine', 'Serbia', 'Poland', 'North Korea', 'Belgium', 'Thailand', 'Slovakia', 'Georgia', 'Azerbaijan', 'Belarus', 'Turkey', 'Armenia', 'Czech Republic', 'Ethiopia', 'Slovenia', 'Indonesia', 'Romania', 'Bahrain', 'Vietnam', 'Taiwan', 'Bahamas', 'Independent Olympic Athletes', 'Ivory Coast', 'Fiji', 'Jordan', 'Kosovo', 'Puerto Rico', 'Singapore', 'Tajikistan', 'Malaysia', 'Mexico', 'Venezuela', 'Algeria', 'Ireland', 'Lithuania', 'Bulgaria', 'India', 'Mongolia', 'Burundi', 'Grenada', 'Niger', 'Philippines', 'Qatar', 'Norway', 'Egypt', 'Tunisia', 'Israel', 'Austria', 'Dominican Republic', 'Estonia', 'Finland', 'Morocco', 'Nigeria', 'Portugal', 'Trinidad and Tobago', 'United Arab Emirates', 'Totals (86']\n"
     ]
    }
   ],
   "source": [
    "print(Rio['Country Name'].tolist())"
   ]
  },
  {
   "cell_type": "code",
   "execution_count": 8,
   "metadata": {},
   "outputs": [],
   "source": [
    "Rio.replace('Brazil\\xa0','Brazil',inplace=True)"
   ]
  },
  {
   "cell_type": "code",
   "execution_count": 9,
   "metadata": {},
   "outputs": [],
   "source": [
    "country = Rio['Country Name'].tolist()\n",
    "dummy_host = []\n",
    "for i in country:\n",
    "    if i == 'Brazil':\n",
    "        dummy_host.append('Yes')\n",
    "    else:\n",
    "        dummy_host.append('No')\n",
    "Rio['host_country_rio'] = dummy_host"
   ]
  },
  {
   "cell_type": "code",
   "execution_count": 10,
   "metadata": {},
   "outputs": [
    {
     "data": {
      "text/html": [
       "<div>\n",
       "<style scoped>\n",
       "    .dataframe tbody tr th:only-of-type {\n",
       "        vertical-align: middle;\n",
       "    }\n",
       "\n",
       "    .dataframe tbody tr th {\n",
       "        vertical-align: top;\n",
       "    }\n",
       "\n",
       "    .dataframe thead th {\n",
       "        text-align: right;\n",
       "    }\n",
       "</style>\n",
       "<table border=\"1\" class=\"dataframe\">\n",
       "  <thead>\n",
       "    <tr style=\"text-align: right;\">\n",
       "      <th></th>\n",
       "      <th>Country Name</th>\n",
       "      <th>Rio 2016 (G+S+B)</th>\n",
       "      <th>host_country_rio</th>\n",
       "    </tr>\n",
       "  </thead>\n",
       "  <tbody>\n",
       "    <tr>\n",
       "      <th>0</th>\n",
       "      <td>United States</td>\n",
       "      <td>121</td>\n",
       "      <td>No</td>\n",
       "    </tr>\n",
       "    <tr>\n",
       "      <th>1</th>\n",
       "      <td>United Kingdom</td>\n",
       "      <td>67</td>\n",
       "      <td>No</td>\n",
       "    </tr>\n",
       "    <tr>\n",
       "      <th>2</th>\n",
       "      <td>China</td>\n",
       "      <td>70</td>\n",
       "      <td>No</td>\n",
       "    </tr>\n",
       "    <tr>\n",
       "      <th>3</th>\n",
       "      <td>Russia</td>\n",
       "      <td>56</td>\n",
       "      <td>No</td>\n",
       "    </tr>\n",
       "    <tr>\n",
       "      <th>4</th>\n",
       "      <td>Germany</td>\n",
       "      <td>42</td>\n",
       "      <td>No</td>\n",
       "    </tr>\n",
       "  </tbody>\n",
       "</table>\n",
       "</div>"
      ],
      "text/plain": [
       "     Country Name  Rio 2016 (G+S+B) host_country_rio\n",
       "0   United States               121               No\n",
       "1  United Kingdom                67               No\n",
       "2           China                70               No\n",
       "3          Russia                56               No\n",
       "4         Germany                42               No"
      ]
     },
     "execution_count": 10,
     "metadata": {},
     "output_type": "execute_result"
    }
   ],
   "source": [
    "Rio.head()"
   ]
  },
  {
   "cell_type": "markdown",
   "metadata": {},
   "source": [
    "### London 2012 Olympics"
   ]
  },
  {
   "cell_type": "code",
   "execution_count": 11,
   "metadata": {},
   "outputs": [],
   "source": [
    "url = 'https://en.wikipedia.org/wiki/2012_Summer_Olympics_medal_table'"
   ]
  },
  {
   "cell_type": "code",
   "execution_count": 12,
   "metadata": {},
   "outputs": [],
   "source": [
    "dataframe_list = pd.read_html(url,flavor='bs4')"
   ]
  },
  {
   "cell_type": "code",
   "execution_count": 13,
   "metadata": {},
   "outputs": [
    {
     "data": {
      "text/plain": [
       "8"
      ]
     },
     "execution_count": 13,
     "metadata": {},
     "output_type": "execute_result"
    }
   ],
   "source": [
    "len(dataframe_list)"
   ]
  },
  {
   "cell_type": "code",
   "execution_count": 14,
   "metadata": {},
   "outputs": [
    {
     "data": {
      "text/html": [
       "<div>\n",
       "<style scoped>\n",
       "    .dataframe tbody tr th:only-of-type {\n",
       "        vertical-align: middle;\n",
       "    }\n",
       "\n",
       "    .dataframe tbody tr th {\n",
       "        vertical-align: top;\n",
       "    }\n",
       "\n",
       "    .dataframe thead th {\n",
       "        text-align: right;\n",
       "    }\n",
       "</style>\n",
       "<table border=\"1\" class=\"dataframe\">\n",
       "  <thead>\n",
       "    <tr style=\"text-align: right;\">\n",
       "      <th></th>\n",
       "      <th>Country Name</th>\n",
       "      <th>London 2012 (G+B+S)</th>\n",
       "    </tr>\n",
       "  </thead>\n",
       "  <tbody>\n",
       "    <tr>\n",
       "      <th>0</th>\n",
       "      <td>United States (USA)</td>\n",
       "      <td>104</td>\n",
       "    </tr>\n",
       "    <tr>\n",
       "      <th>1</th>\n",
       "      <td>China (CHN)</td>\n",
       "      <td>91</td>\n",
       "    </tr>\n",
       "    <tr>\n",
       "      <th>2</th>\n",
       "      <td>Great Britain (GBR)*</td>\n",
       "      <td>65</td>\n",
       "    </tr>\n",
       "    <tr>\n",
       "      <th>3</th>\n",
       "      <td>Russia (RUS)</td>\n",
       "      <td>68</td>\n",
       "    </tr>\n",
       "    <tr>\n",
       "      <th>4</th>\n",
       "      <td>South Korea (KOR)</td>\n",
       "      <td>30</td>\n",
       "    </tr>\n",
       "  </tbody>\n",
       "</table>\n",
       "</div>"
      ],
      "text/plain": [
       "           Country Name  London 2012 (G+B+S)\n",
       "0   United States (USA)                  104\n",
       "1           China (CHN)                   91\n",
       "2  Great Britain (GBR)*                   65\n",
       "3          Russia (RUS)                   68\n",
       "4     South Korea (KOR)                   30"
      ]
     },
     "execution_count": 14,
     "metadata": {},
     "output_type": "execute_result"
    }
   ],
   "source": [
    "London = dataframe_list[1]\n",
    "London.rename({'NOC':\"Country Name\",'Total':'London 2012 (G+B+S)'},axis=1,inplace=True)\n",
    "London.drop(['Rank','Gold','Silver','Bronze'],inplace=True,axis=1)\n",
    "\n",
    "London.head()"
   ]
  },
  {
   "cell_type": "code",
   "execution_count": 15,
   "metadata": {},
   "outputs": [],
   "source": [
    "country = []\n",
    "for i in London['Country Name']:\n",
    "    country.append(i[:-6])\n",
    "\n",
    "London['Country Name'] = country\n",
    "\n",
    "London.replace('\\xa0','',inplace=True)\n",
    "London.replace('Chinese Taipei','Taiwan',inplace=True)\n",
    "London.replace('Great Britain','United Kingdom',inplace=True)"
   ]
  },
  {
   "cell_type": "code",
   "execution_count": 16,
   "metadata": {},
   "outputs": [
    {
     "name": "stdout",
     "output_type": "stream",
     "text": [
      "['United States', 'China', 'Great Britain\\xa0', 'Russia', 'South Korea', 'Germany', 'France', 'Australia', 'Italy', 'Hungary', 'Japan', 'Iran', 'Netherlands', 'New Zealand', 'Ukraine', 'Cuba', 'Spain', 'Jamaica', 'Czech Republic', 'South Africa', 'North Korea', 'Brazil', 'Poland', 'Ethiopia', 'Kazakhstan', 'Croatia', 'Canada', 'Belarus', 'Kenya', 'Denmark', 'Romania', 'Azerbaijan', 'Switzerland', 'Norway', 'Lithuania', 'Tunisia', 'Sweden', 'Colombia', 'Mexico', 'Georgia', 'Ireland', 'Argentina', 'Serbia', 'Slovenia', 'Trinidad and Tobago', 'Turkey', 'Dominican Republic', 'Taiwan', 'Latvia', 'Algeria', 'Bahamas', 'Bahrain', 'Grenada', 'Uganda', 'Venezuela', 'Egypt', 'India', 'Mongolia', 'Thailand', 'Bulgaria', 'Finland', 'Indonesia', 'Slovakia', 'Belgium', 'Armenia', 'Estonia', 'Malaysia', 'Puerto Rico', 'Botswana', 'Cyprus', 'Gabon', 'Guatemala', 'Montenegro', 'Portugal', 'Uzbekistan', 'Greece', 'Qatar', 'Singapore', 'Afghanistan', 'Cameroon', 'Hong Kong', 'Kuwait', 'Morocco', 'Saudi Arabia', 'Tajikistan', 'Vietnam', 'Totals (86']\n"
     ]
    }
   ],
   "source": [
    "print(London['Country Name'].tolist())"
   ]
  },
  {
   "cell_type": "code",
   "execution_count": 17,
   "metadata": {},
   "outputs": [],
   "source": [
    "London.replace('Great Britain\\xa0','United Kingdom',inplace=True)"
   ]
  },
  {
   "cell_type": "code",
   "execution_count": 18,
   "metadata": {},
   "outputs": [],
   "source": [
    "country = London['Country Name'].tolist()\n",
    "dummy_host = []\n",
    "for i in country:\n",
    "    if i == 'United Kingdom':\n",
    "        dummy_host.append('Yes')\n",
    "    else:\n",
    "        dummy_host.append('No')\n",
    "London['host_country_London'] = dummy_host"
   ]
  },
  {
   "cell_type": "code",
   "execution_count": 19,
   "metadata": {},
   "outputs": [
    {
     "data": {
      "text/html": [
       "<div>\n",
       "<style scoped>\n",
       "    .dataframe tbody tr th:only-of-type {\n",
       "        vertical-align: middle;\n",
       "    }\n",
       "\n",
       "    .dataframe tbody tr th {\n",
       "        vertical-align: top;\n",
       "    }\n",
       "\n",
       "    .dataframe thead th {\n",
       "        text-align: right;\n",
       "    }\n",
       "</style>\n",
       "<table border=\"1\" class=\"dataframe\">\n",
       "  <thead>\n",
       "    <tr style=\"text-align: right;\">\n",
       "      <th></th>\n",
       "      <th>Country Name</th>\n",
       "      <th>London 2012 (G+B+S)</th>\n",
       "      <th>host_country_London</th>\n",
       "    </tr>\n",
       "  </thead>\n",
       "  <tbody>\n",
       "    <tr>\n",
       "      <th>0</th>\n",
       "      <td>United States</td>\n",
       "      <td>104</td>\n",
       "      <td>No</td>\n",
       "    </tr>\n",
       "    <tr>\n",
       "      <th>1</th>\n",
       "      <td>China</td>\n",
       "      <td>91</td>\n",
       "      <td>No</td>\n",
       "    </tr>\n",
       "    <tr>\n",
       "      <th>2</th>\n",
       "      <td>United Kingdom</td>\n",
       "      <td>65</td>\n",
       "      <td>Yes</td>\n",
       "    </tr>\n",
       "    <tr>\n",
       "      <th>3</th>\n",
       "      <td>Russia</td>\n",
       "      <td>68</td>\n",
       "      <td>No</td>\n",
       "    </tr>\n",
       "    <tr>\n",
       "      <th>4</th>\n",
       "      <td>South Korea</td>\n",
       "      <td>30</td>\n",
       "      <td>No</td>\n",
       "    </tr>\n",
       "  </tbody>\n",
       "</table>\n",
       "</div>"
      ],
      "text/plain": [
       "     Country Name  London 2012 (G+B+S) host_country_London\n",
       "0   United States                  104                  No\n",
       "1           China                   91                  No\n",
       "2  United Kingdom                   65                 Yes\n",
       "3          Russia                   68                  No\n",
       "4     South Korea                   30                  No"
      ]
     },
     "execution_count": 19,
     "metadata": {},
     "output_type": "execute_result"
    }
   ],
   "source": [
    "London.head()"
   ]
  },
  {
   "cell_type": "markdown",
   "metadata": {},
   "source": [
    "### Beijing 2008 Olympics"
   ]
  },
  {
   "cell_type": "code",
   "execution_count": 20,
   "metadata": {},
   "outputs": [],
   "source": [
    "url = 'https://en.wikipedia.org/wiki/2008_Summer_Olympics_medal_table'"
   ]
  },
  {
   "cell_type": "code",
   "execution_count": 21,
   "metadata": {},
   "outputs": [],
   "source": [
    "dataframe_list = pd.read_html(url,flavor='bs4')"
   ]
  },
  {
   "cell_type": "code",
   "execution_count": 22,
   "metadata": {},
   "outputs": [
    {
     "data": {
      "text/plain": [
       "6"
      ]
     },
     "execution_count": 22,
     "metadata": {},
     "output_type": "execute_result"
    }
   ],
   "source": [
    "len(dataframe_list)"
   ]
  },
  {
   "cell_type": "code",
   "execution_count": 23,
   "metadata": {},
   "outputs": [
    {
     "data": {
      "text/html": [
       "<div>\n",
       "<style scoped>\n",
       "    .dataframe tbody tr th:only-of-type {\n",
       "        vertical-align: middle;\n",
       "    }\n",
       "\n",
       "    .dataframe tbody tr th {\n",
       "        vertical-align: top;\n",
       "    }\n",
       "\n",
       "    .dataframe thead th {\n",
       "        text-align: right;\n",
       "    }\n",
       "</style>\n",
       "<table border=\"1\" class=\"dataframe\">\n",
       "  <thead>\n",
       "    <tr style=\"text-align: right;\">\n",
       "      <th></th>\n",
       "      <th>Country Name</th>\n",
       "      <th>Beijing 2008 (G+S+B)</th>\n",
       "    </tr>\n",
       "  </thead>\n",
       "  <tbody>\n",
       "    <tr>\n",
       "      <th>0</th>\n",
       "      <td>China (CHN)*</td>\n",
       "      <td>100</td>\n",
       "    </tr>\n",
       "    <tr>\n",
       "      <th>1</th>\n",
       "      <td>United States (USA)</td>\n",
       "      <td>112</td>\n",
       "    </tr>\n",
       "    <tr>\n",
       "      <th>2</th>\n",
       "      <td>Russia (RUS)</td>\n",
       "      <td>60</td>\n",
       "    </tr>\n",
       "    <tr>\n",
       "      <th>3</th>\n",
       "      <td>Great Britain (GBR)</td>\n",
       "      <td>51</td>\n",
       "    </tr>\n",
       "    <tr>\n",
       "      <th>4</th>\n",
       "      <td>Germany (GER)</td>\n",
       "      <td>41</td>\n",
       "    </tr>\n",
       "  </tbody>\n",
       "</table>\n",
       "</div>"
      ],
      "text/plain": [
       "          Country Name  Beijing 2008 (G+S+B)\n",
       "0         China (CHN)*                   100\n",
       "1  United States (USA)                   112\n",
       "2         Russia (RUS)                    60\n",
       "3  Great Britain (GBR)                    51\n",
       "4        Germany (GER)                    41"
      ]
     },
     "execution_count": 23,
     "metadata": {},
     "output_type": "execute_result"
    }
   ],
   "source": [
    "beijing = dataframe_list[1]\n",
    "beijing.rename({'NOC':\"Country Name\",'Total':'Beijing 2008 (G+S+B)'},axis=1,inplace=True)\n",
    "beijing.drop(['Rank','Gold','Silver','Bronze'],inplace=True,axis=1)\n",
    "\n",
    "beijing.head()"
   ]
  },
  {
   "cell_type": "code",
   "execution_count": 24,
   "metadata": {},
   "outputs": [],
   "source": [
    "country = []\n",
    "for i in beijing['Country Name']:\n",
    "    country.append(i[:-6])\n",
    "\n",
    "beijing['Country Name'] = country\n",
    "\n",
    "beijing.replace('\\xa0','',inplace=True)\n",
    "beijing.replace('Chinese Taipei','Taiwan',inplace=True)\n",
    "beijing.replace('Great Britain','United Kingdom',inplace=True)"
   ]
  },
  {
   "cell_type": "code",
   "execution_count": 25,
   "metadata": {},
   "outputs": [
    {
     "name": "stdout",
     "output_type": "stream",
     "text": [
      "['China\\xa0', 'United States', 'Russia', 'United Kingdom', 'Germany', 'Australia', 'South Korea', 'Japan', 'Italy', 'France', 'Netherlands', 'Ukraine', 'Kenya', 'Spain', 'Jamaica', 'Poland', 'Ethiopia', 'Romania', 'Cuba', 'Canada', 'Hungary', 'Norway', 'Brazil', 'Belarus', 'Czech Republic', 'Slovakia', 'New Zealand', 'Georgia', 'Kazakhstan', 'Denmark', 'North Korea', 'Thailand', 'Mongolia', 'Switzerland', 'Argentina', 'Mexico', 'Belgium', 'Zimbabwe', 'Slovenia', 'Azerbaijan', 'Indonesia', 'Bulgaria', 'Turkey', 'Taiwan', 'Finland', 'Latvia', 'Dominican Republic', 'Estonia', 'Portugal', 'Trinidad and Tobago', 'India', 'Iran', 'Cameroon', 'Panama', 'Tunisia', 'Sweden', 'Lithuania', 'Nigeria', 'Croatia', 'Colombia', 'Greece', 'Armenia', 'Uzbekistan', 'Austria', 'Ireland', 'Kyrgyzstan', 'Serbia', 'Algeria', 'Bahamas', 'Morocco', 'Tajikistan', 'Chile', 'Ecuador', 'Iceland', 'Malaysia', 'Samoa', 'Singapore', 'South Africa', 'Sudan', 'Vietnam', 'Egypt', 'Afghanistan', 'Israel', 'Mauritius', 'Moldova', 'Togo', 'Venezuela', 'Totals (87']\n"
     ]
    }
   ],
   "source": [
    "print(beijing['Country Name'].tolist())"
   ]
  },
  {
   "cell_type": "code",
   "execution_count": 26,
   "metadata": {},
   "outputs": [],
   "source": [
    "beijing.replace('China\\xa0','China',inplace=True)"
   ]
  },
  {
   "cell_type": "code",
   "execution_count": 27,
   "metadata": {},
   "outputs": [],
   "source": [
    "country = beijing['Country Name'].tolist()\n",
    "dummy_host = []\n",
    "for i in country:\n",
    "    if i == 'China':\n",
    "        dummy_host.append('Yes')\n",
    "    else:\n",
    "        dummy_host.append('No')\n",
    "beijing['host_country_beijing'] = dummy_host"
   ]
  },
  {
   "cell_type": "code",
   "execution_count": 28,
   "metadata": {},
   "outputs": [
    {
     "data": {
      "text/html": [
       "<div>\n",
       "<style scoped>\n",
       "    .dataframe tbody tr th:only-of-type {\n",
       "        vertical-align: middle;\n",
       "    }\n",
       "\n",
       "    .dataframe tbody tr th {\n",
       "        vertical-align: top;\n",
       "    }\n",
       "\n",
       "    .dataframe thead th {\n",
       "        text-align: right;\n",
       "    }\n",
       "</style>\n",
       "<table border=\"1\" class=\"dataframe\">\n",
       "  <thead>\n",
       "    <tr style=\"text-align: right;\">\n",
       "      <th></th>\n",
       "      <th>Country Name</th>\n",
       "      <th>Beijing 2008 (G+S+B)</th>\n",
       "      <th>host_country_beijing</th>\n",
       "    </tr>\n",
       "  </thead>\n",
       "  <tbody>\n",
       "    <tr>\n",
       "      <th>0</th>\n",
       "      <td>China</td>\n",
       "      <td>100</td>\n",
       "      <td>Yes</td>\n",
       "    </tr>\n",
       "    <tr>\n",
       "      <th>1</th>\n",
       "      <td>United States</td>\n",
       "      <td>112</td>\n",
       "      <td>No</td>\n",
       "    </tr>\n",
       "    <tr>\n",
       "      <th>2</th>\n",
       "      <td>Russia</td>\n",
       "      <td>60</td>\n",
       "      <td>No</td>\n",
       "    </tr>\n",
       "    <tr>\n",
       "      <th>3</th>\n",
       "      <td>United Kingdom</td>\n",
       "      <td>51</td>\n",
       "      <td>No</td>\n",
       "    </tr>\n",
       "    <tr>\n",
       "      <th>4</th>\n",
       "      <td>Germany</td>\n",
       "      <td>41</td>\n",
       "      <td>No</td>\n",
       "    </tr>\n",
       "  </tbody>\n",
       "</table>\n",
       "</div>"
      ],
      "text/plain": [
       "     Country Name  Beijing 2008 (G+S+B) host_country_beijing\n",
       "0           China                   100                  Yes\n",
       "1   United States                   112                   No\n",
       "2          Russia                    60                   No\n",
       "3  United Kingdom                    51                   No\n",
       "4         Germany                    41                   No"
      ]
     },
     "execution_count": 28,
     "metadata": {},
     "output_type": "execute_result"
    }
   ],
   "source": [
    "beijing.head()"
   ]
  },
  {
   "cell_type": "markdown",
   "metadata": {},
   "source": [
    "#### Athens 2004 Olympics"
   ]
  },
  {
   "cell_type": "code",
   "execution_count": 29,
   "metadata": {},
   "outputs": [],
   "source": [
    "url = 'https://en.wikipedia.org/wiki/2004_Summer_Olympics_medal_table'"
   ]
  },
  {
   "cell_type": "code",
   "execution_count": 30,
   "metadata": {},
   "outputs": [],
   "source": [
    "dataframe_list = pd.read_html(url,flavor='bs4')"
   ]
  },
  {
   "cell_type": "code",
   "execution_count": 31,
   "metadata": {},
   "outputs": [
    {
     "data": {
      "text/plain": [
       "5"
      ]
     },
     "execution_count": 31,
     "metadata": {},
     "output_type": "execute_result"
    }
   ],
   "source": [
    "len(dataframe_list)"
   ]
  },
  {
   "cell_type": "code",
   "execution_count": 32,
   "metadata": {},
   "outputs": [
    {
     "data": {
      "text/html": [
       "<div>\n",
       "<style scoped>\n",
       "    .dataframe tbody tr th:only-of-type {\n",
       "        vertical-align: middle;\n",
       "    }\n",
       "\n",
       "    .dataframe tbody tr th {\n",
       "        vertical-align: top;\n",
       "    }\n",
       "\n",
       "    .dataframe thead th {\n",
       "        text-align: right;\n",
       "    }\n",
       "</style>\n",
       "<table border=\"1\" class=\"dataframe\">\n",
       "  <thead>\n",
       "    <tr style=\"text-align: right;\">\n",
       "      <th></th>\n",
       "      <th>Country Name</th>\n",
       "      <th>Athens 2004 (G+S+B)</th>\n",
       "    </tr>\n",
       "  </thead>\n",
       "  <tbody>\n",
       "    <tr>\n",
       "      <th>0</th>\n",
       "      <td>United States (USA)</td>\n",
       "      <td>101</td>\n",
       "    </tr>\n",
       "    <tr>\n",
       "      <th>1</th>\n",
       "      <td>China (CHN)</td>\n",
       "      <td>63</td>\n",
       "    </tr>\n",
       "    <tr>\n",
       "      <th>2</th>\n",
       "      <td>Russia (RUS)</td>\n",
       "      <td>90</td>\n",
       "    </tr>\n",
       "    <tr>\n",
       "      <th>3</th>\n",
       "      <td>Australia (AUS)</td>\n",
       "      <td>50</td>\n",
       "    </tr>\n",
       "    <tr>\n",
       "      <th>4</th>\n",
       "      <td>Japan (JPN)</td>\n",
       "      <td>37</td>\n",
       "    </tr>\n",
       "  </tbody>\n",
       "</table>\n",
       "</div>"
      ],
      "text/plain": [
       "          Country Name  Athens 2004 (G+S+B)\n",
       "0  United States (USA)                  101\n",
       "1          China (CHN)                   63\n",
       "2         Russia (RUS)                   90\n",
       "3      Australia (AUS)                   50\n",
       "4          Japan (JPN)                   37"
      ]
     },
     "execution_count": 32,
     "metadata": {},
     "output_type": "execute_result"
    }
   ],
   "source": [
    "athens = dataframe_list[1]\n",
    "athens.rename({'Nation':\"Country Name\",'Total':'Athens 2004 (G+S+B)'},axis=1,inplace=True)\n",
    "athens.drop(['Rank','Gold','Silver','Bronze'],inplace=True,axis=1)\n",
    "\n",
    "athens.head()"
   ]
  },
  {
   "cell_type": "code",
   "execution_count": 33,
   "metadata": {},
   "outputs": [],
   "source": [
    "country = []\n",
    "for i in athens['Country Name']:\n",
    "    country.append(i[:-6])\n",
    "\n",
    "athens['Country Name'] = country\n",
    "\n",
    "athens.replace('\\xa0','',inplace=True)"
   ]
  },
  {
   "cell_type": "code",
   "execution_count": 34,
   "metadata": {},
   "outputs": [],
   "source": [
    "athens.replace('Greece\\xa0','Greece',inplace=True)\n",
    "athens.replace('Chinese Taipei','Taiwan',inplace=True)\n",
    "athens.replace('Great Britain','United Kingdom',inplace=True)"
   ]
  },
  {
   "cell_type": "code",
   "execution_count": 35,
   "metadata": {},
   "outputs": [
    {
     "name": "stdout",
     "output_type": "stream",
     "text": [
      "['United States', 'China', 'Russia', 'Australia', 'Japan', 'Germany', 'France', 'Italy', 'South Korea', 'United Kingdom', 'Cuba', 'Hungary', 'Ukraine', 'Romania', 'Greece', 'Brazil', 'Norway', 'Netherlands', 'Sweden', 'Spain', 'Canada', 'Turkey', 'Poland', 'New Zealand', 'Thailand', 'Belarus', 'Austria', 'Ethiopia', 'Iran', 'Slovakia', 'Taiwan', 'Georgia', 'Bulgaria', 'Denmark', 'Jamaica', 'Uzbekistan', 'Morocco', 'Argentina', 'Chile', 'Kazakhstan', 'Kenya', 'Czech Republic', 'South Africa', 'Croatia', 'Lithuania', 'Egypt', 'Switzerland', 'Indonesia', 'Zimbabwe', 'Azerbaijan', 'Belgium', 'Bahamas', 'Israel', 'Cameroon', 'Dominican Republic', 'United Arab Emirates', 'North Korea', 'Latvia', 'Mexico', 'Portugal', 'Finland', 'Serbia and Montenegro', 'Slovenia', 'Estonia', 'Hong Kong', 'India', 'Paraguay', 'Colombia', 'Nigeria', 'Venezuela', 'Eritrea', 'Mongolia', 'Syria', 'Trinidad and Tobago', 'Totals (74 na']\n"
     ]
    }
   ],
   "source": [
    "print(athens['Country Name'].tolist())"
   ]
  },
  {
   "cell_type": "code",
   "execution_count": 36,
   "metadata": {},
   "outputs": [],
   "source": [
    "country = athens['Country Name'].tolist()\n",
    "dummy_host = []\n",
    "for i in country:\n",
    "    if i == 'Greece':\n",
    "        dummy_host.append('Yes')\n",
    "    else:\n",
    "        dummy_host.append('No')\n",
    "athens['host_country_Athens'] = dummy_host"
   ]
  },
  {
   "cell_type": "code",
   "execution_count": 37,
   "metadata": {},
   "outputs": [
    {
     "data": {
      "text/html": [
       "<div>\n",
       "<style scoped>\n",
       "    .dataframe tbody tr th:only-of-type {\n",
       "        vertical-align: middle;\n",
       "    }\n",
       "\n",
       "    .dataframe tbody tr th {\n",
       "        vertical-align: top;\n",
       "    }\n",
       "\n",
       "    .dataframe thead th {\n",
       "        text-align: right;\n",
       "    }\n",
       "</style>\n",
       "<table border=\"1\" class=\"dataframe\">\n",
       "  <thead>\n",
       "    <tr style=\"text-align: right;\">\n",
       "      <th></th>\n",
       "      <th>Country Name</th>\n",
       "      <th>Athens 2004 (G+S+B)</th>\n",
       "      <th>host_country_Athens</th>\n",
       "    </tr>\n",
       "  </thead>\n",
       "  <tbody>\n",
       "    <tr>\n",
       "      <th>0</th>\n",
       "      <td>United States</td>\n",
       "      <td>101</td>\n",
       "      <td>No</td>\n",
       "    </tr>\n",
       "    <tr>\n",
       "      <th>1</th>\n",
       "      <td>China</td>\n",
       "      <td>63</td>\n",
       "      <td>No</td>\n",
       "    </tr>\n",
       "    <tr>\n",
       "      <th>2</th>\n",
       "      <td>Russia</td>\n",
       "      <td>90</td>\n",
       "      <td>No</td>\n",
       "    </tr>\n",
       "    <tr>\n",
       "      <th>3</th>\n",
       "      <td>Australia</td>\n",
       "      <td>50</td>\n",
       "      <td>No</td>\n",
       "    </tr>\n",
       "    <tr>\n",
       "      <th>4</th>\n",
       "      <td>Japan</td>\n",
       "      <td>37</td>\n",
       "      <td>No</td>\n",
       "    </tr>\n",
       "  </tbody>\n",
       "</table>\n",
       "</div>"
      ],
      "text/plain": [
       "    Country Name  Athens 2004 (G+S+B) host_country_Athens\n",
       "0  United States                  101                  No\n",
       "1          China                   63                  No\n",
       "2         Russia                   90                  No\n",
       "3      Australia                   50                  No\n",
       "4          Japan                   37                  No"
      ]
     },
     "execution_count": 37,
     "metadata": {},
     "output_type": "execute_result"
    }
   ],
   "source": [
    "athens.head()"
   ]
  },
  {
   "cell_type": "markdown",
   "metadata": {},
   "source": [
    "_Merge all the past 4 data_"
   ]
  },
  {
   "cell_type": "code",
   "execution_count": 38,
   "metadata": {},
   "outputs": [],
   "source": [
    "olympics = Rio.merge(London,how='outer',on='Country Name')"
   ]
  },
  {
   "cell_type": "code",
   "execution_count": 39,
   "metadata": {},
   "outputs": [],
   "source": [
    "olympics = olympics.merge(beijing,how='outer',on='Country Name')"
   ]
  },
  {
   "cell_type": "code",
   "execution_count": 40,
   "metadata": {},
   "outputs": [],
   "source": [
    "olympics = olympics.merge(athens,how='outer',on='Country Name')"
   ]
  },
  {
   "cell_type": "markdown",
   "metadata": {},
   "source": [
    "_Data Cleaning and imputing missing values_"
   ]
  },
  {
   "cell_type": "code",
   "execution_count": 41,
   "metadata": {},
   "outputs": [
    {
     "data": {
      "text/plain": [
       "Country Name             0\n",
       "Rio 2016 (G+S+B)        29\n",
       "host_country_rio        29\n",
       "London 2012 (G+B+S)     29\n",
       "host_country_London     29\n",
       "Beijing 2008 (G+S+B)    28\n",
       "host_country_beijing    28\n",
       "Athens 2004 (G+S+B)     41\n",
       "host_country_Athens     41\n",
       "dtype: int64"
      ]
     },
     "execution_count": 41,
     "metadata": {},
     "output_type": "execute_result"
    }
   ],
   "source": [
    "olympics.isnull().sum()"
   ]
  },
  {
   "cell_type": "code",
   "execution_count": 42,
   "metadata": {},
   "outputs": [
    {
     "name": "stdout",
     "output_type": "stream",
     "text": [
      "['United States' 'United Kingdom' 'China' 'Russia' 'Germany' 'Japan'\n",
      " 'France' 'South Korea' 'Italy' 'Australia' 'Netherlands' 'Hungary'\n",
      " 'Brazil' 'Spain' 'Kenya' 'Jamaica' 'Croatia' 'Cuba' 'New Zealand'\n",
      " 'Canada' 'Uzbekistan' 'Kazakhstan' 'Colombia' 'Switzerland' 'Iran'\n",
      " 'Greece' 'Argentina' 'Denmark' 'Sweden' 'South Africa' 'Ukraine' 'Serbia'\n",
      " 'Poland' 'North Korea' 'Belgium' 'Thailand' 'Slovakia' 'Georgia'\n",
      " 'Azerbaijan' 'Belarus' 'Turkey' 'Armenia' 'Czech Republic' 'Ethiopia'\n",
      " 'Slovenia' 'Indonesia' 'Romania' 'Bahrain' 'Vietnam' 'Taiwan' 'Bahamas'\n",
      " 'Independent Olympic Athletes' 'Ivory Coast' 'Fiji' 'Jordan' 'Kosovo'\n",
      " 'Puerto Rico' 'Singapore' 'Tajikistan' 'Malaysia' 'Mexico' 'Venezuela'\n",
      " 'Algeria' 'Ireland' 'Lithuania' 'Bulgaria' 'India' 'Mongolia' 'Burundi'\n",
      " 'Grenada' 'Niger' 'Philippines' 'Qatar' 'Norway' 'Egypt' 'Tunisia'\n",
      " 'Israel' 'Austria' 'Dominican Republic' 'Estonia' 'Finland' 'Morocco'\n",
      " 'Nigeria' 'Portugal' 'Trinidad and Tobago' 'United Arab Emirates'\n",
      " 'Totals (86' 'Latvia' 'Uganda' 'Botswana' 'Cyprus' 'Gabon' 'Guatemala'\n",
      " 'Montenegro' 'Afghanistan' 'Cameroon' 'Hong Kong' 'Kuwait' 'Saudi Arabia'\n",
      " 'Zimbabwe' 'Panama' 'Kyrgyzstan' 'Chile' 'Ecuador' 'Iceland' 'Samoa'\n",
      " 'Sudan' 'Mauritius' 'Moldova' 'Togo' 'Totals (87' 'Serbia and Montenegro'\n",
      " 'Paraguay' 'Eritrea' 'Syria' 'Totals (74 na']\n"
     ]
    }
   ],
   "source": [
    "print(olympics['Country Name'].unique())"
   ]
  },
  {
   "cell_type": "code",
   "execution_count": 43,
   "metadata": {},
   "outputs": [],
   "source": [
    "olympics.set_index('Country Name',inplace=True)\n",
    "#Dropping the rows that are not a country\n",
    "olympics.drop(['Totals (74 na', 'Totals (86', 'Totals (87','Independent Olympic Athletes'],axis=0,inplace=True)\n",
    "\n",
    "olympics.reset_index(inplace=True)"
   ]
  },
  {
   "cell_type": "code",
   "execution_count": 44,
   "metadata": {},
   "outputs": [
    {
     "data": {
      "text/html": [
       "<div>\n",
       "<style scoped>\n",
       "    .dataframe tbody tr th:only-of-type {\n",
       "        vertical-align: middle;\n",
       "    }\n",
       "\n",
       "    .dataframe tbody tr th {\n",
       "        vertical-align: top;\n",
       "    }\n",
       "\n",
       "    .dataframe thead th {\n",
       "        text-align: right;\n",
       "    }\n",
       "</style>\n",
       "<table border=\"1\" class=\"dataframe\">\n",
       "  <thead>\n",
       "    <tr style=\"text-align: right;\">\n",
       "      <th></th>\n",
       "      <th>Country Name</th>\n",
       "      <th>Rio 2016 (G+S+B)</th>\n",
       "      <th>host_country_rio</th>\n",
       "      <th>London 2012 (G+B+S)</th>\n",
       "      <th>host_country_London</th>\n",
       "      <th>Beijing 2008 (G+S+B)</th>\n",
       "      <th>host_country_beijing</th>\n",
       "      <th>Athens 2004 (G+S+B)</th>\n",
       "      <th>host_country_Athens</th>\n",
       "    </tr>\n",
       "  </thead>\n",
       "  <tbody>\n",
       "    <tr>\n",
       "      <th>85</th>\n",
       "      <td>Latvia</td>\n",
       "      <td>nan</td>\n",
       "      <td>NaN</td>\n",
       "      <td>2.000</td>\n",
       "      <td>No</td>\n",
       "      <td>3.000</td>\n",
       "      <td>No</td>\n",
       "      <td>4.000</td>\n",
       "      <td>No</td>\n",
       "    </tr>\n",
       "    <tr>\n",
       "      <th>86</th>\n",
       "      <td>Uganda</td>\n",
       "      <td>nan</td>\n",
       "      <td>NaN</td>\n",
       "      <td>1.000</td>\n",
       "      <td>No</td>\n",
       "      <td>nan</td>\n",
       "      <td>NaN</td>\n",
       "      <td>nan</td>\n",
       "      <td>NaN</td>\n",
       "    </tr>\n",
       "    <tr>\n",
       "      <th>87</th>\n",
       "      <td>Botswana</td>\n",
       "      <td>nan</td>\n",
       "      <td>NaN</td>\n",
       "      <td>1.000</td>\n",
       "      <td>No</td>\n",
       "      <td>nan</td>\n",
       "      <td>NaN</td>\n",
       "      <td>nan</td>\n",
       "      <td>NaN</td>\n",
       "    </tr>\n",
       "    <tr>\n",
       "      <th>88</th>\n",
       "      <td>Cyprus</td>\n",
       "      <td>nan</td>\n",
       "      <td>NaN</td>\n",
       "      <td>1.000</td>\n",
       "      <td>No</td>\n",
       "      <td>nan</td>\n",
       "      <td>NaN</td>\n",
       "      <td>nan</td>\n",
       "      <td>NaN</td>\n",
       "    </tr>\n",
       "    <tr>\n",
       "      <th>89</th>\n",
       "      <td>Gabon</td>\n",
       "      <td>nan</td>\n",
       "      <td>NaN</td>\n",
       "      <td>1.000</td>\n",
       "      <td>No</td>\n",
       "      <td>nan</td>\n",
       "      <td>NaN</td>\n",
       "      <td>nan</td>\n",
       "      <td>NaN</td>\n",
       "    </tr>\n",
       "  </tbody>\n",
       "</table>\n",
       "</div>"
      ],
      "text/plain": [
       "   Country Name  Rio 2016 (G+S+B) host_country_rio  London 2012 (G+B+S)  \\\n",
       "85       Latvia               nan              NaN                2.000   \n",
       "86       Uganda               nan              NaN                1.000   \n",
       "87     Botswana               nan              NaN                1.000   \n",
       "88       Cyprus               nan              NaN                1.000   \n",
       "89        Gabon               nan              NaN                1.000   \n",
       "\n",
       "   host_country_London  Beijing 2008 (G+S+B) host_country_beijing  \\\n",
       "85                  No                 3.000                   No   \n",
       "86                  No                   nan                  NaN   \n",
       "87                  No                   nan                  NaN   \n",
       "88                  No                   nan                  NaN   \n",
       "89                  No                   nan                  NaN   \n",
       "\n",
       "    Athens 2004 (G+S+B) host_country_Athens  \n",
       "85                4.000                  No  \n",
       "86                  nan                 NaN  \n",
       "87                  nan                 NaN  \n",
       "88                  nan                 NaN  \n",
       "89                  nan                 NaN  "
      ]
     },
     "execution_count": 44,
     "metadata": {},
     "output_type": "execute_result"
    }
   ],
   "source": [
    "olympics[olympics['Rio 2016 (G+S+B)'].isnull()==True].head()"
   ]
  },
  {
   "cell_type": "code",
   "execution_count": 45,
   "metadata": {},
   "outputs": [
    {
     "data": {
      "text/html": [
       "<div>\n",
       "<style scoped>\n",
       "    .dataframe tbody tr th:only-of-type {\n",
       "        vertical-align: middle;\n",
       "    }\n",
       "\n",
       "    .dataframe tbody tr th {\n",
       "        vertical-align: top;\n",
       "    }\n",
       "\n",
       "    .dataframe thead th {\n",
       "        text-align: right;\n",
       "    }\n",
       "</style>\n",
       "<table border=\"1\" class=\"dataframe\">\n",
       "  <thead>\n",
       "    <tr style=\"text-align: right;\">\n",
       "      <th></th>\n",
       "      <th>Country Name</th>\n",
       "      <th>Rio 2016 (G+S+B)</th>\n",
       "      <th>host_country_rio</th>\n",
       "      <th>London 2012 (G+B+S)</th>\n",
       "      <th>host_country_London</th>\n",
       "      <th>Beijing 2008 (G+S+B)</th>\n",
       "      <th>host_country_beijing</th>\n",
       "      <th>Athens 2004 (G+S+B)</th>\n",
       "      <th>host_country_Athens</th>\n",
       "    </tr>\n",
       "  </thead>\n",
       "  <tbody>\n",
       "    <tr>\n",
       "      <th>51</th>\n",
       "      <td>Ivory Coast</td>\n",
       "      <td>2.000</td>\n",
       "      <td>No</td>\n",
       "      <td>nan</td>\n",
       "      <td>NaN</td>\n",
       "      <td>nan</td>\n",
       "      <td>NaN</td>\n",
       "      <td>nan</td>\n",
       "      <td>NaN</td>\n",
       "    </tr>\n",
       "    <tr>\n",
       "      <th>52</th>\n",
       "      <td>Fiji</td>\n",
       "      <td>1.000</td>\n",
       "      <td>No</td>\n",
       "      <td>nan</td>\n",
       "      <td>NaN</td>\n",
       "      <td>nan</td>\n",
       "      <td>NaN</td>\n",
       "      <td>nan</td>\n",
       "      <td>NaN</td>\n",
       "    </tr>\n",
       "    <tr>\n",
       "      <th>53</th>\n",
       "      <td>Jordan</td>\n",
       "      <td>1.000</td>\n",
       "      <td>No</td>\n",
       "      <td>nan</td>\n",
       "      <td>NaN</td>\n",
       "      <td>nan</td>\n",
       "      <td>NaN</td>\n",
       "      <td>nan</td>\n",
       "      <td>NaN</td>\n",
       "    </tr>\n",
       "    <tr>\n",
       "      <th>54</th>\n",
       "      <td>Kosovo</td>\n",
       "      <td>1.000</td>\n",
       "      <td>No</td>\n",
       "      <td>nan</td>\n",
       "      <td>NaN</td>\n",
       "      <td>nan</td>\n",
       "      <td>NaN</td>\n",
       "      <td>nan</td>\n",
       "      <td>NaN</td>\n",
       "    </tr>\n",
       "    <tr>\n",
       "      <th>67</th>\n",
       "      <td>Burundi</td>\n",
       "      <td>1.000</td>\n",
       "      <td>No</td>\n",
       "      <td>nan</td>\n",
       "      <td>NaN</td>\n",
       "      <td>nan</td>\n",
       "      <td>NaN</td>\n",
       "      <td>nan</td>\n",
       "      <td>NaN</td>\n",
       "    </tr>\n",
       "  </tbody>\n",
       "</table>\n",
       "</div>"
      ],
      "text/plain": [
       "   Country Name  Rio 2016 (G+S+B) host_country_rio  London 2012 (G+B+S)  \\\n",
       "51  Ivory Coast             2.000               No                  nan   \n",
       "52         Fiji             1.000               No                  nan   \n",
       "53       Jordan             1.000               No                  nan   \n",
       "54       Kosovo             1.000               No                  nan   \n",
       "67      Burundi             1.000               No                  nan   \n",
       "\n",
       "   host_country_London  Beijing 2008 (G+S+B) host_country_beijing  \\\n",
       "51                 NaN                   nan                  NaN   \n",
       "52                 NaN                   nan                  NaN   \n",
       "53                 NaN                   nan                  NaN   \n",
       "54                 NaN                   nan                  NaN   \n",
       "67                 NaN                   nan                  NaN   \n",
       "\n",
       "    Athens 2004 (G+S+B) host_country_Athens  \n",
       "51                  nan                 NaN  \n",
       "52                  nan                 NaN  \n",
       "53                  nan                 NaN  \n",
       "54                  nan                 NaN  \n",
       "67                  nan                 NaN  "
      ]
     },
     "execution_count": 45,
     "metadata": {},
     "output_type": "execute_result"
    }
   ],
   "source": [
    "olympics[olympics['London 2012 (G+B+S)'].isnull()==True].head()"
   ]
  },
  {
   "cell_type": "code",
   "execution_count": 46,
   "metadata": {},
   "outputs": [
    {
     "data": {
      "text/html": [
       "<div>\n",
       "<style scoped>\n",
       "    .dataframe tbody tr th:only-of-type {\n",
       "        vertical-align: middle;\n",
       "    }\n",
       "\n",
       "    .dataframe tbody tr th {\n",
       "        vertical-align: top;\n",
       "    }\n",
       "\n",
       "    .dataframe thead th {\n",
       "        text-align: right;\n",
       "    }\n",
       "</style>\n",
       "<table border=\"1\" class=\"dataframe\">\n",
       "  <thead>\n",
       "    <tr style=\"text-align: right;\">\n",
       "      <th></th>\n",
       "      <th>Country Name</th>\n",
       "      <th>Rio 2016 (G+S+B)</th>\n",
       "      <th>host_country_rio</th>\n",
       "      <th>London 2012 (G+B+S)</th>\n",
       "      <th>host_country_London</th>\n",
       "      <th>Beijing 2008 (G+S+B)</th>\n",
       "      <th>host_country_beijing</th>\n",
       "      <th>Athens 2004 (G+S+B)</th>\n",
       "      <th>host_country_Athens</th>\n",
       "    </tr>\n",
       "  </thead>\n",
       "  <tbody>\n",
       "    <tr>\n",
       "      <th>47</th>\n",
       "      <td>Bahrain</td>\n",
       "      <td>2.000</td>\n",
       "      <td>No</td>\n",
       "      <td>1.000</td>\n",
       "      <td>No</td>\n",
       "      <td>nan</td>\n",
       "      <td>NaN</td>\n",
       "      <td>nan</td>\n",
       "      <td>NaN</td>\n",
       "    </tr>\n",
       "    <tr>\n",
       "      <th>51</th>\n",
       "      <td>Ivory Coast</td>\n",
       "      <td>2.000</td>\n",
       "      <td>No</td>\n",
       "      <td>nan</td>\n",
       "      <td>NaN</td>\n",
       "      <td>nan</td>\n",
       "      <td>NaN</td>\n",
       "      <td>nan</td>\n",
       "      <td>NaN</td>\n",
       "    </tr>\n",
       "    <tr>\n",
       "      <th>52</th>\n",
       "      <td>Fiji</td>\n",
       "      <td>1.000</td>\n",
       "      <td>No</td>\n",
       "      <td>nan</td>\n",
       "      <td>NaN</td>\n",
       "      <td>nan</td>\n",
       "      <td>NaN</td>\n",
       "      <td>nan</td>\n",
       "      <td>NaN</td>\n",
       "    </tr>\n",
       "    <tr>\n",
       "      <th>53</th>\n",
       "      <td>Jordan</td>\n",
       "      <td>1.000</td>\n",
       "      <td>No</td>\n",
       "      <td>nan</td>\n",
       "      <td>NaN</td>\n",
       "      <td>nan</td>\n",
       "      <td>NaN</td>\n",
       "      <td>nan</td>\n",
       "      <td>NaN</td>\n",
       "    </tr>\n",
       "    <tr>\n",
       "      <th>54</th>\n",
       "      <td>Kosovo</td>\n",
       "      <td>1.000</td>\n",
       "      <td>No</td>\n",
       "      <td>nan</td>\n",
       "      <td>NaN</td>\n",
       "      <td>nan</td>\n",
       "      <td>NaN</td>\n",
       "      <td>nan</td>\n",
       "      <td>NaN</td>\n",
       "    </tr>\n",
       "  </tbody>\n",
       "</table>\n",
       "</div>"
      ],
      "text/plain": [
       "   Country Name  Rio 2016 (G+S+B) host_country_rio  London 2012 (G+B+S)  \\\n",
       "47      Bahrain             2.000               No                1.000   \n",
       "51  Ivory Coast             2.000               No                  nan   \n",
       "52         Fiji             1.000               No                  nan   \n",
       "53       Jordan             1.000               No                  nan   \n",
       "54       Kosovo             1.000               No                  nan   \n",
       "\n",
       "   host_country_London  Beijing 2008 (G+S+B) host_country_beijing  \\\n",
       "47                  No                   nan                  NaN   \n",
       "51                 NaN                   nan                  NaN   \n",
       "52                 NaN                   nan                  NaN   \n",
       "53                 NaN                   nan                  NaN   \n",
       "54                 NaN                   nan                  NaN   \n",
       "\n",
       "    Athens 2004 (G+S+B) host_country_Athens  \n",
       "47                  nan                 NaN  \n",
       "51                  nan                 NaN  \n",
       "52                  nan                 NaN  \n",
       "53                  nan                 NaN  \n",
       "54                  nan                 NaN  "
      ]
     },
     "execution_count": 46,
     "metadata": {},
     "output_type": "execute_result"
    }
   ],
   "source": [
    "olympics[olympics['Beijing 2008 (G+S+B)'].isnull()==True].head()"
   ]
  },
  {
   "cell_type": "code",
   "execution_count": 47,
   "metadata": {},
   "outputs": [
    {
     "data": {
      "text/html": [
       "<div>\n",
       "<style scoped>\n",
       "    .dataframe tbody tr th:only-of-type {\n",
       "        vertical-align: middle;\n",
       "    }\n",
       "\n",
       "    .dataframe tbody tr th {\n",
       "        vertical-align: top;\n",
       "    }\n",
       "\n",
       "    .dataframe thead th {\n",
       "        text-align: right;\n",
       "    }\n",
       "</style>\n",
       "<table border=\"1\" class=\"dataframe\">\n",
       "  <thead>\n",
       "    <tr style=\"text-align: right;\">\n",
       "      <th></th>\n",
       "      <th>Country Name</th>\n",
       "      <th>Rio 2016 (G+S+B)</th>\n",
       "      <th>host_country_rio</th>\n",
       "      <th>London 2012 (G+B+S)</th>\n",
       "      <th>host_country_London</th>\n",
       "      <th>Beijing 2008 (G+S+B)</th>\n",
       "      <th>host_country_beijing</th>\n",
       "      <th>Athens 2004 (G+S+B)</th>\n",
       "      <th>host_country_Athens</th>\n",
       "    </tr>\n",
       "  </thead>\n",
       "  <tbody>\n",
       "    <tr>\n",
       "      <th>31</th>\n",
       "      <td>Serbia</td>\n",
       "      <td>8.000</td>\n",
       "      <td>No</td>\n",
       "      <td>4.000</td>\n",
       "      <td>No</td>\n",
       "      <td>3.000</td>\n",
       "      <td>No</td>\n",
       "      <td>nan</td>\n",
       "      <td>NaN</td>\n",
       "    </tr>\n",
       "    <tr>\n",
       "      <th>41</th>\n",
       "      <td>Armenia</td>\n",
       "      <td>4.000</td>\n",
       "      <td>No</td>\n",
       "      <td>2.000</td>\n",
       "      <td>No</td>\n",
       "      <td>5.000</td>\n",
       "      <td>No</td>\n",
       "      <td>nan</td>\n",
       "      <td>NaN</td>\n",
       "    </tr>\n",
       "    <tr>\n",
       "      <th>47</th>\n",
       "      <td>Bahrain</td>\n",
       "      <td>2.000</td>\n",
       "      <td>No</td>\n",
       "      <td>1.000</td>\n",
       "      <td>No</td>\n",
       "      <td>nan</td>\n",
       "      <td>NaN</td>\n",
       "      <td>nan</td>\n",
       "      <td>NaN</td>\n",
       "    </tr>\n",
       "    <tr>\n",
       "      <th>48</th>\n",
       "      <td>Vietnam</td>\n",
       "      <td>2.000</td>\n",
       "      <td>No</td>\n",
       "      <td>1.000</td>\n",
       "      <td>No</td>\n",
       "      <td>1.000</td>\n",
       "      <td>No</td>\n",
       "      <td>nan</td>\n",
       "      <td>NaN</td>\n",
       "    </tr>\n",
       "    <tr>\n",
       "      <th>51</th>\n",
       "      <td>Ivory Coast</td>\n",
       "      <td>2.000</td>\n",
       "      <td>No</td>\n",
       "      <td>nan</td>\n",
       "      <td>NaN</td>\n",
       "      <td>nan</td>\n",
       "      <td>NaN</td>\n",
       "      <td>nan</td>\n",
       "      <td>NaN</td>\n",
       "    </tr>\n",
       "  </tbody>\n",
       "</table>\n",
       "</div>"
      ],
      "text/plain": [
       "   Country Name  Rio 2016 (G+S+B) host_country_rio  London 2012 (G+B+S)  \\\n",
       "31       Serbia             8.000               No                4.000   \n",
       "41      Armenia             4.000               No                2.000   \n",
       "47      Bahrain             2.000               No                1.000   \n",
       "48      Vietnam             2.000               No                1.000   \n",
       "51  Ivory Coast             2.000               No                  nan   \n",
       "\n",
       "   host_country_London  Beijing 2008 (G+S+B) host_country_beijing  \\\n",
       "31                  No                 3.000                   No   \n",
       "41                  No                 5.000                   No   \n",
       "47                  No                   nan                  NaN   \n",
       "48                  No                 1.000                   No   \n",
       "51                 NaN                   nan                  NaN   \n",
       "\n",
       "    Athens 2004 (G+S+B) host_country_Athens  \n",
       "31                  nan                 NaN  \n",
       "41                  nan                 NaN  \n",
       "47                  nan                 NaN  \n",
       "48                  nan                 NaN  \n",
       "51                  nan                 NaN  "
      ]
     },
     "execution_count": 47,
     "metadata": {},
     "output_type": "execute_result"
    }
   ],
   "source": [
    "olympics[olympics['Athens 2004 (G+S+B)'].isnull()==True].head()"
   ]
  },
  {
   "cell_type": "markdown",
   "metadata": {},
   "source": [
    "_Imputing missing values with 0 - as the countries did not win any medals for that particular Olympic game._"
   ]
  },
  {
   "cell_type": "code",
   "execution_count": 48,
   "metadata": {},
   "outputs": [],
   "source": [
    "olympics.fillna(0,inplace=True)"
   ]
  },
  {
   "cell_type": "code",
   "execution_count": 49,
   "metadata": {},
   "outputs": [],
   "source": [
    "def initial_steps(df):\n",
    "                            ### structure of the data\n",
    "    print(color.BOLD+\"Structure of the dataset:\"+color.END)\n",
    "    print('-'*100)\n",
    "    print()\n",
    "    print(\"The dataset has {} rows and {} columns.\\n\\nTotal elements in this dataset are {}\".format(df.shape[0],df.shape[1],df.size))\n",
    "    print()\n",
    "                        ### missing values check\n",
    "    print(color.BOLD+\"Missing Values Check\"+color.END)\n",
    "    print('-'*100)\n",
    "    if df.isnull().sum().any() == True:\n",
    "        print(\"There are {} missing values in the dataset! Need further checks!\".format(df.isnull().sum().sum()))\n",
    "    else:\n",
    "        print(\"There are no missing values in the dataset\")\n",
    "    print()\n",
    "                            #### Info\n",
    "    print(color.BOLD+\"Info of the dataset\"+color.END)\n",
    "    print('-'*100)\n",
    "    print(df.info())\n",
    "    print()\n",
    "                    ### Duplicate\n",
    "    print(color.BOLD+\"Duplicate Values Check\"+color.END)\n",
    "    print('-'*100)\n",
    "    dups = df.duplicated()\n",
    "    print('Number of duplicate rows = %d' % (dups.sum()))\n",
    "    return df[dups]\n",
    "    print()\n",
    "    "
   ]
  },
  {
   "cell_type": "code",
   "execution_count": 50,
   "metadata": {},
   "outputs": [
    {
     "name": "stdout",
     "output_type": "stream",
     "text": [
      "\u001b[1mStructure of the dataset:\u001b[0m\n",
      "----------------------------------------------------------------------------------------------------\n",
      "\n",
      "The dataset has 112 rows and 9 columns.\n",
      "\n",
      "Total elements in this dataset are 1008\n",
      "\n",
      "\u001b[1mMissing Values Check\u001b[0m\n",
      "----------------------------------------------------------------------------------------------------\n",
      "There are no missing values in the dataset\n",
      "\n",
      "\u001b[1mInfo of the dataset\u001b[0m\n",
      "----------------------------------------------------------------------------------------------------\n",
      "<class 'pandas.core.frame.DataFrame'>\n",
      "RangeIndex: 112 entries, 0 to 111\n",
      "Data columns (total 9 columns):\n",
      " #   Column                Non-Null Count  Dtype  \n",
      "---  ------                --------------  -----  \n",
      " 0   Country Name          112 non-null    object \n",
      " 1   Rio 2016 (G+S+B)      112 non-null    float64\n",
      " 2   host_country_rio      112 non-null    object \n",
      " 3   London 2012 (G+B+S)   112 non-null    float64\n",
      " 4   host_country_London   112 non-null    object \n",
      " 5   Beijing 2008 (G+S+B)  112 non-null    float64\n",
      " 6   host_country_beijing  112 non-null    object \n",
      " 7   Athens 2004 (G+S+B)   112 non-null    float64\n",
      " 8   host_country_Athens   112 non-null    object \n",
      "dtypes: float64(4), object(5)\n",
      "memory usage: 8.0+ KB\n",
      "None\n",
      "\n",
      "\u001b[1mDuplicate Values Check\u001b[0m\n",
      "----------------------------------------------------------------------------------------------------\n",
      "Number of duplicate rows = 0\n"
     ]
    },
    {
     "data": {
      "text/html": [
       "<div>\n",
       "<style scoped>\n",
       "    .dataframe tbody tr th:only-of-type {\n",
       "        vertical-align: middle;\n",
       "    }\n",
       "\n",
       "    .dataframe tbody tr th {\n",
       "        vertical-align: top;\n",
       "    }\n",
       "\n",
       "    .dataframe thead th {\n",
       "        text-align: right;\n",
       "    }\n",
       "</style>\n",
       "<table border=\"1\" class=\"dataframe\">\n",
       "  <thead>\n",
       "    <tr style=\"text-align: right;\">\n",
       "      <th></th>\n",
       "      <th>Country Name</th>\n",
       "      <th>Rio 2016 (G+S+B)</th>\n",
       "      <th>host_country_rio</th>\n",
       "      <th>London 2012 (G+B+S)</th>\n",
       "      <th>host_country_London</th>\n",
       "      <th>Beijing 2008 (G+S+B)</th>\n",
       "      <th>host_country_beijing</th>\n",
       "      <th>Athens 2004 (G+S+B)</th>\n",
       "      <th>host_country_Athens</th>\n",
       "    </tr>\n",
       "  </thead>\n",
       "  <tbody>\n",
       "  </tbody>\n",
       "</table>\n",
       "</div>"
      ],
      "text/plain": [
       "Empty DataFrame\n",
       "Columns: [Country Name, Rio 2016 (G+S+B), host_country_rio, London 2012 (G+B+S), host_country_London, Beijing 2008 (G+S+B), host_country_beijing, Athens 2004 (G+S+B), host_country_Athens]\n",
       "Index: []"
      ]
     },
     "execution_count": 50,
     "metadata": {},
     "output_type": "execute_result"
    }
   ],
   "source": [
    "initial_steps(df=olympics)"
   ]
  },
  {
   "cell_type": "markdown",
   "metadata": {},
   "source": [
    "_Encoding host country column for yes as 1 and no as 0_"
   ]
  },
  {
   "cell_type": "code",
   "execution_count": 51,
   "metadata": {},
   "outputs": [],
   "source": [
    "olympics['host_country_rio'].replace({'No':0,'Yes':1},inplace=True)\n",
    "olympics['host_country_London'].replace({'No':0,'Yes':1},inplace=True)\n",
    "olympics['host_country_beijing'].replace({'No':0,'Yes':1},inplace=True)\n",
    "olympics['host_country_Athens'].replace({'No':0,'Yes':1},inplace=True)"
   ]
  },
  {
   "cell_type": "code",
   "execution_count": 52,
   "metadata": {
    "scrolled": false
   },
   "outputs": [
    {
     "data": {
      "text/html": [
       "<div>\n",
       "<style scoped>\n",
       "    .dataframe tbody tr th:only-of-type {\n",
       "        vertical-align: middle;\n",
       "    }\n",
       "\n",
       "    .dataframe tbody tr th {\n",
       "        vertical-align: top;\n",
       "    }\n",
       "\n",
       "    .dataframe thead th {\n",
       "        text-align: right;\n",
       "    }\n",
       "</style>\n",
       "<table border=\"1\" class=\"dataframe\">\n",
       "  <thead>\n",
       "    <tr style=\"text-align: right;\">\n",
       "      <th></th>\n",
       "      <th>Country Name</th>\n",
       "      <th>Rio 2016 (G+S+B)</th>\n",
       "      <th>host_country_rio</th>\n",
       "      <th>London 2012 (G+B+S)</th>\n",
       "      <th>host_country_London</th>\n",
       "      <th>Beijing 2008 (G+S+B)</th>\n",
       "      <th>host_country_beijing</th>\n",
       "      <th>Athens 2004 (G+S+B)</th>\n",
       "      <th>host_country_Athens</th>\n",
       "    </tr>\n",
       "  </thead>\n",
       "  <tbody>\n",
       "    <tr>\n",
       "      <th>0</th>\n",
       "      <td>United States</td>\n",
       "      <td>121.000</td>\n",
       "      <td>0</td>\n",
       "      <td>104.000</td>\n",
       "      <td>0</td>\n",
       "      <td>112.000</td>\n",
       "      <td>0</td>\n",
       "      <td>101.000</td>\n",
       "      <td>0</td>\n",
       "    </tr>\n",
       "    <tr>\n",
       "      <th>1</th>\n",
       "      <td>United Kingdom</td>\n",
       "      <td>67.000</td>\n",
       "      <td>0</td>\n",
       "      <td>65.000</td>\n",
       "      <td>1</td>\n",
       "      <td>51.000</td>\n",
       "      <td>0</td>\n",
       "      <td>30.000</td>\n",
       "      <td>0</td>\n",
       "    </tr>\n",
       "    <tr>\n",
       "      <th>2</th>\n",
       "      <td>China</td>\n",
       "      <td>70.000</td>\n",
       "      <td>0</td>\n",
       "      <td>91.000</td>\n",
       "      <td>0</td>\n",
       "      <td>100.000</td>\n",
       "      <td>1</td>\n",
       "      <td>63.000</td>\n",
       "      <td>0</td>\n",
       "    </tr>\n",
       "    <tr>\n",
       "      <th>3</th>\n",
       "      <td>Russia</td>\n",
       "      <td>56.000</td>\n",
       "      <td>0</td>\n",
       "      <td>68.000</td>\n",
       "      <td>0</td>\n",
       "      <td>60.000</td>\n",
       "      <td>0</td>\n",
       "      <td>90.000</td>\n",
       "      <td>0</td>\n",
       "    </tr>\n",
       "    <tr>\n",
       "      <th>4</th>\n",
       "      <td>Germany</td>\n",
       "      <td>42.000</td>\n",
       "      <td>0</td>\n",
       "      <td>44.000</td>\n",
       "      <td>0</td>\n",
       "      <td>41.000</td>\n",
       "      <td>0</td>\n",
       "      <td>49.000</td>\n",
       "      <td>0</td>\n",
       "    </tr>\n",
       "  </tbody>\n",
       "</table>\n",
       "</div>"
      ],
      "text/plain": [
       "     Country Name  Rio 2016 (G+S+B)  host_country_rio  London 2012 (G+B+S)  \\\n",
       "0   United States           121.000                 0              104.000   \n",
       "1  United Kingdom            67.000                 0               65.000   \n",
       "2           China            70.000                 0               91.000   \n",
       "3          Russia            56.000                 0               68.000   \n",
       "4         Germany            42.000                 0               44.000   \n",
       "\n",
       "   host_country_London  Beijing 2008 (G+S+B)  host_country_beijing  \\\n",
       "0                    0               112.000                     0   \n",
       "1                    1                51.000                     0   \n",
       "2                    0               100.000                     1   \n",
       "3                    0                60.000                     0   \n",
       "4                    0                41.000                     0   \n",
       "\n",
       "   Athens 2004 (G+S+B)  host_country_Athens  \n",
       "0              101.000                    0  \n",
       "1               30.000                    0  \n",
       "2               63.000                    0  \n",
       "3               90.000                    0  \n",
       "4               49.000                    0  "
      ]
     },
     "execution_count": 52,
     "metadata": {},
     "output_type": "execute_result"
    }
   ],
   "source": [
    "olympics.head()"
   ]
  },
  {
   "cell_type": "code",
   "execution_count": 53,
   "metadata": {},
   "outputs": [],
   "source": [
    "test = olympics.copy()"
   ]
  },
  {
   "cell_type": "markdown",
   "metadata": {},
   "source": [
    "### Population by country\n",
    "\n",
    "source: https://data.worldbank.org/indicator/SP.POP.TOTL"
   ]
  },
  {
   "cell_type": "code",
   "execution_count": 54,
   "metadata": {},
   "outputs": [
    {
     "data": {
      "text/html": [
       "<div>\n",
       "<style scoped>\n",
       "    .dataframe tbody tr th:only-of-type {\n",
       "        vertical-align: middle;\n",
       "    }\n",
       "\n",
       "    .dataframe tbody tr th {\n",
       "        vertical-align: top;\n",
       "    }\n",
       "\n",
       "    .dataframe thead th {\n",
       "        text-align: right;\n",
       "    }\n",
       "</style>\n",
       "<table border=\"1\" class=\"dataframe\">\n",
       "  <thead>\n",
       "    <tr style=\"text-align: right;\">\n",
       "      <th></th>\n",
       "      <th>Country Name</th>\n",
       "      <th>1960</th>\n",
       "      <th>1961</th>\n",
       "      <th>1962</th>\n",
       "      <th>1963</th>\n",
       "      <th>1964</th>\n",
       "      <th>1965</th>\n",
       "      <th>1966</th>\n",
       "      <th>1967</th>\n",
       "      <th>1968</th>\n",
       "      <th>...</th>\n",
       "      <th>2011</th>\n",
       "      <th>2012</th>\n",
       "      <th>2013</th>\n",
       "      <th>2014</th>\n",
       "      <th>2015</th>\n",
       "      <th>2016</th>\n",
       "      <th>2017</th>\n",
       "      <th>2018</th>\n",
       "      <th>2019</th>\n",
       "      <th>2020</th>\n",
       "    </tr>\n",
       "  </thead>\n",
       "  <tbody>\n",
       "    <tr>\n",
       "      <th>0</th>\n",
       "      <td>Aruba</td>\n",
       "      <td>54208.000</td>\n",
       "      <td>55434.000</td>\n",
       "      <td>56234.000</td>\n",
       "      <td>56699.000</td>\n",
       "      <td>57029.000</td>\n",
       "      <td>57357.000</td>\n",
       "      <td>57702.000</td>\n",
       "      <td>58044.000</td>\n",
       "      <td>58377.000</td>\n",
       "      <td>...</td>\n",
       "      <td>102050.000</td>\n",
       "      <td>102565.000</td>\n",
       "      <td>103165.000</td>\n",
       "      <td>103776.000</td>\n",
       "      <td>104339.000</td>\n",
       "      <td>104865.000</td>\n",
       "      <td>105361.000</td>\n",
       "      <td>105846.000</td>\n",
       "      <td>106310.000</td>\n",
       "      <td>106766.000</td>\n",
       "    </tr>\n",
       "    <tr>\n",
       "      <th>1</th>\n",
       "      <td>Africa Eastern and Southern</td>\n",
       "      <td>130836765.000</td>\n",
       "      <td>134159786.000</td>\n",
       "      <td>137614644.000</td>\n",
       "      <td>141202036.000</td>\n",
       "      <td>144920186.000</td>\n",
       "      <td>148769974.000</td>\n",
       "      <td>152752671.000</td>\n",
       "      <td>156876454.000</td>\n",
       "      <td>161156430.000</td>\n",
       "      <td>...</td>\n",
       "      <td>532760424.000</td>\n",
       "      <td>547482863.000</td>\n",
       "      <td>562601578.000</td>\n",
       "      <td>578075373.000</td>\n",
       "      <td>593871847.000</td>\n",
       "      <td>609978946.000</td>\n",
       "      <td>626392880.000</td>\n",
       "      <td>643090131.000</td>\n",
       "      <td>660046272.000</td>\n",
       "      <td>677243299.000</td>\n",
       "    </tr>\n",
       "    <tr>\n",
       "      <th>2</th>\n",
       "      <td>Afghanistan</td>\n",
       "      <td>8996967.000</td>\n",
       "      <td>9169406.000</td>\n",
       "      <td>9351442.000</td>\n",
       "      <td>9543200.000</td>\n",
       "      <td>9744772.000</td>\n",
       "      <td>9956318.000</td>\n",
       "      <td>10174840.000</td>\n",
       "      <td>10399936.000</td>\n",
       "      <td>10637064.000</td>\n",
       "      <td>...</td>\n",
       "      <td>30117411.000</td>\n",
       "      <td>31161378.000</td>\n",
       "      <td>32269592.000</td>\n",
       "      <td>33370804.000</td>\n",
       "      <td>34413603.000</td>\n",
       "      <td>35383028.000</td>\n",
       "      <td>36296111.000</td>\n",
       "      <td>37171922.000</td>\n",
       "      <td>38041757.000</td>\n",
       "      <td>38928341.000</td>\n",
       "    </tr>\n",
       "    <tr>\n",
       "      <th>3</th>\n",
       "      <td>Africa Western and Central</td>\n",
       "      <td>96396419.000</td>\n",
       "      <td>98407221.000</td>\n",
       "      <td>100506960.000</td>\n",
       "      <td>102691339.000</td>\n",
       "      <td>104953470.000</td>\n",
       "      <td>107289875.000</td>\n",
       "      <td>109701811.000</td>\n",
       "      <td>112195950.000</td>\n",
       "      <td>114781116.000</td>\n",
       "      <td>...</td>\n",
       "      <td>360285439.000</td>\n",
       "      <td>370243017.000</td>\n",
       "      <td>380437896.000</td>\n",
       "      <td>390882979.000</td>\n",
       "      <td>401586651.000</td>\n",
       "      <td>412551299.000</td>\n",
       "      <td>423769930.000</td>\n",
       "      <td>435229381.000</td>\n",
       "      <td>446911598.000</td>\n",
       "      <td>458803476.000</td>\n",
       "    </tr>\n",
       "    <tr>\n",
       "      <th>4</th>\n",
       "      <td>Angola</td>\n",
       "      <td>5454938.000</td>\n",
       "      <td>5531451.000</td>\n",
       "      <td>5608499.000</td>\n",
       "      <td>5679409.000</td>\n",
       "      <td>5734995.000</td>\n",
       "      <td>5770573.000</td>\n",
       "      <td>5781305.000</td>\n",
       "      <td>5774440.000</td>\n",
       "      <td>5771973.000</td>\n",
       "      <td>...</td>\n",
       "      <td>24220660.000</td>\n",
       "      <td>25107925.000</td>\n",
       "      <td>26015786.000</td>\n",
       "      <td>26941773.000</td>\n",
       "      <td>27884380.000</td>\n",
       "      <td>28842482.000</td>\n",
       "      <td>29816769.000</td>\n",
       "      <td>30809787.000</td>\n",
       "      <td>31825299.000</td>\n",
       "      <td>32866268.000</td>\n",
       "    </tr>\n",
       "  </tbody>\n",
       "</table>\n",
       "<p>5 rows × 62 columns</p>\n",
       "</div>"
      ],
      "text/plain": [
       "                  Country Name          1960          1961          1962  \\\n",
       "0                        Aruba     54208.000     55434.000     56234.000   \n",
       "1  Africa Eastern and Southern 130836765.000 134159786.000 137614644.000   \n",
       "2                  Afghanistan   8996967.000   9169406.000   9351442.000   \n",
       "3   Africa Western and Central  96396419.000  98407221.000 100506960.000   \n",
       "4                       Angola   5454938.000   5531451.000   5608499.000   \n",
       "\n",
       "           1963          1964          1965          1966          1967  \\\n",
       "0     56699.000     57029.000     57357.000     57702.000     58044.000   \n",
       "1 141202036.000 144920186.000 148769974.000 152752671.000 156876454.000   \n",
       "2   9543200.000   9744772.000   9956318.000  10174840.000  10399936.000   \n",
       "3 102691339.000 104953470.000 107289875.000 109701811.000 112195950.000   \n",
       "4   5679409.000   5734995.000   5770573.000   5781305.000   5774440.000   \n",
       "\n",
       "           1968  ...          2011          2012          2013          2014  \\\n",
       "0     58377.000  ...    102050.000    102565.000    103165.000    103776.000   \n",
       "1 161156430.000  ... 532760424.000 547482863.000 562601578.000 578075373.000   \n",
       "2  10637064.000  ...  30117411.000  31161378.000  32269592.000  33370804.000   \n",
       "3 114781116.000  ... 360285439.000 370243017.000 380437896.000 390882979.000   \n",
       "4   5771973.000  ...  24220660.000  25107925.000  26015786.000  26941773.000   \n",
       "\n",
       "           2015          2016          2017          2018          2019  \\\n",
       "0    104339.000    104865.000    105361.000    105846.000    106310.000   \n",
       "1 593871847.000 609978946.000 626392880.000 643090131.000 660046272.000   \n",
       "2  34413603.000  35383028.000  36296111.000  37171922.000  38041757.000   \n",
       "3 401586651.000 412551299.000 423769930.000 435229381.000 446911598.000   \n",
       "4  27884380.000  28842482.000  29816769.000  30809787.000  31825299.000   \n",
       "\n",
       "           2020  \n",
       "0    106766.000  \n",
       "1 677243299.000  \n",
       "2  38928341.000  \n",
       "3 458803476.000  \n",
       "4  32866268.000  \n",
       "\n",
       "[5 rows x 62 columns]"
      ]
     },
     "execution_count": 54,
     "metadata": {},
     "output_type": "execute_result"
    }
   ],
   "source": [
    "population = pd.read_csv('API_SP.POP.TOTL_DS2_en_csv_v2_2627335.csv')\n",
    "population.drop(['Indicator Name','Indicator Code','Country Code'],axis=1,inplace=True)\n",
    "population.head()"
   ]
  },
  {
   "cell_type": "code",
   "execution_count": 55,
   "metadata": {},
   "outputs": [],
   "source": [
    "drop=[]\n",
    "for i in population.iloc[:,1:].columns:\n",
    "    if i != '2004' and i != '2008' and i != '2016' and i != '2012': #keeping only the Olympic games years\n",
    "        drop.append(str(i))"
   ]
  },
  {
   "cell_type": "code",
   "execution_count": 56,
   "metadata": {},
   "outputs": [],
   "source": [
    "population.drop(drop,axis=1,inplace=True)"
   ]
  },
  {
   "cell_type": "code",
   "execution_count": 57,
   "metadata": {},
   "outputs": [
    {
     "data": {
      "text/html": [
       "<div>\n",
       "<style scoped>\n",
       "    .dataframe tbody tr th:only-of-type {\n",
       "        vertical-align: middle;\n",
       "    }\n",
       "\n",
       "    .dataframe tbody tr th {\n",
       "        vertical-align: top;\n",
       "    }\n",
       "\n",
       "    .dataframe thead th {\n",
       "        text-align: right;\n",
       "    }\n",
       "</style>\n",
       "<table border=\"1\" class=\"dataframe\">\n",
       "  <thead>\n",
       "    <tr style=\"text-align: right;\">\n",
       "      <th></th>\n",
       "      <th>Country Name</th>\n",
       "      <th>Population 2004</th>\n",
       "      <th>Population 2008</th>\n",
       "      <th>Population 2012</th>\n",
       "      <th>Population 2016</th>\n",
       "    </tr>\n",
       "  </thead>\n",
       "  <tbody>\n",
       "    <tr>\n",
       "      <th>0</th>\n",
       "      <td>Aruba</td>\n",
       "      <td>98744.000</td>\n",
       "      <td>101362.000</td>\n",
       "      <td>102565.000</td>\n",
       "      <td>104865.000</td>\n",
       "    </tr>\n",
       "    <tr>\n",
       "      <th>1</th>\n",
       "      <td>Africa Eastern and Southern</td>\n",
       "      <td>441630149.000</td>\n",
       "      <td>491173160.000</td>\n",
       "      <td>547482863.000</td>\n",
       "      <td>609978946.000</td>\n",
       "    </tr>\n",
       "    <tr>\n",
       "      <th>2</th>\n",
       "      <td>Afghanistan</td>\n",
       "      <td>24726689.000</td>\n",
       "      <td>27722281.000</td>\n",
       "      <td>31161378.000</td>\n",
       "      <td>35383028.000</td>\n",
       "    </tr>\n",
       "    <tr>\n",
       "      <th>3</th>\n",
       "      <td>Africa Western and Central</td>\n",
       "      <td>297353098.000</td>\n",
       "      <td>331772330.000</td>\n",
       "      <td>370243017.000</td>\n",
       "      <td>412551299.000</td>\n",
       "    </tr>\n",
       "    <tr>\n",
       "      <th>4</th>\n",
       "      <td>Angola</td>\n",
       "      <td>18758138.000</td>\n",
       "      <td>21695636.000</td>\n",
       "      <td>25107925.000</td>\n",
       "      <td>28842482.000</td>\n",
       "    </tr>\n",
       "  </tbody>\n",
       "</table>\n",
       "</div>"
      ],
      "text/plain": [
       "                  Country Name  Population 2004  Population 2008  \\\n",
       "0                        Aruba        98744.000       101362.000   \n",
       "1  Africa Eastern and Southern    441630149.000    491173160.000   \n",
       "2                  Afghanistan     24726689.000     27722281.000   \n",
       "3   Africa Western and Central    297353098.000    331772330.000   \n",
       "4                       Angola     18758138.000     21695636.000   \n",
       "\n",
       "   Population 2012  Population 2016  \n",
       "0       102565.000       104865.000  \n",
       "1    547482863.000    609978946.000  \n",
       "2     31161378.000     35383028.000  \n",
       "3    370243017.000    412551299.000  \n",
       "4     25107925.000     28842482.000  "
      ]
     },
     "execution_count": 57,
     "metadata": {},
     "output_type": "execute_result"
    }
   ],
   "source": [
    "population.rename({'2004':'Population 2004','2008': 'Population 2008','2012':'Population 2012',\n",
    "                   '2016':'Population 2016'},axis=1,inplace=True)\n",
    "\n",
    "population.head()"
   ]
  },
  {
   "cell_type": "code",
   "execution_count": 58,
   "metadata": {},
   "outputs": [
    {
     "data": {
      "text/plain": [
       "Country Name       0\n",
       "Population 2004    1\n",
       "Population 2008    1\n",
       "Population 2012    1\n",
       "Population 2016    1\n",
       "dtype: int64"
      ]
     },
     "execution_count": 58,
     "metadata": {},
     "output_type": "execute_result"
    }
   ],
   "source": [
    "population.isnull().sum()"
   ]
  },
  {
   "cell_type": "code",
   "execution_count": 59,
   "metadata": {},
   "outputs": [],
   "source": [
    "olympics = olympics.merge(population,how='left',on='Country Name')"
   ]
  },
  {
   "cell_type": "markdown",
   "metadata": {},
   "source": [
    "_Data cleaning and imputing missing values_"
   ]
  },
  {
   "cell_type": "code",
   "execution_count": 60,
   "metadata": {},
   "outputs": [
    {
     "name": "stdout",
     "output_type": "stream",
     "text": [
      "\u001b[1mStructure of the dataset:\u001b[0m\n",
      "----------------------------------------------------------------------------------------------------\n",
      "\n",
      "The dataset has 112 rows and 13 columns.\n",
      "\n",
      "Total elements in this dataset are 1456\n",
      "\n",
      "\u001b[1mMissing Values Check\u001b[0m\n",
      "----------------------------------------------------------------------------------------------------\n",
      "There are 56 missing values in the dataset! Need further checks!\n",
      "\n",
      "\u001b[1mInfo of the dataset\u001b[0m\n",
      "----------------------------------------------------------------------------------------------------\n",
      "<class 'pandas.core.frame.DataFrame'>\n",
      "Int64Index: 112 entries, 0 to 111\n",
      "Data columns (total 13 columns):\n",
      " #   Column                Non-Null Count  Dtype  \n",
      "---  ------                --------------  -----  \n",
      " 0   Country Name          112 non-null    object \n",
      " 1   Rio 2016 (G+S+B)      112 non-null    float64\n",
      " 2   host_country_rio      112 non-null    int64  \n",
      " 3   London 2012 (G+B+S)   112 non-null    float64\n",
      " 4   host_country_London   112 non-null    int64  \n",
      " 5   Beijing 2008 (G+S+B)  112 non-null    float64\n",
      " 6   host_country_beijing  112 non-null    int64  \n",
      " 7   Athens 2004 (G+S+B)   112 non-null    float64\n",
      " 8   host_country_Athens   112 non-null    int64  \n",
      " 9   Population 2004       98 non-null     float64\n",
      " 10  Population 2008       98 non-null     float64\n",
      " 11  Population 2012       98 non-null     float64\n",
      " 12  Population 2016       98 non-null     float64\n",
      "dtypes: float64(8), int64(4), object(1)\n",
      "memory usage: 12.2+ KB\n",
      "None\n",
      "\n",
      "\u001b[1mDuplicate Values Check\u001b[0m\n",
      "----------------------------------------------------------------------------------------------------\n",
      "Number of duplicate rows = 0\n"
     ]
    },
    {
     "data": {
      "text/html": [
       "<div>\n",
       "<style scoped>\n",
       "    .dataframe tbody tr th:only-of-type {\n",
       "        vertical-align: middle;\n",
       "    }\n",
       "\n",
       "    .dataframe tbody tr th {\n",
       "        vertical-align: top;\n",
       "    }\n",
       "\n",
       "    .dataframe thead th {\n",
       "        text-align: right;\n",
       "    }\n",
       "</style>\n",
       "<table border=\"1\" class=\"dataframe\">\n",
       "  <thead>\n",
       "    <tr style=\"text-align: right;\">\n",
       "      <th></th>\n",
       "      <th>Country Name</th>\n",
       "      <th>Rio 2016 (G+S+B)</th>\n",
       "      <th>host_country_rio</th>\n",
       "      <th>London 2012 (G+B+S)</th>\n",
       "      <th>host_country_London</th>\n",
       "      <th>Beijing 2008 (G+S+B)</th>\n",
       "      <th>host_country_beijing</th>\n",
       "      <th>Athens 2004 (G+S+B)</th>\n",
       "      <th>host_country_Athens</th>\n",
       "      <th>Population 2004</th>\n",
       "      <th>Population 2008</th>\n",
       "      <th>Population 2012</th>\n",
       "      <th>Population 2016</th>\n",
       "    </tr>\n",
       "  </thead>\n",
       "  <tbody>\n",
       "  </tbody>\n",
       "</table>\n",
       "</div>"
      ],
      "text/plain": [
       "Empty DataFrame\n",
       "Columns: [Country Name, Rio 2016 (G+S+B), host_country_rio, London 2012 (G+B+S), host_country_London, Beijing 2008 (G+S+B), host_country_beijing, Athens 2004 (G+S+B), host_country_Athens, Population 2004, Population 2008, Population 2012, Population 2016]\n",
       "Index: []"
      ]
     },
     "execution_count": 60,
     "metadata": {},
     "output_type": "execute_result"
    }
   ],
   "source": [
    "initial_steps(df=olympics)"
   ]
  },
  {
   "cell_type": "code",
   "execution_count": 61,
   "metadata": {},
   "outputs": [
    {
     "data": {
      "text/plain": [
       "Country Name             0\n",
       "Rio 2016 (G+S+B)         0\n",
       "host_country_rio         0\n",
       "London 2012 (G+B+S)      0\n",
       "host_country_London      0\n",
       "Beijing 2008 (G+S+B)     0\n",
       "host_country_beijing     0\n",
       "Athens 2004 (G+S+B)      0\n",
       "host_country_Athens      0\n",
       "Population 2004         14\n",
       "Population 2008         14\n",
       "Population 2012         14\n",
       "Population 2016         14\n",
       "dtype: int64"
      ]
     },
     "execution_count": 61,
     "metadata": {},
     "output_type": "execute_result"
    }
   ],
   "source": [
    "olympics.isnull().sum()"
   ]
  },
  {
   "cell_type": "code",
   "execution_count": 62,
   "metadata": {},
   "outputs": [
    {
     "data": {
      "text/html": [
       "<div>\n",
       "<style scoped>\n",
       "    .dataframe tbody tr th:only-of-type {\n",
       "        vertical-align: middle;\n",
       "    }\n",
       "\n",
       "    .dataframe tbody tr th {\n",
       "        vertical-align: top;\n",
       "    }\n",
       "\n",
       "    .dataframe thead th {\n",
       "        text-align: right;\n",
       "    }\n",
       "</style>\n",
       "<table border=\"1\" class=\"dataframe\">\n",
       "  <thead>\n",
       "    <tr style=\"text-align: right;\">\n",
       "      <th></th>\n",
       "      <th>Country Name</th>\n",
       "      <th>Rio 2016 (G+S+B)</th>\n",
       "      <th>host_country_rio</th>\n",
       "      <th>London 2012 (G+B+S)</th>\n",
       "      <th>host_country_London</th>\n",
       "      <th>Beijing 2008 (G+S+B)</th>\n",
       "      <th>host_country_beijing</th>\n",
       "      <th>Athens 2004 (G+S+B)</th>\n",
       "      <th>host_country_Athens</th>\n",
       "      <th>Population 2004</th>\n",
       "      <th>Population 2008</th>\n",
       "      <th>Population 2012</th>\n",
       "      <th>Population 2016</th>\n",
       "    </tr>\n",
       "  </thead>\n",
       "  <tbody>\n",
       "    <tr>\n",
       "      <th>3</th>\n",
       "      <td>Russia</td>\n",
       "      <td>56.000</td>\n",
       "      <td>0</td>\n",
       "      <td>68.000</td>\n",
       "      <td>0</td>\n",
       "      <td>60.000</td>\n",
       "      <td>0</td>\n",
       "      <td>90.000</td>\n",
       "      <td>0</td>\n",
       "      <td>nan</td>\n",
       "      <td>nan</td>\n",
       "      <td>nan</td>\n",
       "      <td>nan</td>\n",
       "    </tr>\n",
       "    <tr>\n",
       "      <th>7</th>\n",
       "      <td>South Korea</td>\n",
       "      <td>21.000</td>\n",
       "      <td>0</td>\n",
       "      <td>30.000</td>\n",
       "      <td>0</td>\n",
       "      <td>32.000</td>\n",
       "      <td>0</td>\n",
       "      <td>30.000</td>\n",
       "      <td>0</td>\n",
       "      <td>nan</td>\n",
       "      <td>nan</td>\n",
       "      <td>nan</td>\n",
       "      <td>nan</td>\n",
       "    </tr>\n",
       "    <tr>\n",
       "      <th>24</th>\n",
       "      <td>Iran</td>\n",
       "      <td>8.000</td>\n",
       "      <td>0</td>\n",
       "      <td>13.000</td>\n",
       "      <td>0</td>\n",
       "      <td>2.000</td>\n",
       "      <td>0</td>\n",
       "      <td>6.000</td>\n",
       "      <td>0</td>\n",
       "      <td>nan</td>\n",
       "      <td>nan</td>\n",
       "      <td>nan</td>\n",
       "      <td>nan</td>\n",
       "    </tr>\n",
       "    <tr>\n",
       "      <th>33</th>\n",
       "      <td>North Korea</td>\n",
       "      <td>7.000</td>\n",
       "      <td>0</td>\n",
       "      <td>7.000</td>\n",
       "      <td>0</td>\n",
       "      <td>6.000</td>\n",
       "      <td>0</td>\n",
       "      <td>5.000</td>\n",
       "      <td>0</td>\n",
       "      <td>nan</td>\n",
       "      <td>nan</td>\n",
       "      <td>nan</td>\n",
       "      <td>nan</td>\n",
       "    </tr>\n",
       "    <tr>\n",
       "      <th>36</th>\n",
       "      <td>Slovakia</td>\n",
       "      <td>4.000</td>\n",
       "      <td>0</td>\n",
       "      <td>4.000</td>\n",
       "      <td>0</td>\n",
       "      <td>6.000</td>\n",
       "      <td>0</td>\n",
       "      <td>6.000</td>\n",
       "      <td>0</td>\n",
       "      <td>nan</td>\n",
       "      <td>nan</td>\n",
       "      <td>nan</td>\n",
       "      <td>nan</td>\n",
       "    </tr>\n",
       "    <tr>\n",
       "      <th>49</th>\n",
       "      <td>Taiwan</td>\n",
       "      <td>3.000</td>\n",
       "      <td>0</td>\n",
       "      <td>2.000</td>\n",
       "      <td>0</td>\n",
       "      <td>4.000</td>\n",
       "      <td>0</td>\n",
       "      <td>5.000</td>\n",
       "      <td>0</td>\n",
       "      <td>nan</td>\n",
       "      <td>nan</td>\n",
       "      <td>nan</td>\n",
       "      <td>nan</td>\n",
       "    </tr>\n",
       "    <tr>\n",
       "      <th>50</th>\n",
       "      <td>Bahamas</td>\n",
       "      <td>2.000</td>\n",
       "      <td>0</td>\n",
       "      <td>1.000</td>\n",
       "      <td>0</td>\n",
       "      <td>2.000</td>\n",
       "      <td>0</td>\n",
       "      <td>2.000</td>\n",
       "      <td>0</td>\n",
       "      <td>nan</td>\n",
       "      <td>nan</td>\n",
       "      <td>nan</td>\n",
       "      <td>nan</td>\n",
       "    </tr>\n",
       "    <tr>\n",
       "      <th>51</th>\n",
       "      <td>Ivory Coast</td>\n",
       "      <td>2.000</td>\n",
       "      <td>0</td>\n",
       "      <td>0.000</td>\n",
       "      <td>0</td>\n",
       "      <td>0.000</td>\n",
       "      <td>0</td>\n",
       "      <td>0.000</td>\n",
       "      <td>0</td>\n",
       "      <td>nan</td>\n",
       "      <td>nan</td>\n",
       "      <td>nan</td>\n",
       "      <td>nan</td>\n",
       "    </tr>\n",
       "    <tr>\n",
       "      <th>60</th>\n",
       "      <td>Venezuela</td>\n",
       "      <td>3.000</td>\n",
       "      <td>0</td>\n",
       "      <td>1.000</td>\n",
       "      <td>0</td>\n",
       "      <td>1.000</td>\n",
       "      <td>0</td>\n",
       "      <td>2.000</td>\n",
       "      <td>0</td>\n",
       "      <td>nan</td>\n",
       "      <td>nan</td>\n",
       "      <td>nan</td>\n",
       "      <td>nan</td>\n",
       "    </tr>\n",
       "    <tr>\n",
       "      <th>73</th>\n",
       "      <td>Egypt</td>\n",
       "      <td>3.000</td>\n",
       "      <td>0</td>\n",
       "      <td>4.000</td>\n",
       "      <td>0</td>\n",
       "      <td>2.000</td>\n",
       "      <td>0</td>\n",
       "      <td>5.000</td>\n",
       "      <td>0</td>\n",
       "      <td>nan</td>\n",
       "      <td>nan</td>\n",
       "      <td>nan</td>\n",
       "      <td>nan</td>\n",
       "    </tr>\n",
       "    <tr>\n",
       "      <th>94</th>\n",
       "      <td>Hong Kong</td>\n",
       "      <td>0.000</td>\n",
       "      <td>0</td>\n",
       "      <td>1.000</td>\n",
       "      <td>0</td>\n",
       "      <td>0.000</td>\n",
       "      <td>0</td>\n",
       "      <td>1.000</td>\n",
       "      <td>0</td>\n",
       "      <td>nan</td>\n",
       "      <td>nan</td>\n",
       "      <td>nan</td>\n",
       "      <td>nan</td>\n",
       "    </tr>\n",
       "    <tr>\n",
       "      <th>99</th>\n",
       "      <td>Kyrgyzstan</td>\n",
       "      <td>0.000</td>\n",
       "      <td>0</td>\n",
       "      <td>0.000</td>\n",
       "      <td>0</td>\n",
       "      <td>3.000</td>\n",
       "      <td>0</td>\n",
       "      <td>0.000</td>\n",
       "      <td>0</td>\n",
       "      <td>nan</td>\n",
       "      <td>nan</td>\n",
       "      <td>nan</td>\n",
       "      <td>nan</td>\n",
       "    </tr>\n",
       "    <tr>\n",
       "      <th>108</th>\n",
       "      <td>Serbia and Montenegro</td>\n",
       "      <td>0.000</td>\n",
       "      <td>0</td>\n",
       "      <td>0.000</td>\n",
       "      <td>0</td>\n",
       "      <td>0.000</td>\n",
       "      <td>0</td>\n",
       "      <td>2.000</td>\n",
       "      <td>0</td>\n",
       "      <td>nan</td>\n",
       "      <td>nan</td>\n",
       "      <td>nan</td>\n",
       "      <td>nan</td>\n",
       "    </tr>\n",
       "    <tr>\n",
       "      <th>111</th>\n",
       "      <td>Syria</td>\n",
       "      <td>0.000</td>\n",
       "      <td>0</td>\n",
       "      <td>0.000</td>\n",
       "      <td>0</td>\n",
       "      <td>0.000</td>\n",
       "      <td>0</td>\n",
       "      <td>1.000</td>\n",
       "      <td>0</td>\n",
       "      <td>nan</td>\n",
       "      <td>nan</td>\n",
       "      <td>nan</td>\n",
       "      <td>nan</td>\n",
       "    </tr>\n",
       "  </tbody>\n",
       "</table>\n",
       "</div>"
      ],
      "text/plain": [
       "              Country Name  Rio 2016 (G+S+B)  host_country_rio  \\\n",
       "3                   Russia            56.000                 0   \n",
       "7              South Korea            21.000                 0   \n",
       "24                    Iran             8.000                 0   \n",
       "33             North Korea             7.000                 0   \n",
       "36                Slovakia             4.000                 0   \n",
       "49                  Taiwan             3.000                 0   \n",
       "50                 Bahamas             2.000                 0   \n",
       "51             Ivory Coast             2.000                 0   \n",
       "60               Venezuela             3.000                 0   \n",
       "73                   Egypt             3.000                 0   \n",
       "94               Hong Kong             0.000                 0   \n",
       "99              Kyrgyzstan             0.000                 0   \n",
       "108  Serbia and Montenegro             0.000                 0   \n",
       "111                  Syria             0.000                 0   \n",
       "\n",
       "     London 2012 (G+B+S)  host_country_London  Beijing 2008 (G+S+B)  \\\n",
       "3                 68.000                    0                60.000   \n",
       "7                 30.000                    0                32.000   \n",
       "24                13.000                    0                 2.000   \n",
       "33                 7.000                    0                 6.000   \n",
       "36                 4.000                    0                 6.000   \n",
       "49                 2.000                    0                 4.000   \n",
       "50                 1.000                    0                 2.000   \n",
       "51                 0.000                    0                 0.000   \n",
       "60                 1.000                    0                 1.000   \n",
       "73                 4.000                    0                 2.000   \n",
       "94                 1.000                    0                 0.000   \n",
       "99                 0.000                    0                 3.000   \n",
       "108                0.000                    0                 0.000   \n",
       "111                0.000                    0                 0.000   \n",
       "\n",
       "     host_country_beijing  Athens 2004 (G+S+B)  host_country_Athens  \\\n",
       "3                       0               90.000                    0   \n",
       "7                       0               30.000                    0   \n",
       "24                      0                6.000                    0   \n",
       "33                      0                5.000                    0   \n",
       "36                      0                6.000                    0   \n",
       "49                      0                5.000                    0   \n",
       "50                      0                2.000                    0   \n",
       "51                      0                0.000                    0   \n",
       "60                      0                2.000                    0   \n",
       "73                      0                5.000                    0   \n",
       "94                      0                1.000                    0   \n",
       "99                      0                0.000                    0   \n",
       "108                     0                2.000                    0   \n",
       "111                     0                1.000                    0   \n",
       "\n",
       "     Population 2004  Population 2008  Population 2012  Population 2016  \n",
       "3                nan              nan              nan              nan  \n",
       "7                nan              nan              nan              nan  \n",
       "24               nan              nan              nan              nan  \n",
       "33               nan              nan              nan              nan  \n",
       "36               nan              nan              nan              nan  \n",
       "49               nan              nan              nan              nan  \n",
       "50               nan              nan              nan              nan  \n",
       "51               nan              nan              nan              nan  \n",
       "60               nan              nan              nan              nan  \n",
       "73               nan              nan              nan              nan  \n",
       "94               nan              nan              nan              nan  \n",
       "99               nan              nan              nan              nan  \n",
       "108              nan              nan              nan              nan  \n",
       "111              nan              nan              nan              nan  "
      ]
     },
     "execution_count": 62,
     "metadata": {},
     "output_type": "execute_result"
    }
   ],
   "source": [
    "olympics[olympics['Population 2016'].isnull()==True]"
   ]
  },
  {
   "cell_type": "markdown",
   "metadata": {},
   "source": [
    "_Missing values in Population_"
   ]
  },
  {
   "cell_type": "code",
   "execution_count": 63,
   "metadata": {},
   "outputs": [
    {
     "data": {
      "text/html": [
       "<div>\n",
       "<style scoped>\n",
       "    .dataframe tbody tr th:only-of-type {\n",
       "        vertical-align: middle;\n",
       "    }\n",
       "\n",
       "    .dataframe tbody tr th {\n",
       "        vertical-align: top;\n",
       "    }\n",
       "\n",
       "    .dataframe thead th {\n",
       "        text-align: right;\n",
       "    }\n",
       "</style>\n",
       "<table border=\"1\" class=\"dataframe\">\n",
       "  <thead>\n",
       "    <tr style=\"text-align: right;\">\n",
       "      <th></th>\n",
       "      <th>Country Name</th>\n",
       "      <th>Rio 2016 (G+S+B)</th>\n",
       "      <th>host_country_rio</th>\n",
       "      <th>London 2012 (G+B+S)</th>\n",
       "      <th>host_country_London</th>\n",
       "      <th>Beijing 2008 (G+S+B)</th>\n",
       "      <th>host_country_beijing</th>\n",
       "      <th>Athens 2004 (G+S+B)</th>\n",
       "      <th>host_country_Athens</th>\n",
       "      <th>Population 2004</th>\n",
       "      <th>Population 2008</th>\n",
       "      <th>Population 2012</th>\n",
       "      <th>Population 2016</th>\n",
       "    </tr>\n",
       "  </thead>\n",
       "  <tbody>\n",
       "    <tr>\n",
       "      <th>3</th>\n",
       "      <td>Russia</td>\n",
       "      <td>56.000</td>\n",
       "      <td>0</td>\n",
       "      <td>68.000</td>\n",
       "      <td>0</td>\n",
       "      <td>60.000</td>\n",
       "      <td>0</td>\n",
       "      <td>90.000</td>\n",
       "      <td>0</td>\n",
       "      <td>nan</td>\n",
       "      <td>nan</td>\n",
       "      <td>nan</td>\n",
       "      <td>nan</td>\n",
       "    </tr>\n",
       "    <tr>\n",
       "      <th>7</th>\n",
       "      <td>South Korea</td>\n",
       "      <td>21.000</td>\n",
       "      <td>0</td>\n",
       "      <td>30.000</td>\n",
       "      <td>0</td>\n",
       "      <td>32.000</td>\n",
       "      <td>0</td>\n",
       "      <td>30.000</td>\n",
       "      <td>0</td>\n",
       "      <td>nan</td>\n",
       "      <td>nan</td>\n",
       "      <td>nan</td>\n",
       "      <td>nan</td>\n",
       "    </tr>\n",
       "    <tr>\n",
       "      <th>24</th>\n",
       "      <td>Iran</td>\n",
       "      <td>8.000</td>\n",
       "      <td>0</td>\n",
       "      <td>13.000</td>\n",
       "      <td>0</td>\n",
       "      <td>2.000</td>\n",
       "      <td>0</td>\n",
       "      <td>6.000</td>\n",
       "      <td>0</td>\n",
       "      <td>nan</td>\n",
       "      <td>nan</td>\n",
       "      <td>nan</td>\n",
       "      <td>nan</td>\n",
       "    </tr>\n",
       "    <tr>\n",
       "      <th>33</th>\n",
       "      <td>North Korea</td>\n",
       "      <td>7.000</td>\n",
       "      <td>0</td>\n",
       "      <td>7.000</td>\n",
       "      <td>0</td>\n",
       "      <td>6.000</td>\n",
       "      <td>0</td>\n",
       "      <td>5.000</td>\n",
       "      <td>0</td>\n",
       "      <td>nan</td>\n",
       "      <td>nan</td>\n",
       "      <td>nan</td>\n",
       "      <td>nan</td>\n",
       "    </tr>\n",
       "    <tr>\n",
       "      <th>36</th>\n",
       "      <td>Slovakia</td>\n",
       "      <td>4.000</td>\n",
       "      <td>0</td>\n",
       "      <td>4.000</td>\n",
       "      <td>0</td>\n",
       "      <td>6.000</td>\n",
       "      <td>0</td>\n",
       "      <td>6.000</td>\n",
       "      <td>0</td>\n",
       "      <td>nan</td>\n",
       "      <td>nan</td>\n",
       "      <td>nan</td>\n",
       "      <td>nan</td>\n",
       "    </tr>\n",
       "    <tr>\n",
       "      <th>49</th>\n",
       "      <td>Taiwan</td>\n",
       "      <td>3.000</td>\n",
       "      <td>0</td>\n",
       "      <td>2.000</td>\n",
       "      <td>0</td>\n",
       "      <td>4.000</td>\n",
       "      <td>0</td>\n",
       "      <td>5.000</td>\n",
       "      <td>0</td>\n",
       "      <td>nan</td>\n",
       "      <td>nan</td>\n",
       "      <td>nan</td>\n",
       "      <td>nan</td>\n",
       "    </tr>\n",
       "    <tr>\n",
       "      <th>50</th>\n",
       "      <td>Bahamas</td>\n",
       "      <td>2.000</td>\n",
       "      <td>0</td>\n",
       "      <td>1.000</td>\n",
       "      <td>0</td>\n",
       "      <td>2.000</td>\n",
       "      <td>0</td>\n",
       "      <td>2.000</td>\n",
       "      <td>0</td>\n",
       "      <td>nan</td>\n",
       "      <td>nan</td>\n",
       "      <td>nan</td>\n",
       "      <td>nan</td>\n",
       "    </tr>\n",
       "    <tr>\n",
       "      <th>51</th>\n",
       "      <td>Ivory Coast</td>\n",
       "      <td>2.000</td>\n",
       "      <td>0</td>\n",
       "      <td>0.000</td>\n",
       "      <td>0</td>\n",
       "      <td>0.000</td>\n",
       "      <td>0</td>\n",
       "      <td>0.000</td>\n",
       "      <td>0</td>\n",
       "      <td>nan</td>\n",
       "      <td>nan</td>\n",
       "      <td>nan</td>\n",
       "      <td>nan</td>\n",
       "    </tr>\n",
       "    <tr>\n",
       "      <th>60</th>\n",
       "      <td>Venezuela</td>\n",
       "      <td>3.000</td>\n",
       "      <td>0</td>\n",
       "      <td>1.000</td>\n",
       "      <td>0</td>\n",
       "      <td>1.000</td>\n",
       "      <td>0</td>\n",
       "      <td>2.000</td>\n",
       "      <td>0</td>\n",
       "      <td>nan</td>\n",
       "      <td>nan</td>\n",
       "      <td>nan</td>\n",
       "      <td>nan</td>\n",
       "    </tr>\n",
       "    <tr>\n",
       "      <th>73</th>\n",
       "      <td>Egypt</td>\n",
       "      <td>3.000</td>\n",
       "      <td>0</td>\n",
       "      <td>4.000</td>\n",
       "      <td>0</td>\n",
       "      <td>2.000</td>\n",
       "      <td>0</td>\n",
       "      <td>5.000</td>\n",
       "      <td>0</td>\n",
       "      <td>nan</td>\n",
       "      <td>nan</td>\n",
       "      <td>nan</td>\n",
       "      <td>nan</td>\n",
       "    </tr>\n",
       "    <tr>\n",
       "      <th>94</th>\n",
       "      <td>Hong Kong</td>\n",
       "      <td>0.000</td>\n",
       "      <td>0</td>\n",
       "      <td>1.000</td>\n",
       "      <td>0</td>\n",
       "      <td>0.000</td>\n",
       "      <td>0</td>\n",
       "      <td>1.000</td>\n",
       "      <td>0</td>\n",
       "      <td>nan</td>\n",
       "      <td>nan</td>\n",
       "      <td>nan</td>\n",
       "      <td>nan</td>\n",
       "    </tr>\n",
       "    <tr>\n",
       "      <th>99</th>\n",
       "      <td>Kyrgyzstan</td>\n",
       "      <td>0.000</td>\n",
       "      <td>0</td>\n",
       "      <td>0.000</td>\n",
       "      <td>0</td>\n",
       "      <td>3.000</td>\n",
       "      <td>0</td>\n",
       "      <td>0.000</td>\n",
       "      <td>0</td>\n",
       "      <td>nan</td>\n",
       "      <td>nan</td>\n",
       "      <td>nan</td>\n",
       "      <td>nan</td>\n",
       "    </tr>\n",
       "    <tr>\n",
       "      <th>108</th>\n",
       "      <td>Serbia and Montenegro</td>\n",
       "      <td>0.000</td>\n",
       "      <td>0</td>\n",
       "      <td>0.000</td>\n",
       "      <td>0</td>\n",
       "      <td>0.000</td>\n",
       "      <td>0</td>\n",
       "      <td>2.000</td>\n",
       "      <td>0</td>\n",
       "      <td>nan</td>\n",
       "      <td>nan</td>\n",
       "      <td>nan</td>\n",
       "      <td>nan</td>\n",
       "    </tr>\n",
       "    <tr>\n",
       "      <th>111</th>\n",
       "      <td>Syria</td>\n",
       "      <td>0.000</td>\n",
       "      <td>0</td>\n",
       "      <td>0.000</td>\n",
       "      <td>0</td>\n",
       "      <td>0.000</td>\n",
       "      <td>0</td>\n",
       "      <td>1.000</td>\n",
       "      <td>0</td>\n",
       "      <td>nan</td>\n",
       "      <td>nan</td>\n",
       "      <td>nan</td>\n",
       "      <td>nan</td>\n",
       "    </tr>\n",
       "  </tbody>\n",
       "</table>\n",
       "</div>"
      ],
      "text/plain": [
       "              Country Name  Rio 2016 (G+S+B)  host_country_rio  \\\n",
       "3                   Russia            56.000                 0   \n",
       "7              South Korea            21.000                 0   \n",
       "24                    Iran             8.000                 0   \n",
       "33             North Korea             7.000                 0   \n",
       "36                Slovakia             4.000                 0   \n",
       "49                  Taiwan             3.000                 0   \n",
       "50                 Bahamas             2.000                 0   \n",
       "51             Ivory Coast             2.000                 0   \n",
       "60               Venezuela             3.000                 0   \n",
       "73                   Egypt             3.000                 0   \n",
       "94               Hong Kong             0.000                 0   \n",
       "99              Kyrgyzstan             0.000                 0   \n",
       "108  Serbia and Montenegro             0.000                 0   \n",
       "111                  Syria             0.000                 0   \n",
       "\n",
       "     London 2012 (G+B+S)  host_country_London  Beijing 2008 (G+S+B)  \\\n",
       "3                 68.000                    0                60.000   \n",
       "7                 30.000                    0                32.000   \n",
       "24                13.000                    0                 2.000   \n",
       "33                 7.000                    0                 6.000   \n",
       "36                 4.000                    0                 6.000   \n",
       "49                 2.000                    0                 4.000   \n",
       "50                 1.000                    0                 2.000   \n",
       "51                 0.000                    0                 0.000   \n",
       "60                 1.000                    0                 1.000   \n",
       "73                 4.000                    0                 2.000   \n",
       "94                 1.000                    0                 0.000   \n",
       "99                 0.000                    0                 3.000   \n",
       "108                0.000                    0                 0.000   \n",
       "111                0.000                    0                 0.000   \n",
       "\n",
       "     host_country_beijing  Athens 2004 (G+S+B)  host_country_Athens  \\\n",
       "3                       0               90.000                    0   \n",
       "7                       0               30.000                    0   \n",
       "24                      0                6.000                    0   \n",
       "33                      0                5.000                    0   \n",
       "36                      0                6.000                    0   \n",
       "49                      0                5.000                    0   \n",
       "50                      0                2.000                    0   \n",
       "51                      0                0.000                    0   \n",
       "60                      0                2.000                    0   \n",
       "73                      0                5.000                    0   \n",
       "94                      0                1.000                    0   \n",
       "99                      0                0.000                    0   \n",
       "108                     0                2.000                    0   \n",
       "111                     0                1.000                    0   \n",
       "\n",
       "     Population 2004  Population 2008  Population 2012  Population 2016  \n",
       "3                nan              nan              nan              nan  \n",
       "7                nan              nan              nan              nan  \n",
       "24               nan              nan              nan              nan  \n",
       "33               nan              nan              nan              nan  \n",
       "36               nan              nan              nan              nan  \n",
       "49               nan              nan              nan              nan  \n",
       "50               nan              nan              nan              nan  \n",
       "51               nan              nan              nan              nan  \n",
       "60               nan              nan              nan              nan  \n",
       "73               nan              nan              nan              nan  \n",
       "94               nan              nan              nan              nan  \n",
       "99               nan              nan              nan              nan  \n",
       "108              nan              nan              nan              nan  \n",
       "111              nan              nan              nan              nan  "
      ]
     },
     "execution_count": 63,
     "metadata": {},
     "output_type": "execute_result"
    }
   ],
   "source": [
    "olympics[olympics['Population 2004'].isnull()==True]"
   ]
  },
  {
   "cell_type": "code",
   "execution_count": 64,
   "metadata": {},
   "outputs": [
    {
     "data": {
      "text/html": [
       "<div>\n",
       "<style scoped>\n",
       "    .dataframe tbody tr th:only-of-type {\n",
       "        vertical-align: middle;\n",
       "    }\n",
       "\n",
       "    .dataframe tbody tr th {\n",
       "        vertical-align: top;\n",
       "    }\n",
       "\n",
       "    .dataframe thead th {\n",
       "        text-align: right;\n",
       "    }\n",
       "</style>\n",
       "<table border=\"1\" class=\"dataframe\">\n",
       "  <thead>\n",
       "    <tr style=\"text-align: right;\">\n",
       "      <th></th>\n",
       "      <th>Country Name</th>\n",
       "      <th>Rio 2016 (G+S+B)</th>\n",
       "      <th>host_country_rio</th>\n",
       "      <th>London 2012 (G+B+S)</th>\n",
       "      <th>host_country_London</th>\n",
       "      <th>Beijing 2008 (G+S+B)</th>\n",
       "      <th>host_country_beijing</th>\n",
       "      <th>Athens 2004 (G+S+B)</th>\n",
       "      <th>host_country_Athens</th>\n",
       "      <th>Population 2004</th>\n",
       "      <th>Population 2008</th>\n",
       "      <th>Population 2012</th>\n",
       "      <th>Population 2016</th>\n",
       "    </tr>\n",
       "  </thead>\n",
       "  <tbody>\n",
       "    <tr>\n",
       "      <th>3</th>\n",
       "      <td>Russia</td>\n",
       "      <td>56.000</td>\n",
       "      <td>0</td>\n",
       "      <td>68.000</td>\n",
       "      <td>0</td>\n",
       "      <td>60.000</td>\n",
       "      <td>0</td>\n",
       "      <td>90.000</td>\n",
       "      <td>0</td>\n",
       "      <td>nan</td>\n",
       "      <td>nan</td>\n",
       "      <td>nan</td>\n",
       "      <td>nan</td>\n",
       "    </tr>\n",
       "    <tr>\n",
       "      <th>7</th>\n",
       "      <td>South Korea</td>\n",
       "      <td>21.000</td>\n",
       "      <td>0</td>\n",
       "      <td>30.000</td>\n",
       "      <td>0</td>\n",
       "      <td>32.000</td>\n",
       "      <td>0</td>\n",
       "      <td>30.000</td>\n",
       "      <td>0</td>\n",
       "      <td>nan</td>\n",
       "      <td>nan</td>\n",
       "      <td>nan</td>\n",
       "      <td>nan</td>\n",
       "    </tr>\n",
       "    <tr>\n",
       "      <th>24</th>\n",
       "      <td>Iran</td>\n",
       "      <td>8.000</td>\n",
       "      <td>0</td>\n",
       "      <td>13.000</td>\n",
       "      <td>0</td>\n",
       "      <td>2.000</td>\n",
       "      <td>0</td>\n",
       "      <td>6.000</td>\n",
       "      <td>0</td>\n",
       "      <td>nan</td>\n",
       "      <td>nan</td>\n",
       "      <td>nan</td>\n",
       "      <td>nan</td>\n",
       "    </tr>\n",
       "    <tr>\n",
       "      <th>33</th>\n",
       "      <td>North Korea</td>\n",
       "      <td>7.000</td>\n",
       "      <td>0</td>\n",
       "      <td>7.000</td>\n",
       "      <td>0</td>\n",
       "      <td>6.000</td>\n",
       "      <td>0</td>\n",
       "      <td>5.000</td>\n",
       "      <td>0</td>\n",
       "      <td>nan</td>\n",
       "      <td>nan</td>\n",
       "      <td>nan</td>\n",
       "      <td>nan</td>\n",
       "    </tr>\n",
       "    <tr>\n",
       "      <th>36</th>\n",
       "      <td>Slovakia</td>\n",
       "      <td>4.000</td>\n",
       "      <td>0</td>\n",
       "      <td>4.000</td>\n",
       "      <td>0</td>\n",
       "      <td>6.000</td>\n",
       "      <td>0</td>\n",
       "      <td>6.000</td>\n",
       "      <td>0</td>\n",
       "      <td>nan</td>\n",
       "      <td>nan</td>\n",
       "      <td>nan</td>\n",
       "      <td>nan</td>\n",
       "    </tr>\n",
       "    <tr>\n",
       "      <th>49</th>\n",
       "      <td>Taiwan</td>\n",
       "      <td>3.000</td>\n",
       "      <td>0</td>\n",
       "      <td>2.000</td>\n",
       "      <td>0</td>\n",
       "      <td>4.000</td>\n",
       "      <td>0</td>\n",
       "      <td>5.000</td>\n",
       "      <td>0</td>\n",
       "      <td>nan</td>\n",
       "      <td>nan</td>\n",
       "      <td>nan</td>\n",
       "      <td>nan</td>\n",
       "    </tr>\n",
       "    <tr>\n",
       "      <th>50</th>\n",
       "      <td>Bahamas</td>\n",
       "      <td>2.000</td>\n",
       "      <td>0</td>\n",
       "      <td>1.000</td>\n",
       "      <td>0</td>\n",
       "      <td>2.000</td>\n",
       "      <td>0</td>\n",
       "      <td>2.000</td>\n",
       "      <td>0</td>\n",
       "      <td>nan</td>\n",
       "      <td>nan</td>\n",
       "      <td>nan</td>\n",
       "      <td>nan</td>\n",
       "    </tr>\n",
       "    <tr>\n",
       "      <th>51</th>\n",
       "      <td>Ivory Coast</td>\n",
       "      <td>2.000</td>\n",
       "      <td>0</td>\n",
       "      <td>0.000</td>\n",
       "      <td>0</td>\n",
       "      <td>0.000</td>\n",
       "      <td>0</td>\n",
       "      <td>0.000</td>\n",
       "      <td>0</td>\n",
       "      <td>nan</td>\n",
       "      <td>nan</td>\n",
       "      <td>nan</td>\n",
       "      <td>nan</td>\n",
       "    </tr>\n",
       "    <tr>\n",
       "      <th>60</th>\n",
       "      <td>Venezuela</td>\n",
       "      <td>3.000</td>\n",
       "      <td>0</td>\n",
       "      <td>1.000</td>\n",
       "      <td>0</td>\n",
       "      <td>1.000</td>\n",
       "      <td>0</td>\n",
       "      <td>2.000</td>\n",
       "      <td>0</td>\n",
       "      <td>nan</td>\n",
       "      <td>nan</td>\n",
       "      <td>nan</td>\n",
       "      <td>nan</td>\n",
       "    </tr>\n",
       "    <tr>\n",
       "      <th>73</th>\n",
       "      <td>Egypt</td>\n",
       "      <td>3.000</td>\n",
       "      <td>0</td>\n",
       "      <td>4.000</td>\n",
       "      <td>0</td>\n",
       "      <td>2.000</td>\n",
       "      <td>0</td>\n",
       "      <td>5.000</td>\n",
       "      <td>0</td>\n",
       "      <td>nan</td>\n",
       "      <td>nan</td>\n",
       "      <td>nan</td>\n",
       "      <td>nan</td>\n",
       "    </tr>\n",
       "    <tr>\n",
       "      <th>94</th>\n",
       "      <td>Hong Kong</td>\n",
       "      <td>0.000</td>\n",
       "      <td>0</td>\n",
       "      <td>1.000</td>\n",
       "      <td>0</td>\n",
       "      <td>0.000</td>\n",
       "      <td>0</td>\n",
       "      <td>1.000</td>\n",
       "      <td>0</td>\n",
       "      <td>nan</td>\n",
       "      <td>nan</td>\n",
       "      <td>nan</td>\n",
       "      <td>nan</td>\n",
       "    </tr>\n",
       "    <tr>\n",
       "      <th>99</th>\n",
       "      <td>Kyrgyzstan</td>\n",
       "      <td>0.000</td>\n",
       "      <td>0</td>\n",
       "      <td>0.000</td>\n",
       "      <td>0</td>\n",
       "      <td>3.000</td>\n",
       "      <td>0</td>\n",
       "      <td>0.000</td>\n",
       "      <td>0</td>\n",
       "      <td>nan</td>\n",
       "      <td>nan</td>\n",
       "      <td>nan</td>\n",
       "      <td>nan</td>\n",
       "    </tr>\n",
       "    <tr>\n",
       "      <th>108</th>\n",
       "      <td>Serbia and Montenegro</td>\n",
       "      <td>0.000</td>\n",
       "      <td>0</td>\n",
       "      <td>0.000</td>\n",
       "      <td>0</td>\n",
       "      <td>0.000</td>\n",
       "      <td>0</td>\n",
       "      <td>2.000</td>\n",
       "      <td>0</td>\n",
       "      <td>nan</td>\n",
       "      <td>nan</td>\n",
       "      <td>nan</td>\n",
       "      <td>nan</td>\n",
       "    </tr>\n",
       "    <tr>\n",
       "      <th>111</th>\n",
       "      <td>Syria</td>\n",
       "      <td>0.000</td>\n",
       "      <td>0</td>\n",
       "      <td>0.000</td>\n",
       "      <td>0</td>\n",
       "      <td>0.000</td>\n",
       "      <td>0</td>\n",
       "      <td>1.000</td>\n",
       "      <td>0</td>\n",
       "      <td>nan</td>\n",
       "      <td>nan</td>\n",
       "      <td>nan</td>\n",
       "      <td>nan</td>\n",
       "    </tr>\n",
       "  </tbody>\n",
       "</table>\n",
       "</div>"
      ],
      "text/plain": [
       "              Country Name  Rio 2016 (G+S+B)  host_country_rio  \\\n",
       "3                   Russia            56.000                 0   \n",
       "7              South Korea            21.000                 0   \n",
       "24                    Iran             8.000                 0   \n",
       "33             North Korea             7.000                 0   \n",
       "36                Slovakia             4.000                 0   \n",
       "49                  Taiwan             3.000                 0   \n",
       "50                 Bahamas             2.000                 0   \n",
       "51             Ivory Coast             2.000                 0   \n",
       "60               Venezuela             3.000                 0   \n",
       "73                   Egypt             3.000                 0   \n",
       "94               Hong Kong             0.000                 0   \n",
       "99              Kyrgyzstan             0.000                 0   \n",
       "108  Serbia and Montenegro             0.000                 0   \n",
       "111                  Syria             0.000                 0   \n",
       "\n",
       "     London 2012 (G+B+S)  host_country_London  Beijing 2008 (G+S+B)  \\\n",
       "3                 68.000                    0                60.000   \n",
       "7                 30.000                    0                32.000   \n",
       "24                13.000                    0                 2.000   \n",
       "33                 7.000                    0                 6.000   \n",
       "36                 4.000                    0                 6.000   \n",
       "49                 2.000                    0                 4.000   \n",
       "50                 1.000                    0                 2.000   \n",
       "51                 0.000                    0                 0.000   \n",
       "60                 1.000                    0                 1.000   \n",
       "73                 4.000                    0                 2.000   \n",
       "94                 1.000                    0                 0.000   \n",
       "99                 0.000                    0                 3.000   \n",
       "108                0.000                    0                 0.000   \n",
       "111                0.000                    0                 0.000   \n",
       "\n",
       "     host_country_beijing  Athens 2004 (G+S+B)  host_country_Athens  \\\n",
       "3                       0               90.000                    0   \n",
       "7                       0               30.000                    0   \n",
       "24                      0                6.000                    0   \n",
       "33                      0                5.000                    0   \n",
       "36                      0                6.000                    0   \n",
       "49                      0                5.000                    0   \n",
       "50                      0                2.000                    0   \n",
       "51                      0                0.000                    0   \n",
       "60                      0                2.000                    0   \n",
       "73                      0                5.000                    0   \n",
       "94                      0                1.000                    0   \n",
       "99                      0                0.000                    0   \n",
       "108                     0                2.000                    0   \n",
       "111                     0                1.000                    0   \n",
       "\n",
       "     Population 2004  Population 2008  Population 2012  Population 2016  \n",
       "3                nan              nan              nan              nan  \n",
       "7                nan              nan              nan              nan  \n",
       "24               nan              nan              nan              nan  \n",
       "33               nan              nan              nan              nan  \n",
       "36               nan              nan              nan              nan  \n",
       "49               nan              nan              nan              nan  \n",
       "50               nan              nan              nan              nan  \n",
       "51               nan              nan              nan              nan  \n",
       "60               nan              nan              nan              nan  \n",
       "73               nan              nan              nan              nan  \n",
       "94               nan              nan              nan              nan  \n",
       "99               nan              nan              nan              nan  \n",
       "108              nan              nan              nan              nan  \n",
       "111              nan              nan              nan              nan  "
      ]
     },
     "execution_count": 64,
     "metadata": {},
     "output_type": "execute_result"
    }
   ],
   "source": [
    "olympics[olympics['Population 2008'].isnull()==True]"
   ]
  },
  {
   "cell_type": "code",
   "execution_count": 65,
   "metadata": {},
   "outputs": [
    {
     "data": {
      "text/html": [
       "<div>\n",
       "<style scoped>\n",
       "    .dataframe tbody tr th:only-of-type {\n",
       "        vertical-align: middle;\n",
       "    }\n",
       "\n",
       "    .dataframe tbody tr th {\n",
       "        vertical-align: top;\n",
       "    }\n",
       "\n",
       "    .dataframe thead th {\n",
       "        text-align: right;\n",
       "    }\n",
       "</style>\n",
       "<table border=\"1\" class=\"dataframe\">\n",
       "  <thead>\n",
       "    <tr style=\"text-align: right;\">\n",
       "      <th></th>\n",
       "      <th>Country Name</th>\n",
       "      <th>Rio 2016 (G+S+B)</th>\n",
       "      <th>host_country_rio</th>\n",
       "      <th>London 2012 (G+B+S)</th>\n",
       "      <th>host_country_London</th>\n",
       "      <th>Beijing 2008 (G+S+B)</th>\n",
       "      <th>host_country_beijing</th>\n",
       "      <th>Athens 2004 (G+S+B)</th>\n",
       "      <th>host_country_Athens</th>\n",
       "      <th>Population 2004</th>\n",
       "      <th>Population 2008</th>\n",
       "      <th>Population 2012</th>\n",
       "      <th>Population 2016</th>\n",
       "    </tr>\n",
       "  </thead>\n",
       "  <tbody>\n",
       "    <tr>\n",
       "      <th>3</th>\n",
       "      <td>Russia</td>\n",
       "      <td>56.000</td>\n",
       "      <td>0</td>\n",
       "      <td>68.000</td>\n",
       "      <td>0</td>\n",
       "      <td>60.000</td>\n",
       "      <td>0</td>\n",
       "      <td>90.000</td>\n",
       "      <td>0</td>\n",
       "      <td>nan</td>\n",
       "      <td>nan</td>\n",
       "      <td>nan</td>\n",
       "      <td>nan</td>\n",
       "    </tr>\n",
       "    <tr>\n",
       "      <th>7</th>\n",
       "      <td>South Korea</td>\n",
       "      <td>21.000</td>\n",
       "      <td>0</td>\n",
       "      <td>30.000</td>\n",
       "      <td>0</td>\n",
       "      <td>32.000</td>\n",
       "      <td>0</td>\n",
       "      <td>30.000</td>\n",
       "      <td>0</td>\n",
       "      <td>nan</td>\n",
       "      <td>nan</td>\n",
       "      <td>nan</td>\n",
       "      <td>nan</td>\n",
       "    </tr>\n",
       "    <tr>\n",
       "      <th>24</th>\n",
       "      <td>Iran</td>\n",
       "      <td>8.000</td>\n",
       "      <td>0</td>\n",
       "      <td>13.000</td>\n",
       "      <td>0</td>\n",
       "      <td>2.000</td>\n",
       "      <td>0</td>\n",
       "      <td>6.000</td>\n",
       "      <td>0</td>\n",
       "      <td>nan</td>\n",
       "      <td>nan</td>\n",
       "      <td>nan</td>\n",
       "      <td>nan</td>\n",
       "    </tr>\n",
       "    <tr>\n",
       "      <th>33</th>\n",
       "      <td>North Korea</td>\n",
       "      <td>7.000</td>\n",
       "      <td>0</td>\n",
       "      <td>7.000</td>\n",
       "      <td>0</td>\n",
       "      <td>6.000</td>\n",
       "      <td>0</td>\n",
       "      <td>5.000</td>\n",
       "      <td>0</td>\n",
       "      <td>nan</td>\n",
       "      <td>nan</td>\n",
       "      <td>nan</td>\n",
       "      <td>nan</td>\n",
       "    </tr>\n",
       "    <tr>\n",
       "      <th>36</th>\n",
       "      <td>Slovakia</td>\n",
       "      <td>4.000</td>\n",
       "      <td>0</td>\n",
       "      <td>4.000</td>\n",
       "      <td>0</td>\n",
       "      <td>6.000</td>\n",
       "      <td>0</td>\n",
       "      <td>6.000</td>\n",
       "      <td>0</td>\n",
       "      <td>nan</td>\n",
       "      <td>nan</td>\n",
       "      <td>nan</td>\n",
       "      <td>nan</td>\n",
       "    </tr>\n",
       "    <tr>\n",
       "      <th>49</th>\n",
       "      <td>Taiwan</td>\n",
       "      <td>3.000</td>\n",
       "      <td>0</td>\n",
       "      <td>2.000</td>\n",
       "      <td>0</td>\n",
       "      <td>4.000</td>\n",
       "      <td>0</td>\n",
       "      <td>5.000</td>\n",
       "      <td>0</td>\n",
       "      <td>nan</td>\n",
       "      <td>nan</td>\n",
       "      <td>nan</td>\n",
       "      <td>nan</td>\n",
       "    </tr>\n",
       "    <tr>\n",
       "      <th>50</th>\n",
       "      <td>Bahamas</td>\n",
       "      <td>2.000</td>\n",
       "      <td>0</td>\n",
       "      <td>1.000</td>\n",
       "      <td>0</td>\n",
       "      <td>2.000</td>\n",
       "      <td>0</td>\n",
       "      <td>2.000</td>\n",
       "      <td>0</td>\n",
       "      <td>nan</td>\n",
       "      <td>nan</td>\n",
       "      <td>nan</td>\n",
       "      <td>nan</td>\n",
       "    </tr>\n",
       "    <tr>\n",
       "      <th>51</th>\n",
       "      <td>Ivory Coast</td>\n",
       "      <td>2.000</td>\n",
       "      <td>0</td>\n",
       "      <td>0.000</td>\n",
       "      <td>0</td>\n",
       "      <td>0.000</td>\n",
       "      <td>0</td>\n",
       "      <td>0.000</td>\n",
       "      <td>0</td>\n",
       "      <td>nan</td>\n",
       "      <td>nan</td>\n",
       "      <td>nan</td>\n",
       "      <td>nan</td>\n",
       "    </tr>\n",
       "    <tr>\n",
       "      <th>60</th>\n",
       "      <td>Venezuela</td>\n",
       "      <td>3.000</td>\n",
       "      <td>0</td>\n",
       "      <td>1.000</td>\n",
       "      <td>0</td>\n",
       "      <td>1.000</td>\n",
       "      <td>0</td>\n",
       "      <td>2.000</td>\n",
       "      <td>0</td>\n",
       "      <td>nan</td>\n",
       "      <td>nan</td>\n",
       "      <td>nan</td>\n",
       "      <td>nan</td>\n",
       "    </tr>\n",
       "    <tr>\n",
       "      <th>73</th>\n",
       "      <td>Egypt</td>\n",
       "      <td>3.000</td>\n",
       "      <td>0</td>\n",
       "      <td>4.000</td>\n",
       "      <td>0</td>\n",
       "      <td>2.000</td>\n",
       "      <td>0</td>\n",
       "      <td>5.000</td>\n",
       "      <td>0</td>\n",
       "      <td>nan</td>\n",
       "      <td>nan</td>\n",
       "      <td>nan</td>\n",
       "      <td>nan</td>\n",
       "    </tr>\n",
       "    <tr>\n",
       "      <th>94</th>\n",
       "      <td>Hong Kong</td>\n",
       "      <td>0.000</td>\n",
       "      <td>0</td>\n",
       "      <td>1.000</td>\n",
       "      <td>0</td>\n",
       "      <td>0.000</td>\n",
       "      <td>0</td>\n",
       "      <td>1.000</td>\n",
       "      <td>0</td>\n",
       "      <td>nan</td>\n",
       "      <td>nan</td>\n",
       "      <td>nan</td>\n",
       "      <td>nan</td>\n",
       "    </tr>\n",
       "    <tr>\n",
       "      <th>99</th>\n",
       "      <td>Kyrgyzstan</td>\n",
       "      <td>0.000</td>\n",
       "      <td>0</td>\n",
       "      <td>0.000</td>\n",
       "      <td>0</td>\n",
       "      <td>3.000</td>\n",
       "      <td>0</td>\n",
       "      <td>0.000</td>\n",
       "      <td>0</td>\n",
       "      <td>nan</td>\n",
       "      <td>nan</td>\n",
       "      <td>nan</td>\n",
       "      <td>nan</td>\n",
       "    </tr>\n",
       "    <tr>\n",
       "      <th>108</th>\n",
       "      <td>Serbia and Montenegro</td>\n",
       "      <td>0.000</td>\n",
       "      <td>0</td>\n",
       "      <td>0.000</td>\n",
       "      <td>0</td>\n",
       "      <td>0.000</td>\n",
       "      <td>0</td>\n",
       "      <td>2.000</td>\n",
       "      <td>0</td>\n",
       "      <td>nan</td>\n",
       "      <td>nan</td>\n",
       "      <td>nan</td>\n",
       "      <td>nan</td>\n",
       "    </tr>\n",
       "    <tr>\n",
       "      <th>111</th>\n",
       "      <td>Syria</td>\n",
       "      <td>0.000</td>\n",
       "      <td>0</td>\n",
       "      <td>0.000</td>\n",
       "      <td>0</td>\n",
       "      <td>0.000</td>\n",
       "      <td>0</td>\n",
       "      <td>1.000</td>\n",
       "      <td>0</td>\n",
       "      <td>nan</td>\n",
       "      <td>nan</td>\n",
       "      <td>nan</td>\n",
       "      <td>nan</td>\n",
       "    </tr>\n",
       "  </tbody>\n",
       "</table>\n",
       "</div>"
      ],
      "text/plain": [
       "              Country Name  Rio 2016 (G+S+B)  host_country_rio  \\\n",
       "3                   Russia            56.000                 0   \n",
       "7              South Korea            21.000                 0   \n",
       "24                    Iran             8.000                 0   \n",
       "33             North Korea             7.000                 0   \n",
       "36                Slovakia             4.000                 0   \n",
       "49                  Taiwan             3.000                 0   \n",
       "50                 Bahamas             2.000                 0   \n",
       "51             Ivory Coast             2.000                 0   \n",
       "60               Venezuela             3.000                 0   \n",
       "73                   Egypt             3.000                 0   \n",
       "94               Hong Kong             0.000                 0   \n",
       "99              Kyrgyzstan             0.000                 0   \n",
       "108  Serbia and Montenegro             0.000                 0   \n",
       "111                  Syria             0.000                 0   \n",
       "\n",
       "     London 2012 (G+B+S)  host_country_London  Beijing 2008 (G+S+B)  \\\n",
       "3                 68.000                    0                60.000   \n",
       "7                 30.000                    0                32.000   \n",
       "24                13.000                    0                 2.000   \n",
       "33                 7.000                    0                 6.000   \n",
       "36                 4.000                    0                 6.000   \n",
       "49                 2.000                    0                 4.000   \n",
       "50                 1.000                    0                 2.000   \n",
       "51                 0.000                    0                 0.000   \n",
       "60                 1.000                    0                 1.000   \n",
       "73                 4.000                    0                 2.000   \n",
       "94                 1.000                    0                 0.000   \n",
       "99                 0.000                    0                 3.000   \n",
       "108                0.000                    0                 0.000   \n",
       "111                0.000                    0                 0.000   \n",
       "\n",
       "     host_country_beijing  Athens 2004 (G+S+B)  host_country_Athens  \\\n",
       "3                       0               90.000                    0   \n",
       "7                       0               30.000                    0   \n",
       "24                      0                6.000                    0   \n",
       "33                      0                5.000                    0   \n",
       "36                      0                6.000                    0   \n",
       "49                      0                5.000                    0   \n",
       "50                      0                2.000                    0   \n",
       "51                      0                0.000                    0   \n",
       "60                      0                2.000                    0   \n",
       "73                      0                5.000                    0   \n",
       "94                      0                1.000                    0   \n",
       "99                      0                0.000                    0   \n",
       "108                     0                2.000                    0   \n",
       "111                     0                1.000                    0   \n",
       "\n",
       "     Population 2004  Population 2008  Population 2012  Population 2016  \n",
       "3                nan              nan              nan              nan  \n",
       "7                nan              nan              nan              nan  \n",
       "24               nan              nan              nan              nan  \n",
       "33               nan              nan              nan              nan  \n",
       "36               nan              nan              nan              nan  \n",
       "49               nan              nan              nan              nan  \n",
       "50               nan              nan              nan              nan  \n",
       "51               nan              nan              nan              nan  \n",
       "60               nan              nan              nan              nan  \n",
       "73               nan              nan              nan              nan  \n",
       "94               nan              nan              nan              nan  \n",
       "99               nan              nan              nan              nan  \n",
       "108              nan              nan              nan              nan  \n",
       "111              nan              nan              nan              nan  "
      ]
     },
     "execution_count": 65,
     "metadata": {},
     "output_type": "execute_result"
    }
   ],
   "source": [
    "olympics[olympics['Population 2012'].isnull()==True]"
   ]
  },
  {
   "cell_type": "code",
   "execution_count": 66,
   "metadata": {},
   "outputs": [
    {
     "data": {
      "text/html": [
       "<div>\n",
       "<style scoped>\n",
       "    .dataframe tbody tr th:only-of-type {\n",
       "        vertical-align: middle;\n",
       "    }\n",
       "\n",
       "    .dataframe tbody tr th {\n",
       "        vertical-align: top;\n",
       "    }\n",
       "\n",
       "    .dataframe thead th {\n",
       "        text-align: right;\n",
       "    }\n",
       "</style>\n",
       "<table border=\"1\" class=\"dataframe\">\n",
       "  <thead>\n",
       "    <tr style=\"text-align: right;\">\n",
       "      <th></th>\n",
       "      <th>Country Name</th>\n",
       "      <th>Rio 2016 (G+S+B)</th>\n",
       "      <th>host_country_rio</th>\n",
       "      <th>London 2012 (G+B+S)</th>\n",
       "      <th>host_country_London</th>\n",
       "      <th>Beijing 2008 (G+S+B)</th>\n",
       "      <th>host_country_beijing</th>\n",
       "      <th>Athens 2004 (G+S+B)</th>\n",
       "      <th>host_country_Athens</th>\n",
       "      <th>Population 2004</th>\n",
       "      <th>Population 2008</th>\n",
       "      <th>Population 2012</th>\n",
       "      <th>Population 2016</th>\n",
       "    </tr>\n",
       "  </thead>\n",
       "  <tbody>\n",
       "    <tr>\n",
       "      <th>3</th>\n",
       "      <td>Russia</td>\n",
       "      <td>56.000</td>\n",
       "      <td>0</td>\n",
       "      <td>68.000</td>\n",
       "      <td>0</td>\n",
       "      <td>60.000</td>\n",
       "      <td>0</td>\n",
       "      <td>90.000</td>\n",
       "      <td>0</td>\n",
       "      <td>nan</td>\n",
       "      <td>nan</td>\n",
       "      <td>nan</td>\n",
       "      <td>nan</td>\n",
       "    </tr>\n",
       "    <tr>\n",
       "      <th>7</th>\n",
       "      <td>South Korea</td>\n",
       "      <td>21.000</td>\n",
       "      <td>0</td>\n",
       "      <td>30.000</td>\n",
       "      <td>0</td>\n",
       "      <td>32.000</td>\n",
       "      <td>0</td>\n",
       "      <td>30.000</td>\n",
       "      <td>0</td>\n",
       "      <td>nan</td>\n",
       "      <td>nan</td>\n",
       "      <td>nan</td>\n",
       "      <td>nan</td>\n",
       "    </tr>\n",
       "    <tr>\n",
       "      <th>24</th>\n",
       "      <td>Iran</td>\n",
       "      <td>8.000</td>\n",
       "      <td>0</td>\n",
       "      <td>13.000</td>\n",
       "      <td>0</td>\n",
       "      <td>2.000</td>\n",
       "      <td>0</td>\n",
       "      <td>6.000</td>\n",
       "      <td>0</td>\n",
       "      <td>nan</td>\n",
       "      <td>nan</td>\n",
       "      <td>nan</td>\n",
       "      <td>nan</td>\n",
       "    </tr>\n",
       "    <tr>\n",
       "      <th>33</th>\n",
       "      <td>North Korea</td>\n",
       "      <td>7.000</td>\n",
       "      <td>0</td>\n",
       "      <td>7.000</td>\n",
       "      <td>0</td>\n",
       "      <td>6.000</td>\n",
       "      <td>0</td>\n",
       "      <td>5.000</td>\n",
       "      <td>0</td>\n",
       "      <td>nan</td>\n",
       "      <td>nan</td>\n",
       "      <td>nan</td>\n",
       "      <td>nan</td>\n",
       "    </tr>\n",
       "    <tr>\n",
       "      <th>36</th>\n",
       "      <td>Slovakia</td>\n",
       "      <td>4.000</td>\n",
       "      <td>0</td>\n",
       "      <td>4.000</td>\n",
       "      <td>0</td>\n",
       "      <td>6.000</td>\n",
       "      <td>0</td>\n",
       "      <td>6.000</td>\n",
       "      <td>0</td>\n",
       "      <td>nan</td>\n",
       "      <td>nan</td>\n",
       "      <td>nan</td>\n",
       "      <td>nan</td>\n",
       "    </tr>\n",
       "    <tr>\n",
       "      <th>49</th>\n",
       "      <td>Taiwan</td>\n",
       "      <td>3.000</td>\n",
       "      <td>0</td>\n",
       "      <td>2.000</td>\n",
       "      <td>0</td>\n",
       "      <td>4.000</td>\n",
       "      <td>0</td>\n",
       "      <td>5.000</td>\n",
       "      <td>0</td>\n",
       "      <td>nan</td>\n",
       "      <td>nan</td>\n",
       "      <td>nan</td>\n",
       "      <td>nan</td>\n",
       "    </tr>\n",
       "    <tr>\n",
       "      <th>50</th>\n",
       "      <td>Bahamas</td>\n",
       "      <td>2.000</td>\n",
       "      <td>0</td>\n",
       "      <td>1.000</td>\n",
       "      <td>0</td>\n",
       "      <td>2.000</td>\n",
       "      <td>0</td>\n",
       "      <td>2.000</td>\n",
       "      <td>0</td>\n",
       "      <td>nan</td>\n",
       "      <td>nan</td>\n",
       "      <td>nan</td>\n",
       "      <td>nan</td>\n",
       "    </tr>\n",
       "    <tr>\n",
       "      <th>51</th>\n",
       "      <td>Ivory Coast</td>\n",
       "      <td>2.000</td>\n",
       "      <td>0</td>\n",
       "      <td>0.000</td>\n",
       "      <td>0</td>\n",
       "      <td>0.000</td>\n",
       "      <td>0</td>\n",
       "      <td>0.000</td>\n",
       "      <td>0</td>\n",
       "      <td>nan</td>\n",
       "      <td>nan</td>\n",
       "      <td>nan</td>\n",
       "      <td>nan</td>\n",
       "    </tr>\n",
       "    <tr>\n",
       "      <th>60</th>\n",
       "      <td>Venezuela</td>\n",
       "      <td>3.000</td>\n",
       "      <td>0</td>\n",
       "      <td>1.000</td>\n",
       "      <td>0</td>\n",
       "      <td>1.000</td>\n",
       "      <td>0</td>\n",
       "      <td>2.000</td>\n",
       "      <td>0</td>\n",
       "      <td>nan</td>\n",
       "      <td>nan</td>\n",
       "      <td>nan</td>\n",
       "      <td>nan</td>\n",
       "    </tr>\n",
       "    <tr>\n",
       "      <th>73</th>\n",
       "      <td>Egypt</td>\n",
       "      <td>3.000</td>\n",
       "      <td>0</td>\n",
       "      <td>4.000</td>\n",
       "      <td>0</td>\n",
       "      <td>2.000</td>\n",
       "      <td>0</td>\n",
       "      <td>5.000</td>\n",
       "      <td>0</td>\n",
       "      <td>nan</td>\n",
       "      <td>nan</td>\n",
       "      <td>nan</td>\n",
       "      <td>nan</td>\n",
       "    </tr>\n",
       "    <tr>\n",
       "      <th>94</th>\n",
       "      <td>Hong Kong</td>\n",
       "      <td>0.000</td>\n",
       "      <td>0</td>\n",
       "      <td>1.000</td>\n",
       "      <td>0</td>\n",
       "      <td>0.000</td>\n",
       "      <td>0</td>\n",
       "      <td>1.000</td>\n",
       "      <td>0</td>\n",
       "      <td>nan</td>\n",
       "      <td>nan</td>\n",
       "      <td>nan</td>\n",
       "      <td>nan</td>\n",
       "    </tr>\n",
       "    <tr>\n",
       "      <th>99</th>\n",
       "      <td>Kyrgyzstan</td>\n",
       "      <td>0.000</td>\n",
       "      <td>0</td>\n",
       "      <td>0.000</td>\n",
       "      <td>0</td>\n",
       "      <td>3.000</td>\n",
       "      <td>0</td>\n",
       "      <td>0.000</td>\n",
       "      <td>0</td>\n",
       "      <td>nan</td>\n",
       "      <td>nan</td>\n",
       "      <td>nan</td>\n",
       "      <td>nan</td>\n",
       "    </tr>\n",
       "    <tr>\n",
       "      <th>108</th>\n",
       "      <td>Serbia and Montenegro</td>\n",
       "      <td>0.000</td>\n",
       "      <td>0</td>\n",
       "      <td>0.000</td>\n",
       "      <td>0</td>\n",
       "      <td>0.000</td>\n",
       "      <td>0</td>\n",
       "      <td>2.000</td>\n",
       "      <td>0</td>\n",
       "      <td>nan</td>\n",
       "      <td>nan</td>\n",
       "      <td>nan</td>\n",
       "      <td>nan</td>\n",
       "    </tr>\n",
       "    <tr>\n",
       "      <th>111</th>\n",
       "      <td>Syria</td>\n",
       "      <td>0.000</td>\n",
       "      <td>0</td>\n",
       "      <td>0.000</td>\n",
       "      <td>0</td>\n",
       "      <td>0.000</td>\n",
       "      <td>0</td>\n",
       "      <td>1.000</td>\n",
       "      <td>0</td>\n",
       "      <td>nan</td>\n",
       "      <td>nan</td>\n",
       "      <td>nan</td>\n",
       "      <td>nan</td>\n",
       "    </tr>\n",
       "  </tbody>\n",
       "</table>\n",
       "</div>"
      ],
      "text/plain": [
       "              Country Name  Rio 2016 (G+S+B)  host_country_rio  \\\n",
       "3                   Russia            56.000                 0   \n",
       "7              South Korea            21.000                 0   \n",
       "24                    Iran             8.000                 0   \n",
       "33             North Korea             7.000                 0   \n",
       "36                Slovakia             4.000                 0   \n",
       "49                  Taiwan             3.000                 0   \n",
       "50                 Bahamas             2.000                 0   \n",
       "51             Ivory Coast             2.000                 0   \n",
       "60               Venezuela             3.000                 0   \n",
       "73                   Egypt             3.000                 0   \n",
       "94               Hong Kong             0.000                 0   \n",
       "99              Kyrgyzstan             0.000                 0   \n",
       "108  Serbia and Montenegro             0.000                 0   \n",
       "111                  Syria             0.000                 0   \n",
       "\n",
       "     London 2012 (G+B+S)  host_country_London  Beijing 2008 (G+S+B)  \\\n",
       "3                 68.000                    0                60.000   \n",
       "7                 30.000                    0                32.000   \n",
       "24                13.000                    0                 2.000   \n",
       "33                 7.000                    0                 6.000   \n",
       "36                 4.000                    0                 6.000   \n",
       "49                 2.000                    0                 4.000   \n",
       "50                 1.000                    0                 2.000   \n",
       "51                 0.000                    0                 0.000   \n",
       "60                 1.000                    0                 1.000   \n",
       "73                 4.000                    0                 2.000   \n",
       "94                 1.000                    0                 0.000   \n",
       "99                 0.000                    0                 3.000   \n",
       "108                0.000                    0                 0.000   \n",
       "111                0.000                    0                 0.000   \n",
       "\n",
       "     host_country_beijing  Athens 2004 (G+S+B)  host_country_Athens  \\\n",
       "3                       0               90.000                    0   \n",
       "7                       0               30.000                    0   \n",
       "24                      0                6.000                    0   \n",
       "33                      0                5.000                    0   \n",
       "36                      0                6.000                    0   \n",
       "49                      0                5.000                    0   \n",
       "50                      0                2.000                    0   \n",
       "51                      0                0.000                    0   \n",
       "60                      0                2.000                    0   \n",
       "73                      0                5.000                    0   \n",
       "94                      0                1.000                    0   \n",
       "99                      0                0.000                    0   \n",
       "108                     0                2.000                    0   \n",
       "111                     0                1.000                    0   \n",
       "\n",
       "     Population 2004  Population 2008  Population 2012  Population 2016  \n",
       "3                nan              nan              nan              nan  \n",
       "7                nan              nan              nan              nan  \n",
       "24               nan              nan              nan              nan  \n",
       "33               nan              nan              nan              nan  \n",
       "36               nan              nan              nan              nan  \n",
       "49               nan              nan              nan              nan  \n",
       "50               nan              nan              nan              nan  \n",
       "51               nan              nan              nan              nan  \n",
       "60               nan              nan              nan              nan  \n",
       "73               nan              nan              nan              nan  \n",
       "94               nan              nan              nan              nan  \n",
       "99               nan              nan              nan              nan  \n",
       "108              nan              nan              nan              nan  \n",
       "111              nan              nan              nan              nan  "
      ]
     },
     "execution_count": 66,
     "metadata": {},
     "output_type": "execute_result"
    }
   ],
   "source": [
    "olympics[olympics['Population 2016'].isnull()==True]"
   ]
  },
  {
   "cell_type": "code",
   "execution_count": 67,
   "metadata": {},
   "outputs": [
    {
     "data": {
      "text/html": [
       "<div>\n",
       "<style scoped>\n",
       "    .dataframe tbody tr th:only-of-type {\n",
       "        vertical-align: middle;\n",
       "    }\n",
       "\n",
       "    .dataframe tbody tr th {\n",
       "        vertical-align: top;\n",
       "    }\n",
       "\n",
       "    .dataframe thead th {\n",
       "        text-align: right;\n",
       "    }\n",
       "</style>\n",
       "<table border=\"1\" class=\"dataframe\">\n",
       "  <thead>\n",
       "    <tr style=\"text-align: right;\">\n",
       "      <th></th>\n",
       "      <th>Population 2016</th>\n",
       "      <th>Population 2004</th>\n",
       "      <th>Population 2008</th>\n",
       "      <th>Population 2012</th>\n",
       "    </tr>\n",
       "  </thead>\n",
       "  <tbody>\n",
       "    <tr>\n",
       "      <th>count</th>\n",
       "      <td>98.000</td>\n",
       "      <td>98.000</td>\n",
       "      <td>98.000</td>\n",
       "      <td>98.000</td>\n",
       "    </tr>\n",
       "    <tr>\n",
       "      <th>mean</th>\n",
       "      <td>59066929.418</td>\n",
       "      <td>51960302.122</td>\n",
       "      <td>54345037.490</td>\n",
       "      <td>56690708.327</td>\n",
       "    </tr>\n",
       "    <tr>\n",
       "      <th>std</th>\n",
       "      <td>194986921.908</td>\n",
       "      <td>175160089.996</td>\n",
       "      <td>182182722.132</td>\n",
       "      <td>188694019.472</td>\n",
       "    </tr>\n",
       "    <tr>\n",
       "      <th>min</th>\n",
       "      <td>110263.000</td>\n",
       "      <td>104346.000</td>\n",
       "      <td>105457.000</td>\n",
       "      <td>107452.000</td>\n",
       "    </tr>\n",
       "    <tr>\n",
       "      <th>25%</th>\n",
       "      <td>3976914.750</td>\n",
       "      <td>3851993.500</td>\n",
       "      <td>3782761.750</td>\n",
       "      <td>3739314.250</td>\n",
       "    </tr>\n",
       "    <tr>\n",
       "      <th>50%</th>\n",
       "      <td>10442870.000</td>\n",
       "      <td>10064712.000</td>\n",
       "      <td>10211395.500</td>\n",
       "      <td>10220850.500</td>\n",
       "    </tr>\n",
       "    <tr>\n",
       "      <th>75%</th>\n",
       "      <td>39797868.000</td>\n",
       "      <td>32504278.500</td>\n",
       "      <td>34359732.500</td>\n",
       "      <td>37086369.500</td>\n",
       "    </tr>\n",
       "    <tr>\n",
       "      <th>max</th>\n",
       "      <td>1378665000.000</td>\n",
       "      <td>1296075000.000</td>\n",
       "      <td>1324655000.000</td>\n",
       "      <td>1350695000.000</td>\n",
       "    </tr>\n",
       "  </tbody>\n",
       "</table>\n",
       "</div>"
      ],
      "text/plain": [
       "       Population 2016  Population 2004  Population 2008  Population 2012\n",
       "count           98.000           98.000           98.000           98.000\n",
       "mean      59066929.418     51960302.122     54345037.490     56690708.327\n",
       "std      194986921.908    175160089.996    182182722.132    188694019.472\n",
       "min         110263.000       104346.000       105457.000       107452.000\n",
       "25%        3976914.750      3851993.500      3782761.750      3739314.250\n",
       "50%       10442870.000     10064712.000     10211395.500     10220850.500\n",
       "75%       39797868.000     32504278.500     34359732.500     37086369.500\n",
       "max     1378665000.000   1296075000.000   1324655000.000   1350695000.000"
      ]
     },
     "execution_count": 67,
     "metadata": {},
     "output_type": "execute_result"
    }
   ],
   "source": [
    "olympics[['Population 2016','Population 2004','Population 2008','Population 2012']].describe()"
   ]
  },
  {
   "cell_type": "code",
   "execution_count": 68,
   "metadata": {},
   "outputs": [],
   "source": [
    "olympics.fillna(0,inplace=True)\n",
    "olympics['Population 2004'].replace(0,olympics['Population 2004'].median(),inplace=True)\n",
    "olympics['Population 2008'].replace(0,olympics['Population 2008'].median(),inplace=True)\n",
    "olympics['Population 2012'].replace(0,olympics['Population 2012'].median(),inplace=True)\n",
    "olympics['Population 2016'].replace(0,olympics['Population 2016'].median(),inplace=True)"
   ]
  },
  {
   "cell_type": "markdown",
   "metadata": {},
   "source": [
    "### Total medals\n",
    "\n",
    "_Creating a column that is sum of all the medals won by the countries in all the 4 Olympics_"
   ]
  },
  {
   "cell_type": "code",
   "execution_count": 69,
   "metadata": {},
   "outputs": [],
   "source": [
    "olympics['Total Medals (G+S+B)'] = olympics['Rio 2016 (G+S+B)']+olympics['London 2012 (G+B+S)']+olympics['Beijing 2008 (G+S+B)']+olympics['Athens 2004 (G+S+B)']"
   ]
  },
  {
   "cell_type": "code",
   "execution_count": 70,
   "metadata": {},
   "outputs": [
    {
     "data": {
      "text/plain": [
       "Country Name            0\n",
       "Rio 2016 (G+S+B)        0\n",
       "host_country_rio        0\n",
       "London 2012 (G+B+S)     0\n",
       "host_country_London     0\n",
       "Beijing 2008 (G+S+B)    0\n",
       "host_country_beijing    0\n",
       "Athens 2004 (G+S+B)     0\n",
       "host_country_Athens     0\n",
       "Population 2004         0\n",
       "Population 2008         0\n",
       "Population 2012         0\n",
       "Population 2016         0\n",
       "Total Medals (G+S+B)    0\n",
       "dtype: int64"
      ]
     },
     "execution_count": 70,
     "metadata": {},
     "output_type": "execute_result"
    }
   ],
   "source": [
    "olympics.isnull().sum()"
   ]
  },
  {
   "cell_type": "code",
   "execution_count": 71,
   "metadata": {},
   "outputs": [
    {
     "data": {
      "text/html": [
       "<div>\n",
       "<style scoped>\n",
       "    .dataframe tbody tr th:only-of-type {\n",
       "        vertical-align: middle;\n",
       "    }\n",
       "\n",
       "    .dataframe tbody tr th {\n",
       "        vertical-align: top;\n",
       "    }\n",
       "\n",
       "    .dataframe thead th {\n",
       "        text-align: right;\n",
       "    }\n",
       "</style>\n",
       "<table border=\"1\" class=\"dataframe\">\n",
       "  <thead>\n",
       "    <tr style=\"text-align: right;\">\n",
       "      <th></th>\n",
       "      <th>Country Name</th>\n",
       "      <th>Rio 2016 (G+S+B)</th>\n",
       "      <th>host_country_rio</th>\n",
       "      <th>London 2012 (G+B+S)</th>\n",
       "      <th>host_country_London</th>\n",
       "      <th>Beijing 2008 (G+S+B)</th>\n",
       "      <th>host_country_beijing</th>\n",
       "      <th>Athens 2004 (G+S+B)</th>\n",
       "      <th>host_country_Athens</th>\n",
       "      <th>Population 2004</th>\n",
       "      <th>Population 2008</th>\n",
       "      <th>Population 2012</th>\n",
       "      <th>Population 2016</th>\n",
       "      <th>Total Medals (G+S+B)</th>\n",
       "    </tr>\n",
       "  </thead>\n",
       "  <tbody>\n",
       "    <tr>\n",
       "      <th>0</th>\n",
       "      <td>United States</td>\n",
       "      <td>121.000</td>\n",
       "      <td>0</td>\n",
       "      <td>104.000</td>\n",
       "      <td>0</td>\n",
       "      <td>112.000</td>\n",
       "      <td>0</td>\n",
       "      <td>101.000</td>\n",
       "      <td>0</td>\n",
       "      <td>292805298.000</td>\n",
       "      <td>304093966.000</td>\n",
       "      <td>313877662.000</td>\n",
       "      <td>323071755.000</td>\n",
       "      <td>438.000</td>\n",
       "    </tr>\n",
       "    <tr>\n",
       "      <th>1</th>\n",
       "      <td>United Kingdom</td>\n",
       "      <td>67.000</td>\n",
       "      <td>0</td>\n",
       "      <td>65.000</td>\n",
       "      <td>1</td>\n",
       "      <td>51.000</td>\n",
       "      <td>0</td>\n",
       "      <td>30.000</td>\n",
       "      <td>0</td>\n",
       "      <td>59987905.000</td>\n",
       "      <td>61806995.000</td>\n",
       "      <td>63700215.000</td>\n",
       "      <td>65611593.000</td>\n",
       "      <td>213.000</td>\n",
       "    </tr>\n",
       "    <tr>\n",
       "      <th>2</th>\n",
       "      <td>China</td>\n",
       "      <td>70.000</td>\n",
       "      <td>0</td>\n",
       "      <td>91.000</td>\n",
       "      <td>0</td>\n",
       "      <td>100.000</td>\n",
       "      <td>1</td>\n",
       "      <td>63.000</td>\n",
       "      <td>0</td>\n",
       "      <td>1296075000.000</td>\n",
       "      <td>1324655000.000</td>\n",
       "      <td>1350695000.000</td>\n",
       "      <td>1378665000.000</td>\n",
       "      <td>324.000</td>\n",
       "    </tr>\n",
       "    <tr>\n",
       "      <th>3</th>\n",
       "      <td>Russia</td>\n",
       "      <td>56.000</td>\n",
       "      <td>0</td>\n",
       "      <td>68.000</td>\n",
       "      <td>0</td>\n",
       "      <td>60.000</td>\n",
       "      <td>0</td>\n",
       "      <td>90.000</td>\n",
       "      <td>0</td>\n",
       "      <td>7590008.500</td>\n",
       "      <td>7886889.500</td>\n",
       "      <td>8785794.500</td>\n",
       "      <td>9431254.500</td>\n",
       "      <td>274.000</td>\n",
       "    </tr>\n",
       "    <tr>\n",
       "      <th>4</th>\n",
       "      <td>Germany</td>\n",
       "      <td>42.000</td>\n",
       "      <td>0</td>\n",
       "      <td>44.000</td>\n",
       "      <td>0</td>\n",
       "      <td>41.000</td>\n",
       "      <td>0</td>\n",
       "      <td>49.000</td>\n",
       "      <td>0</td>\n",
       "      <td>82516260.000</td>\n",
       "      <td>82110097.000</td>\n",
       "      <td>80425823.000</td>\n",
       "      <td>82348669.000</td>\n",
       "      <td>176.000</td>\n",
       "    </tr>\n",
       "  </tbody>\n",
       "</table>\n",
       "</div>"
      ],
      "text/plain": [
       "     Country Name  Rio 2016 (G+S+B)  host_country_rio  London 2012 (G+B+S)  \\\n",
       "0   United States           121.000                 0              104.000   \n",
       "1  United Kingdom            67.000                 0               65.000   \n",
       "2           China            70.000                 0               91.000   \n",
       "3          Russia            56.000                 0               68.000   \n",
       "4         Germany            42.000                 0               44.000   \n",
       "\n",
       "   host_country_London  Beijing 2008 (G+S+B)  host_country_beijing  \\\n",
       "0                    0               112.000                     0   \n",
       "1                    1                51.000                     0   \n",
       "2                    0               100.000                     1   \n",
       "3                    0                60.000                     0   \n",
       "4                    0                41.000                     0   \n",
       "\n",
       "   Athens 2004 (G+S+B)  host_country_Athens  Population 2004  Population 2008  \\\n",
       "0              101.000                    0    292805298.000    304093966.000   \n",
       "1               30.000                    0     59987905.000     61806995.000   \n",
       "2               63.000                    0   1296075000.000   1324655000.000   \n",
       "3               90.000                    0      7590008.500      7886889.500   \n",
       "4               49.000                    0     82516260.000     82110097.000   \n",
       "\n",
       "   Population 2012  Population 2016  Total Medals (G+S+B)  \n",
       "0    313877662.000    323071755.000               438.000  \n",
       "1     63700215.000     65611593.000               213.000  \n",
       "2   1350695000.000   1378665000.000               324.000  \n",
       "3      8785794.500      9431254.500               274.000  \n",
       "4     80425823.000     82348669.000               176.000  "
      ]
     },
     "execution_count": 71,
     "metadata": {},
     "output_type": "execute_result"
    }
   ],
   "source": [
    "olympics.head()"
   ]
  },
  {
   "cell_type": "code",
   "execution_count": 72,
   "metadata": {},
   "outputs": [
    {
     "data": {
      "text/plain": [
       "(112, 14)"
      ]
     },
     "execution_count": 72,
     "metadata": {},
     "output_type": "execute_result"
    }
   ],
   "source": [
    "olympics.shape"
   ]
  },
  {
   "cell_type": "code",
   "execution_count": 73,
   "metadata": {},
   "outputs": [
    {
     "data": {
      "text/html": [
       "<div>\n",
       "<style scoped>\n",
       "    .dataframe tbody tr th:only-of-type {\n",
       "        vertical-align: middle;\n",
       "    }\n",
       "\n",
       "    .dataframe tbody tr th {\n",
       "        vertical-align: top;\n",
       "    }\n",
       "\n",
       "    .dataframe thead th {\n",
       "        text-align: right;\n",
       "    }\n",
       "</style>\n",
       "<table border=\"1\" class=\"dataframe\">\n",
       "  <thead>\n",
       "    <tr style=\"text-align: right;\">\n",
       "      <th></th>\n",
       "      <th>Country Name</th>\n",
       "      <th>HDI Athens 2004</th>\n",
       "      <th>HDI Beijing 2008</th>\n",
       "      <th>HDI London 2012</th>\n",
       "      <th>HDI Rio 2016</th>\n",
       "    </tr>\n",
       "  </thead>\n",
       "  <tbody>\n",
       "    <tr>\n",
       "      <th>0</th>\n",
       "      <td>Afghanistan</td>\n",
       "      <td>0.160</td>\n",
       "      <td>0.160</td>\n",
       "      <td>0.180</td>\n",
       "      <td>0.250</td>\n",
       "    </tr>\n",
       "    <tr>\n",
       "      <th>1</th>\n",
       "      <td>Albania</td>\n",
       "      <td>0.460</td>\n",
       "      <td>0.510</td>\n",
       "      <td>0.530</td>\n",
       "      <td>0.590</td>\n",
       "    </tr>\n",
       "    <tr>\n",
       "      <th>2</th>\n",
       "      <td>Algeria</td>\n",
       "      <td>0.390</td>\n",
       "      <td>0.400</td>\n",
       "      <td>0.410</td>\n",
       "      <td>0.450</td>\n",
       "    </tr>\n",
       "    <tr>\n",
       "      <th>3</th>\n",
       "      <td>Angola</td>\n",
       "      <td>0.220</td>\n",
       "      <td>0.240</td>\n",
       "      <td>0.240</td>\n",
       "      <td>0.270</td>\n",
       "    </tr>\n",
       "    <tr>\n",
       "      <th>4</th>\n",
       "      <td>Argentina</td>\n",
       "      <td>0.610</td>\n",
       "      <td>0.630</td>\n",
       "      <td>0.650</td>\n",
       "      <td>0.700</td>\n",
       "    </tr>\n",
       "  </tbody>\n",
       "</table>\n",
       "</div>"
      ],
      "text/plain": [
       "  Country Name  HDI Athens 2004  HDI Beijing 2008  HDI London 2012  \\\n",
       "0  Afghanistan            0.160             0.160            0.180   \n",
       "1      Albania            0.460             0.510            0.530   \n",
       "2      Algeria            0.390             0.400            0.410   \n",
       "3       Angola            0.220             0.240            0.240   \n",
       "4    Argentina            0.610             0.630            0.650   \n",
       "\n",
       "   HDI Rio 2016  \n",
       "0         0.250  \n",
       "1         0.590  \n",
       "2         0.450  \n",
       "3         0.270  \n",
       "4         0.700  "
      ]
     },
     "execution_count": 73,
     "metadata": {},
     "output_type": "execute_result"
    }
   ],
   "source": [
    "hdi = pd.read_csv('human-development-index-escosura.csv')\n",
    "hdi.head()"
   ]
  },
  {
   "cell_type": "code",
   "execution_count": 74,
   "metadata": {},
   "outputs": [],
   "source": [
    "olympics = olympics.merge(hdi,how='left',on='Country Name')"
   ]
  },
  {
   "cell_type": "code",
   "execution_count": 75,
   "metadata": {},
   "outputs": [
    {
     "data": {
      "text/html": [
       "<div>\n",
       "<style scoped>\n",
       "    .dataframe tbody tr th:only-of-type {\n",
       "        vertical-align: middle;\n",
       "    }\n",
       "\n",
       "    .dataframe tbody tr th {\n",
       "        vertical-align: top;\n",
       "    }\n",
       "\n",
       "    .dataframe thead th {\n",
       "        text-align: right;\n",
       "    }\n",
       "</style>\n",
       "<table border=\"1\" class=\"dataframe\">\n",
       "  <thead>\n",
       "    <tr style=\"text-align: right;\">\n",
       "      <th></th>\n",
       "      <th>Country Name</th>\n",
       "      <th>Rio 2016 (G+S+B)</th>\n",
       "      <th>host_country_rio</th>\n",
       "      <th>London 2012 (G+B+S)</th>\n",
       "      <th>host_country_London</th>\n",
       "      <th>Beijing 2008 (G+S+B)</th>\n",
       "      <th>host_country_beijing</th>\n",
       "      <th>Athens 2004 (G+S+B)</th>\n",
       "      <th>host_country_Athens</th>\n",
       "      <th>Population 2004</th>\n",
       "      <th>Population 2008</th>\n",
       "      <th>Population 2012</th>\n",
       "      <th>Population 2016</th>\n",
       "      <th>Total Medals (G+S+B)</th>\n",
       "      <th>HDI Athens 2004</th>\n",
       "      <th>HDI Beijing 2008</th>\n",
       "      <th>HDI London 2012</th>\n",
       "      <th>HDI Rio 2016</th>\n",
       "    </tr>\n",
       "  </thead>\n",
       "  <tbody>\n",
       "    <tr>\n",
       "      <th>0</th>\n",
       "      <td>United States</td>\n",
       "      <td>121.000</td>\n",
       "      <td>0</td>\n",
       "      <td>104.000</td>\n",
       "      <td>0</td>\n",
       "      <td>112.000</td>\n",
       "      <td>0</td>\n",
       "      <td>101.000</td>\n",
       "      <td>0</td>\n",
       "      <td>292805298.000</td>\n",
       "      <td>304093966.000</td>\n",
       "      <td>313877662.000</td>\n",
       "      <td>323071755.000</td>\n",
       "      <td>438.000</td>\n",
       "      <td>0.740</td>\n",
       "      <td>0.750</td>\n",
       "      <td>0.770</td>\n",
       "      <td>0.780</td>\n",
       "    </tr>\n",
       "    <tr>\n",
       "      <th>1</th>\n",
       "      <td>United Kingdom</td>\n",
       "      <td>67.000</td>\n",
       "      <td>0</td>\n",
       "      <td>65.000</td>\n",
       "      <td>1</td>\n",
       "      <td>51.000</td>\n",
       "      <td>0</td>\n",
       "      <td>30.000</td>\n",
       "      <td>0</td>\n",
       "      <td>59987905.000</td>\n",
       "      <td>61806995.000</td>\n",
       "      <td>63700215.000</td>\n",
       "      <td>65611593.000</td>\n",
       "      <td>213.000</td>\n",
       "      <td>0.720</td>\n",
       "      <td>0.710</td>\n",
       "      <td>0.720</td>\n",
       "      <td>0.760</td>\n",
       "    </tr>\n",
       "    <tr>\n",
       "      <th>2</th>\n",
       "      <td>China</td>\n",
       "      <td>70.000</td>\n",
       "      <td>0</td>\n",
       "      <td>91.000</td>\n",
       "      <td>0</td>\n",
       "      <td>100.000</td>\n",
       "      <td>1</td>\n",
       "      <td>63.000</td>\n",
       "      <td>0</td>\n",
       "      <td>1296075000.000</td>\n",
       "      <td>1324655000.000</td>\n",
       "      <td>1350695000.000</td>\n",
       "      <td>1378665000.000</td>\n",
       "      <td>324.000</td>\n",
       "      <td>0.420</td>\n",
       "      <td>0.460</td>\n",
       "      <td>0.480</td>\n",
       "      <td>0.540</td>\n",
       "    </tr>\n",
       "    <tr>\n",
       "      <th>3</th>\n",
       "      <td>Russia</td>\n",
       "      <td>56.000</td>\n",
       "      <td>0</td>\n",
       "      <td>68.000</td>\n",
       "      <td>0</td>\n",
       "      <td>60.000</td>\n",
       "      <td>0</td>\n",
       "      <td>90.000</td>\n",
       "      <td>0</td>\n",
       "      <td>7590008.500</td>\n",
       "      <td>7886889.500</td>\n",
       "      <td>8785794.500</td>\n",
       "      <td>9431254.500</td>\n",
       "      <td>274.000</td>\n",
       "      <td>0.510</td>\n",
       "      <td>0.510</td>\n",
       "      <td>0.520</td>\n",
       "      <td>0.570</td>\n",
       "    </tr>\n",
       "    <tr>\n",
       "      <th>4</th>\n",
       "      <td>Germany</td>\n",
       "      <td>42.000</td>\n",
       "      <td>0</td>\n",
       "      <td>44.000</td>\n",
       "      <td>0</td>\n",
       "      <td>41.000</td>\n",
       "      <td>0</td>\n",
       "      <td>49.000</td>\n",
       "      <td>0</td>\n",
       "      <td>82516260.000</td>\n",
       "      <td>82110097.000</td>\n",
       "      <td>80425823.000</td>\n",
       "      <td>82348669.000</td>\n",
       "      <td>176.000</td>\n",
       "      <td>0.700</td>\n",
       "      <td>0.710</td>\n",
       "      <td>0.740</td>\n",
       "      <td>0.800</td>\n",
       "    </tr>\n",
       "  </tbody>\n",
       "</table>\n",
       "</div>"
      ],
      "text/plain": [
       "     Country Name  Rio 2016 (G+S+B)  host_country_rio  London 2012 (G+B+S)  \\\n",
       "0   United States           121.000                 0              104.000   \n",
       "1  United Kingdom            67.000                 0               65.000   \n",
       "2           China            70.000                 0               91.000   \n",
       "3          Russia            56.000                 0               68.000   \n",
       "4         Germany            42.000                 0               44.000   \n",
       "\n",
       "   host_country_London  Beijing 2008 (G+S+B)  host_country_beijing  \\\n",
       "0                    0               112.000                     0   \n",
       "1                    1                51.000                     0   \n",
       "2                    0               100.000                     1   \n",
       "3                    0                60.000                     0   \n",
       "4                    0                41.000                     0   \n",
       "\n",
       "   Athens 2004 (G+S+B)  host_country_Athens  Population 2004  Population 2008  \\\n",
       "0              101.000                    0    292805298.000    304093966.000   \n",
       "1               30.000                    0     59987905.000     61806995.000   \n",
       "2               63.000                    0   1296075000.000   1324655000.000   \n",
       "3               90.000                    0      7590008.500      7886889.500   \n",
       "4               49.000                    0     82516260.000     82110097.000   \n",
       "\n",
       "   Population 2012  Population 2016  Total Medals (G+S+B)  HDI Athens 2004  \\\n",
       "0    313877662.000    323071755.000               438.000            0.740   \n",
       "1     63700215.000     65611593.000               213.000            0.720   \n",
       "2   1350695000.000   1378665000.000               324.000            0.420   \n",
       "3      8785794.500      9431254.500               274.000            0.510   \n",
       "4     80425823.000     82348669.000               176.000            0.700   \n",
       "\n",
       "   HDI Beijing 2008  HDI London 2012  HDI Rio 2016  \n",
       "0             0.750            0.770         0.780  \n",
       "1             0.710            0.720         0.760  \n",
       "2             0.460            0.480         0.540  \n",
       "3             0.510            0.520         0.570  \n",
       "4             0.710            0.740         0.800  "
      ]
     },
     "execution_count": 75,
     "metadata": {},
     "output_type": "execute_result"
    }
   ],
   "source": [
    "olympics.head()"
   ]
  },
  {
   "cell_type": "code",
   "execution_count": 76,
   "metadata": {},
   "outputs": [
    {
     "data": {
      "text/html": [
       "<div>\n",
       "<style scoped>\n",
       "    .dataframe tbody tr th:only-of-type {\n",
       "        vertical-align: middle;\n",
       "    }\n",
       "\n",
       "    .dataframe tbody tr th {\n",
       "        vertical-align: top;\n",
       "    }\n",
       "\n",
       "    .dataframe thead th {\n",
       "        text-align: right;\n",
       "    }\n",
       "</style>\n",
       "<table border=\"1\" class=\"dataframe\">\n",
       "  <thead>\n",
       "    <tr style=\"text-align: right;\">\n",
       "      <th></th>\n",
       "      <th>Country Name</th>\n",
       "      <th>GDP 2004</th>\n",
       "      <th>GDP 2008</th>\n",
       "      <th>GDP 2012</th>\n",
       "      <th>GDP 2016</th>\n",
       "    </tr>\n",
       "  </thead>\n",
       "  <tbody>\n",
       "    <tr>\n",
       "      <th>0</th>\n",
       "      <td>Aruba</td>\n",
       "      <td>22568.375</td>\n",
       "      <td>27083.635</td>\n",
       "      <td>24712.493</td>\n",
       "      <td>28452.171</td>\n",
       "    </tr>\n",
       "    <tr>\n",
       "      <th>1</th>\n",
       "      <td>Africa Eastern and Southern</td>\n",
       "      <td>916.603</td>\n",
       "      <td>1356.530</td>\n",
       "      <td>1667.993</td>\n",
       "      <td>1401.281</td>\n",
       "    </tr>\n",
       "    <tr>\n",
       "      <th>2</th>\n",
       "      <td>Afghanistan</td>\n",
       "      <td>211.382</td>\n",
       "      <td>364.661</td>\n",
       "      <td>641.871</td>\n",
       "      <td>509.220</td>\n",
       "    </tr>\n",
       "    <tr>\n",
       "      <th>3</th>\n",
       "      <td>Africa Western and Central</td>\n",
       "      <td>826.817</td>\n",
       "      <td>1666.900</td>\n",
       "      <td>1936.391</td>\n",
       "      <td>1666.422</td>\n",
       "    </tr>\n",
       "    <tr>\n",
       "      <th>4</th>\n",
       "      <td>Angola</td>\n",
       "      <td>1255.565</td>\n",
       "      <td>4080.941</td>\n",
       "      <td>5100.097</td>\n",
       "      <td>3506.073</td>\n",
       "    </tr>\n",
       "  </tbody>\n",
       "</table>\n",
       "</div>"
      ],
      "text/plain": [
       "                  Country Name  GDP 2004  GDP 2008  GDP 2012  GDP 2016\n",
       "0                        Aruba 22568.375 27083.635 24712.493 28452.171\n",
       "1  Africa Eastern and Southern   916.603  1356.530  1667.993  1401.281\n",
       "2                  Afghanistan   211.382   364.661   641.871   509.220\n",
       "3   Africa Western and Central   826.817  1666.900  1936.391  1666.422\n",
       "4                       Angola  1255.565  4080.941  5100.097  3506.073"
      ]
     },
     "execution_count": 76,
     "metadata": {},
     "output_type": "execute_result"
    }
   ],
   "source": [
    "gdp = pd.read_csv('gdp.csv')\n",
    "gdp.drop('Country Code',axis=1,inplace=True)\n",
    "gdp.head()"
   ]
  },
  {
   "cell_type": "code",
   "execution_count": 77,
   "metadata": {},
   "outputs": [],
   "source": [
    "olympics = olympics.merge(gdp,how='left',on='Country Name')"
   ]
  },
  {
   "cell_type": "code",
   "execution_count": 78,
   "metadata": {},
   "outputs": [
    {
     "data": {
      "text/html": [
       "<div>\n",
       "<style scoped>\n",
       "    .dataframe tbody tr th:only-of-type {\n",
       "        vertical-align: middle;\n",
       "    }\n",
       "\n",
       "    .dataframe tbody tr th {\n",
       "        vertical-align: top;\n",
       "    }\n",
       "\n",
       "    .dataframe thead th {\n",
       "        text-align: right;\n",
       "    }\n",
       "</style>\n",
       "<table border=\"1\" class=\"dataframe\">\n",
       "  <thead>\n",
       "    <tr style=\"text-align: right;\">\n",
       "      <th></th>\n",
       "      <th>Country Name</th>\n",
       "      <th>Rio 2016 (G+S+B)</th>\n",
       "      <th>host_country_rio</th>\n",
       "      <th>London 2012 (G+B+S)</th>\n",
       "      <th>host_country_London</th>\n",
       "      <th>Beijing 2008 (G+S+B)</th>\n",
       "      <th>host_country_beijing</th>\n",
       "      <th>Athens 2004 (G+S+B)</th>\n",
       "      <th>host_country_Athens</th>\n",
       "      <th>Population 2004</th>\n",
       "      <th>...</th>\n",
       "      <th>Population 2016</th>\n",
       "      <th>Total Medals (G+S+B)</th>\n",
       "      <th>HDI Athens 2004</th>\n",
       "      <th>HDI Beijing 2008</th>\n",
       "      <th>HDI London 2012</th>\n",
       "      <th>HDI Rio 2016</th>\n",
       "      <th>GDP 2004</th>\n",
       "      <th>GDP 2008</th>\n",
       "      <th>GDP 2012</th>\n",
       "      <th>GDP 2016</th>\n",
       "    </tr>\n",
       "  </thead>\n",
       "  <tbody>\n",
       "    <tr>\n",
       "      <th>0</th>\n",
       "      <td>United States</td>\n",
       "      <td>121.000</td>\n",
       "      <td>0</td>\n",
       "      <td>104.000</td>\n",
       "      <td>0</td>\n",
       "      <td>112.000</td>\n",
       "      <td>0</td>\n",
       "      <td>101.000</td>\n",
       "      <td>0</td>\n",
       "      <td>292805298.000</td>\n",
       "      <td>...</td>\n",
       "      <td>323071755.000</td>\n",
       "      <td>438.000</td>\n",
       "      <td>0.740</td>\n",
       "      <td>0.750</td>\n",
       "      <td>0.770</td>\n",
       "      <td>0.780</td>\n",
       "      <td>41712.801</td>\n",
       "      <td>48382.558</td>\n",
       "      <td>51602.931</td>\n",
       "      <td>58021.401</td>\n",
       "    </tr>\n",
       "    <tr>\n",
       "      <th>1</th>\n",
       "      <td>United Kingdom</td>\n",
       "      <td>67.000</td>\n",
       "      <td>0</td>\n",
       "      <td>65.000</td>\n",
       "      <td>1</td>\n",
       "      <td>51.000</td>\n",
       "      <td>0</td>\n",
       "      <td>30.000</td>\n",
       "      <td>0</td>\n",
       "      <td>59987905.000</td>\n",
       "      <td>...</td>\n",
       "      <td>65611593.000</td>\n",
       "      <td>213.000</td>\n",
       "      <td>0.720</td>\n",
       "      <td>0.710</td>\n",
       "      <td>0.720</td>\n",
       "      <td>0.760</td>\n",
       "      <td>40210.328</td>\n",
       "      <td>47269.945</td>\n",
       "      <td>42449.108</td>\n",
       "      <td>41048.350</td>\n",
       "    </tr>\n",
       "    <tr>\n",
       "      <th>2</th>\n",
       "      <td>China</td>\n",
       "      <td>70.000</td>\n",
       "      <td>0</td>\n",
       "      <td>91.000</td>\n",
       "      <td>0</td>\n",
       "      <td>100.000</td>\n",
       "      <td>1</td>\n",
       "      <td>63.000</td>\n",
       "      <td>0</td>\n",
       "      <td>1296075000.000</td>\n",
       "      <td>...</td>\n",
       "      <td>1378665000.000</td>\n",
       "      <td>324.000</td>\n",
       "      <td>0.420</td>\n",
       "      <td>0.460</td>\n",
       "      <td>0.480</td>\n",
       "      <td>0.540</td>\n",
       "      <td>1508.668</td>\n",
       "      <td>3468.305</td>\n",
       "      <td>6316.918</td>\n",
       "      <td>8147.938</td>\n",
       "    </tr>\n",
       "    <tr>\n",
       "      <th>3</th>\n",
       "      <td>Russia</td>\n",
       "      <td>56.000</td>\n",
       "      <td>0</td>\n",
       "      <td>68.000</td>\n",
       "      <td>0</td>\n",
       "      <td>60.000</td>\n",
       "      <td>0</td>\n",
       "      <td>90.000</td>\n",
       "      <td>0</td>\n",
       "      <td>7590008.500</td>\n",
       "      <td>...</td>\n",
       "      <td>9431254.500</td>\n",
       "      <td>274.000</td>\n",
       "      <td>0.510</td>\n",
       "      <td>0.510</td>\n",
       "      <td>0.520</td>\n",
       "      <td>0.570</td>\n",
       "      <td>nan</td>\n",
       "      <td>nan</td>\n",
       "      <td>nan</td>\n",
       "      <td>nan</td>\n",
       "    </tr>\n",
       "    <tr>\n",
       "      <th>4</th>\n",
       "      <td>Germany</td>\n",
       "      <td>42.000</td>\n",
       "      <td>0</td>\n",
       "      <td>44.000</td>\n",
       "      <td>0</td>\n",
       "      <td>41.000</td>\n",
       "      <td>0</td>\n",
       "      <td>49.000</td>\n",
       "      <td>0</td>\n",
       "      <td>82516260.000</td>\n",
       "      <td>...</td>\n",
       "      <td>82348669.000</td>\n",
       "      <td>176.000</td>\n",
       "      <td>0.700</td>\n",
       "      <td>0.710</td>\n",
       "      <td>0.740</td>\n",
       "      <td>0.800</td>\n",
       "      <td>34106.658</td>\n",
       "      <td>45612.711</td>\n",
       "      <td>43855.854</td>\n",
       "      <td>42136.121</td>\n",
       "    </tr>\n",
       "  </tbody>\n",
       "</table>\n",
       "<p>5 rows × 22 columns</p>\n",
       "</div>"
      ],
      "text/plain": [
       "     Country Name  Rio 2016 (G+S+B)  host_country_rio  London 2012 (G+B+S)  \\\n",
       "0   United States           121.000                 0              104.000   \n",
       "1  United Kingdom            67.000                 0               65.000   \n",
       "2           China            70.000                 0               91.000   \n",
       "3          Russia            56.000                 0               68.000   \n",
       "4         Germany            42.000                 0               44.000   \n",
       "\n",
       "   host_country_London  Beijing 2008 (G+S+B)  host_country_beijing  \\\n",
       "0                    0               112.000                     0   \n",
       "1                    1                51.000                     0   \n",
       "2                    0               100.000                     1   \n",
       "3                    0                60.000                     0   \n",
       "4                    0                41.000                     0   \n",
       "\n",
       "   Athens 2004 (G+S+B)  host_country_Athens  Population 2004  ...  \\\n",
       "0              101.000                    0    292805298.000  ...   \n",
       "1               30.000                    0     59987905.000  ...   \n",
       "2               63.000                    0   1296075000.000  ...   \n",
       "3               90.000                    0      7590008.500  ...   \n",
       "4               49.000                    0     82516260.000  ...   \n",
       "\n",
       "   Population 2016  Total Medals (G+S+B)  HDI Athens 2004  HDI Beijing 2008  \\\n",
       "0    323071755.000               438.000            0.740             0.750   \n",
       "1     65611593.000               213.000            0.720             0.710   \n",
       "2   1378665000.000               324.000            0.420             0.460   \n",
       "3      9431254.500               274.000            0.510             0.510   \n",
       "4     82348669.000               176.000            0.700             0.710   \n",
       "\n",
       "   HDI London 2012  HDI Rio 2016  GDP 2004  GDP 2008  GDP 2012  GDP 2016  \n",
       "0            0.770         0.780 41712.801 48382.558 51602.931 58021.401  \n",
       "1            0.720         0.760 40210.328 47269.945 42449.108 41048.350  \n",
       "2            0.480         0.540  1508.668  3468.305  6316.918  8147.938  \n",
       "3            0.520         0.570       nan       nan       nan       nan  \n",
       "4            0.740         0.800 34106.658 45612.711 43855.854 42136.121  \n",
       "\n",
       "[5 rows x 22 columns]"
      ]
     },
     "execution_count": 78,
     "metadata": {},
     "output_type": "execute_result"
    }
   ],
   "source": [
    "olympics.head()"
   ]
  },
  {
   "cell_type": "code",
   "execution_count": 79,
   "metadata": {},
   "outputs": [
    {
     "data": {
      "application/javascript": [
       "\n",
       "        if (window._pyforest_update_imports_cell) { window._pyforest_update_imports_cell('import numpy as np'); }\n",
       "    "
      ],
      "text/plain": [
       "<IPython.core.display.Javascript object>"
      ]
     },
     "metadata": {},
     "output_type": "display_data"
    },
    {
     "data": {
      "application/javascript": [
       "\n",
       "        if (window._pyforest_update_imports_cell) { window._pyforest_update_imports_cell('import numpy as np'); }\n",
       "    "
      ],
      "text/plain": [
       "<IPython.core.display.Javascript object>"
      ]
     },
     "metadata": {},
     "output_type": "display_data"
    },
    {
     "data": {
      "application/javascript": [
       "\n",
       "        if (window._pyforest_update_imports_cell) { window._pyforest_update_imports_cell('import numpy as np'); }\n",
       "    "
      ],
      "text/plain": [
       "<IPython.core.display.Javascript object>"
      ]
     },
     "metadata": {},
     "output_type": "display_data"
    },
    {
     "data": {
      "application/javascript": [
       "\n",
       "        if (window._pyforest_update_imports_cell) { window._pyforest_update_imports_cell('import numpy as np'); }\n",
       "    "
      ],
      "text/plain": [
       "<IPython.core.display.Javascript object>"
      ]
     },
     "metadata": {},
     "output_type": "display_data"
    }
   ],
   "source": [
    "olympics['HDI Rio 2016'].replace(np.NaN,0,inplace=True)\n",
    "olympics['HDI London 2012'].replace(np.NaN,0,inplace=True)\n",
    "olympics['HDI Beijing 2008'].replace(np.NaN,0,inplace=True)\n",
    "olympics['HDI Athens 2004'].replace(np.NaN,0,inplace=True)"
   ]
  },
  {
   "cell_type": "code",
   "execution_count": 80,
   "metadata": {},
   "outputs": [],
   "source": [
    "olympics['HDI Rio 2016'].replace(0,olympics['HDI Rio 2016'].median(),inplace=True)\n",
    "olympics['HDI London 2012'].replace(0,olympics['HDI London 2012'].median(),inplace=True)\n",
    "olympics['HDI Beijing 2008'].replace(0,olympics['HDI Beijing 2008'].median(),inplace=True)\n",
    "olympics['HDI Athens 2004'].replace(0,olympics['HDI Athens 2004'].median(),inplace=True)"
   ]
  },
  {
   "cell_type": "code",
   "execution_count": 81,
   "metadata": {},
   "outputs": [
    {
     "data": {
      "application/javascript": [
       "\n",
       "        if (window._pyforest_update_imports_cell) { window._pyforest_update_imports_cell('import numpy as np'); }\n",
       "    "
      ],
      "text/plain": [
       "<IPython.core.display.Javascript object>"
      ]
     },
     "metadata": {},
     "output_type": "display_data"
    },
    {
     "data": {
      "application/javascript": [
       "\n",
       "        if (window._pyforest_update_imports_cell) { window._pyforest_update_imports_cell('import numpy as np'); }\n",
       "    "
      ],
      "text/plain": [
       "<IPython.core.display.Javascript object>"
      ]
     },
     "metadata": {},
     "output_type": "display_data"
    },
    {
     "data": {
      "application/javascript": [
       "\n",
       "        if (window._pyforest_update_imports_cell) { window._pyforest_update_imports_cell('import numpy as np'); }\n",
       "    "
      ],
      "text/plain": [
       "<IPython.core.display.Javascript object>"
      ]
     },
     "metadata": {},
     "output_type": "display_data"
    },
    {
     "data": {
      "application/javascript": [
       "\n",
       "        if (window._pyforest_update_imports_cell) { window._pyforest_update_imports_cell('import numpy as np'); }\n",
       "    "
      ],
      "text/plain": [
       "<IPython.core.display.Javascript object>"
      ]
     },
     "metadata": {},
     "output_type": "display_data"
    }
   ],
   "source": [
    "olympics['GDP 2016'].replace(np.NaN,0,inplace=True)\n",
    "olympics['GDP 2012'].replace(np.NaN,0,inplace=True)\n",
    "olympics['GDP 2008'].replace(np.NaN,0,inplace=True)\n",
    "olympics['GDP 2004'].replace(np.NaN,0,inplace=True)"
   ]
  },
  {
   "cell_type": "code",
   "execution_count": 82,
   "metadata": {},
   "outputs": [],
   "source": [
    "olympics['GDP 2004'].replace(0,olympics['GDP 2004'].median(),inplace=True)\n",
    "olympics['GDP 2008'].replace(0,olympics['GDP 2008'].median(),inplace=True)\n",
    "olympics['GDP 2012'].replace(0,olympics['GDP 2012'].median(),inplace=True)\n",
    "olympics['GDP 2016'].replace(0,olympics['GDP 2016'].median(),inplace=True)"
   ]
  },
  {
   "cell_type": "code",
   "execution_count": 83,
   "metadata": {},
   "outputs": [
    {
     "data": {
      "text/html": [
       "<div>\n",
       "<style scoped>\n",
       "    .dataframe tbody tr th:only-of-type {\n",
       "        vertical-align: middle;\n",
       "    }\n",
       "\n",
       "    .dataframe tbody tr th {\n",
       "        vertical-align: top;\n",
       "    }\n",
       "\n",
       "    .dataframe thead th {\n",
       "        text-align: right;\n",
       "    }\n",
       "</style>\n",
       "<table border=\"1\" class=\"dataframe\">\n",
       "  <thead>\n",
       "    <tr style=\"text-align: right;\">\n",
       "      <th></th>\n",
       "      <th>count</th>\n",
       "      <th>mean</th>\n",
       "      <th>std</th>\n",
       "      <th>min</th>\n",
       "      <th>25%</th>\n",
       "      <th>50%</th>\n",
       "      <th>75%</th>\n",
       "      <th>max</th>\n",
       "    </tr>\n",
       "  </thead>\n",
       "  <tbody>\n",
       "    <tr>\n",
       "      <th>Rio 2016 (G+S+B)</th>\n",
       "      <td>112.000</td>\n",
       "      <td>8.670</td>\n",
       "      <td>16.741</td>\n",
       "      <td>0.000</td>\n",
       "      <td>1.000</td>\n",
       "      <td>2.500</td>\n",
       "      <td>10.000</td>\n",
       "      <td>121.000</td>\n",
       "    </tr>\n",
       "    <tr>\n",
       "      <th>host_country_rio</th>\n",
       "      <td>112.000</td>\n",
       "      <td>0.009</td>\n",
       "      <td>0.094</td>\n",
       "      <td>0.000</td>\n",
       "      <td>0.000</td>\n",
       "      <td>0.000</td>\n",
       "      <td>0.000</td>\n",
       "      <td>1.000</td>\n",
       "    </tr>\n",
       "    <tr>\n",
       "      <th>London 2012 (G+B+S)</th>\n",
       "      <td>112.000</td>\n",
       "      <td>8.571</td>\n",
       "      <td>16.888</td>\n",
       "      <td>0.000</td>\n",
       "      <td>1.000</td>\n",
       "      <td>2.500</td>\n",
       "      <td>8.250</td>\n",
       "      <td>104.000</td>\n",
       "    </tr>\n",
       "    <tr>\n",
       "      <th>host_country_London</th>\n",
       "      <td>112.000</td>\n",
       "      <td>0.009</td>\n",
       "      <td>0.094</td>\n",
       "      <td>0.000</td>\n",
       "      <td>0.000</td>\n",
       "      <td>0.000</td>\n",
       "      <td>0.000</td>\n",
       "      <td>1.000</td>\n",
       "    </tr>\n",
       "    <tr>\n",
       "      <th>Beijing 2008 (G+S+B)</th>\n",
       "      <td>112.000</td>\n",
       "      <td>8.554</td>\n",
       "      <td>17.314</td>\n",
       "      <td>0.000</td>\n",
       "      <td>1.000</td>\n",
       "      <td>3.000</td>\n",
       "      <td>7.000</td>\n",
       "      <td>112.000</td>\n",
       "    </tr>\n",
       "    <tr>\n",
       "      <th>host_country_beijing</th>\n",
       "      <td>112.000</td>\n",
       "      <td>0.009</td>\n",
       "      <td>0.094</td>\n",
       "      <td>0.000</td>\n",
       "      <td>0.000</td>\n",
       "      <td>0.000</td>\n",
       "      <td>0.000</td>\n",
       "      <td>1.000</td>\n",
       "    </tr>\n",
       "    <tr>\n",
       "      <th>Athens 2004 (G+S+B)</th>\n",
       "      <td>112.000</td>\n",
       "      <td>8.277</td>\n",
       "      <td>16.334</td>\n",
       "      <td>0.000</td>\n",
       "      <td>0.000</td>\n",
       "      <td>3.000</td>\n",
       "      <td>7.000</td>\n",
       "      <td>101.000</td>\n",
       "    </tr>\n",
       "    <tr>\n",
       "      <th>host_country_Athens</th>\n",
       "      <td>112.000</td>\n",
       "      <td>0.009</td>\n",
       "      <td>0.094</td>\n",
       "      <td>0.000</td>\n",
       "      <td>0.000</td>\n",
       "      <td>0.000</td>\n",
       "      <td>0.000</td>\n",
       "      <td>1.000</td>\n",
       "    </tr>\n",
       "    <tr>\n",
       "      <th>Population 2004</th>\n",
       "      <td>112.000</td>\n",
       "      <td>46414015.420</td>\n",
       "      <td>164403902.695</td>\n",
       "      <td>104346.000</td>\n",
       "      <td>4083190.500</td>\n",
       "      <td>7653434.250</td>\n",
       "      <td>27644774.000</td>\n",
       "      <td>1296075000.000</td>\n",
       "    </tr>\n",
       "    <tr>\n",
       "      <th>Population 2008</th>\n",
       "      <td>112.000</td>\n",
       "      <td>48537768.991</td>\n",
       "      <td>171004522.770</td>\n",
       "      <td>105457.000</td>\n",
       "      <td>4444584.250</td>\n",
       "      <td>8006496.750</td>\n",
       "      <td>30708002.250</td>\n",
       "      <td>1324655000.000</td>\n",
       "    </tr>\n",
       "    <tr>\n",
       "      <th>Population 2012</th>\n",
       "      <td>112.000</td>\n",
       "      <td>50702594.098</td>\n",
       "      <td>177109913.675</td>\n",
       "      <td>107452.000</td>\n",
       "      <td>4551674.750</td>\n",
       "      <td>8963696.250</td>\n",
       "      <td>33571098.500</td>\n",
       "      <td>1350695000.000</td>\n",
       "    </tr>\n",
       "    <tr>\n",
       "      <th>Population 2016</th>\n",
       "      <td>112.000</td>\n",
       "      <td>52862470.054</td>\n",
       "      <td>183020468.508</td>\n",
       "      <td>110263.000</td>\n",
       "      <td>4745026.250</td>\n",
       "      <td>9466394.250</td>\n",
       "      <td>35564642.750</td>\n",
       "      <td>1378665000.000</td>\n",
       "    </tr>\n",
       "    <tr>\n",
       "      <th>Total Medals (G+S+B)</th>\n",
       "      <td>112.000</td>\n",
       "      <td>34.071</td>\n",
       "      <td>65.898</td>\n",
       "      <td>1.000</td>\n",
       "      <td>2.000</td>\n",
       "      <td>11.000</td>\n",
       "      <td>30.250</td>\n",
       "      <td>438.000</td>\n",
       "    </tr>\n",
       "    <tr>\n",
       "      <th>HDI Athens 2004</th>\n",
       "      <td>112.000</td>\n",
       "      <td>0.520</td>\n",
       "      <td>0.168</td>\n",
       "      <td>0.120</td>\n",
       "      <td>0.440</td>\n",
       "      <td>0.497</td>\n",
       "      <td>0.630</td>\n",
       "      <td>0.840</td>\n",
       "    </tr>\n",
       "    <tr>\n",
       "      <th>HDI Beijing 2008</th>\n",
       "      <td>112.000</td>\n",
       "      <td>0.535</td>\n",
       "      <td>0.170</td>\n",
       "      <td>0.140</td>\n",
       "      <td>0.450</td>\n",
       "      <td>0.508</td>\n",
       "      <td>0.662</td>\n",
       "      <td>0.850</td>\n",
       "    </tr>\n",
       "    <tr>\n",
       "      <th>HDI London 2012</th>\n",
       "      <td>112.000</td>\n",
       "      <td>0.552</td>\n",
       "      <td>0.173</td>\n",
       "      <td>0.130</td>\n",
       "      <td>0.467</td>\n",
       "      <td>0.520</td>\n",
       "      <td>0.667</td>\n",
       "      <td>0.870</td>\n",
       "    </tr>\n",
       "    <tr>\n",
       "      <th>HDI Rio 2016</th>\n",
       "      <td>112.000</td>\n",
       "      <td>0.582</td>\n",
       "      <td>0.177</td>\n",
       "      <td>0.170</td>\n",
       "      <td>0.487</td>\n",
       "      <td>0.550</td>\n",
       "      <td>0.742</td>\n",
       "      <td>0.900</td>\n",
       "    </tr>\n",
       "    <tr>\n",
       "      <th>GDP 2004</th>\n",
       "      <td>112.000</td>\n",
       "      <td>11559.085</td>\n",
       "      <td>15097.321</td>\n",
       "      <td>128.337</td>\n",
       "      <td>1949.745</td>\n",
       "      <td>3261.214</td>\n",
       "      <td>18531.548</td>\n",
       "      <td>57603.551</td>\n",
       "    </tr>\n",
       "    <tr>\n",
       "      <th>GDP 2008</th>\n",
       "      <td>112.000</td>\n",
       "      <td>17356.374</td>\n",
       "      <td>21022.581</td>\n",
       "      <td>198.353</td>\n",
       "      <td>3979.957</td>\n",
       "      <td>5678.809</td>\n",
       "      <td>25610.681</td>\n",
       "      <td>96944.096</td>\n",
       "    </tr>\n",
       "    <tr>\n",
       "      <th>GDP 2012</th>\n",
       "      <td>112.000</td>\n",
       "      <td>17879.685</td>\n",
       "      <td>21004.444</td>\n",
       "      <td>252.359</td>\n",
       "      <td>4304.598</td>\n",
       "      <td>7022.970</td>\n",
       "      <td>24051.678</td>\n",
       "      <td>101524.142</td>\n",
       "    </tr>\n",
       "    <tr>\n",
       "      <th>GDP 2016</th>\n",
       "      <td>112.000</td>\n",
       "      <td>16566.477</td>\n",
       "      <td>18572.639</td>\n",
       "      <td>282.193</td>\n",
       "      <td>4097.337</td>\n",
       "      <td>7191.352</td>\n",
       "      <td>21910.883</td>\n",
       "      <td>83073.280</td>\n",
       "    </tr>\n",
       "  </tbody>\n",
       "</table>\n",
       "</div>"
      ],
      "text/plain": [
       "                       count         mean           std        min  \\\n",
       "Rio 2016 (G+S+B)     112.000        8.670        16.741      0.000   \n",
       "host_country_rio     112.000        0.009         0.094      0.000   \n",
       "London 2012 (G+B+S)  112.000        8.571        16.888      0.000   \n",
       "host_country_London  112.000        0.009         0.094      0.000   \n",
       "Beijing 2008 (G+S+B) 112.000        8.554        17.314      0.000   \n",
       "host_country_beijing 112.000        0.009         0.094      0.000   \n",
       "Athens 2004 (G+S+B)  112.000        8.277        16.334      0.000   \n",
       "host_country_Athens  112.000        0.009         0.094      0.000   \n",
       "Population 2004      112.000 46414015.420 164403902.695 104346.000   \n",
       "Population 2008      112.000 48537768.991 171004522.770 105457.000   \n",
       "Population 2012      112.000 50702594.098 177109913.675 107452.000   \n",
       "Population 2016      112.000 52862470.054 183020468.508 110263.000   \n",
       "Total Medals (G+S+B) 112.000       34.071        65.898      1.000   \n",
       "HDI Athens 2004      112.000        0.520         0.168      0.120   \n",
       "HDI Beijing 2008     112.000        0.535         0.170      0.140   \n",
       "HDI London 2012      112.000        0.552         0.173      0.130   \n",
       "HDI Rio 2016         112.000        0.582         0.177      0.170   \n",
       "GDP 2004             112.000    11559.085     15097.321    128.337   \n",
       "GDP 2008             112.000    17356.374     21022.581    198.353   \n",
       "GDP 2012             112.000    17879.685     21004.444    252.359   \n",
       "GDP 2016             112.000    16566.477     18572.639    282.193   \n",
       "\n",
       "                             25%         50%          75%            max  \n",
       "Rio 2016 (G+S+B)           1.000       2.500       10.000        121.000  \n",
       "host_country_rio           0.000       0.000        0.000          1.000  \n",
       "London 2012 (G+B+S)        1.000       2.500        8.250        104.000  \n",
       "host_country_London        0.000       0.000        0.000          1.000  \n",
       "Beijing 2008 (G+S+B)       1.000       3.000        7.000        112.000  \n",
       "host_country_beijing       0.000       0.000        0.000          1.000  \n",
       "Athens 2004 (G+S+B)        0.000       3.000        7.000        101.000  \n",
       "host_country_Athens        0.000       0.000        0.000          1.000  \n",
       "Population 2004      4083190.500 7653434.250 27644774.000 1296075000.000  \n",
       "Population 2008      4444584.250 8006496.750 30708002.250 1324655000.000  \n",
       "Population 2012      4551674.750 8963696.250 33571098.500 1350695000.000  \n",
       "Population 2016      4745026.250 9466394.250 35564642.750 1378665000.000  \n",
       "Total Medals (G+S+B)       2.000      11.000       30.250        438.000  \n",
       "HDI Athens 2004            0.440       0.497        0.630          0.840  \n",
       "HDI Beijing 2008           0.450       0.508        0.662          0.850  \n",
       "HDI London 2012            0.467       0.520        0.667          0.870  \n",
       "HDI Rio 2016               0.487       0.550        0.742          0.900  \n",
       "GDP 2004                1949.745    3261.214    18531.548      57603.551  \n",
       "GDP 2008                3979.957    5678.809    25610.681      96944.096  \n",
       "GDP 2012                4304.598    7022.970    24051.678     101524.142  \n",
       "GDP 2016                4097.337    7191.352    21910.883      83073.280  "
      ]
     },
     "execution_count": 83,
     "metadata": {},
     "output_type": "execute_result"
    }
   ],
   "source": [
    "olympics.describe().T"
   ]
  },
  {
   "cell_type": "code",
   "execution_count": 84,
   "metadata": {},
   "outputs": [
    {
     "name": "stdout",
     "output_type": "stream",
     "text": [
      "\u001b[1mStructure of the dataset:\u001b[0m\n",
      "----------------------------------------------------------------------------------------------------\n",
      "\n",
      "The dataset has 112 rows and 22 columns.\n",
      "\n",
      "Total elements in this dataset are 2464\n",
      "\n",
      "\u001b[1mMissing Values Check\u001b[0m\n",
      "----------------------------------------------------------------------------------------------------\n",
      "There are no missing values in the dataset\n",
      "\n",
      "\u001b[1mInfo of the dataset\u001b[0m\n",
      "----------------------------------------------------------------------------------------------------\n",
      "<class 'pandas.core.frame.DataFrame'>\n",
      "Int64Index: 112 entries, 0 to 111\n",
      "Data columns (total 22 columns):\n",
      " #   Column                Non-Null Count  Dtype  \n",
      "---  ------                --------------  -----  \n",
      " 0   Country Name          112 non-null    object \n",
      " 1   Rio 2016 (G+S+B)      112 non-null    float64\n",
      " 2   host_country_rio      112 non-null    int64  \n",
      " 3   London 2012 (G+B+S)   112 non-null    float64\n",
      " 4   host_country_London   112 non-null    int64  \n",
      " 5   Beijing 2008 (G+S+B)  112 non-null    float64\n",
      " 6   host_country_beijing  112 non-null    int64  \n",
      " 7   Athens 2004 (G+S+B)   112 non-null    float64\n",
      " 8   host_country_Athens   112 non-null    int64  \n",
      " 9   Population 2004       112 non-null    float64\n",
      " 10  Population 2008       112 non-null    float64\n",
      " 11  Population 2012       112 non-null    float64\n",
      " 12  Population 2016       112 non-null    float64\n",
      " 13  Total Medals (G+S+B)  112 non-null    float64\n",
      " 14  HDI Athens 2004       112 non-null    float64\n",
      " 15  HDI Beijing 2008      112 non-null    float64\n",
      " 16  HDI London 2012       112 non-null    float64\n",
      " 17  HDI Rio 2016          112 non-null    float64\n",
      " 18  GDP 2004              112 non-null    float64\n",
      " 19  GDP 2008              112 non-null    float64\n",
      " 20  GDP 2012              112 non-null    float64\n",
      " 21  GDP 2016              112 non-null    float64\n",
      "dtypes: float64(17), int64(4), object(1)\n",
      "memory usage: 20.1+ KB\n",
      "None\n",
      "\n",
      "\u001b[1mDuplicate Values Check\u001b[0m\n",
      "----------------------------------------------------------------------------------------------------\n",
      "Number of duplicate rows = 0\n"
     ]
    },
    {
     "data": {
      "text/html": [
       "<div>\n",
       "<style scoped>\n",
       "    .dataframe tbody tr th:only-of-type {\n",
       "        vertical-align: middle;\n",
       "    }\n",
       "\n",
       "    .dataframe tbody tr th {\n",
       "        vertical-align: top;\n",
       "    }\n",
       "\n",
       "    .dataframe thead th {\n",
       "        text-align: right;\n",
       "    }\n",
       "</style>\n",
       "<table border=\"1\" class=\"dataframe\">\n",
       "  <thead>\n",
       "    <tr style=\"text-align: right;\">\n",
       "      <th></th>\n",
       "      <th>Country Name</th>\n",
       "      <th>Rio 2016 (G+S+B)</th>\n",
       "      <th>host_country_rio</th>\n",
       "      <th>London 2012 (G+B+S)</th>\n",
       "      <th>host_country_London</th>\n",
       "      <th>Beijing 2008 (G+S+B)</th>\n",
       "      <th>host_country_beijing</th>\n",
       "      <th>Athens 2004 (G+S+B)</th>\n",
       "      <th>host_country_Athens</th>\n",
       "      <th>Population 2004</th>\n",
       "      <th>...</th>\n",
       "      <th>Population 2016</th>\n",
       "      <th>Total Medals (G+S+B)</th>\n",
       "      <th>HDI Athens 2004</th>\n",
       "      <th>HDI Beijing 2008</th>\n",
       "      <th>HDI London 2012</th>\n",
       "      <th>HDI Rio 2016</th>\n",
       "      <th>GDP 2004</th>\n",
       "      <th>GDP 2008</th>\n",
       "      <th>GDP 2012</th>\n",
       "      <th>GDP 2016</th>\n",
       "    </tr>\n",
       "  </thead>\n",
       "  <tbody>\n",
       "  </tbody>\n",
       "</table>\n",
       "<p>0 rows × 22 columns</p>\n",
       "</div>"
      ],
      "text/plain": [
       "Empty DataFrame\n",
       "Columns: [Country Name, Rio 2016 (G+S+B), host_country_rio, London 2012 (G+B+S), host_country_London, Beijing 2008 (G+S+B), host_country_beijing, Athens 2004 (G+S+B), host_country_Athens, Population 2004, Population 2008, Population 2012, Population 2016, Total Medals (G+S+B), HDI Athens 2004, HDI Beijing 2008, HDI London 2012, HDI Rio 2016, GDP 2004, GDP 2008, GDP 2012, GDP 2016]\n",
       "Index: []\n",
       "\n",
       "[0 rows x 22 columns]"
      ]
     },
     "execution_count": 84,
     "metadata": {},
     "output_type": "execute_result"
    }
   ],
   "source": [
    "initial_steps(df=olympics)"
   ]
  },
  {
   "cell_type": "code",
   "execution_count": 85,
   "metadata": {},
   "outputs": [],
   "source": [
    "train = olympics.copy()"
   ]
  },
  {
   "cell_type": "markdown",
   "metadata": {},
   "source": [
    "### Test dataset"
   ]
  },
  {
   "cell_type": "code",
   "execution_count": 86,
   "metadata": {},
   "outputs": [
    {
     "data": {
      "text/html": [
       "<div>\n",
       "<style scoped>\n",
       "    .dataframe tbody tr th:only-of-type {\n",
       "        vertical-align: middle;\n",
       "    }\n",
       "\n",
       "    .dataframe tbody tr th {\n",
       "        vertical-align: top;\n",
       "    }\n",
       "\n",
       "    .dataframe thead th {\n",
       "        text-align: right;\n",
       "    }\n",
       "</style>\n",
       "<table border=\"1\" class=\"dataframe\">\n",
       "  <thead>\n",
       "    <tr style=\"text-align: right;\">\n",
       "      <th></th>\n",
       "      <th>Country Name</th>\n",
       "      <th>Rio 2016 (G+S+B)</th>\n",
       "      <th>London 2012 (G+B+S)</th>\n",
       "      <th>Beijing 2008 (G+S+B)</th>\n",
       "      <th>Athens 2004 (G+S+B)</th>\n",
       "      <th>host_country</th>\n",
       "    </tr>\n",
       "  </thead>\n",
       "  <tbody>\n",
       "    <tr>\n",
       "      <th>0</th>\n",
       "      <td>United States</td>\n",
       "      <td>121.000</td>\n",
       "      <td>104.000</td>\n",
       "      <td>112.000</td>\n",
       "      <td>101.000</td>\n",
       "      <td>0</td>\n",
       "    </tr>\n",
       "    <tr>\n",
       "      <th>1</th>\n",
       "      <td>United Kingdom</td>\n",
       "      <td>67.000</td>\n",
       "      <td>65.000</td>\n",
       "      <td>51.000</td>\n",
       "      <td>30.000</td>\n",
       "      <td>0</td>\n",
       "    </tr>\n",
       "    <tr>\n",
       "      <th>2</th>\n",
       "      <td>China</td>\n",
       "      <td>70.000</td>\n",
       "      <td>91.000</td>\n",
       "      <td>100.000</td>\n",
       "      <td>63.000</td>\n",
       "      <td>0</td>\n",
       "    </tr>\n",
       "    <tr>\n",
       "      <th>3</th>\n",
       "      <td>Russia</td>\n",
       "      <td>56.000</td>\n",
       "      <td>68.000</td>\n",
       "      <td>60.000</td>\n",
       "      <td>90.000</td>\n",
       "      <td>0</td>\n",
       "    </tr>\n",
       "    <tr>\n",
       "      <th>4</th>\n",
       "      <td>Germany</td>\n",
       "      <td>42.000</td>\n",
       "      <td>44.000</td>\n",
       "      <td>41.000</td>\n",
       "      <td>49.000</td>\n",
       "      <td>0</td>\n",
       "    </tr>\n",
       "  </tbody>\n",
       "</table>\n",
       "</div>"
      ],
      "text/plain": [
       "     Country Name  Rio 2016 (G+S+B)  London 2012 (G+B+S)  \\\n",
       "0   United States           121.000              104.000   \n",
       "1  United Kingdom            67.000               65.000   \n",
       "2           China            70.000               91.000   \n",
       "3          Russia            56.000               68.000   \n",
       "4         Germany            42.000               44.000   \n",
       "\n",
       "   Beijing 2008 (G+S+B)  Athens 2004 (G+S+B)  host_country  \n",
       "0               112.000              101.000             0  \n",
       "1                51.000               30.000             0  \n",
       "2               100.000               63.000             0  \n",
       "3                60.000               90.000             0  \n",
       "4                41.000               49.000             0  "
      ]
     },
     "execution_count": 86,
     "metadata": {},
     "output_type": "execute_result"
    }
   ],
   "source": [
    "test.drop(['host_country_rio','host_country_London','host_country_beijing','host_country_Athens'],axis=1,inplace=True)\n",
    "host = []\n",
    "for i in test['Country Name']:\n",
    "    if i == 'Japan':\n",
    "        host.append(1)\n",
    "    else:\n",
    "        host.append(0)\n",
    "test['host_country'] = host\n",
    "test.head()"
   ]
  },
  {
   "cell_type": "code",
   "execution_count": 87,
   "metadata": {},
   "outputs": [
    {
     "data": {
      "text/html": [
       "<div>\n",
       "<style scoped>\n",
       "    .dataframe tbody tr th:only-of-type {\n",
       "        vertical-align: middle;\n",
       "    }\n",
       "\n",
       "    .dataframe tbody tr th {\n",
       "        vertical-align: top;\n",
       "    }\n",
       "\n",
       "    .dataframe thead th {\n",
       "        text-align: right;\n",
       "    }\n",
       "</style>\n",
       "<table border=\"1\" class=\"dataframe\">\n",
       "  <thead>\n",
       "    <tr style=\"text-align: right;\">\n",
       "      <th></th>\n",
       "      <th>Country Name</th>\n",
       "      <th>Rio 2016 (G+S+B)</th>\n",
       "      <th>London 2012 (G+B+S)</th>\n",
       "      <th>Beijing 2008 (G+S+B)</th>\n",
       "      <th>Athens 2004 (G+S+B)</th>\n",
       "      <th>host_country</th>\n",
       "    </tr>\n",
       "  </thead>\n",
       "  <tbody>\n",
       "    <tr>\n",
       "      <th>5</th>\n",
       "      <td>Japan</td>\n",
       "      <td>41.000</td>\n",
       "      <td>38.000</td>\n",
       "      <td>25.000</td>\n",
       "      <td>37.000</td>\n",
       "      <td>1</td>\n",
       "    </tr>\n",
       "  </tbody>\n",
       "</table>\n",
       "</div>"
      ],
      "text/plain": [
       "  Country Name  Rio 2016 (G+S+B)  London 2012 (G+B+S)  Beijing 2008 (G+S+B)  \\\n",
       "5        Japan            41.000               38.000                25.000   \n",
       "\n",
       "   Athens 2004 (G+S+B)  host_country  \n",
       "5               37.000             1  "
      ]
     },
     "execution_count": 87,
     "metadata": {},
     "output_type": "execute_result"
    }
   ],
   "source": [
    "test[test['host_country']==1]"
   ]
  },
  {
   "cell_type": "code",
   "execution_count": 88,
   "metadata": {},
   "outputs": [],
   "source": [
    "test['Total Medals (G+S+B)'] = test['Rio 2016 (G+S+B)']+test['London 2012 (G+B+S)']+test['Beijing 2008 (G+S+B)']+test['Athens 2004 (G+S+B)']"
   ]
  },
  {
   "attachments": {
    "image.png": {
     "image/png": "[encoded data removed]"
    }
   },
   "cell_type": "markdown",
   "metadata": {},
   "source": [
    "### HDI\n",
    "\n",
    "source: https://en.wikipedia.org/wiki/List_of_countries_by_Human_Development_Index\n",
    "\n",
    "\n",
    "![image.png](attachment:image.png)"
   ]
  },
  {
   "cell_type": "code",
   "execution_count": 89,
   "metadata": {},
   "outputs": [
    {
     "data": {
      "text/html": [
       "<div>\n",
       "<style scoped>\n",
       "    .dataframe tbody tr th:only-of-type {\n",
       "        vertical-align: middle;\n",
       "    }\n",
       "\n",
       "    .dataframe tbody tr th {\n",
       "        vertical-align: top;\n",
       "    }\n",
       "\n",
       "    .dataframe thead th {\n",
       "        text-align: right;\n",
       "    }\n",
       "</style>\n",
       "<table border=\"1\" class=\"dataframe\">\n",
       "  <thead>\n",
       "    <tr style=\"text-align: right;\">\n",
       "      <th></th>\n",
       "      <th>Country Name</th>\n",
       "      <th>HDI (2019)</th>\n",
       "      <th>Population 2021</th>\n",
       "    </tr>\n",
       "  </thead>\n",
       "  <tbody>\n",
       "    <tr>\n",
       "      <th>0</th>\n",
       "      <td>Norway</td>\n",
       "      <td>0.954</td>\n",
       "      <td>5465.630</td>\n",
       "    </tr>\n",
       "    <tr>\n",
       "      <th>1</th>\n",
       "      <td>Switzerland</td>\n",
       "      <td>0.946</td>\n",
       "      <td>8715.494</td>\n",
       "    </tr>\n",
       "    <tr>\n",
       "      <th>2</th>\n",
       "      <td>Ireland</td>\n",
       "      <td>0.942</td>\n",
       "      <td>4982.907</td>\n",
       "    </tr>\n",
       "    <tr>\n",
       "      <th>3</th>\n",
       "      <td>Hong Kong</td>\n",
       "      <td>0.939</td>\n",
       "      <td>7552.810</td>\n",
       "    </tr>\n",
       "    <tr>\n",
       "      <th>4</th>\n",
       "      <td>Germany</td>\n",
       "      <td>0.939</td>\n",
       "      <td>83900.473</td>\n",
       "    </tr>\n",
       "  </tbody>\n",
       "</table>\n",
       "</div>"
      ],
      "text/plain": [
       "  Country Name  HDI (2019)  Population 2021\n",
       "0       Norway       0.954         5465.630\n",
       "1  Switzerland       0.946         8715.494\n",
       "2      Ireland       0.942         4982.907\n",
       "3    Hong Kong       0.939         7552.810\n",
       "4      Germany       0.939        83900.473"
      ]
     },
     "execution_count": 89,
     "metadata": {},
     "output_type": "execute_result"
    }
   ],
   "source": [
    "hdi = pd.read_csv('hdi tokyo.csv')\n",
    "hdi.rename({'country':'Country Name','hdi':'HDI (2019)','pop2021':'Population 2021'},axis=1,inplace=True)\n",
    "hdi.head()"
   ]
  },
  {
   "cell_type": "code",
   "execution_count": 90,
   "metadata": {},
   "outputs": [],
   "source": [
    "test = test.merge(hdi,how='left',on='Country Name')"
   ]
  },
  {
   "cell_type": "code",
   "execution_count": 91,
   "metadata": {},
   "outputs": [
    {
     "data": {
      "text/html": [
       "<div>\n",
       "<style scoped>\n",
       "    .dataframe tbody tr th:only-of-type {\n",
       "        vertical-align: middle;\n",
       "    }\n",
       "\n",
       "    .dataframe tbody tr th {\n",
       "        vertical-align: top;\n",
       "    }\n",
       "\n",
       "    .dataframe thead th {\n",
       "        text-align: right;\n",
       "    }\n",
       "</style>\n",
       "<table border=\"1\" class=\"dataframe\">\n",
       "  <thead>\n",
       "    <tr style=\"text-align: right;\">\n",
       "      <th></th>\n",
       "      <th>Country Name</th>\n",
       "      <th>Rio 2016 (G+S+B)</th>\n",
       "      <th>London 2012 (G+B+S)</th>\n",
       "      <th>Beijing 2008 (G+S+B)</th>\n",
       "      <th>Athens 2004 (G+S+B)</th>\n",
       "      <th>host_country</th>\n",
       "      <th>Total Medals (G+S+B)</th>\n",
       "      <th>HDI (2019)</th>\n",
       "      <th>Population 2021</th>\n",
       "    </tr>\n",
       "  </thead>\n",
       "  <tbody>\n",
       "    <tr>\n",
       "      <th>33</th>\n",
       "      <td>North Korea</td>\n",
       "      <td>7.000</td>\n",
       "      <td>7.000</td>\n",
       "      <td>6.000</td>\n",
       "      <td>5.000</td>\n",
       "      <td>0</td>\n",
       "      <td>25.000</td>\n",
       "      <td>nan</td>\n",
       "      <td>nan</td>\n",
       "    </tr>\n",
       "    <tr>\n",
       "      <th>49</th>\n",
       "      <td>Taiwan</td>\n",
       "      <td>3.000</td>\n",
       "      <td>2.000</td>\n",
       "      <td>4.000</td>\n",
       "      <td>5.000</td>\n",
       "      <td>0</td>\n",
       "      <td>14.000</td>\n",
       "      <td>nan</td>\n",
       "      <td>nan</td>\n",
       "    </tr>\n",
       "    <tr>\n",
       "      <th>54</th>\n",
       "      <td>Kosovo</td>\n",
       "      <td>1.000</td>\n",
       "      <td>0.000</td>\n",
       "      <td>0.000</td>\n",
       "      <td>0.000</td>\n",
       "      <td>0</td>\n",
       "      <td>1.000</td>\n",
       "      <td>nan</td>\n",
       "      <td>nan</td>\n",
       "    </tr>\n",
       "    <tr>\n",
       "      <th>55</th>\n",
       "      <td>Puerto Rico</td>\n",
       "      <td>1.000</td>\n",
       "      <td>2.000</td>\n",
       "      <td>0.000</td>\n",
       "      <td>0.000</td>\n",
       "      <td>0</td>\n",
       "      <td>3.000</td>\n",
       "      <td>nan</td>\n",
       "      <td>nan</td>\n",
       "    </tr>\n",
       "    <tr>\n",
       "      <th>103</th>\n",
       "      <td>Samoa</td>\n",
       "      <td>0.000</td>\n",
       "      <td>0.000</td>\n",
       "      <td>1.000</td>\n",
       "      <td>0.000</td>\n",
       "      <td>0</td>\n",
       "      <td>1.000</td>\n",
       "      <td>nan</td>\n",
       "      <td>nan</td>\n",
       "    </tr>\n",
       "    <tr>\n",
       "      <th>108</th>\n",
       "      <td>Serbia and Montenegro</td>\n",
       "      <td>0.000</td>\n",
       "      <td>0.000</td>\n",
       "      <td>0.000</td>\n",
       "      <td>2.000</td>\n",
       "      <td>0</td>\n",
       "      <td>2.000</td>\n",
       "      <td>nan</td>\n",
       "      <td>nan</td>\n",
       "    </tr>\n",
       "  </tbody>\n",
       "</table>\n",
       "</div>"
      ],
      "text/plain": [
       "              Country Name  Rio 2016 (G+S+B)  London 2012 (G+B+S)  \\\n",
       "33             North Korea             7.000                7.000   \n",
       "49                  Taiwan             3.000                2.000   \n",
       "54                  Kosovo             1.000                0.000   \n",
       "55             Puerto Rico             1.000                2.000   \n",
       "103                  Samoa             0.000                0.000   \n",
       "108  Serbia and Montenegro             0.000                0.000   \n",
       "\n",
       "     Beijing 2008 (G+S+B)  Athens 2004 (G+S+B)  host_country  \\\n",
       "33                  6.000                5.000             0   \n",
       "49                  4.000                5.000             0   \n",
       "54                  0.000                0.000             0   \n",
       "55                  0.000                0.000             0   \n",
       "103                 1.000                0.000             0   \n",
       "108                 0.000                2.000             0   \n",
       "\n",
       "     Total Medals (G+S+B)  HDI (2019)  Population 2021  \n",
       "33                 25.000         nan              nan  \n",
       "49                 14.000         nan              nan  \n",
       "54                  1.000         nan              nan  \n",
       "55                  3.000         nan              nan  \n",
       "103                 1.000         nan              nan  \n",
       "108                 2.000         nan              nan  "
      ]
     },
     "execution_count": 91,
     "metadata": {},
     "output_type": "execute_result"
    }
   ],
   "source": [
    "test[test['HDI (2019)'].isnull()==True]"
   ]
  },
  {
   "cell_type": "markdown",
   "metadata": {},
   "source": [
    "According to UNITED NATIONS DEVELOPMENT PROGRAMME - Human Development Reports, the countries mentioned does not have HDI recorded.\n",
    "\n",
    "source: http://hdr.undp.org/en/countries"
   ]
  },
  {
   "cell_type": "markdown",
   "metadata": {},
   "source": [
    "### GDP\n",
    "\n",
    "\n",
    "\n",
    "source: http://data.uis.unesco.org/#"
   ]
  },
  {
   "cell_type": "code",
   "execution_count": 92,
   "metadata": {},
   "outputs": [
    {
     "data": {
      "text/html": [
       "<div>\n",
       "<style scoped>\n",
       "    .dataframe tbody tr th:only-of-type {\n",
       "        vertical-align: middle;\n",
       "    }\n",
       "\n",
       "    .dataframe tbody tr th {\n",
       "        vertical-align: top;\n",
       "    }\n",
       "\n",
       "    .dataframe thead th {\n",
       "        text-align: right;\n",
       "    }\n",
       "</style>\n",
       "<table border=\"1\" class=\"dataframe\">\n",
       "  <thead>\n",
       "    <tr style=\"text-align: right;\">\n",
       "      <th></th>\n",
       "      <th>Country Name</th>\n",
       "      <th>GDP per capita (US$)</th>\n",
       "    </tr>\n",
       "  </thead>\n",
       "  <tbody>\n",
       "    <tr>\n",
       "      <th>0</th>\n",
       "      <td>Australia</td>\n",
       "      <td>54907</td>\n",
       "    </tr>\n",
       "    <tr>\n",
       "      <th>1</th>\n",
       "      <td>Austria</td>\n",
       "      <td>50277</td>\n",
       "    </tr>\n",
       "    <tr>\n",
       "      <th>2</th>\n",
       "      <td>Belgium</td>\n",
       "      <td>46117</td>\n",
       "    </tr>\n",
       "    <tr>\n",
       "      <th>3</th>\n",
       "      <td>Canada</td>\n",
       "      <td>46195</td>\n",
       "    </tr>\n",
       "    <tr>\n",
       "      <th>4</th>\n",
       "      <td>Czechia</td>\n",
       "      <td>23102</td>\n",
       "    </tr>\n",
       "  </tbody>\n",
       "</table>\n",
       "</div>"
      ],
      "text/plain": [
       "  Country Name  GDP per capita (US$)\n",
       "0    Australia                 54907\n",
       "1      Austria                 50277\n",
       "2      Belgium                 46117\n",
       "3       Canada                 46195\n",
       "4      Czechia                 23102"
      ]
     },
     "execution_count": 92,
     "metadata": {},
     "output_type": "execute_result"
    }
   ],
   "source": [
    "#Read csv downloaded from UNESCO.org\n",
    "gdp = pd.read_csv('DEMO_DS_18072021055010403.csv')\n",
    "\n",
    "#Data Cleaning\n",
    "gdp.drop(['DEMO_IND','Indicator','LOCATION','Time','TIME','Flag Codes','Flags'],axis=1,inplace=True)\n",
    "gdp.rename({'Value':'GDP per capita (US$)','Country':'Country Name'},inplace=True,axis=1)\n",
    "\n",
    "gdp.set_index('Country Name',inplace=True)\n",
    "gdp.rename({'United States of America':'United States',\n",
    " 'United Kingdom of Great Britain and Northern Ireland':'United Kingdom','Russian Federation':'Russia',\n",
    " 'China, Hong Kong Special Administrative Region':'Hong Kong'},axis=0,inplace=True)\n",
    "gdp.reset_index(inplace=True)\n",
    "\n",
    "gdp.head()"
   ]
  },
  {
   "cell_type": "code",
   "execution_count": 93,
   "metadata": {},
   "outputs": [],
   "source": [
    "test = test.merge(gdp,how='left',on='Country Name')"
   ]
  },
  {
   "cell_type": "code",
   "execution_count": 94,
   "metadata": {},
   "outputs": [
    {
     "data": {
      "text/html": [
       "<div>\n",
       "<style scoped>\n",
       "    .dataframe tbody tr th:only-of-type {\n",
       "        vertical-align: middle;\n",
       "    }\n",
       "\n",
       "    .dataframe tbody tr th {\n",
       "        vertical-align: top;\n",
       "    }\n",
       "\n",
       "    .dataframe thead th {\n",
       "        text-align: right;\n",
       "    }\n",
       "</style>\n",
       "<table border=\"1\" class=\"dataframe\">\n",
       "  <thead>\n",
       "    <tr style=\"text-align: right;\">\n",
       "      <th></th>\n",
       "      <th>Country Name</th>\n",
       "      <th>Rio 2016 (G+S+B)</th>\n",
       "      <th>London 2012 (G+B+S)</th>\n",
       "      <th>Beijing 2008 (G+S+B)</th>\n",
       "      <th>Athens 2004 (G+S+B)</th>\n",
       "      <th>host_country</th>\n",
       "      <th>Total Medals (G+S+B)</th>\n",
       "      <th>HDI (2019)</th>\n",
       "      <th>Population 2021</th>\n",
       "      <th>GDP per capita (US$)</th>\n",
       "    </tr>\n",
       "  </thead>\n",
       "  <tbody>\n",
       "    <tr>\n",
       "      <th>7</th>\n",
       "      <td>South Korea</td>\n",
       "      <td>21.000</td>\n",
       "      <td>30.000</td>\n",
       "      <td>32.000</td>\n",
       "      <td>30.000</td>\n",
       "      <td>0</td>\n",
       "      <td>113.000</td>\n",
       "      <td>0.906</td>\n",
       "      <td>51305.186</td>\n",
       "      <td>nan</td>\n",
       "    </tr>\n",
       "    <tr>\n",
       "      <th>17</th>\n",
       "      <td>Cuba</td>\n",
       "      <td>11.000</td>\n",
       "      <td>15.000</td>\n",
       "      <td>30.000</td>\n",
       "      <td>27.000</td>\n",
       "      <td>0</td>\n",
       "      <td>83.000</td>\n",
       "      <td>0.778</td>\n",
       "      <td>11317.505</td>\n",
       "      <td>nan</td>\n",
       "    </tr>\n",
       "    <tr>\n",
       "      <th>24</th>\n",
       "      <td>Iran</td>\n",
       "      <td>8.000</td>\n",
       "      <td>13.000</td>\n",
       "      <td>2.000</td>\n",
       "      <td>6.000</td>\n",
       "      <td>0</td>\n",
       "      <td>29.000</td>\n",
       "      <td>0.797</td>\n",
       "      <td>85028.759</td>\n",
       "      <td>nan</td>\n",
       "    </tr>\n",
       "    <tr>\n",
       "      <th>33</th>\n",
       "      <td>North Korea</td>\n",
       "      <td>7.000</td>\n",
       "      <td>7.000</td>\n",
       "      <td>6.000</td>\n",
       "      <td>5.000</td>\n",
       "      <td>0</td>\n",
       "      <td>25.000</td>\n",
       "      <td>nan</td>\n",
       "      <td>nan</td>\n",
       "      <td>nan</td>\n",
       "    </tr>\n",
       "    <tr>\n",
       "      <th>42</th>\n",
       "      <td>Czech Republic</td>\n",
       "      <td>10.000</td>\n",
       "      <td>11.000</td>\n",
       "      <td>7.000</td>\n",
       "      <td>9.000</td>\n",
       "      <td>0</td>\n",
       "      <td>37.000</td>\n",
       "      <td>0.891</td>\n",
       "      <td>10724.555</td>\n",
       "      <td>nan</td>\n",
       "    </tr>\n",
       "    <tr>\n",
       "      <th>48</th>\n",
       "      <td>Vietnam</td>\n",
       "      <td>2.000</td>\n",
       "      <td>1.000</td>\n",
       "      <td>1.000</td>\n",
       "      <td>0.000</td>\n",
       "      <td>0</td>\n",
       "      <td>4.000</td>\n",
       "      <td>0.693</td>\n",
       "      <td>98168.833</td>\n",
       "      <td>nan</td>\n",
       "    </tr>\n",
       "    <tr>\n",
       "      <th>49</th>\n",
       "      <td>Taiwan</td>\n",
       "      <td>3.000</td>\n",
       "      <td>2.000</td>\n",
       "      <td>4.000</td>\n",
       "      <td>5.000</td>\n",
       "      <td>0</td>\n",
       "      <td>14.000</td>\n",
       "      <td>nan</td>\n",
       "      <td>nan</td>\n",
       "      <td>nan</td>\n",
       "    </tr>\n",
       "    <tr>\n",
       "      <th>51</th>\n",
       "      <td>Ivory Coast</td>\n",
       "      <td>2.000</td>\n",
       "      <td>0.000</td>\n",
       "      <td>0.000</td>\n",
       "      <td>0.000</td>\n",
       "      <td>0</td>\n",
       "      <td>2.000</td>\n",
       "      <td>0.516</td>\n",
       "      <td>27053.629</td>\n",
       "      <td>nan</td>\n",
       "    </tr>\n",
       "    <tr>\n",
       "      <th>54</th>\n",
       "      <td>Kosovo</td>\n",
       "      <td>1.000</td>\n",
       "      <td>0.000</td>\n",
       "      <td>0.000</td>\n",
       "      <td>0.000</td>\n",
       "      <td>0</td>\n",
       "      <td>1.000</td>\n",
       "      <td>nan</td>\n",
       "      <td>nan</td>\n",
       "      <td>nan</td>\n",
       "    </tr>\n",
       "    <tr>\n",
       "      <th>60</th>\n",
       "      <td>Venezuela</td>\n",
       "      <td>3.000</td>\n",
       "      <td>1.000</td>\n",
       "      <td>1.000</td>\n",
       "      <td>2.000</td>\n",
       "      <td>0</td>\n",
       "      <td>7.000</td>\n",
       "      <td>0.726</td>\n",
       "      <td>28704.954</td>\n",
       "      <td>nan</td>\n",
       "    </tr>\n",
       "    <tr>\n",
       "      <th>106</th>\n",
       "      <td>Moldova</td>\n",
       "      <td>0.000</td>\n",
       "      <td>0.000</td>\n",
       "      <td>1.000</td>\n",
       "      <td>0.000</td>\n",
       "      <td>0</td>\n",
       "      <td>1.000</td>\n",
       "      <td>0.711</td>\n",
       "      <td>4024.019</td>\n",
       "      <td>nan</td>\n",
       "    </tr>\n",
       "    <tr>\n",
       "      <th>108</th>\n",
       "      <td>Serbia and Montenegro</td>\n",
       "      <td>0.000</td>\n",
       "      <td>0.000</td>\n",
       "      <td>0.000</td>\n",
       "      <td>2.000</td>\n",
       "      <td>0</td>\n",
       "      <td>2.000</td>\n",
       "      <td>nan</td>\n",
       "      <td>nan</td>\n",
       "      <td>nan</td>\n",
       "    </tr>\n",
       "    <tr>\n",
       "      <th>110</th>\n",
       "      <td>Eritrea</td>\n",
       "      <td>0.000</td>\n",
       "      <td>0.000</td>\n",
       "      <td>0.000</td>\n",
       "      <td>1.000</td>\n",
       "      <td>0</td>\n",
       "      <td>1.000</td>\n",
       "      <td>0.434</td>\n",
       "      <td>3601.467</td>\n",
       "      <td>nan</td>\n",
       "    </tr>\n",
       "    <tr>\n",
       "      <th>111</th>\n",
       "      <td>Syria</td>\n",
       "      <td>0.000</td>\n",
       "      <td>0.000</td>\n",
       "      <td>0.000</td>\n",
       "      <td>1.000</td>\n",
       "      <td>0</td>\n",
       "      <td>1.000</td>\n",
       "      <td>0.549</td>\n",
       "      <td>18275.702</td>\n",
       "      <td>nan</td>\n",
       "    </tr>\n",
       "  </tbody>\n",
       "</table>\n",
       "</div>"
      ],
      "text/plain": [
       "              Country Name  Rio 2016 (G+S+B)  London 2012 (G+B+S)  \\\n",
       "7              South Korea            21.000               30.000   \n",
       "17                    Cuba            11.000               15.000   \n",
       "24                    Iran             8.000               13.000   \n",
       "33             North Korea             7.000                7.000   \n",
       "42          Czech Republic            10.000               11.000   \n",
       "48                 Vietnam             2.000                1.000   \n",
       "49                  Taiwan             3.000                2.000   \n",
       "51             Ivory Coast             2.000                0.000   \n",
       "54                  Kosovo             1.000                0.000   \n",
       "60               Venezuela             3.000                1.000   \n",
       "106                Moldova             0.000                0.000   \n",
       "108  Serbia and Montenegro             0.000                0.000   \n",
       "110                Eritrea             0.000                0.000   \n",
       "111                  Syria             0.000                0.000   \n",
       "\n",
       "     Beijing 2008 (G+S+B)  Athens 2004 (G+S+B)  host_country  \\\n",
       "7                  32.000               30.000             0   \n",
       "17                 30.000               27.000             0   \n",
       "24                  2.000                6.000             0   \n",
       "33                  6.000                5.000             0   \n",
       "42                  7.000                9.000             0   \n",
       "48                  1.000                0.000             0   \n",
       "49                  4.000                5.000             0   \n",
       "51                  0.000                0.000             0   \n",
       "54                  0.000                0.000             0   \n",
       "60                  1.000                2.000             0   \n",
       "106                 1.000                0.000             0   \n",
       "108                 0.000                2.000             0   \n",
       "110                 0.000                1.000             0   \n",
       "111                 0.000                1.000             0   \n",
       "\n",
       "     Total Medals (G+S+B)  HDI (2019)  Population 2021  GDP per capita (US$)  \n",
       "7                 113.000       0.906        51305.186                   nan  \n",
       "17                 83.000       0.778        11317.505                   nan  \n",
       "24                 29.000       0.797        85028.759                   nan  \n",
       "33                 25.000         nan              nan                   nan  \n",
       "42                 37.000       0.891        10724.555                   nan  \n",
       "48                  4.000       0.693        98168.833                   nan  \n",
       "49                 14.000         nan              nan                   nan  \n",
       "51                  2.000       0.516        27053.629                   nan  \n",
       "54                  1.000         nan              nan                   nan  \n",
       "60                  7.000       0.726        28704.954                   nan  \n",
       "106                 1.000       0.711         4024.019                   nan  \n",
       "108                 2.000         nan              nan                   nan  \n",
       "110                 1.000       0.434         3601.467                   nan  \n",
       "111                 1.000       0.549        18275.702                   nan  "
      ]
     },
     "execution_count": 94,
     "metadata": {},
     "output_type": "execute_result"
    }
   ],
   "source": [
    "test[test['GDP per capita (US$)'].isnull()==True]"
   ]
  },
  {
   "cell_type": "markdown",
   "metadata": {},
   "source": [
    "### GDP dataset from The World Bank\n",
    "\n",
    "\n",
    "source: https://data.worldbank.org/indicator/NY.GDP.PCAP.CD"
   ]
  },
  {
   "cell_type": "code",
   "execution_count": 95,
   "metadata": {},
   "outputs": [
    {
     "data": {
      "text/html": [
       "<div>\n",
       "<style scoped>\n",
       "    .dataframe tbody tr th:only-of-type {\n",
       "        vertical-align: middle;\n",
       "    }\n",
       "\n",
       "    .dataframe tbody tr th {\n",
       "        vertical-align: top;\n",
       "    }\n",
       "\n",
       "    .dataframe thead th {\n",
       "        text-align: right;\n",
       "    }\n",
       "</style>\n",
       "<table border=\"1\" class=\"dataframe\">\n",
       "  <thead>\n",
       "    <tr style=\"text-align: right;\">\n",
       "      <th></th>\n",
       "      <th>Country Name</th>\n",
       "      <th>Latest GDP</th>\n",
       "    </tr>\n",
       "  </thead>\n",
       "  <tbody>\n",
       "    <tr>\n",
       "      <th>0</th>\n",
       "      <td>Aruba</td>\n",
       "      <td>30253.279</td>\n",
       "    </tr>\n",
       "    <tr>\n",
       "      <th>1</th>\n",
       "      <td>Africa Eastern and Southern</td>\n",
       "      <td>1326.664</td>\n",
       "    </tr>\n",
       "    <tr>\n",
       "      <th>2</th>\n",
       "      <td>Afghanistan</td>\n",
       "      <td>508.808</td>\n",
       "    </tr>\n",
       "    <tr>\n",
       "      <th>3</th>\n",
       "      <td>Africa Western and Central</td>\n",
       "      <td>1714.427</td>\n",
       "    </tr>\n",
       "    <tr>\n",
       "      <th>4</th>\n",
       "      <td>Angola</td>\n",
       "      <td>1895.771</td>\n",
       "    </tr>\n",
       "  </tbody>\n",
       "</table>\n",
       "</div>"
      ],
      "text/plain": [
       "                  Country Name  Latest GDP\n",
       "0                        Aruba   30253.279\n",
       "1  Africa Eastern and Southern    1326.664\n",
       "2                  Afghanistan     508.808\n",
       "3   Africa Western and Central    1714.427\n",
       "4                       Angola    1895.771"
      ]
     },
     "execution_count": 95,
     "metadata": {},
     "output_type": "execute_result"
    }
   ],
   "source": [
    "gdp_unesco = pd.read_csv('API_NY.GDP.PCAP.CD_DS2_en_csv_v2_2627294.csv')\n",
    "gdp_unesco.drop(['Country Code','Indicator Name','Indicator Code'],axis=1,inplace=True)\n",
    "\n",
    "\n",
    "drop=[]\n",
    "for i in gdp_unesco.iloc[:,1:-1].columns.astype(int):\n",
    "    if i <= 2020:\n",
    "        drop.append(str(i))\n",
    "        \n",
    "gdp_unesco.drop(drop,axis=1,inplace=True)\n",
    "gdp_unesco.head()"
   ]
  },
  {
   "cell_type": "code",
   "execution_count": 96,
   "metadata": {},
   "outputs": [
    {
     "data": {
      "text/html": [
       "<div>\n",
       "<style scoped>\n",
       "    .dataframe tbody tr th:only-of-type {\n",
       "        vertical-align: middle;\n",
       "    }\n",
       "\n",
       "    .dataframe tbody tr th {\n",
       "        vertical-align: top;\n",
       "    }\n",
       "\n",
       "    .dataframe thead th {\n",
       "        text-align: right;\n",
       "    }\n",
       "</style>\n",
       "<table border=\"1\" class=\"dataframe\">\n",
       "  <thead>\n",
       "    <tr style=\"text-align: right;\">\n",
       "      <th></th>\n",
       "      <th>Country Name</th>\n",
       "      <th>Latest GDP</th>\n",
       "    </tr>\n",
       "  </thead>\n",
       "  <tbody>\n",
       "    <tr>\n",
       "      <th>0</th>\n",
       "      <td>Aruba</td>\n",
       "      <td>30253.279</td>\n",
       "    </tr>\n",
       "    <tr>\n",
       "      <th>1</th>\n",
       "      <td>Africa Eastern and Southern</td>\n",
       "      <td>1326.664</td>\n",
       "    </tr>\n",
       "    <tr>\n",
       "      <th>2</th>\n",
       "      <td>Afghanistan</td>\n",
       "      <td>508.808</td>\n",
       "    </tr>\n",
       "    <tr>\n",
       "      <th>3</th>\n",
       "      <td>Africa Western and Central</td>\n",
       "      <td>1714.427</td>\n",
       "    </tr>\n",
       "    <tr>\n",
       "      <th>4</th>\n",
       "      <td>Angola</td>\n",
       "      <td>1895.771</td>\n",
       "    </tr>\n",
       "  </tbody>\n",
       "</table>\n",
       "</div>"
      ],
      "text/plain": [
       "                  Country Name  Latest GDP\n",
       "0                        Aruba   30253.279\n",
       "1  Africa Eastern and Southern    1326.664\n",
       "2                  Afghanistan     508.808\n",
       "3   Africa Western and Central    1714.427\n",
       "4                       Angola    1895.771"
      ]
     },
     "execution_count": 96,
     "metadata": {},
     "output_type": "execute_result"
    }
   ],
   "source": [
    "gdp_unesco.set_index('Country Name',inplace=True)\n",
    "gdp_unesco.rename({'Korea, Rep.':'South Korea','Iran, Islamic Rep.':'Iran',\n",
    "                   'Venezuela, RB':'Venezuela','Syrian Arab Republic':'Syria'},axis=0,inplace=True)\n",
    "gdp_unesco.reset_index(inplace=True)\n",
    "gdp_unesco.head()"
   ]
  },
  {
   "cell_type": "code",
   "execution_count": 97,
   "metadata": {},
   "outputs": [],
   "source": [
    "test = test.merge(gdp_unesco,how='left',on='Country Name')"
   ]
  },
  {
   "cell_type": "code",
   "execution_count": 98,
   "metadata": {},
   "outputs": [],
   "source": [
    "test['GDP per capita (US$)'].fillna(test['Latest GDP'],inplace=True)"
   ]
  },
  {
   "cell_type": "code",
   "execution_count": 99,
   "metadata": {},
   "outputs": [
    {
     "data": {
      "text/html": [
       "<div>\n",
       "<style scoped>\n",
       "    .dataframe tbody tr th:only-of-type {\n",
       "        vertical-align: middle;\n",
       "    }\n",
       "\n",
       "    .dataframe tbody tr th {\n",
       "        vertical-align: top;\n",
       "    }\n",
       "\n",
       "    .dataframe thead th {\n",
       "        text-align: right;\n",
       "    }\n",
       "</style>\n",
       "<table border=\"1\" class=\"dataframe\">\n",
       "  <thead>\n",
       "    <tr style=\"text-align: right;\">\n",
       "      <th></th>\n",
       "      <th>Country Name</th>\n",
       "      <th>Rio 2016 (G+S+B)</th>\n",
       "      <th>London 2012 (G+B+S)</th>\n",
       "      <th>Beijing 2008 (G+S+B)</th>\n",
       "      <th>Athens 2004 (G+S+B)</th>\n",
       "      <th>host_country</th>\n",
       "      <th>Total Medals (G+S+B)</th>\n",
       "      <th>HDI (2019)</th>\n",
       "      <th>Population 2021</th>\n",
       "      <th>GDP per capita (US$)</th>\n",
       "    </tr>\n",
       "  </thead>\n",
       "  <tbody>\n",
       "    <tr>\n",
       "      <th>33</th>\n",
       "      <td>North Korea</td>\n",
       "      <td>7.000</td>\n",
       "      <td>7.000</td>\n",
       "      <td>6.000</td>\n",
       "      <td>5.000</td>\n",
       "      <td>0</td>\n",
       "      <td>25.000</td>\n",
       "      <td>nan</td>\n",
       "      <td>nan</td>\n",
       "      <td>nan</td>\n",
       "    </tr>\n",
       "    <tr>\n",
       "      <th>49</th>\n",
       "      <td>Taiwan</td>\n",
       "      <td>3.000</td>\n",
       "      <td>2.000</td>\n",
       "      <td>4.000</td>\n",
       "      <td>5.000</td>\n",
       "      <td>0</td>\n",
       "      <td>14.000</td>\n",
       "      <td>nan</td>\n",
       "      <td>nan</td>\n",
       "      <td>nan</td>\n",
       "    </tr>\n",
       "    <tr>\n",
       "      <th>51</th>\n",
       "      <td>Ivory Coast</td>\n",
       "      <td>2.000</td>\n",
       "      <td>0.000</td>\n",
       "      <td>0.000</td>\n",
       "      <td>0.000</td>\n",
       "      <td>0</td>\n",
       "      <td>2.000</td>\n",
       "      <td>0.516</td>\n",
       "      <td>27053.629</td>\n",
       "      <td>nan</td>\n",
       "    </tr>\n",
       "    <tr>\n",
       "      <th>108</th>\n",
       "      <td>Serbia and Montenegro</td>\n",
       "      <td>0.000</td>\n",
       "      <td>0.000</td>\n",
       "      <td>0.000</td>\n",
       "      <td>2.000</td>\n",
       "      <td>0</td>\n",
       "      <td>2.000</td>\n",
       "      <td>nan</td>\n",
       "      <td>nan</td>\n",
       "      <td>nan</td>\n",
       "    </tr>\n",
       "  </tbody>\n",
       "</table>\n",
       "</div>"
      ],
      "text/plain": [
       "              Country Name  Rio 2016 (G+S+B)  London 2012 (G+B+S)  \\\n",
       "33             North Korea             7.000                7.000   \n",
       "49                  Taiwan             3.000                2.000   \n",
       "51             Ivory Coast             2.000                0.000   \n",
       "108  Serbia and Montenegro             0.000                0.000   \n",
       "\n",
       "     Beijing 2008 (G+S+B)  Athens 2004 (G+S+B)  host_country  \\\n",
       "33                  6.000                5.000             0   \n",
       "49                  4.000                5.000             0   \n",
       "51                  0.000                0.000             0   \n",
       "108                 0.000                2.000             0   \n",
       "\n",
       "     Total Medals (G+S+B)  HDI (2019)  Population 2021  GDP per capita (US$)  \n",
       "33                 25.000         nan              nan                   nan  \n",
       "49                 14.000         nan              nan                   nan  \n",
       "51                  2.000       0.516        27053.629                   nan  \n",
       "108                 2.000         nan              nan                   nan  "
      ]
     },
     "execution_count": 99,
     "metadata": {},
     "output_type": "execute_result"
    }
   ],
   "source": [
    "test.drop('Latest GDP',inplace=True,axis=1)\n",
    "test[test['GDP per capita (US$)'].isnull()==True]"
   ]
  },
  {
   "cell_type": "markdown",
   "metadata": {},
   "source": [
    "_Missing values in HDI (2019)_"
   ]
  },
  {
   "cell_type": "code",
   "execution_count": 100,
   "metadata": {},
   "outputs": [
    {
     "data": {
      "application/javascript": [
       "\n",
       "        if (window._pyforest_update_imports_cell) { window._pyforest_update_imports_cell('import numpy as np'); }\n",
       "    "
      ],
      "text/plain": [
       "<IPython.core.display.Javascript object>"
      ]
     },
     "metadata": {},
     "output_type": "display_data"
    }
   ],
   "source": [
    "test['HDI (2019)'].replace(np.NaN,0,inplace=True)"
   ]
  },
  {
   "cell_type": "code",
   "execution_count": 101,
   "metadata": {},
   "outputs": [
    {
     "data": {
      "text/html": [
       "<div>\n",
       "<style scoped>\n",
       "    .dataframe tbody tr th:only-of-type {\n",
       "        vertical-align: middle;\n",
       "    }\n",
       "\n",
       "    .dataframe tbody tr th {\n",
       "        vertical-align: top;\n",
       "    }\n",
       "\n",
       "    .dataframe thead th {\n",
       "        text-align: right;\n",
       "    }\n",
       "</style>\n",
       "<table border=\"1\" class=\"dataframe\">\n",
       "  <thead>\n",
       "    <tr style=\"text-align: right;\">\n",
       "      <th></th>\n",
       "      <th>Country Name</th>\n",
       "      <th>Rio 2016 (G+S+B)</th>\n",
       "      <th>London 2012 (G+B+S)</th>\n",
       "      <th>Beijing 2008 (G+S+B)</th>\n",
       "      <th>Athens 2004 (G+S+B)</th>\n",
       "      <th>host_country</th>\n",
       "      <th>Total Medals (G+S+B)</th>\n",
       "      <th>HDI (2019)</th>\n",
       "      <th>Population 2021</th>\n",
       "      <th>GDP per capita (US$)</th>\n",
       "    </tr>\n",
       "  </thead>\n",
       "  <tbody>\n",
       "    <tr>\n",
       "      <th>33</th>\n",
       "      <td>North Korea</td>\n",
       "      <td>7.000</td>\n",
       "      <td>7.000</td>\n",
       "      <td>6.000</td>\n",
       "      <td>5.000</td>\n",
       "      <td>0</td>\n",
       "      <td>25.000</td>\n",
       "      <td>0.000</td>\n",
       "      <td>nan</td>\n",
       "      <td>nan</td>\n",
       "    </tr>\n",
       "    <tr>\n",
       "      <th>49</th>\n",
       "      <td>Taiwan</td>\n",
       "      <td>3.000</td>\n",
       "      <td>2.000</td>\n",
       "      <td>4.000</td>\n",
       "      <td>5.000</td>\n",
       "      <td>0</td>\n",
       "      <td>14.000</td>\n",
       "      <td>0.000</td>\n",
       "      <td>nan</td>\n",
       "      <td>nan</td>\n",
       "    </tr>\n",
       "    <tr>\n",
       "      <th>54</th>\n",
       "      <td>Kosovo</td>\n",
       "      <td>1.000</td>\n",
       "      <td>0.000</td>\n",
       "      <td>0.000</td>\n",
       "      <td>0.000</td>\n",
       "      <td>0</td>\n",
       "      <td>1.000</td>\n",
       "      <td>0.000</td>\n",
       "      <td>nan</td>\n",
       "      <td>4287.201</td>\n",
       "    </tr>\n",
       "    <tr>\n",
       "      <th>55</th>\n",
       "      <td>Puerto Rico</td>\n",
       "      <td>1.000</td>\n",
       "      <td>2.000</td>\n",
       "      <td>0.000</td>\n",
       "      <td>0.000</td>\n",
       "      <td>0</td>\n",
       "      <td>3.000</td>\n",
       "      <td>0.000</td>\n",
       "      <td>nan</td>\n",
       "      <td>32874.000</td>\n",
       "    </tr>\n",
       "    <tr>\n",
       "      <th>103</th>\n",
       "      <td>Samoa</td>\n",
       "      <td>0.000</td>\n",
       "      <td>0.000</td>\n",
       "      <td>1.000</td>\n",
       "      <td>0.000</td>\n",
       "      <td>0</td>\n",
       "      <td>1.000</td>\n",
       "      <td>0.000</td>\n",
       "      <td>nan</td>\n",
       "      <td>4316.000</td>\n",
       "    </tr>\n",
       "    <tr>\n",
       "      <th>108</th>\n",
       "      <td>Serbia and Montenegro</td>\n",
       "      <td>0.000</td>\n",
       "      <td>0.000</td>\n",
       "      <td>0.000</td>\n",
       "      <td>2.000</td>\n",
       "      <td>0</td>\n",
       "      <td>2.000</td>\n",
       "      <td>0.000</td>\n",
       "      <td>nan</td>\n",
       "      <td>nan</td>\n",
       "    </tr>\n",
       "  </tbody>\n",
       "</table>\n",
       "</div>"
      ],
      "text/plain": [
       "              Country Name  Rio 2016 (G+S+B)  London 2012 (G+B+S)  \\\n",
       "33             North Korea             7.000                7.000   \n",
       "49                  Taiwan             3.000                2.000   \n",
       "54                  Kosovo             1.000                0.000   \n",
       "55             Puerto Rico             1.000                2.000   \n",
       "103                  Samoa             0.000                0.000   \n",
       "108  Serbia and Montenegro             0.000                0.000   \n",
       "\n",
       "     Beijing 2008 (G+S+B)  Athens 2004 (G+S+B)  host_country  \\\n",
       "33                  6.000                5.000             0   \n",
       "49                  4.000                5.000             0   \n",
       "54                  0.000                0.000             0   \n",
       "55                  0.000                0.000             0   \n",
       "103                 1.000                0.000             0   \n",
       "108                 0.000                2.000             0   \n",
       "\n",
       "     Total Medals (G+S+B)  HDI (2019)  Population 2021  GDP per capita (US$)  \n",
       "33                 25.000       0.000              nan                   nan  \n",
       "49                 14.000       0.000              nan                   nan  \n",
       "54                  1.000       0.000              nan              4287.201  \n",
       "55                  3.000       0.000              nan             32874.000  \n",
       "103                 1.000       0.000              nan              4316.000  \n",
       "108                 2.000       0.000              nan                   nan  "
      ]
     },
     "execution_count": 101,
     "metadata": {},
     "output_type": "execute_result"
    }
   ],
   "source": [
    "test[test['HDI (2019)'] == 0]"
   ]
  },
  {
   "cell_type": "code",
   "execution_count": 102,
   "metadata": {},
   "outputs": [
    {
     "data": {
      "text/plain": [
       "count   112.000\n",
       "mean      0.734\n",
       "std       0.219\n",
       "min       0.000\n",
       "25%       0.704\n",
       "50%       0.796\n",
       "75%       0.872\n",
       "90%       0.925\n",
       "95%       0.938\n",
       "99%       0.946\n",
       "max       0.954\n",
       "Name: HDI (2019), dtype: float64"
      ]
     },
     "execution_count": 102,
     "metadata": {},
     "output_type": "execute_result"
    }
   ],
   "source": [
    "test['HDI (2019)'].describe(percentiles=[0.25,0.5,0.75,0.9,0.95,0.99])"
   ]
  },
  {
   "cell_type": "code",
   "execution_count": 103,
   "metadata": {},
   "outputs": [],
   "source": [
    "test['HDI (2019)'].replace(0,test['HDI (2019)'].median(),inplace=True)"
   ]
  },
  {
   "cell_type": "markdown",
   "metadata": {},
   "source": [
    "_Missing values in GDP per capita (current US$)_"
   ]
  },
  {
   "cell_type": "code",
   "execution_count": 104,
   "metadata": {},
   "outputs": [
    {
     "data": {
      "application/javascript": [
       "\n",
       "        if (window._pyforest_update_imports_cell) { window._pyforest_update_imports_cell('import numpy as np'); }\n",
       "    "
      ],
      "text/plain": [
       "<IPython.core.display.Javascript object>"
      ]
     },
     "metadata": {},
     "output_type": "display_data"
    }
   ],
   "source": [
    "test['GDP per capita (US$)'].replace(np.NaN,0,inplace=True)"
   ]
  },
  {
   "cell_type": "code",
   "execution_count": 105,
   "metadata": {},
   "outputs": [
    {
     "data": {
      "text/html": [
       "<div>\n",
       "<style scoped>\n",
       "    .dataframe tbody tr th:only-of-type {\n",
       "        vertical-align: middle;\n",
       "    }\n",
       "\n",
       "    .dataframe tbody tr th {\n",
       "        vertical-align: top;\n",
       "    }\n",
       "\n",
       "    .dataframe thead th {\n",
       "        text-align: right;\n",
       "    }\n",
       "</style>\n",
       "<table border=\"1\" class=\"dataframe\">\n",
       "  <thead>\n",
       "    <tr style=\"text-align: right;\">\n",
       "      <th></th>\n",
       "      <th>Country Name</th>\n",
       "      <th>Rio 2016 (G+S+B)</th>\n",
       "      <th>London 2012 (G+B+S)</th>\n",
       "      <th>Beijing 2008 (G+S+B)</th>\n",
       "      <th>Athens 2004 (G+S+B)</th>\n",
       "      <th>host_country</th>\n",
       "      <th>Total Medals (G+S+B)</th>\n",
       "      <th>HDI (2019)</th>\n",
       "      <th>Population 2021</th>\n",
       "      <th>GDP per capita (US$)</th>\n",
       "    </tr>\n",
       "  </thead>\n",
       "  <tbody>\n",
       "    <tr>\n",
       "      <th>33</th>\n",
       "      <td>North Korea</td>\n",
       "      <td>7.000</td>\n",
       "      <td>7.000</td>\n",
       "      <td>6.000</td>\n",
       "      <td>5.000</td>\n",
       "      <td>0</td>\n",
       "      <td>25.000</td>\n",
       "      <td>0.796</td>\n",
       "      <td>nan</td>\n",
       "      <td>0.000</td>\n",
       "    </tr>\n",
       "    <tr>\n",
       "      <th>49</th>\n",
       "      <td>Taiwan</td>\n",
       "      <td>3.000</td>\n",
       "      <td>2.000</td>\n",
       "      <td>4.000</td>\n",
       "      <td>5.000</td>\n",
       "      <td>0</td>\n",
       "      <td>14.000</td>\n",
       "      <td>0.796</td>\n",
       "      <td>nan</td>\n",
       "      <td>0.000</td>\n",
       "    </tr>\n",
       "    <tr>\n",
       "      <th>51</th>\n",
       "      <td>Ivory Coast</td>\n",
       "      <td>2.000</td>\n",
       "      <td>0.000</td>\n",
       "      <td>0.000</td>\n",
       "      <td>0.000</td>\n",
       "      <td>0</td>\n",
       "      <td>2.000</td>\n",
       "      <td>0.516</td>\n",
       "      <td>27053.629</td>\n",
       "      <td>0.000</td>\n",
       "    </tr>\n",
       "    <tr>\n",
       "      <th>108</th>\n",
       "      <td>Serbia and Montenegro</td>\n",
       "      <td>0.000</td>\n",
       "      <td>0.000</td>\n",
       "      <td>0.000</td>\n",
       "      <td>2.000</td>\n",
       "      <td>0</td>\n",
       "      <td>2.000</td>\n",
       "      <td>0.796</td>\n",
       "      <td>nan</td>\n",
       "      <td>0.000</td>\n",
       "    </tr>\n",
       "  </tbody>\n",
       "</table>\n",
       "</div>"
      ],
      "text/plain": [
       "              Country Name  Rio 2016 (G+S+B)  London 2012 (G+B+S)  \\\n",
       "33             North Korea             7.000                7.000   \n",
       "49                  Taiwan             3.000                2.000   \n",
       "51             Ivory Coast             2.000                0.000   \n",
       "108  Serbia and Montenegro             0.000                0.000   \n",
       "\n",
       "     Beijing 2008 (G+S+B)  Athens 2004 (G+S+B)  host_country  \\\n",
       "33                  6.000                5.000             0   \n",
       "49                  4.000                5.000             0   \n",
       "51                  0.000                0.000             0   \n",
       "108                 0.000                2.000             0   \n",
       "\n",
       "     Total Medals (G+S+B)  HDI (2019)  Population 2021  GDP per capita (US$)  \n",
       "33                 25.000       0.796              nan                 0.000  \n",
       "49                 14.000       0.796              nan                 0.000  \n",
       "51                  2.000       0.516        27053.629                 0.000  \n",
       "108                 2.000       0.796              nan                 0.000  "
      ]
     },
     "execution_count": 105,
     "metadata": {},
     "output_type": "execute_result"
    }
   ],
   "source": [
    "test[test['GDP per capita (US$)']==0]"
   ]
  },
  {
   "cell_type": "code",
   "execution_count": 106,
   "metadata": {},
   "outputs": [
    {
     "data": {
      "text/plain": [
       "count     112.000\n",
       "mean    18922.414\n",
       "std     20756.172\n",
       "min         0.000\n",
       "25%      3875.750\n",
       "50%      9734.500\n",
       "75%     30082.781\n",
       "90%     50124.900\n",
       "95%     64933.200\n",
       "99%     78304.490\n",
       "max     81994.000\n",
       "Name: GDP per capita (US$), dtype: float64"
      ]
     },
     "execution_count": 106,
     "metadata": {},
     "output_type": "execute_result"
    }
   ],
   "source": [
    "test['GDP per capita (US$)'].describe(percentiles=[0.25,0.5,0.75,0.9,0.95,0.99])"
   ]
  },
  {
   "cell_type": "code",
   "execution_count": 107,
   "metadata": {},
   "outputs": [],
   "source": [
    "test['GDP per capita (US$)'].replace(0,test['GDP per capita (US$)'].median(),inplace=True)"
   ]
  },
  {
   "cell_type": "markdown",
   "metadata": {},
   "source": [
    "_Missing values in Population_"
   ]
  },
  {
   "cell_type": "code",
   "execution_count": 108,
   "metadata": {},
   "outputs": [
    {
     "data": {
      "text/html": [
       "<div>\n",
       "<style scoped>\n",
       "    .dataframe tbody tr th:only-of-type {\n",
       "        vertical-align: middle;\n",
       "    }\n",
       "\n",
       "    .dataframe tbody tr th {\n",
       "        vertical-align: top;\n",
       "    }\n",
       "\n",
       "    .dataframe thead th {\n",
       "        text-align: right;\n",
       "    }\n",
       "</style>\n",
       "<table border=\"1\" class=\"dataframe\">\n",
       "  <thead>\n",
       "    <tr style=\"text-align: right;\">\n",
       "      <th></th>\n",
       "      <th>Country Name</th>\n",
       "      <th>Rio 2016 (G+S+B)</th>\n",
       "      <th>London 2012 (G+B+S)</th>\n",
       "      <th>Beijing 2008 (G+S+B)</th>\n",
       "      <th>Athens 2004 (G+S+B)</th>\n",
       "      <th>host_country</th>\n",
       "      <th>Total Medals (G+S+B)</th>\n",
       "      <th>HDI (2019)</th>\n",
       "      <th>Population 2021</th>\n",
       "      <th>GDP per capita (US$)</th>\n",
       "    </tr>\n",
       "  </thead>\n",
       "  <tbody>\n",
       "    <tr>\n",
       "      <th>33</th>\n",
       "      <td>North Korea</td>\n",
       "      <td>7.000</td>\n",
       "      <td>7.000</td>\n",
       "      <td>6.000</td>\n",
       "      <td>5.000</td>\n",
       "      <td>0</td>\n",
       "      <td>25.000</td>\n",
       "      <td>0.796</td>\n",
       "      <td>nan</td>\n",
       "      <td>9734.500</td>\n",
       "    </tr>\n",
       "    <tr>\n",
       "      <th>49</th>\n",
       "      <td>Taiwan</td>\n",
       "      <td>3.000</td>\n",
       "      <td>2.000</td>\n",
       "      <td>4.000</td>\n",
       "      <td>5.000</td>\n",
       "      <td>0</td>\n",
       "      <td>14.000</td>\n",
       "      <td>0.796</td>\n",
       "      <td>nan</td>\n",
       "      <td>9734.500</td>\n",
       "    </tr>\n",
       "    <tr>\n",
       "      <th>54</th>\n",
       "      <td>Kosovo</td>\n",
       "      <td>1.000</td>\n",
       "      <td>0.000</td>\n",
       "      <td>0.000</td>\n",
       "      <td>0.000</td>\n",
       "      <td>0</td>\n",
       "      <td>1.000</td>\n",
       "      <td>0.796</td>\n",
       "      <td>nan</td>\n",
       "      <td>4287.201</td>\n",
       "    </tr>\n",
       "    <tr>\n",
       "      <th>55</th>\n",
       "      <td>Puerto Rico</td>\n",
       "      <td>1.000</td>\n",
       "      <td>2.000</td>\n",
       "      <td>0.000</td>\n",
       "      <td>0.000</td>\n",
       "      <td>0</td>\n",
       "      <td>3.000</td>\n",
       "      <td>0.796</td>\n",
       "      <td>nan</td>\n",
       "      <td>32874.000</td>\n",
       "    </tr>\n",
       "    <tr>\n",
       "      <th>103</th>\n",
       "      <td>Samoa</td>\n",
       "      <td>0.000</td>\n",
       "      <td>0.000</td>\n",
       "      <td>1.000</td>\n",
       "      <td>0.000</td>\n",
       "      <td>0</td>\n",
       "      <td>1.000</td>\n",
       "      <td>0.796</td>\n",
       "      <td>nan</td>\n",
       "      <td>4316.000</td>\n",
       "    </tr>\n",
       "    <tr>\n",
       "      <th>108</th>\n",
       "      <td>Serbia and Montenegro</td>\n",
       "      <td>0.000</td>\n",
       "      <td>0.000</td>\n",
       "      <td>0.000</td>\n",
       "      <td>2.000</td>\n",
       "      <td>0</td>\n",
       "      <td>2.000</td>\n",
       "      <td>0.796</td>\n",
       "      <td>nan</td>\n",
       "      <td>9734.500</td>\n",
       "    </tr>\n",
       "  </tbody>\n",
       "</table>\n",
       "</div>"
      ],
      "text/plain": [
       "              Country Name  Rio 2016 (G+S+B)  London 2012 (G+B+S)  \\\n",
       "33             North Korea             7.000                7.000   \n",
       "49                  Taiwan             3.000                2.000   \n",
       "54                  Kosovo             1.000                0.000   \n",
       "55             Puerto Rico             1.000                2.000   \n",
       "103                  Samoa             0.000                0.000   \n",
       "108  Serbia and Montenegro             0.000                0.000   \n",
       "\n",
       "     Beijing 2008 (G+S+B)  Athens 2004 (G+S+B)  host_country  \\\n",
       "33                  6.000                5.000             0   \n",
       "49                  4.000                5.000             0   \n",
       "54                  0.000                0.000             0   \n",
       "55                  0.000                0.000             0   \n",
       "103                 1.000                0.000             0   \n",
       "108                 0.000                2.000             0   \n",
       "\n",
       "     Total Medals (G+S+B)  HDI (2019)  Population 2021  GDP per capita (US$)  \n",
       "33                 25.000       0.796              nan              9734.500  \n",
       "49                 14.000       0.796              nan              9734.500  \n",
       "54                  1.000       0.796              nan              4287.201  \n",
       "55                  3.000       0.796              nan             32874.000  \n",
       "103                 1.000       0.796              nan              4316.000  \n",
       "108                 2.000       0.796              nan              9734.500  "
      ]
     },
     "execution_count": 108,
     "metadata": {},
     "output_type": "execute_result"
    }
   ],
   "source": [
    "test[test['Population 2021'].isnull()==True]"
   ]
  },
  {
   "cell_type": "code",
   "execution_count": 109,
   "metadata": {},
   "outputs": [
    {
     "data": {
      "text/plain": [
       "count       106.000\n",
       "mean      62009.561\n",
       "std      197116.470\n",
       "min         113.021\n",
       "25%        5102.361\n",
       "50%       11474.915\n",
       "75%       45431.708\n",
       "max     1444216.107\n",
       "Name: Population 2021, dtype: float64"
      ]
     },
     "execution_count": 109,
     "metadata": {},
     "output_type": "execute_result"
    }
   ],
   "source": [
    "test['Population 2021'].describe()"
   ]
  },
  {
   "cell_type": "code",
   "execution_count": 110,
   "metadata": {},
   "outputs": [],
   "source": [
    "test.fillna(test['Population 2021'].median(),inplace=True)"
   ]
  },
  {
   "cell_type": "code",
   "execution_count": 111,
   "metadata": {},
   "outputs": [
    {
     "data": {
      "text/plain": [
       "Country Name            0\n",
       "Rio 2016 (G+S+B)        0\n",
       "London 2012 (G+B+S)     0\n",
       "Beijing 2008 (G+S+B)    0\n",
       "Athens 2004 (G+S+B)     0\n",
       "host_country            0\n",
       "Total Medals (G+S+B)    0\n",
       "HDI (2019)              0\n",
       "Population 2021         0\n",
       "GDP per capita (US$)    0\n",
       "dtype: int64"
      ]
     },
     "execution_count": 111,
     "metadata": {},
     "output_type": "execute_result"
    }
   ],
   "source": [
    "test.isnull().sum()"
   ]
  },
  {
   "cell_type": "code",
   "execution_count": 112,
   "metadata": {},
   "outputs": [
    {
     "name": "stdout",
     "output_type": "stream",
     "text": [
      "\u001b[1mStructure of the dataset:\u001b[0m\n",
      "----------------------------------------------------------------------------------------------------\n",
      "\n",
      "The dataset has 112 rows and 10 columns.\n",
      "\n",
      "Total elements in this dataset are 1120\n",
      "\n",
      "\u001b[1mMissing Values Check\u001b[0m\n",
      "----------------------------------------------------------------------------------------------------\n",
      "There are no missing values in the dataset\n",
      "\n",
      "\u001b[1mInfo of the dataset\u001b[0m\n",
      "----------------------------------------------------------------------------------------------------\n",
      "<class 'pandas.core.frame.DataFrame'>\n",
      "Int64Index: 112 entries, 0 to 111\n",
      "Data columns (total 10 columns):\n",
      " #   Column                Non-Null Count  Dtype  \n",
      "---  ------                --------------  -----  \n",
      " 0   Country Name          112 non-null    object \n",
      " 1   Rio 2016 (G+S+B)      112 non-null    float64\n",
      " 2   London 2012 (G+B+S)   112 non-null    float64\n",
      " 3   Beijing 2008 (G+S+B)  112 non-null    float64\n",
      " 4   Athens 2004 (G+S+B)   112 non-null    float64\n",
      " 5   host_country          112 non-null    int64  \n",
      " 6   Total Medals (G+S+B)  112 non-null    float64\n",
      " 7   HDI (2019)            112 non-null    float64\n",
      " 8   Population 2021       112 non-null    float64\n",
      " 9   GDP per capita (US$)  112 non-null    float64\n",
      "dtypes: float64(8), int64(1), object(1)\n",
      "memory usage: 9.6+ KB\n",
      "None\n",
      "\n",
      "\u001b[1mDuplicate Values Check\u001b[0m\n",
      "----------------------------------------------------------------------------------------------------\n",
      "Number of duplicate rows = 0\n"
     ]
    },
    {
     "data": {
      "text/html": [
       "<div>\n",
       "<style scoped>\n",
       "    .dataframe tbody tr th:only-of-type {\n",
       "        vertical-align: middle;\n",
       "    }\n",
       "\n",
       "    .dataframe tbody tr th {\n",
       "        vertical-align: top;\n",
       "    }\n",
       "\n",
       "    .dataframe thead th {\n",
       "        text-align: right;\n",
       "    }\n",
       "</style>\n",
       "<table border=\"1\" class=\"dataframe\">\n",
       "  <thead>\n",
       "    <tr style=\"text-align: right;\">\n",
       "      <th></th>\n",
       "      <th>Country Name</th>\n",
       "      <th>Rio 2016 (G+S+B)</th>\n",
       "      <th>London 2012 (G+B+S)</th>\n",
       "      <th>Beijing 2008 (G+S+B)</th>\n",
       "      <th>Athens 2004 (G+S+B)</th>\n",
       "      <th>host_country</th>\n",
       "      <th>Total Medals (G+S+B)</th>\n",
       "      <th>HDI (2019)</th>\n",
       "      <th>Population 2021</th>\n",
       "      <th>GDP per capita (US$)</th>\n",
       "    </tr>\n",
       "  </thead>\n",
       "  <tbody>\n",
       "  </tbody>\n",
       "</table>\n",
       "</div>"
      ],
      "text/plain": [
       "Empty DataFrame\n",
       "Columns: [Country Name, Rio 2016 (G+S+B), London 2012 (G+B+S), Beijing 2008 (G+S+B), Athens 2004 (G+S+B), host_country, Total Medals (G+S+B), HDI (2019), Population 2021, GDP per capita (US$)]\n",
       "Index: []"
      ]
     },
     "execution_count": 112,
     "metadata": {},
     "output_type": "execute_result"
    }
   ],
   "source": [
    "initial_steps(df=test)"
   ]
  },
  {
   "cell_type": "code",
   "execution_count": 113,
   "metadata": {},
   "outputs": [
    {
     "data": {
      "image/png": "[encoded data removed]",
      "text/plain": [
       "<Figure size 1080x720 with 2 Axes>"
      ]
     },
     "metadata": {
      "needs_background": "light"
     },
     "output_type": "display_data"
    }
   ],
   "source": [
    "plt.figure(figsize=[15,10])\n",
    "sns.heatmap(test.corr(),annot=True,fmt='.2f',vmin=-1,vmax=1,center=0)\n",
    "plt.title('Correation matrix on unscaled data',fontsize=15);"
   ]
  },
  {
   "cell_type": "markdown",
   "metadata": {},
   "source": [
    "### Outliers in Train"
   ]
  },
  {
   "cell_type": "code",
   "execution_count": 114,
   "metadata": {},
   "outputs": [
    {
     "name": "stdout",
     "output_type": "stream",
     "text": [
      "Rio 2016 (G+S+B)           9.000\n",
      "London 2012 (G+B+S)        7.250\n",
      "Beijing 2008 (G+S+B)       6.000\n",
      "Athens 2004 (G+S+B)        7.000\n",
      "host_country               0.000\n",
      "Total Medals (G+S+B)      28.250\n",
      "HDI (2019)                 0.149\n",
      "Population 2021        39225.404\n",
      "GDP per capita (US$)   25772.031\n",
      "dtype: float64\n"
     ]
    }
   ],
   "source": [
    "sorted(train)\n",
    "\n",
    "Q1=test.quantile(0.25)\n",
    "Q3=test.quantile(0.75)\n",
    "IQR=Q3-Q1\n",
    "print(IQR)"
   ]
  },
  {
   "cell_type": "code",
   "execution_count": 115,
   "metadata": {},
   "outputs": [
    {
     "data": {
      "text/html": [
       "<div>\n",
       "<style scoped>\n",
       "    .dataframe tbody tr th:only-of-type {\n",
       "        vertical-align: middle;\n",
       "    }\n",
       "\n",
       "    .dataframe tbody tr th {\n",
       "        vertical-align: top;\n",
       "    }\n",
       "\n",
       "    .dataframe thead th {\n",
       "        text-align: right;\n",
       "    }\n",
       "</style>\n",
       "<table border=\"1\" class=\"dataframe\">\n",
       "  <thead>\n",
       "    <tr style=\"text-align: right;\">\n",
       "      <th></th>\n",
       "      <th>Columns</th>\n",
       "      <th>Outliers in Training data</th>\n",
       "    </tr>\n",
       "  </thead>\n",
       "  <tbody>\n",
       "    <tr>\n",
       "      <th>0</th>\n",
       "      <td>Athens 2004 (G+S+B)</td>\n",
       "      <td>True</td>\n",
       "    </tr>\n",
       "    <tr>\n",
       "      <th>1</th>\n",
       "      <td>Beijing 2008 (G+S+B)</td>\n",
       "      <td>True</td>\n",
       "    </tr>\n",
       "    <tr>\n",
       "      <th>13</th>\n",
       "      <td>London 2012 (G+B+S)</td>\n",
       "      <td>True</td>\n",
       "    </tr>\n",
       "    <tr>\n",
       "      <th>19</th>\n",
       "      <td>Rio 2016 (G+S+B)</td>\n",
       "      <td>True</td>\n",
       "    </tr>\n",
       "    <tr>\n",
       "      <th>20</th>\n",
       "      <td>Total Medals (G+S+B)</td>\n",
       "      <td>True</td>\n",
       "    </tr>\n",
       "  </tbody>\n",
       "</table>\n",
       "</div>"
      ],
      "text/plain": [
       "                 Columns  Outliers in Training data\n",
       "0    Athens 2004 (G+S+B)                       True\n",
       "1   Beijing 2008 (G+S+B)                       True\n",
       "13   London 2012 (G+B+S)                       True\n",
       "19      Rio 2016 (G+S+B)                       True\n",
       "20  Total Medals (G+S+B)                       True"
      ]
     },
     "execution_count": 115,
     "metadata": {},
     "output_type": "execute_result"
    }
   ],
   "source": [
    "iqr = ((train < (Q1 - 1.5 * IQR)) |(train > (Q3 + 1.5 * IQR))).any()\n",
    "iqr = iqr.to_frame().reset_index().rename(columns={'index':'Columns',0:'Outliers in Training data'})\n",
    "outliers = iqr[iqr['Outliers in Training data']==True]\n",
    "outliers"
   ]
  },
  {
   "cell_type": "markdown",
   "metadata": {},
   "source": [
    "### Outliers in test"
   ]
  },
  {
   "cell_type": "code",
   "execution_count": 116,
   "metadata": {},
   "outputs": [
    {
     "name": "stdout",
     "output_type": "stream",
     "text": [
      "Rio 2016 (G+S+B)           9.000\n",
      "London 2012 (G+B+S)        7.250\n",
      "Beijing 2008 (G+S+B)       6.000\n",
      "Athens 2004 (G+S+B)        7.000\n",
      "host_country               0.000\n",
      "Total Medals (G+S+B)      28.250\n",
      "HDI (2019)                 0.149\n",
      "Population 2021        39225.404\n",
      "GDP per capita (US$)   25772.031\n",
      "dtype: float64\n"
     ]
    }
   ],
   "source": [
    "sorted(test)\n",
    "\n",
    "Q1=test.quantile(0.25)\n",
    "Q3=test.quantile(0.75)\n",
    "IQR=Q3-Q1\n",
    "print(IQR)"
   ]
  },
  {
   "cell_type": "code",
   "execution_count": 117,
   "metadata": {},
   "outputs": [
    {
     "data": {
      "text/html": [
       "<div>\n",
       "<style scoped>\n",
       "    .dataframe tbody tr th:only-of-type {\n",
       "        vertical-align: middle;\n",
       "    }\n",
       "\n",
       "    .dataframe tbody tr th {\n",
       "        vertical-align: top;\n",
       "    }\n",
       "\n",
       "    .dataframe thead th {\n",
       "        text-align: right;\n",
       "    }\n",
       "</style>\n",
       "<table border=\"1\" class=\"dataframe\">\n",
       "  <thead>\n",
       "    <tr style=\"text-align: right;\">\n",
       "      <th></th>\n",
       "      <th>Columns</th>\n",
       "      <th>Outliers in testing data</th>\n",
       "    </tr>\n",
       "  </thead>\n",
       "  <tbody>\n",
       "    <tr>\n",
       "      <th>0</th>\n",
       "      <td>Athens 2004 (G+S+B)</td>\n",
       "      <td>True</td>\n",
       "    </tr>\n",
       "    <tr>\n",
       "      <th>1</th>\n",
       "      <td>Beijing 2008 (G+S+B)</td>\n",
       "      <td>True</td>\n",
       "    </tr>\n",
       "    <tr>\n",
       "      <th>3</th>\n",
       "      <td>GDP per capita (US$)</td>\n",
       "      <td>True</td>\n",
       "    </tr>\n",
       "    <tr>\n",
       "      <th>4</th>\n",
       "      <td>HDI (2019)</td>\n",
       "      <td>True</td>\n",
       "    </tr>\n",
       "    <tr>\n",
       "      <th>5</th>\n",
       "      <td>London 2012 (G+B+S)</td>\n",
       "      <td>True</td>\n",
       "    </tr>\n",
       "    <tr>\n",
       "      <th>6</th>\n",
       "      <td>Population 2021</td>\n",
       "      <td>True</td>\n",
       "    </tr>\n",
       "    <tr>\n",
       "      <th>7</th>\n",
       "      <td>Rio 2016 (G+S+B)</td>\n",
       "      <td>True</td>\n",
       "    </tr>\n",
       "    <tr>\n",
       "      <th>8</th>\n",
       "      <td>Total Medals (G+S+B)</td>\n",
       "      <td>True</td>\n",
       "    </tr>\n",
       "    <tr>\n",
       "      <th>9</th>\n",
       "      <td>host_country</td>\n",
       "      <td>True</td>\n",
       "    </tr>\n",
       "  </tbody>\n",
       "</table>\n",
       "</div>"
      ],
      "text/plain": [
       "                Columns  Outliers in testing data\n",
       "0   Athens 2004 (G+S+B)                      True\n",
       "1  Beijing 2008 (G+S+B)                      True\n",
       "3  GDP per capita (US$)                      True\n",
       "4            HDI (2019)                      True\n",
       "5   London 2012 (G+B+S)                      True\n",
       "6       Population 2021                      True\n",
       "7      Rio 2016 (G+S+B)                      True\n",
       "8  Total Medals (G+S+B)                      True\n",
       "9          host_country                      True"
      ]
     },
     "execution_count": 117,
     "metadata": {},
     "output_type": "execute_result"
    }
   ],
   "source": [
    "iqr = ((test < (Q1 - 1.5 * IQR)) |(test > (Q3 + 1.5 * IQR))).any()\n",
    "iqr = iqr.to_frame().reset_index().rename(columns={'index':'Columns',0:'Outliers in testing data'})\n",
    "outliers = iqr[iqr['Outliers in testing data']==True]\n",
    "outliers"
   ]
  },
  {
   "cell_type": "code",
   "execution_count": 118,
   "metadata": {},
   "outputs": [],
   "source": [
    "# Outlier Treatment - Winsorization\n",
    "\n",
    "def remove_outlier(col):\n",
    "    sorted(col)\n",
    "    Q1,Q3=np.percentile(col,[25,75])\n",
    "    IQR=Q3-Q1\n",
    "    lower_range= Q1-(1.5 * IQR)\n",
    "    upper_range= Q3+(1.5 * IQR)\n",
    "    return lower_range, upper_range"
   ]
  },
  {
   "cell_type": "code",
   "execution_count": 119,
   "metadata": {},
   "outputs": [
    {
     "data": {
      "application/javascript": [
       "\n",
       "        if (window._pyforest_update_imports_cell) { window._pyforest_update_imports_cell('import numpy as np'); }\n",
       "    "
      ],
      "text/plain": [
       "<IPython.core.display.Javascript object>"
      ]
     },
     "metadata": {},
     "output_type": "display_data"
    },
    {
     "data": {
      "application/javascript": [
       "\n",
       "        if (window._pyforest_update_imports_cell) { window._pyforest_update_imports_cell('import numpy as np'); }\n",
       "    "
      ],
      "text/plain": [
       "<IPython.core.display.Javascript object>"
      ]
     },
     "metadata": {},
     "output_type": "display_data"
    },
    {
     "data": {
      "application/javascript": [
       "\n",
       "        if (window._pyforest_update_imports_cell) { window._pyforest_update_imports_cell('import numpy as np'); }\n",
       "    "
      ],
      "text/plain": [
       "<IPython.core.display.Javascript object>"
      ]
     },
     "metadata": {},
     "output_type": "display_data"
    },
    {
     "data": {
      "application/javascript": [
       "\n",
       "        if (window._pyforest_update_imports_cell) { window._pyforest_update_imports_cell('import numpy as np'); }\n",
       "    "
      ],
      "text/plain": [
       "<IPython.core.display.Javascript object>"
      ]
     },
     "metadata": {},
     "output_type": "display_data"
    },
    {
     "data": {
      "application/javascript": [
       "\n",
       "        if (window._pyforest_update_imports_cell) { window._pyforest_update_imports_cell('import numpy as np'); }\n",
       "    "
      ],
      "text/plain": [
       "<IPython.core.display.Javascript object>"
      ]
     },
     "metadata": {},
     "output_type": "display_data"
    },
    {
     "data": {
      "application/javascript": [
       "\n",
       "        if (window._pyforest_update_imports_cell) { window._pyforest_update_imports_cell('import numpy as np'); }\n",
       "    "
      ],
      "text/plain": [
       "<IPython.core.display.Javascript object>"
      ]
     },
     "metadata": {},
     "output_type": "display_data"
    },
    {
     "data": {
      "application/javascript": [
       "\n",
       "        if (window._pyforest_update_imports_cell) { window._pyforest_update_imports_cell('import numpy as np'); }\n",
       "    "
      ],
      "text/plain": [
       "<IPython.core.display.Javascript object>"
      ]
     },
     "metadata": {},
     "output_type": "display_data"
    },
    {
     "data": {
      "application/javascript": [
       "\n",
       "        if (window._pyforest_update_imports_cell) { window._pyforest_update_imports_cell('import numpy as np'); }\n",
       "    "
      ],
      "text/plain": [
       "<IPython.core.display.Javascript object>"
      ]
     },
     "metadata": {},
     "output_type": "display_data"
    },
    {
     "data": {
      "application/javascript": [
       "\n",
       "        if (window._pyforest_update_imports_cell) { window._pyforest_update_imports_cell('import numpy as np'); }\n",
       "    "
      ],
      "text/plain": [
       "<IPython.core.display.Javascript object>"
      ]
     },
     "metadata": {},
     "output_type": "display_data"
    },
    {
     "data": {
      "application/javascript": [
       "\n",
       "        if (window._pyforest_update_imports_cell) { window._pyforest_update_imports_cell('import numpy as np'); }\n",
       "    "
      ],
      "text/plain": [
       "<IPython.core.display.Javascript object>"
      ]
     },
     "metadata": {},
     "output_type": "display_data"
    },
    {
     "data": {
      "application/javascript": [
       "\n",
       "        if (window._pyforest_update_imports_cell) { window._pyforest_update_imports_cell('import numpy as np'); }\n",
       "    "
      ],
      "text/plain": [
       "<IPython.core.display.Javascript object>"
      ]
     },
     "metadata": {},
     "output_type": "display_data"
    },
    {
     "data": {
      "application/javascript": [
       "\n",
       "        if (window._pyforest_update_imports_cell) { window._pyforest_update_imports_cell('import numpy as np'); }\n",
       "    "
      ],
      "text/plain": [
       "<IPython.core.display.Javascript object>"
      ]
     },
     "metadata": {},
     "output_type": "display_data"
    },
    {
     "data": {
      "application/javascript": [
       "\n",
       "        if (window._pyforest_update_imports_cell) { window._pyforest_update_imports_cell('import numpy as np'); }\n",
       "    "
      ],
      "text/plain": [
       "<IPython.core.display.Javascript object>"
      ]
     },
     "metadata": {},
     "output_type": "display_data"
    },
    {
     "data": {
      "application/javascript": [
       "\n",
       "        if (window._pyforest_update_imports_cell) { window._pyforest_update_imports_cell('import numpy as np'); }\n",
       "    "
      ],
      "text/plain": [
       "<IPython.core.display.Javascript object>"
      ]
     },
     "metadata": {},
     "output_type": "display_data"
    },
    {
     "data": {
      "application/javascript": [
       "\n",
       "        if (window._pyforest_update_imports_cell) { window._pyforest_update_imports_cell('import numpy as np'); }\n",
       "    "
      ],
      "text/plain": [
       "<IPython.core.display.Javascript object>"
      ]
     },
     "metadata": {},
     "output_type": "display_data"
    },
    {
     "data": {
      "application/javascript": [
       "\n",
       "        if (window._pyforest_update_imports_cell) { window._pyforest_update_imports_cell('import numpy as np'); }\n",
       "    "
      ],
      "text/plain": [
       "<IPython.core.display.Javascript object>"
      ]
     },
     "metadata": {},
     "output_type": "display_data"
    },
    {
     "data": {
      "application/javascript": [
       "\n",
       "        if (window._pyforest_update_imports_cell) { window._pyforest_update_imports_cell('import numpy as np'); }\n",
       "    "
      ],
      "text/plain": [
       "<IPython.core.display.Javascript object>"
      ]
     },
     "metadata": {},
     "output_type": "display_data"
    },
    {
     "data": {
      "application/javascript": [
       "\n",
       "        if (window._pyforest_update_imports_cell) { window._pyforest_update_imports_cell('import numpy as np'); }\n",
       "    "
      ],
      "text/plain": [
       "<IPython.core.display.Javascript object>"
      ]
     },
     "metadata": {},
     "output_type": "display_data"
    },
    {
     "data": {
      "application/javascript": [
       "\n",
       "        if (window._pyforest_update_imports_cell) { window._pyforest_update_imports_cell('import numpy as np'); }\n",
       "    "
      ],
      "text/plain": [
       "<IPython.core.display.Javascript object>"
      ]
     },
     "metadata": {},
     "output_type": "display_data"
    },
    {
     "data": {
      "application/javascript": [
       "\n",
       "        if (window._pyforest_update_imports_cell) { window._pyforest_update_imports_cell('import numpy as np'); }\n",
       "    "
      ],
      "text/plain": [
       "<IPython.core.display.Javascript object>"
      ]
     },
     "metadata": {},
     "output_type": "display_data"
    },
    {
     "data": {
      "application/javascript": [
       "\n",
       "        if (window._pyforest_update_imports_cell) { window._pyforest_update_imports_cell('import numpy as np'); }\n",
       "    "
      ],
      "text/plain": [
       "<IPython.core.display.Javascript object>"
      ]
     },
     "metadata": {},
     "output_type": "display_data"
    },
    {
     "data": {
      "application/javascript": [
       "\n",
       "        if (window._pyforest_update_imports_cell) { window._pyforest_update_imports_cell('import numpy as np'); }\n",
       "    "
      ],
      "text/plain": [
       "<IPython.core.display.Javascript object>"
      ]
     },
     "metadata": {},
     "output_type": "display_data"
    },
    {
     "data": {
      "application/javascript": [
       "\n",
       "        if (window._pyforest_update_imports_cell) { window._pyforest_update_imports_cell('import numpy as np'); }\n",
       "    "
      ],
      "text/plain": [
       "<IPython.core.display.Javascript object>"
      ]
     },
     "metadata": {},
     "output_type": "display_data"
    },
    {
     "data": {
      "application/javascript": [
       "\n",
       "        if (window._pyforest_update_imports_cell) { window._pyforest_update_imports_cell('import numpy as np'); }\n",
       "    "
      ],
      "text/plain": [
       "<IPython.core.display.Javascript object>"
      ]
     },
     "metadata": {},
     "output_type": "display_data"
    },
    {
     "data": {
      "application/javascript": [
       "\n",
       "        if (window._pyforest_update_imports_cell) { window._pyforest_update_imports_cell('import numpy as np'); }\n",
       "    "
      ],
      "text/plain": [
       "<IPython.core.display.Javascript object>"
      ]
     },
     "metadata": {},
     "output_type": "display_data"
    },
    {
     "data": {
      "application/javascript": [
       "\n",
       "        if (window._pyforest_update_imports_cell) { window._pyforest_update_imports_cell('import numpy as np'); }\n",
       "    "
      ],
      "text/plain": [
       "<IPython.core.display.Javascript object>"
      ]
     },
     "metadata": {},
     "output_type": "display_data"
    },
    {
     "data": {
      "application/javascript": [
       "\n",
       "        if (window._pyforest_update_imports_cell) { window._pyforest_update_imports_cell('import numpy as np'); }\n",
       "    "
      ],
      "text/plain": [
       "<IPython.core.display.Javascript object>"
      ]
     },
     "metadata": {},
     "output_type": "display_data"
    },
    {
     "data": {
      "application/javascript": [
       "\n",
       "        if (window._pyforest_update_imports_cell) { window._pyforest_update_imports_cell('import numpy as np'); }\n",
       "    "
      ],
      "text/plain": [
       "<IPython.core.display.Javascript object>"
      ]
     },
     "metadata": {},
     "output_type": "display_data"
    },
    {
     "data": {
      "application/javascript": [
       "\n",
       "        if (window._pyforest_update_imports_cell) { window._pyforest_update_imports_cell('import numpy as np'); }\n",
       "    "
      ],
      "text/plain": [
       "<IPython.core.display.Javascript object>"
      ]
     },
     "metadata": {},
     "output_type": "display_data"
    },
    {
     "data": {
      "application/javascript": [
       "\n",
       "        if (window._pyforest_update_imports_cell) { window._pyforest_update_imports_cell('import numpy as np'); }\n",
       "    "
      ],
      "text/plain": [
       "<IPython.core.display.Javascript object>"
      ]
     },
     "metadata": {},
     "output_type": "display_data"
    },
    {
     "data": {
      "application/javascript": [
       "\n",
       "        if (window._pyforest_update_imports_cell) { window._pyforest_update_imports_cell('import numpy as np'); }\n",
       "    "
      ],
      "text/plain": [
       "<IPython.core.display.Javascript object>"
      ]
     },
     "metadata": {},
     "output_type": "display_data"
    },
    {
     "data": {
      "application/javascript": [
       "\n",
       "        if (window._pyforest_update_imports_cell) { window._pyforest_update_imports_cell('import numpy as np'); }\n",
       "    "
      ],
      "text/plain": [
       "<IPython.core.display.Javascript object>"
      ]
     },
     "metadata": {},
     "output_type": "display_data"
    },
    {
     "data": {
      "application/javascript": [
       "\n",
       "        if (window._pyforest_update_imports_cell) { window._pyforest_update_imports_cell('import numpy as np'); }\n",
       "    "
      ],
      "text/plain": [
       "<IPython.core.display.Javascript object>"
      ]
     },
     "metadata": {},
     "output_type": "display_data"
    },
    {
     "data": {
      "application/javascript": [
       "\n",
       "        if (window._pyforest_update_imports_cell) { window._pyforest_update_imports_cell('import numpy as np'); }\n",
       "    "
      ],
      "text/plain": [
       "<IPython.core.display.Javascript object>"
      ]
     },
     "metadata": {},
     "output_type": "display_data"
    },
    {
     "data": {
      "application/javascript": [
       "\n",
       "        if (window._pyforest_update_imports_cell) { window._pyforest_update_imports_cell('import numpy as np'); }\n",
       "    "
      ],
      "text/plain": [
       "<IPython.core.display.Javascript object>"
      ]
     },
     "metadata": {},
     "output_type": "display_data"
    },
    {
     "data": {
      "application/javascript": [
       "\n",
       "        if (window._pyforest_update_imports_cell) { window._pyforest_update_imports_cell('import numpy as np'); }\n",
       "    "
      ],
      "text/plain": [
       "<IPython.core.display.Javascript object>"
      ]
     },
     "metadata": {},
     "output_type": "display_data"
    },
    {
     "data": {
      "application/javascript": [
       "\n",
       "        if (window._pyforest_update_imports_cell) { window._pyforest_update_imports_cell('import numpy as np'); }\n",
       "    "
      ],
      "text/plain": [
       "<IPython.core.display.Javascript object>"
      ]
     },
     "metadata": {},
     "output_type": "display_data"
    },
    {
     "data": {
      "application/javascript": [
       "\n",
       "        if (window._pyforest_update_imports_cell) { window._pyforest_update_imports_cell('import numpy as np'); }\n",
       "    "
      ],
      "text/plain": [
       "<IPython.core.display.Javascript object>"
      ]
     },
     "metadata": {},
     "output_type": "display_data"
    },
    {
     "data": {
      "application/javascript": [
       "\n",
       "        if (window._pyforest_update_imports_cell) { window._pyforest_update_imports_cell('import numpy as np'); }\n",
       "    "
      ],
      "text/plain": [
       "<IPython.core.display.Javascript object>"
      ]
     },
     "metadata": {},
     "output_type": "display_data"
    },
    {
     "data": {
      "application/javascript": [
       "\n",
       "        if (window._pyforest_update_imports_cell) { window._pyforest_update_imports_cell('import numpy as np'); }\n",
       "    "
      ],
      "text/plain": [
       "<IPython.core.display.Javascript object>"
      ]
     },
     "metadata": {},
     "output_type": "display_data"
    },
    {
     "data": {
      "application/javascript": [
       "\n",
       "        if (window._pyforest_update_imports_cell) { window._pyforest_update_imports_cell('import numpy as np'); }\n",
       "    "
      ],
      "text/plain": [
       "<IPython.core.display.Javascript object>"
      ]
     },
     "metadata": {},
     "output_type": "display_data"
    },
    {
     "data": {
      "application/javascript": [
       "\n",
       "        if (window._pyforest_update_imports_cell) { window._pyforest_update_imports_cell('import numpy as np'); }\n",
       "    "
      ],
      "text/plain": [
       "<IPython.core.display.Javascript object>"
      ]
     },
     "metadata": {},
     "output_type": "display_data"
    },
    {
     "data": {
      "application/javascript": [
       "\n",
       "        if (window._pyforest_update_imports_cell) { window._pyforest_update_imports_cell('import numpy as np'); }\n",
       "    "
      ],
      "text/plain": [
       "<IPython.core.display.Javascript object>"
      ]
     },
     "metadata": {},
     "output_type": "display_data"
    },
    {
     "data": {
      "application/javascript": [
       "\n",
       "        if (window._pyforest_update_imports_cell) { window._pyforest_update_imports_cell('import numpy as np'); }\n",
       "    "
      ],
      "text/plain": [
       "<IPython.core.display.Javascript object>"
      ]
     },
     "metadata": {},
     "output_type": "display_data"
    },
    {
     "data": {
      "application/javascript": [
       "\n",
       "        if (window._pyforest_update_imports_cell) { window._pyforest_update_imports_cell('import numpy as np'); }\n",
       "    "
      ],
      "text/plain": [
       "<IPython.core.display.Javascript object>"
      ]
     },
     "metadata": {},
     "output_type": "display_data"
    },
    {
     "data": {
      "application/javascript": [
       "\n",
       "        if (window._pyforest_update_imports_cell) { window._pyforest_update_imports_cell('import numpy as np'); }\n",
       "    "
      ],
      "text/plain": [
       "<IPython.core.display.Javascript object>"
      ]
     },
     "metadata": {},
     "output_type": "display_data"
    },
    {
     "data": {
      "application/javascript": [
       "\n",
       "        if (window._pyforest_update_imports_cell) { window._pyforest_update_imports_cell('import numpy as np'); }\n",
       "    "
      ],
      "text/plain": [
       "<IPython.core.display.Javascript object>"
      ]
     },
     "metadata": {},
     "output_type": "display_data"
    },
    {
     "data": {
      "application/javascript": [
       "\n",
       "        if (window._pyforest_update_imports_cell) { window._pyforest_update_imports_cell('import numpy as np'); }\n",
       "    "
      ],
      "text/plain": [
       "<IPython.core.display.Javascript object>"
      ]
     },
     "metadata": {},
     "output_type": "display_data"
    },
    {
     "data": {
      "application/javascript": [
       "\n",
       "        if (window._pyforest_update_imports_cell) { window._pyforest_update_imports_cell('import numpy as np'); }\n",
       "    "
      ],
      "text/plain": [
       "<IPython.core.display.Javascript object>"
      ]
     },
     "metadata": {},
     "output_type": "display_data"
    },
    {
     "data": {
      "application/javascript": [
       "\n",
       "        if (window._pyforest_update_imports_cell) { window._pyforest_update_imports_cell('import numpy as np'); }\n",
       "    "
      ],
      "text/plain": [
       "<IPython.core.display.Javascript object>"
      ]
     },
     "metadata": {},
     "output_type": "display_data"
    },
    {
     "data": {
      "application/javascript": [
       "\n",
       "        if (window._pyforest_update_imports_cell) { window._pyforest_update_imports_cell('import numpy as np'); }\n",
       "    "
      ],
      "text/plain": [
       "<IPython.core.display.Javascript object>"
      ]
     },
     "metadata": {},
     "output_type": "display_data"
    },
    {
     "data": {
      "application/javascript": [
       "\n",
       "        if (window._pyforest_update_imports_cell) { window._pyforest_update_imports_cell('import numpy as np'); }\n",
       "    "
      ],
      "text/plain": [
       "<IPython.core.display.Javascript object>"
      ]
     },
     "metadata": {},
     "output_type": "display_data"
    },
    {
     "data": {
      "application/javascript": [
       "\n",
       "        if (window._pyforest_update_imports_cell) { window._pyforest_update_imports_cell('import numpy as np'); }\n",
       "    "
      ],
      "text/plain": [
       "<IPython.core.display.Javascript object>"
      ]
     },
     "metadata": {},
     "output_type": "display_data"
    },
    {
     "data": {
      "application/javascript": [
       "\n",
       "        if (window._pyforest_update_imports_cell) { window._pyforest_update_imports_cell('import numpy as np'); }\n",
       "    "
      ],
      "text/plain": [
       "<IPython.core.display.Javascript object>"
      ]
     },
     "metadata": {},
     "output_type": "display_data"
    },
    {
     "data": {
      "application/javascript": [
       "\n",
       "        if (window._pyforest_update_imports_cell) { window._pyforest_update_imports_cell('import numpy as np'); }\n",
       "    "
      ],
      "text/plain": [
       "<IPython.core.display.Javascript object>"
      ]
     },
     "metadata": {},
     "output_type": "display_data"
    },
    {
     "data": {
      "application/javascript": [
       "\n",
       "        if (window._pyforest_update_imports_cell) { window._pyforest_update_imports_cell('import numpy as np'); }\n",
       "    "
      ],
      "text/plain": [
       "<IPython.core.display.Javascript object>"
      ]
     },
     "metadata": {},
     "output_type": "display_data"
    },
    {
     "data": {
      "application/javascript": [
       "\n",
       "        if (window._pyforest_update_imports_cell) { window._pyforest_update_imports_cell('import numpy as np'); }\n",
       "    "
      ],
      "text/plain": [
       "<IPython.core.display.Javascript object>"
      ]
     },
     "metadata": {},
     "output_type": "display_data"
    },
    {
     "data": {
      "application/javascript": [
       "\n",
       "        if (window._pyforest_update_imports_cell) { window._pyforest_update_imports_cell('import numpy as np'); }\n",
       "    "
      ],
      "text/plain": [
       "<IPython.core.display.Javascript object>"
      ]
     },
     "metadata": {},
     "output_type": "display_data"
    },
    {
     "data": {
      "application/javascript": [
       "\n",
       "        if (window._pyforest_update_imports_cell) { window._pyforest_update_imports_cell('import numpy as np'); }\n",
       "    "
      ],
      "text/plain": [
       "<IPython.core.display.Javascript object>"
      ]
     },
     "metadata": {},
     "output_type": "display_data"
    },
    {
     "data": {
      "application/javascript": [
       "\n",
       "        if (window._pyforest_update_imports_cell) { window._pyforest_update_imports_cell('import numpy as np'); }\n",
       "    "
      ],
      "text/plain": [
       "<IPython.core.display.Javascript object>"
      ]
     },
     "metadata": {},
     "output_type": "display_data"
    },
    {
     "data": {
      "application/javascript": [
       "\n",
       "        if (window._pyforest_update_imports_cell) { window._pyforest_update_imports_cell('import numpy as np'); }\n",
       "    "
      ],
      "text/plain": [
       "<IPython.core.display.Javascript object>"
      ]
     },
     "metadata": {},
     "output_type": "display_data"
    },
    {
     "data": {
      "application/javascript": [
       "\n",
       "        if (window._pyforest_update_imports_cell) { window._pyforest_update_imports_cell('import numpy as np'); }\n",
       "    "
      ],
      "text/plain": [
       "<IPython.core.display.Javascript object>"
      ]
     },
     "metadata": {},
     "output_type": "display_data"
    },
    {
     "data": {
      "application/javascript": [
       "\n",
       "        if (window._pyforest_update_imports_cell) { window._pyforest_update_imports_cell('import numpy as np'); }\n",
       "    "
      ],
      "text/plain": [
       "<IPython.core.display.Javascript object>"
      ]
     },
     "metadata": {},
     "output_type": "display_data"
    }
   ],
   "source": [
    "nums=train.describe().columns.tolist()\n",
    "for column in nums:\n",
    "    lr,ur=remove_outlier(train[column])\n",
    "    train[column]=np.where(train[column]>ur,train[column].quantile(0.95),train[column])\n",
    "    train[column]=np.where(train[column]<lr,train[column].quantile(0.05),train[column])"
   ]
  },
  {
   "cell_type": "code",
   "execution_count": 120,
   "metadata": {},
   "outputs": [
    {
     "data": {
      "text/html": [
       "<div>\n",
       "<style scoped>\n",
       "    .dataframe tbody tr th:only-of-type {\n",
       "        vertical-align: middle;\n",
       "    }\n",
       "\n",
       "    .dataframe tbody tr th {\n",
       "        vertical-align: top;\n",
       "    }\n",
       "\n",
       "    .dataframe thead th {\n",
       "        text-align: right;\n",
       "    }\n",
       "</style>\n",
       "<table border=\"1\" class=\"dataframe\">\n",
       "  <thead>\n",
       "    <tr style=\"text-align: right;\">\n",
       "      <th></th>\n",
       "      <th>count</th>\n",
       "      <th>mean</th>\n",
       "      <th>std</th>\n",
       "      <th>min</th>\n",
       "      <th>25%</th>\n",
       "      <th>50%</th>\n",
       "      <th>75%</th>\n",
       "      <th>max</th>\n",
       "    </tr>\n",
       "  </thead>\n",
       "  <tbody>\n",
       "    <tr>\n",
       "      <th>Rio 2016 (G+S+B)</th>\n",
       "      <td>112.000</td>\n",
       "      <td>7.572</td>\n",
       "      <td>11.457</td>\n",
       "      <td>0.000</td>\n",
       "      <td>1.000</td>\n",
       "      <td>2.500</td>\n",
       "      <td>10.000</td>\n",
       "      <td>41.450</td>\n",
       "    </tr>\n",
       "    <tr>\n",
       "      <th>host_country_rio</th>\n",
       "      <td>112.000</td>\n",
       "      <td>0.000</td>\n",
       "      <td>0.000</td>\n",
       "      <td>0.000</td>\n",
       "      <td>0.000</td>\n",
       "      <td>0.000</td>\n",
       "      <td>0.000</td>\n",
       "      <td>0.000</td>\n",
       "    </tr>\n",
       "    <tr>\n",
       "      <th>London 2012 (G+B+S)</th>\n",
       "      <td>112.000</td>\n",
       "      <td>7.159</td>\n",
       "      <td>10.748</td>\n",
       "      <td>0.000</td>\n",
       "      <td>1.000</td>\n",
       "      <td>2.500</td>\n",
       "      <td>8.250</td>\n",
       "      <td>36.350</td>\n",
       "    </tr>\n",
       "    <tr>\n",
       "      <th>host_country_London</th>\n",
       "      <td>112.000</td>\n",
       "      <td>0.000</td>\n",
       "      <td>0.000</td>\n",
       "      <td>0.000</td>\n",
       "      <td>0.000</td>\n",
       "      <td>0.000</td>\n",
       "      <td>0.000</td>\n",
       "      <td>0.000</td>\n",
       "    </tr>\n",
       "    <tr>\n",
       "      <th>Beijing 2008 (G+S+B)</th>\n",
       "      <td>112.000</td>\n",
       "      <td>8.406</td>\n",
       "      <td>13.651</td>\n",
       "      <td>0.000</td>\n",
       "      <td>1.000</td>\n",
       "      <td>3.000</td>\n",
       "      <td>7.000</td>\n",
       "      <td>41.900</td>\n",
       "    </tr>\n",
       "    <tr>\n",
       "      <th>host_country_beijing</th>\n",
       "      <td>112.000</td>\n",
       "      <td>0.000</td>\n",
       "      <td>0.000</td>\n",
       "      <td>0.000</td>\n",
       "      <td>0.000</td>\n",
       "      <td>0.000</td>\n",
       "      <td>0.000</td>\n",
       "      <td>0.000</td>\n",
       "    </tr>\n",
       "    <tr>\n",
       "      <th>Athens 2004 (G+S+B)</th>\n",
       "      <td>112.000</td>\n",
       "      <td>7.357</td>\n",
       "      <td>11.422</td>\n",
       "      <td>0.000</td>\n",
       "      <td>0.000</td>\n",
       "      <td>3.000</td>\n",
       "      <td>7.000</td>\n",
       "      <td>34.800</td>\n",
       "    </tr>\n",
       "    <tr>\n",
       "      <th>host_country_Athens</th>\n",
       "      <td>112.000</td>\n",
       "      <td>0.000</td>\n",
       "      <td>0.000</td>\n",
       "      <td>0.000</td>\n",
       "      <td>0.000</td>\n",
       "      <td>0.000</td>\n",
       "      <td>0.000</td>\n",
       "      <td>0.000</td>\n",
       "    </tr>\n",
       "    <tr>\n",
       "      <th>Population 2004</th>\n",
       "      <td>112.000</td>\n",
       "      <td>27542146.839</td>\n",
       "      <td>41521754.582</td>\n",
       "      <td>104346.000</td>\n",
       "      <td>4083190.500</td>\n",
       "      <td>7653434.250</td>\n",
       "      <td>27644774.000</td>\n",
       "      <td>131162739.000</td>\n",
       "    </tr>\n",
       "    <tr>\n",
       "      <th>Population 2008</th>\n",
       "      <td>112.000</td>\n",
       "      <td>28324114.203</td>\n",
       "      <td>42559312.059</td>\n",
       "      <td>105457.000</td>\n",
       "      <td>4444584.250</td>\n",
       "      <td>8006496.750</td>\n",
       "      <td>30708002.250</td>\n",
       "      <td>138055979.900</td>\n",
       "    </tr>\n",
       "    <tr>\n",
       "      <th>Population 2012</th>\n",
       "      <td>112.000</td>\n",
       "      <td>29229341.386</td>\n",
       "      <td>43579888.756</td>\n",
       "      <td>107452.000</td>\n",
       "      <td>4551674.750</td>\n",
       "      <td>8963696.250</td>\n",
       "      <td>33571098.500</td>\n",
       "      <td>145448911.350</td>\n",
       "    </tr>\n",
       "    <tr>\n",
       "      <th>Population 2016</th>\n",
       "      <td>112.000</td>\n",
       "      <td>30798462.305</td>\n",
       "      <td>45953560.492</td>\n",
       "      <td>110263.000</td>\n",
       "      <td>4745026.250</td>\n",
       "      <td>9466394.250</td>\n",
       "      <td>35564642.750</td>\n",
       "      <td>153529090.850</td>\n",
       "    </tr>\n",
       "    <tr>\n",
       "      <th>Total Medals (G+S+B)</th>\n",
       "      <td>112.000</td>\n",
       "      <td>32.019</td>\n",
       "      <td>49.459</td>\n",
       "      <td>1.000</td>\n",
       "      <td>2.000</td>\n",
       "      <td>11.000</td>\n",
       "      <td>30.250</td>\n",
       "      <td>156.150</td>\n",
       "    </tr>\n",
       "    <tr>\n",
       "      <th>HDI Athens 2004</th>\n",
       "      <td>112.000</td>\n",
       "      <td>0.521</td>\n",
       "      <td>0.167</td>\n",
       "      <td>0.160</td>\n",
       "      <td>0.440</td>\n",
       "      <td>0.497</td>\n",
       "      <td>0.630</td>\n",
       "      <td>0.840</td>\n",
       "    </tr>\n",
       "    <tr>\n",
       "      <th>HDI Beijing 2008</th>\n",
       "      <td>112.000</td>\n",
       "      <td>0.535</td>\n",
       "      <td>0.170</td>\n",
       "      <td>0.140</td>\n",
       "      <td>0.450</td>\n",
       "      <td>0.508</td>\n",
       "      <td>0.662</td>\n",
       "      <td>0.850</td>\n",
       "    </tr>\n",
       "    <tr>\n",
       "      <th>HDI London 2012</th>\n",
       "      <td>112.000</td>\n",
       "      <td>0.552</td>\n",
       "      <td>0.172</td>\n",
       "      <td>0.180</td>\n",
       "      <td>0.467</td>\n",
       "      <td>0.520</td>\n",
       "      <td>0.667</td>\n",
       "      <td>0.870</td>\n",
       "    </tr>\n",
       "    <tr>\n",
       "      <th>HDI Rio 2016</th>\n",
       "      <td>112.000</td>\n",
       "      <td>0.582</td>\n",
       "      <td>0.177</td>\n",
       "      <td>0.170</td>\n",
       "      <td>0.487</td>\n",
       "      <td>0.550</td>\n",
       "      <td>0.742</td>\n",
       "      <td>0.900</td>\n",
       "    </tr>\n",
       "    <tr>\n",
       "      <th>GDP 2004</th>\n",
       "      <td>112.000</td>\n",
       "      <td>11185.254</td>\n",
       "      <td>14156.575</td>\n",
       "      <td>128.337</td>\n",
       "      <td>1949.745</td>\n",
       "      <td>3261.214</td>\n",
       "      <td>18531.548</td>\n",
       "      <td>42821.751</td>\n",
       "    </tr>\n",
       "    <tr>\n",
       "      <th>GDP 2008</th>\n",
       "      <td>112.000</td>\n",
       "      <td>16546.444</td>\n",
       "      <td>18809.982</td>\n",
       "      <td>198.353</td>\n",
       "      <td>3979.957</td>\n",
       "      <td>5678.809</td>\n",
       "      <td>25610.681</td>\n",
       "      <td>57879.944</td>\n",
       "    </tr>\n",
       "    <tr>\n",
       "      <th>GDP 2012</th>\n",
       "      <td>112.000</td>\n",
       "      <td>16838.804</td>\n",
       "      <td>17998.876</td>\n",
       "      <td>252.359</td>\n",
       "      <td>4304.598</td>\n",
       "      <td>7022.970</td>\n",
       "      <td>24051.678</td>\n",
       "      <td>56667.588</td>\n",
       "    </tr>\n",
       "    <tr>\n",
       "      <th>GDP 2016</th>\n",
       "      <td>112.000</td>\n",
       "      <td>16233.506</td>\n",
       "      <td>17567.594</td>\n",
       "      <td>282.193</td>\n",
       "      <td>4097.337</td>\n",
       "      <td>7191.352</td>\n",
       "      <td>21910.883</td>\n",
       "      <td>56989.832</td>\n",
       "    </tr>\n",
       "  </tbody>\n",
       "</table>\n",
       "</div>"
      ],
      "text/plain": [
       "                       count         mean          std        min         25%  \\\n",
       "Rio 2016 (G+S+B)     112.000        7.572       11.457      0.000       1.000   \n",
       "host_country_rio     112.000        0.000        0.000      0.000       0.000   \n",
       "London 2012 (G+B+S)  112.000        7.159       10.748      0.000       1.000   \n",
       "host_country_London  112.000        0.000        0.000      0.000       0.000   \n",
       "Beijing 2008 (G+S+B) 112.000        8.406       13.651      0.000       1.000   \n",
       "host_country_beijing 112.000        0.000        0.000      0.000       0.000   \n",
       "Athens 2004 (G+S+B)  112.000        7.357       11.422      0.000       0.000   \n",
       "host_country_Athens  112.000        0.000        0.000      0.000       0.000   \n",
       "Population 2004      112.000 27542146.839 41521754.582 104346.000 4083190.500   \n",
       "Population 2008      112.000 28324114.203 42559312.059 105457.000 4444584.250   \n",
       "Population 2012      112.000 29229341.386 43579888.756 107452.000 4551674.750   \n",
       "Population 2016      112.000 30798462.305 45953560.492 110263.000 4745026.250   \n",
       "Total Medals (G+S+B) 112.000       32.019       49.459      1.000       2.000   \n",
       "HDI Athens 2004      112.000        0.521        0.167      0.160       0.440   \n",
       "HDI Beijing 2008     112.000        0.535        0.170      0.140       0.450   \n",
       "HDI London 2012      112.000        0.552        0.172      0.180       0.467   \n",
       "HDI Rio 2016         112.000        0.582        0.177      0.170       0.487   \n",
       "GDP 2004             112.000    11185.254    14156.575    128.337    1949.745   \n",
       "GDP 2008             112.000    16546.444    18809.982    198.353    3979.957   \n",
       "GDP 2012             112.000    16838.804    17998.876    252.359    4304.598   \n",
       "GDP 2016             112.000    16233.506    17567.594    282.193    4097.337   \n",
       "\n",
       "                             50%          75%           max  \n",
       "Rio 2016 (G+S+B)           2.500       10.000        41.450  \n",
       "host_country_rio           0.000        0.000         0.000  \n",
       "London 2012 (G+B+S)        2.500        8.250        36.350  \n",
       "host_country_London        0.000        0.000         0.000  \n",
       "Beijing 2008 (G+S+B)       3.000        7.000        41.900  \n",
       "host_country_beijing       0.000        0.000         0.000  \n",
       "Athens 2004 (G+S+B)        3.000        7.000        34.800  \n",
       "host_country_Athens        0.000        0.000         0.000  \n",
       "Population 2004      7653434.250 27644774.000 131162739.000  \n",
       "Population 2008      8006496.750 30708002.250 138055979.900  \n",
       "Population 2012      8963696.250 33571098.500 145448911.350  \n",
       "Population 2016      9466394.250 35564642.750 153529090.850  \n",
       "Total Medals (G+S+B)      11.000       30.250       156.150  \n",
       "HDI Athens 2004            0.497        0.630         0.840  \n",
       "HDI Beijing 2008           0.508        0.662         0.850  \n",
       "HDI London 2012            0.520        0.667         0.870  \n",
       "HDI Rio 2016               0.550        0.742         0.900  \n",
       "GDP 2004                3261.214    18531.548     42821.751  \n",
       "GDP 2008                5678.809    25610.681     57879.944  \n",
       "GDP 2012                7022.970    24051.678     56667.588  \n",
       "GDP 2016                7191.352    21910.883     56989.832  "
      ]
     },
     "execution_count": 120,
     "metadata": {},
     "output_type": "execute_result"
    }
   ],
   "source": [
    "train.describe().T"
   ]
  },
  {
   "cell_type": "code",
   "execution_count": 121,
   "metadata": {},
   "outputs": [
    {
     "data": {
      "text/html": [
       "<div>\n",
       "<style scoped>\n",
       "    .dataframe tbody tr th:only-of-type {\n",
       "        vertical-align: middle;\n",
       "    }\n",
       "\n",
       "    .dataframe tbody tr th {\n",
       "        vertical-align: top;\n",
       "    }\n",
       "\n",
       "    .dataframe thead th {\n",
       "        text-align: right;\n",
       "    }\n",
       "</style>\n",
       "<table border=\"1\" class=\"dataframe\">\n",
       "  <thead>\n",
       "    <tr style=\"text-align: right;\">\n",
       "      <th></th>\n",
       "      <th>count</th>\n",
       "      <th>mean</th>\n",
       "      <th>std</th>\n",
       "      <th>min</th>\n",
       "      <th>25%</th>\n",
       "      <th>50%</th>\n",
       "      <th>75%</th>\n",
       "      <th>max</th>\n",
       "    </tr>\n",
       "  </thead>\n",
       "  <tbody>\n",
       "    <tr>\n",
       "      <th>Rio 2016 (G+S+B)</th>\n",
       "      <td>112.000</td>\n",
       "      <td>8.670</td>\n",
       "      <td>16.741</td>\n",
       "      <td>0.000</td>\n",
       "      <td>1.000</td>\n",
       "      <td>2.500</td>\n",
       "      <td>10.000</td>\n",
       "      <td>121.000</td>\n",
       "    </tr>\n",
       "    <tr>\n",
       "      <th>London 2012 (G+B+S)</th>\n",
       "      <td>112.000</td>\n",
       "      <td>8.571</td>\n",
       "      <td>16.888</td>\n",
       "      <td>0.000</td>\n",
       "      <td>1.000</td>\n",
       "      <td>2.500</td>\n",
       "      <td>8.250</td>\n",
       "      <td>104.000</td>\n",
       "    </tr>\n",
       "    <tr>\n",
       "      <th>Beijing 2008 (G+S+B)</th>\n",
       "      <td>112.000</td>\n",
       "      <td>8.554</td>\n",
       "      <td>17.314</td>\n",
       "      <td>0.000</td>\n",
       "      <td>1.000</td>\n",
       "      <td>3.000</td>\n",
       "      <td>7.000</td>\n",
       "      <td>112.000</td>\n",
       "    </tr>\n",
       "    <tr>\n",
       "      <th>Athens 2004 (G+S+B)</th>\n",
       "      <td>112.000</td>\n",
       "      <td>8.277</td>\n",
       "      <td>16.334</td>\n",
       "      <td>0.000</td>\n",
       "      <td>0.000</td>\n",
       "      <td>3.000</td>\n",
       "      <td>7.000</td>\n",
       "      <td>101.000</td>\n",
       "    </tr>\n",
       "    <tr>\n",
       "      <th>host_country</th>\n",
       "      <td>112.000</td>\n",
       "      <td>0.009</td>\n",
       "      <td>0.094</td>\n",
       "      <td>0.000</td>\n",
       "      <td>0.000</td>\n",
       "      <td>0.000</td>\n",
       "      <td>0.000</td>\n",
       "      <td>1.000</td>\n",
       "    </tr>\n",
       "    <tr>\n",
       "      <th>Total Medals (G+S+B)</th>\n",
       "      <td>112.000</td>\n",
       "      <td>34.071</td>\n",
       "      <td>65.898</td>\n",
       "      <td>1.000</td>\n",
       "      <td>2.000</td>\n",
       "      <td>11.000</td>\n",
       "      <td>30.250</td>\n",
       "      <td>438.000</td>\n",
       "    </tr>\n",
       "    <tr>\n",
       "      <th>HDI (2019)</th>\n",
       "      <td>112.000</td>\n",
       "      <td>0.777</td>\n",
       "      <td>0.131</td>\n",
       "      <td>0.377</td>\n",
       "      <td>0.724</td>\n",
       "      <td>0.796</td>\n",
       "      <td>0.872</td>\n",
       "      <td>0.954</td>\n",
       "    </tr>\n",
       "    <tr>\n",
       "      <th>Population 2021</th>\n",
       "      <td>112.000</td>\n",
       "      <td>59302.348</td>\n",
       "      <td>192055.417</td>\n",
       "      <td>113.021</td>\n",
       "      <td>5464.403</td>\n",
       "      <td>11474.915</td>\n",
       "      <td>44689.806</td>\n",
       "      <td>1444216.107</td>\n",
       "    </tr>\n",
       "    <tr>\n",
       "      <th>GDP per capita (US$)</th>\n",
       "      <td>112.000</td>\n",
       "      <td>19270.075</td>\n",
       "      <td>20514.283</td>\n",
       "      <td>261.000</td>\n",
       "      <td>4310.750</td>\n",
       "      <td>9736.250</td>\n",
       "      <td>30082.781</td>\n",
       "      <td>81994.000</td>\n",
       "    </tr>\n",
       "  </tbody>\n",
       "</table>\n",
       "</div>"
      ],
      "text/plain": [
       "                       count      mean        std     min      25%       50%  \\\n",
       "Rio 2016 (G+S+B)     112.000     8.670     16.741   0.000    1.000     2.500   \n",
       "London 2012 (G+B+S)  112.000     8.571     16.888   0.000    1.000     2.500   \n",
       "Beijing 2008 (G+S+B) 112.000     8.554     17.314   0.000    1.000     3.000   \n",
       "Athens 2004 (G+S+B)  112.000     8.277     16.334   0.000    0.000     3.000   \n",
       "host_country         112.000     0.009      0.094   0.000    0.000     0.000   \n",
       "Total Medals (G+S+B) 112.000    34.071     65.898   1.000    2.000    11.000   \n",
       "HDI (2019)           112.000     0.777      0.131   0.377    0.724     0.796   \n",
       "Population 2021      112.000 59302.348 192055.417 113.021 5464.403 11474.915   \n",
       "GDP per capita (US$) 112.000 19270.075  20514.283 261.000 4310.750  9736.250   \n",
       "\n",
       "                           75%         max  \n",
       "Rio 2016 (G+S+B)        10.000     121.000  \n",
       "London 2012 (G+B+S)      8.250     104.000  \n",
       "Beijing 2008 (G+S+B)     7.000     112.000  \n",
       "Athens 2004 (G+S+B)      7.000     101.000  \n",
       "host_country             0.000       1.000  \n",
       "Total Medals (G+S+B)    30.250     438.000  \n",
       "HDI (2019)               0.872       0.954  \n",
       "Population 2021      44689.806 1444216.107  \n",
       "GDP per capita (US$) 30082.781   81994.000  "
      ]
     },
     "execution_count": 121,
     "metadata": {},
     "output_type": "execute_result"
    }
   ],
   "source": [
    "test.describe().T"
   ]
  },
  {
   "cell_type": "code",
   "execution_count": 122,
   "metadata": {},
   "outputs": [],
   "source": [
    "# train.to_csv('train.csv',index=False)\n",
    "# test.to_csv('test.csv',index=False)"
   ]
  },
  {
   "cell_type": "code",
   "execution_count": 123,
   "metadata": {},
   "outputs": [],
   "source": [
    "X = train.drop(['Country Name','Rio 2016 (G+S+B)'],axis=1)\n",
    "y = train['Rio 2016 (G+S+B)']"
   ]
  },
  {
   "cell_type": "code",
   "execution_count": 124,
   "metadata": {},
   "outputs": [],
   "source": [
    "from sklearn.model_selection import train_test_split\n",
    "\n",
    "X_train, X_test, y_train, y_test = train_test_split(X, y, test_size=0.3, random_state=42)"
   ]
  },
  {
   "cell_type": "code",
   "execution_count": 125,
   "metadata": {},
   "outputs": [],
   "source": [
    "from sklearn.preprocessing import StandardScaler\n",
    "\n",
    "scale = StandardScaler()\n",
    "\n",
    "X_train = scale.fit_transform(X_train)\n",
    "X_test = scale.transform(X_test)"
   ]
  },
  {
   "cell_type": "code",
   "execution_count": 126,
   "metadata": {},
   "outputs": [],
   "source": [
    "from sklearn import metrics\n",
    "from sklearn.model_selection import cross_val_score\n",
    "\n",
    "def cross_val(model):\n",
    "    pred = cross_val_score(model, X, y, cv=10)\n",
    "    return pred.mean()\n",
    "\n",
    "def print_evaluate(true, predicted):  \n",
    "    mae = metrics.mean_absolute_error(true, predicted)\n",
    "    mse = metrics.mean_squared_error(true, predicted)\n",
    "    rmse = np.sqrt(metrics.mean_squared_error(true, predicted))\n",
    "    r2_square = metrics.r2_score(true, predicted)\n",
    "    print('mean_absolute_error:', mae)\n",
    "    print('mean_squared_error:', mse)\n",
    "    print('RMSE:', rmse)\n",
    "    print('R2 Square', r2_square)\n",
    "    print('=============')\n",
    "    \n",
    "def evaluate(true, predicted):\n",
    "    mae = metrics.mean_absolute_error(true, predicted)\n",
    "    mse = metrics.mean_squared_error(true, predicted)\n",
    "    rmse = np.sqrt(metrics.mean_squared_error(true, predicted))\n",
    "    r2_square = metrics.r2_score(true, predicted)\n",
    "    return mae, mse, rmse, r2_square"
   ]
  },
  {
   "cell_type": "code",
   "execution_count": 127,
   "metadata": {},
   "outputs": [],
   "source": [
    "from sklearn.preprocessing import StandardScaler\n",
    "\n",
    "scale = StandardScaler()\n",
    "\n",
    "X_train = scale.fit_transform(X_train)\n",
    "X_test = scale.transform(X_test)"
   ]
  },
  {
   "cell_type": "code",
   "execution_count": 128,
   "metadata": {},
   "outputs": [
    {
     "data": {
      "text/plain": [
       "LinearRegression(normalize=True)"
      ]
     },
     "execution_count": 128,
     "metadata": {},
     "output_type": "execute_result"
    }
   ],
   "source": [
    "from sklearn.linear_model import LinearRegression\n",
    "\n",
    "lin_reg = LinearRegression(normalize=True)\n",
    "lin_reg.fit(X_train,y_train)"
   ]
  },
  {
   "cell_type": "code",
   "execution_count": 129,
   "metadata": {},
   "outputs": [
    {
     "name": "stdout",
     "output_type": "stream",
     "text": [
      "7.226923076923077\n"
     ]
    }
   ],
   "source": [
    "# print the intercept\n",
    "print(lin_reg.intercept_)"
   ]
  },
  {
   "cell_type": "code",
   "execution_count": 130,
   "metadata": {},
   "outputs": [
    {
     "data": {
      "text/html": [
       "<div>\n",
       "<style scoped>\n",
       "    .dataframe tbody tr th:only-of-type {\n",
       "        vertical-align: middle;\n",
       "    }\n",
       "\n",
       "    .dataframe tbody tr th {\n",
       "        vertical-align: top;\n",
       "    }\n",
       "\n",
       "    .dataframe thead th {\n",
       "        text-align: right;\n",
       "    }\n",
       "</style>\n",
       "<table border=\"1\" class=\"dataframe\">\n",
       "  <thead>\n",
       "    <tr style=\"text-align: right;\">\n",
       "      <th></th>\n",
       "      <th>Coefficient</th>\n",
       "    </tr>\n",
       "  </thead>\n",
       "  <tbody>\n",
       "    <tr>\n",
       "      <th>host_country_rio</th>\n",
       "      <td>0.000</td>\n",
       "    </tr>\n",
       "    <tr>\n",
       "      <th>London 2012 (G+B+S)</th>\n",
       "      <td>9.633</td>\n",
       "    </tr>\n",
       "    <tr>\n",
       "      <th>host_country_London</th>\n",
       "      <td>0.000</td>\n",
       "    </tr>\n",
       "    <tr>\n",
       "      <th>Beijing 2008 (G+S+B)</th>\n",
       "      <td>-1.764</td>\n",
       "    </tr>\n",
       "    <tr>\n",
       "      <th>host_country_beijing</th>\n",
       "      <td>-0.000</td>\n",
       "    </tr>\n",
       "    <tr>\n",
       "      <th>Athens 2004 (G+S+B)</th>\n",
       "      <td>-1.266</td>\n",
       "    </tr>\n",
       "    <tr>\n",
       "      <th>host_country_Athens</th>\n",
       "      <td>-0.000</td>\n",
       "    </tr>\n",
       "    <tr>\n",
       "      <th>Population 2004</th>\n",
       "      <td>0.174</td>\n",
       "    </tr>\n",
       "    <tr>\n",
       "      <th>Population 2008</th>\n",
       "      <td>-10.933</td>\n",
       "    </tr>\n",
       "    <tr>\n",
       "      <th>Population 2012</th>\n",
       "      <td>45.689</td>\n",
       "    </tr>\n",
       "    <tr>\n",
       "      <th>Population 2016</th>\n",
       "      <td>-34.572</td>\n",
       "    </tr>\n",
       "    <tr>\n",
       "      <th>Total Medals (G+S+B)</th>\n",
       "      <td>3.533</td>\n",
       "    </tr>\n",
       "    <tr>\n",
       "      <th>HDI Athens 2004</th>\n",
       "      <td>3.853</td>\n",
       "    </tr>\n",
       "    <tr>\n",
       "      <th>HDI Beijing 2008</th>\n",
       "      <td>6.576</td>\n",
       "    </tr>\n",
       "    <tr>\n",
       "      <th>HDI London 2012</th>\n",
       "      <td>-8.922</td>\n",
       "    </tr>\n",
       "    <tr>\n",
       "      <th>HDI Rio 2016</th>\n",
       "      <td>-1.682</td>\n",
       "    </tr>\n",
       "    <tr>\n",
       "      <th>GDP 2004</th>\n",
       "      <td>4.311</td>\n",
       "    </tr>\n",
       "    <tr>\n",
       "      <th>GDP 2008</th>\n",
       "      <td>-4.481</td>\n",
       "    </tr>\n",
       "    <tr>\n",
       "      <th>GDP 2012</th>\n",
       "      <td>2.886</td>\n",
       "    </tr>\n",
       "    <tr>\n",
       "      <th>GDP 2016</th>\n",
       "      <td>-2.271</td>\n",
       "    </tr>\n",
       "  </tbody>\n",
       "</table>\n",
       "</div>"
      ],
      "text/plain": [
       "                      Coefficient\n",
       "host_country_rio            0.000\n",
       "London 2012 (G+B+S)         9.633\n",
       "host_country_London         0.000\n",
       "Beijing 2008 (G+S+B)       -1.764\n",
       "host_country_beijing       -0.000\n",
       "Athens 2004 (G+S+B)        -1.266\n",
       "host_country_Athens        -0.000\n",
       "Population 2004             0.174\n",
       "Population 2008           -10.933\n",
       "Population 2012            45.689\n",
       "Population 2016           -34.572\n",
       "Total Medals (G+S+B)        3.533\n",
       "HDI Athens 2004             3.853\n",
       "HDI Beijing 2008            6.576\n",
       "HDI London 2012            -8.922\n",
       "HDI Rio 2016               -1.682\n",
       "GDP 2004                    4.311\n",
       "GDP 2008                   -4.481\n",
       "GDP 2012                    2.886\n",
       "GDP 2016                   -2.271"
      ]
     },
     "execution_count": 130,
     "metadata": {},
     "output_type": "execute_result"
    }
   ],
   "source": [
    "coeff_df = pd.DataFrame(lin_reg.coef_, X.columns, columns=['Coefficient'])\n",
    "coeff_df\n"
   ]
  },
  {
   "cell_type": "code",
   "execution_count": 131,
   "metadata": {},
   "outputs": [],
   "source": [
    "pred = lin_reg.predict(X_test)"
   ]
  },
  {
   "cell_type": "code",
   "execution_count": 132,
   "metadata": {},
   "outputs": [
    {
     "data": {
      "text/plain": [
       "<matplotlib.collections.PathCollection at 0x1ec555efeb0>"
      ]
     },
     "execution_count": 132,
     "metadata": {},
     "output_type": "execute_result"
    },
    {
     "data": {
      "image/png": "[encoded data removed]",
      "text/plain": [
       "<Figure size 432x288 with 1 Axes>"
      ]
     },
     "metadata": {
      "needs_background": "light"
     },
     "output_type": "display_data"
    }
   ],
   "source": [
    "plt.scatter(y_test, pred)"
   ]
  },
  {
   "cell_type": "code",
   "execution_count": 133,
   "metadata": {},
   "outputs": [
    {
     "data": {
      "image/png": "[encoded data removed]",
      "text/plain": [
       "<Figure size 432x288 with 1 Axes>"
      ]
     },
     "metadata": {
      "needs_background": "light"
     },
     "output_type": "display_data"
    }
   ],
   "source": [
    "sns.distplot((y_test - pred), bins=50);"
   ]
  },
  {
   "cell_type": "code",
   "execution_count": 134,
   "metadata": {},
   "outputs": [
    {
     "name": "stdout",
     "output_type": "stream",
     "text": [
      "Test set evaluation:\n",
      "-----------------------------\n"
     ]
    },
    {
     "data": {
      "application/javascript": [
       "\n",
       "        if (window._pyforest_update_imports_cell) { window._pyforest_update_imports_cell('import numpy as np'); }\n",
       "    "
      ],
      "text/plain": [
       "<IPython.core.display.Javascript object>"
      ]
     },
     "metadata": {},
     "output_type": "display_data"
    },
    {
     "name": "stdout",
     "output_type": "stream",
     "text": [
      "mean_absolute_error: 3.6515170521048295\n",
      "mean_squared_error: 43.633001238516655\n",
      "RMSE: 6.6055280817294735\n",
      "R2 Square 0.6823443967068052\n",
      "=============\n",
      "Train set evaluation:\n",
      "-----------------------------\n"
     ]
    },
    {
     "data": {
      "application/javascript": [
       "\n",
       "        if (window._pyforest_update_imports_cell) { window._pyforest_update_imports_cell('import numpy as np'); }\n",
       "    "
      ],
      "text/plain": [
       "<IPython.core.display.Javascript object>"
      ]
     },
     "metadata": {},
     "output_type": "display_data"
    },
    {
     "name": "stdout",
     "output_type": "stream",
     "text": [
      "mean_absolute_error: 1.930838033879719\n",
      "mean_squared_error: 8.372136838821191\n",
      "RMSE: 2.893464504503415\n",
      "R2 Square 0.9338358654462067\n",
      "=============\n"
     ]
    }
   ],
   "source": [
    "test_pred = lin_reg.predict(X_test)\n",
    "train_pred = lin_reg.predict(X_train)\n",
    "\n",
    "print('Test set evaluation:\\n-----------------------------')\n",
    "print_evaluate(y_test, test_pred)\n",
    "print('Train set evaluation:\\n-----------------------------')\n",
    "print_evaluate(y_train, train_pred)"
   ]
  },
  {
   "cell_type": "code",
   "execution_count": 135,
   "metadata": {},
   "outputs": [
    {
     "data": {
      "application/javascript": [
       "\n",
       "        if (window._pyforest_update_imports_cell) { window._pyforest_update_imports_cell('import numpy as np'); }\n",
       "    "
      ],
      "text/plain": [
       "<IPython.core.display.Javascript object>"
      ]
     },
     "metadata": {},
     "output_type": "display_data"
    },
    {
     "data": {
      "text/html": [
       "<div>\n",
       "<style scoped>\n",
       "    .dataframe tbody tr th:only-of-type {\n",
       "        vertical-align: middle;\n",
       "    }\n",
       "\n",
       "    .dataframe tbody tr th {\n",
       "        vertical-align: top;\n",
       "    }\n",
       "\n",
       "    .dataframe thead th {\n",
       "        text-align: right;\n",
       "    }\n",
       "</style>\n",
       "<table border=\"1\" class=\"dataframe\">\n",
       "  <thead>\n",
       "    <tr style=\"text-align: right;\">\n",
       "      <th></th>\n",
       "      <th>Model</th>\n",
       "      <th>MAE</th>\n",
       "      <th>MSE</th>\n",
       "      <th>RMSE</th>\n",
       "      <th>R2 Square</th>\n",
       "      <th>Cross Validation</th>\n",
       "    </tr>\n",
       "  </thead>\n",
       "  <tbody>\n",
       "    <tr>\n",
       "      <th>0</th>\n",
       "      <td>Linear Regression</td>\n",
       "      <td>3.652</td>\n",
       "      <td>43.633</td>\n",
       "      <td>6.606</td>\n",
       "      <td>0.682</td>\n",
       "      <td>-6.319</td>\n",
       "    </tr>\n",
       "  </tbody>\n",
       "</table>\n",
       "</div>"
      ],
      "text/plain": [
       "               Model   MAE    MSE  RMSE  R2 Square  Cross Validation\n",
       "0  Linear Regression 3.652 43.633 6.606      0.682            -6.319"
      ]
     },
     "execution_count": 135,
     "metadata": {},
     "output_type": "execute_result"
    }
   ],
   "source": [
    "results_df = pd.DataFrame(data=[[\"Linear Regression\", *evaluate(y_test, test_pred) , cross_val(LinearRegression())]], \n",
    "                          columns=['Model', 'MAE', 'MSE', 'RMSE', 'R2 Square', \"Cross Validation\"])\n",
    "results_df"
   ]
  },
  {
   "cell_type": "code",
   "execution_count": 136,
   "metadata": {},
   "outputs": [
    {
     "name": "stdout",
     "output_type": "stream",
     "text": [
      "Test set evaluation:\n",
      "-----------------------------\n"
     ]
    },
    {
     "data": {
      "application/javascript": [
       "\n",
       "        if (window._pyforest_update_imports_cell) { window._pyforest_update_imports_cell('import numpy as np'); }\n",
       "    "
      ],
      "text/plain": [
       "<IPython.core.display.Javascript object>"
      ]
     },
     "metadata": {},
     "output_type": "display_data"
    },
    {
     "name": "stdout",
     "output_type": "stream",
     "text": [
      "mean_absolute_error: 3.546614168918754\n",
      "mean_squared_error: 23.437506093113342\n",
      "RMSE: 4.84122981205327\n",
      "R2 Square 0.8293710052857013\n",
      "=============\n",
      "====================================\n",
      "Train set evaluation:\n",
      "-----------------------------\n"
     ]
    },
    {
     "data": {
      "application/javascript": [
       "\n",
       "        if (window._pyforest_update_imports_cell) { window._pyforest_update_imports_cell('import numpy as np'); }\n",
       "    "
      ],
      "text/plain": [
       "<IPython.core.display.Javascript object>"
      ]
     },
     "metadata": {},
     "output_type": "display_data"
    },
    {
     "name": "stdout",
     "output_type": "stream",
     "text": [
      "mean_absolute_error: 3.427612597392621\n",
      "mean_squared_error: 23.445540110556795\n",
      "RMSE: 4.84205949060488\n",
      "R2 Square 0.8147123129464213\n",
      "=============\n"
     ]
    }
   ],
   "source": [
    "from sklearn.linear_model import Ridge\n",
    "\n",
    "model_ridge = Ridge(alpha=100, solver='cholesky', tol=0.0001, random_state=42)\n",
    "model_ridge.fit(X_train, y_train)\n",
    "pred = model_ridge.predict(X_test)\n",
    "\n",
    "test_pred = model_ridge.predict(X_test)\n",
    "train_pred = model_ridge.predict(X_train)\n",
    "\n",
    "print('Test set evaluation:\\n-----------------------------')\n",
    "print_evaluate(y_test, test_pred)\n",
    "print('====================================')\n",
    "print('Train set evaluation:\\n-----------------------------')\n",
    "print_evaluate(y_train, train_pred)"
   ]
  },
  {
   "cell_type": "code",
   "execution_count": 137,
   "metadata": {},
   "outputs": [
    {
     "data": {
      "application/javascript": [
       "\n",
       "        if (window._pyforest_update_imports_cell) { window._pyforest_update_imports_cell('import numpy as np'); }\n",
       "    "
      ],
      "text/plain": [
       "<IPython.core.display.Javascript object>"
      ]
     },
     "metadata": {},
     "output_type": "display_data"
    },
    {
     "data": {
      "text/html": [
       "<div>\n",
       "<style scoped>\n",
       "    .dataframe tbody tr th:only-of-type {\n",
       "        vertical-align: middle;\n",
       "    }\n",
       "\n",
       "    .dataframe tbody tr th {\n",
       "        vertical-align: top;\n",
       "    }\n",
       "\n",
       "    .dataframe thead th {\n",
       "        text-align: right;\n",
       "    }\n",
       "</style>\n",
       "<table border=\"1\" class=\"dataframe\">\n",
       "  <thead>\n",
       "    <tr style=\"text-align: right;\">\n",
       "      <th></th>\n",
       "      <th>Model</th>\n",
       "      <th>MAE</th>\n",
       "      <th>MSE</th>\n",
       "      <th>RMSE</th>\n",
       "      <th>R2 Square</th>\n",
       "      <th>Cross Validation</th>\n",
       "    </tr>\n",
       "  </thead>\n",
       "  <tbody>\n",
       "    <tr>\n",
       "      <th>0</th>\n",
       "      <td>Linear Regression</td>\n",
       "      <td>3.652</td>\n",
       "      <td>43.633</td>\n",
       "      <td>6.606</td>\n",
       "      <td>0.682</td>\n",
       "      <td>-6.319</td>\n",
       "    </tr>\n",
       "    <tr>\n",
       "      <th>1</th>\n",
       "      <td>Ridge Regression</td>\n",
       "      <td>3.547</td>\n",
       "      <td>23.438</td>\n",
       "      <td>4.841</td>\n",
       "      <td>0.829</td>\n",
       "      <td>-7.673</td>\n",
       "    </tr>\n",
       "  </tbody>\n",
       "</table>\n",
       "</div>"
      ],
      "text/plain": [
       "               Model   MAE    MSE  RMSE  R2 Square  Cross Validation\n",
       "0  Linear Regression 3.652 43.633 6.606      0.682            -6.319\n",
       "1   Ridge Regression 3.547 23.438 4.841      0.829            -7.673"
      ]
     },
     "execution_count": 137,
     "metadata": {},
     "output_type": "execute_result"
    }
   ],
   "source": [
    "results_df_2 = pd.DataFrame(data=[[\"Ridge Regression\", *evaluate(y_test, test_pred) , cross_val(Ridge())]], \n",
    "                            columns=['Model', 'MAE', 'MSE', 'RMSE', 'R2 Square', \"Cross Validation\"])\n",
    "results_df = results_df.append(results_df_2, ignore_index=True)\n",
    "results_df"
   ]
  },
  {
   "cell_type": "code",
   "execution_count": 138,
   "metadata": {},
   "outputs": [
    {
     "name": "stdout",
     "output_type": "stream",
     "text": [
      "Test set evaluation:\n",
      "-----------------------------\n"
     ]
    },
    {
     "data": {
      "application/javascript": [
       "\n",
       "        if (window._pyforest_update_imports_cell) { window._pyforest_update_imports_cell('import numpy as np'); }\n",
       "    "
      ],
      "text/plain": [
       "<IPython.core.display.Javascript object>"
      ]
     },
     "metadata": {},
     "output_type": "display_data"
    },
    {
     "name": "stdout",
     "output_type": "stream",
     "text": [
      "mean_absolute_error: 2.4791792993195862\n",
      "mean_squared_error: 18.16683683754027\n",
      "RMSE: 4.262257246757904\n",
      "R2 Square 0.8677423658296564\n",
      "=============\n",
      "====================================\n",
      "Train set evaluation:\n",
      "-----------------------------\n"
     ]
    },
    {
     "data": {
      "application/javascript": [
       "\n",
       "        if (window._pyforest_update_imports_cell) { window._pyforest_update_imports_cell('import numpy as np'); }\n",
       "    "
      ],
      "text/plain": [
       "<IPython.core.display.Javascript object>"
      ]
     },
     "metadata": {},
     "output_type": "display_data"
    },
    {
     "name": "stdout",
     "output_type": "stream",
     "text": [
      "mean_absolute_error: 2.026460622846804\n",
      "mean_squared_error: 9.925573667268136\n",
      "RMSE: 3.150487845916587\n",
      "R2 Square 0.9215592142976508\n",
      "=============\n"
     ]
    }
   ],
   "source": [
    "from sklearn.linear_model import Lasso\n",
    "\n",
    "model = Lasso(alpha=0.1, \n",
    "              precompute=True, \n",
    "#               warm_start=True, \n",
    "              positive=True, \n",
    "              selection='random',\n",
    "              random_state=42)\n",
    "model.fit(X_train, y_train)\n",
    "\n",
    "test_pred = model.predict(X_test)\n",
    "train_pred = model.predict(X_train)\n",
    "\n",
    "print('Test set evaluation:\\n-----------------------------')\n",
    "print_evaluate(y_test, test_pred)\n",
    "print('====================================')\n",
    "print('Train set evaluation:\\n-----------------------------')\n",
    "print_evaluate(y_train, train_pred)"
   ]
  },
  {
   "cell_type": "code",
   "execution_count": 139,
   "metadata": {},
   "outputs": [
    {
     "data": {
      "application/javascript": [
       "\n",
       "        if (window._pyforest_update_imports_cell) { window._pyforest_update_imports_cell('import numpy as np'); }\n",
       "    "
      ],
      "text/plain": [
       "<IPython.core.display.Javascript object>"
      ]
     },
     "metadata": {},
     "output_type": "display_data"
    },
    {
     "data": {
      "text/html": [
       "<div>\n",
       "<style scoped>\n",
       "    .dataframe tbody tr th:only-of-type {\n",
       "        vertical-align: middle;\n",
       "    }\n",
       "\n",
       "    .dataframe tbody tr th {\n",
       "        vertical-align: top;\n",
       "    }\n",
       "\n",
       "    .dataframe thead th {\n",
       "        text-align: right;\n",
       "    }\n",
       "</style>\n",
       "<table border=\"1\" class=\"dataframe\">\n",
       "  <thead>\n",
       "    <tr style=\"text-align: right;\">\n",
       "      <th></th>\n",
       "      <th>Model</th>\n",
       "      <th>MAE</th>\n",
       "      <th>MSE</th>\n",
       "      <th>RMSE</th>\n",
       "      <th>R2 Square</th>\n",
       "      <th>Cross Validation</th>\n",
       "    </tr>\n",
       "  </thead>\n",
       "  <tbody>\n",
       "    <tr>\n",
       "      <th>0</th>\n",
       "      <td>Linear Regression</td>\n",
       "      <td>3.652</td>\n",
       "      <td>43.633</td>\n",
       "      <td>6.606</td>\n",
       "      <td>0.682</td>\n",
       "      <td>-6.319</td>\n",
       "    </tr>\n",
       "    <tr>\n",
       "      <th>1</th>\n",
       "      <td>Ridge Regression</td>\n",
       "      <td>3.547</td>\n",
       "      <td>23.438</td>\n",
       "      <td>4.841</td>\n",
       "      <td>0.829</td>\n",
       "      <td>-7.673</td>\n",
       "    </tr>\n",
       "    <tr>\n",
       "      <th>2</th>\n",
       "      <td>Lasso Regression</td>\n",
       "      <td>2.479</td>\n",
       "      <td>18.167</td>\n",
       "      <td>4.262</td>\n",
       "      <td>0.868</td>\n",
       "      <td>-2.347</td>\n",
       "    </tr>\n",
       "  </tbody>\n",
       "</table>\n",
       "</div>"
      ],
      "text/plain": [
       "               Model   MAE    MSE  RMSE  R2 Square  Cross Validation\n",
       "0  Linear Regression 3.652 43.633 6.606      0.682            -6.319\n",
       "1   Ridge Regression 3.547 23.438 4.841      0.829            -7.673\n",
       "2   Lasso Regression 2.479 18.167 4.262      0.868            -2.347"
      ]
     },
     "execution_count": 139,
     "metadata": {},
     "output_type": "execute_result"
    }
   ],
   "source": [
    "results_df_2 = pd.DataFrame(data=[[\"Lasso Regression\", *evaluate(y_test, test_pred) , cross_val(Lasso())]], \n",
    "                            columns=['Model', 'MAE', 'MSE', 'RMSE', 'R2 Square', \"Cross Validation\"])\n",
    "results_df = results_df.append(results_df_2, ignore_index=True)\n",
    "results_df"
   ]
  },
  {
   "cell_type": "code",
   "execution_count": 140,
   "metadata": {},
   "outputs": [
    {
     "name": "stdout",
     "output_type": "stream",
     "text": [
      "Test set evaluation:\n",
      "-----------------------------\n"
     ]
    },
    {
     "data": {
      "application/javascript": [
       "\n",
       "        if (window._pyforest_update_imports_cell) { window._pyforest_update_imports_cell('import numpy as np'); }\n",
       "    "
      ],
      "text/plain": [
       "<IPython.core.display.Javascript object>"
      ]
     },
     "metadata": {},
     "output_type": "display_data"
    },
    {
     "name": "stdout",
     "output_type": "stream",
     "text": [
      "mean_absolute_error: 4.202688815066617\n",
      "mean_squared_error: 102.19249698058675\n",
      "RMSE: 10.109030466893785\n",
      "R2 Square 0.256021397589522\n",
      "=============\n",
      "====================================\n",
      "Train set evaluation:\n",
      "-----------------------------\n"
     ]
    },
    {
     "data": {
      "application/javascript": [
       "\n",
       "        if (window._pyforest_update_imports_cell) { window._pyforest_update_imports_cell('import numpy as np'); }\n",
       "    "
      ],
      "text/plain": [
       "<IPython.core.display.Javascript object>"
      ]
     },
     "metadata": {},
     "output_type": "display_data"
    },
    {
     "name": "stdout",
     "output_type": "stream",
     "text": [
      "mean_absolute_error: 2.4629870792453472e-14\n",
      "mean_squared_error: 1.2211667948834753e-27\n",
      "RMSE: 3.494519702167202e-14\n",
      "R2 Square 1.0\n",
      "=============\n"
     ]
    }
   ],
   "source": [
    "from sklearn.preprocessing import PolynomialFeatures\n",
    "\n",
    "poly_reg = PolynomialFeatures(degree=2)\n",
    "\n",
    "X_train_2_d = poly_reg.fit_transform(X_train)\n",
    "X_test_2_d = poly_reg.transform(X_test)\n",
    "\n",
    "lin_reg = LinearRegression(normalize=True)\n",
    "lin_reg.fit(X_train_2_d,y_train)\n",
    "\n",
    "test_pred = lin_reg.predict(X_test_2_d)\n",
    "train_pred = lin_reg.predict(X_train_2_d)\n",
    "\n",
    "print('Test set evaluation:\\n-----------------------------')\n",
    "print_evaluate(y_test, test_pred)\n",
    "print('====================================')\n",
    "print('Train set evaluation:\\n-----------------------------')\n",
    "print_evaluate(y_train, train_pred)"
   ]
  },
  {
   "cell_type": "code",
   "execution_count": 141,
   "metadata": {},
   "outputs": [
    {
     "data": {
      "application/javascript": [
       "\n",
       "        if (window._pyforest_update_imports_cell) { window._pyforest_update_imports_cell('import numpy as np'); }\n",
       "    "
      ],
      "text/plain": [
       "<IPython.core.display.Javascript object>"
      ]
     },
     "metadata": {},
     "output_type": "display_data"
    },
    {
     "data": {
      "text/html": [
       "<div>\n",
       "<style scoped>\n",
       "    .dataframe tbody tr th:only-of-type {\n",
       "        vertical-align: middle;\n",
       "    }\n",
       "\n",
       "    .dataframe tbody tr th {\n",
       "        vertical-align: top;\n",
       "    }\n",
       "\n",
       "    .dataframe thead th {\n",
       "        text-align: right;\n",
       "    }\n",
       "</style>\n",
       "<table border=\"1\" class=\"dataframe\">\n",
       "  <thead>\n",
       "    <tr style=\"text-align: right;\">\n",
       "      <th></th>\n",
       "      <th>Model</th>\n",
       "      <th>MAE</th>\n",
       "      <th>MSE</th>\n",
       "      <th>RMSE</th>\n",
       "      <th>R2 Square</th>\n",
       "      <th>Cross Validation</th>\n",
       "    </tr>\n",
       "  </thead>\n",
       "  <tbody>\n",
       "    <tr>\n",
       "      <th>0</th>\n",
       "      <td>Linear Regression</td>\n",
       "      <td>3.652</td>\n",
       "      <td>43.633</td>\n",
       "      <td>6.606</td>\n",
       "      <td>0.682</td>\n",
       "      <td>-6.319</td>\n",
       "    </tr>\n",
       "    <tr>\n",
       "      <th>1</th>\n",
       "      <td>Ridge Regression</td>\n",
       "      <td>3.547</td>\n",
       "      <td>23.438</td>\n",
       "      <td>4.841</td>\n",
       "      <td>0.829</td>\n",
       "      <td>-7.673</td>\n",
       "    </tr>\n",
       "    <tr>\n",
       "      <th>2</th>\n",
       "      <td>Lasso Regression</td>\n",
       "      <td>2.479</td>\n",
       "      <td>18.167</td>\n",
       "      <td>4.262</td>\n",
       "      <td>0.868</td>\n",
       "      <td>-2.347</td>\n",
       "    </tr>\n",
       "    <tr>\n",
       "      <th>3</th>\n",
       "      <td>Polynomail Regression</td>\n",
       "      <td>4.203</td>\n",
       "      <td>102.192</td>\n",
       "      <td>10.109</td>\n",
       "      <td>0.256</td>\n",
       "      <td>0.000</td>\n",
       "    </tr>\n",
       "  </tbody>\n",
       "</table>\n",
       "</div>"
      ],
      "text/plain": [
       "                   Model   MAE     MSE   RMSE  R2 Square  Cross Validation\n",
       "0      Linear Regression 3.652  43.633  6.606      0.682            -6.319\n",
       "1       Ridge Regression 3.547  23.438  4.841      0.829            -7.673\n",
       "2       Lasso Regression 2.479  18.167  4.262      0.868            -2.347\n",
       "3  Polynomail Regression 4.203 102.192 10.109      0.256             0.000"
      ]
     },
     "execution_count": 141,
     "metadata": {},
     "output_type": "execute_result"
    }
   ],
   "source": [
    "results_df_2 = pd.DataFrame(data=[[\"Polynomail Regression\", *evaluate(y_test, test_pred), 0]], \n",
    "                            columns=['Model', 'MAE', 'MSE', 'RMSE', 'R2 Square', 'Cross Validation'])\n",
    "results_df = results_df.append(results_df_2, ignore_index=True)\n",
    "results_df"
   ]
  },
  {
   "cell_type": "code",
   "execution_count": 142,
   "metadata": {},
   "outputs": [
    {
     "name": "stdout",
     "output_type": "stream",
     "text": [
      "Test set evaluation:\n",
      "-----------------------------\n"
     ]
    },
    {
     "data": {
      "application/javascript": [
       "\n",
       "        if (window._pyforest_update_imports_cell) { window._pyforest_update_imports_cell('import numpy as np'); }\n",
       "    "
      ],
      "text/plain": [
       "<IPython.core.display.Javascript object>"
      ]
     },
     "metadata": {},
     "output_type": "display_data"
    },
    {
     "name": "stdout",
     "output_type": "stream",
     "text": [
      "mean_absolute_error: 5.384370579103877\n",
      "mean_squared_error: 41.530270972964736\n",
      "RMSE: 6.444398418236161\n",
      "R2 Square 0.6976526274520498\n",
      "=============\n",
      "====================================\n",
      "Train set evaluation:\n",
      "-----------------------------\n"
     ]
    },
    {
     "data": {
      "application/javascript": [
       "\n",
       "        if (window._pyforest_update_imports_cell) { window._pyforest_update_imports_cell('import numpy as np'); }\n",
       "    "
      ],
      "text/plain": [
       "<IPython.core.display.Javascript object>"
      ]
     },
     "metadata": {},
     "output_type": "display_data"
    },
    {
     "name": "stdout",
     "output_type": "stream",
     "text": [
      "mean_absolute_error: 5.428483827989634\n",
      "mean_squared_error: 47.29102013924703\n",
      "RMSE: 6.876846671203818\n",
      "R2 Square 0.6262639419400777\n",
      "=============\n"
     ]
    }
   ],
   "source": [
    "from sklearn.linear_model import SGDRegressor\n",
    "\n",
    "sgd_reg = SGDRegressor(n_iter_no_change=300, penalty=None, eta0=0.00001, max_iter=100000)\n",
    "sgd_reg.fit(X_train, y_train)\n",
    "\n",
    "test_pred = sgd_reg.predict(X_test)\n",
    "train_pred = sgd_reg.predict(X_train)\n",
    "\n",
    "print('Test set evaluation:\\n-----------------------------')\n",
    "print_evaluate(y_test, test_pred)\n",
    "print('====================================')\n",
    "print('Train set evaluation:\\n-----------------------------')\n",
    "print_evaluate(y_train, train_pred)"
   ]
  },
  {
   "cell_type": "code",
   "execution_count": 143,
   "metadata": {},
   "outputs": [
    {
     "data": {
      "application/javascript": [
       "\n",
       "        if (window._pyforest_update_imports_cell) { window._pyforest_update_imports_cell('import numpy as np'); }\n",
       "    "
      ],
      "text/plain": [
       "<IPython.core.display.Javascript object>"
      ]
     },
     "metadata": {},
     "output_type": "display_data"
    },
    {
     "data": {
      "text/html": [
       "<div>\n",
       "<style scoped>\n",
       "    .dataframe tbody tr th:only-of-type {\n",
       "        vertical-align: middle;\n",
       "    }\n",
       "\n",
       "    .dataframe tbody tr th {\n",
       "        vertical-align: top;\n",
       "    }\n",
       "\n",
       "    .dataframe thead th {\n",
       "        text-align: right;\n",
       "    }\n",
       "</style>\n",
       "<table border=\"1\" class=\"dataframe\">\n",
       "  <thead>\n",
       "    <tr style=\"text-align: right;\">\n",
       "      <th></th>\n",
       "      <th>Model</th>\n",
       "      <th>MAE</th>\n",
       "      <th>MSE</th>\n",
       "      <th>RMSE</th>\n",
       "      <th>R2 Square</th>\n",
       "      <th>Cross Validation</th>\n",
       "    </tr>\n",
       "  </thead>\n",
       "  <tbody>\n",
       "    <tr>\n",
       "      <th>0</th>\n",
       "      <td>Linear Regression</td>\n",
       "      <td>3.652</td>\n",
       "      <td>43.633</td>\n",
       "      <td>6.606</td>\n",
       "      <td>0.682</td>\n",
       "      <td>-6.319</td>\n",
       "    </tr>\n",
       "    <tr>\n",
       "      <th>1</th>\n",
       "      <td>Ridge Regression</td>\n",
       "      <td>3.547</td>\n",
       "      <td>23.438</td>\n",
       "      <td>4.841</td>\n",
       "      <td>0.829</td>\n",
       "      <td>-7.673</td>\n",
       "    </tr>\n",
       "    <tr>\n",
       "      <th>2</th>\n",
       "      <td>Lasso Regression</td>\n",
       "      <td>2.479</td>\n",
       "      <td>18.167</td>\n",
       "      <td>4.262</td>\n",
       "      <td>0.868</td>\n",
       "      <td>-2.347</td>\n",
       "    </tr>\n",
       "    <tr>\n",
       "      <th>3</th>\n",
       "      <td>Polynomail Regression</td>\n",
       "      <td>4.203</td>\n",
       "      <td>102.192</td>\n",
       "      <td>10.109</td>\n",
       "      <td>0.256</td>\n",
       "      <td>0.000</td>\n",
       "    </tr>\n",
       "    <tr>\n",
       "      <th>4</th>\n",
       "      <td>Stochastic Gradient Descent</td>\n",
       "      <td>5.384</td>\n",
       "      <td>41.530</td>\n",
       "      <td>6.444</td>\n",
       "      <td>0.698</td>\n",
       "      <td>0.000</td>\n",
       "    </tr>\n",
       "  </tbody>\n",
       "</table>\n",
       "</div>"
      ],
      "text/plain": [
       "                         Model   MAE     MSE   RMSE  R2 Square  \\\n",
       "0            Linear Regression 3.652  43.633  6.606      0.682   \n",
       "1             Ridge Regression 3.547  23.438  4.841      0.829   \n",
       "2             Lasso Regression 2.479  18.167  4.262      0.868   \n",
       "3        Polynomail Regression 4.203 102.192 10.109      0.256   \n",
       "4  Stochastic Gradient Descent 5.384  41.530  6.444      0.698   \n",
       "\n",
       "   Cross Validation  \n",
       "0            -6.319  \n",
       "1            -7.673  \n",
       "2            -2.347  \n",
       "3             0.000  \n",
       "4             0.000  "
      ]
     },
     "execution_count": 143,
     "metadata": {},
     "output_type": "execute_result"
    }
   ],
   "source": [
    "results_df_2 = pd.DataFrame(data=[[\"Stochastic Gradient Descent\", *evaluate(y_test, test_pred), 0]], \n",
    "                            columns=['Model', 'MAE', 'MSE', 'RMSE', 'R2 Square', 'Cross Validation'])\n",
    "results_df = results_df.append(results_df_2, ignore_index=True)\n",
    "results_df"
   ]
  },
  {
   "cell_type": "code",
   "execution_count": 144,
   "metadata": {},
   "outputs": [
    {
     "data": {
      "text/plain": [
       "<AxesSubplot:ylabel='Model'>"
      ]
     },
     "execution_count": 144,
     "metadata": {},
     "output_type": "execute_result"
    },
    {
     "data": {
      "image/png": "[encoded data removed]",
      "text/plain": [
       "<Figure size 864x576 with 1 Axes>"
      ]
     },
     "metadata": {
      "needs_background": "light"
     },
     "output_type": "display_data"
    }
   ],
   "source": [
    "results_df.set_index('Model', inplace=True)\n",
    "results_df['R2 Square'].plot(kind='barh', figsize=(12, 8))"
   ]
  },
  {
   "cell_type": "markdown",
   "metadata": {},
   "source": [
    "### Train"
   ]
  },
  {
   "cell_type": "code",
   "execution_count": 145,
   "metadata": {},
   "outputs": [
    {
     "data": {
      "text/plain": [
       "Lasso(alpha=0.1, positive=True, precompute=True, random_state=42,\n",
       "      selection='random')"
      ]
     },
     "execution_count": 145,
     "metadata": {},
     "output_type": "execute_result"
    }
   ],
   "source": [
    "model"
   ]
  },
  {
   "cell_type": "code",
   "execution_count": 146,
   "metadata": {},
   "outputs": [
    {
     "data": {
      "text/html": [
       "<div>\n",
       "<style scoped>\n",
       "    .dataframe tbody tr th:only-of-type {\n",
       "        vertical-align: middle;\n",
       "    }\n",
       "\n",
       "    .dataframe tbody tr th {\n",
       "        vertical-align: top;\n",
       "    }\n",
       "\n",
       "    .dataframe thead th {\n",
       "        text-align: right;\n",
       "    }\n",
       "</style>\n",
       "<table border=\"1\" class=\"dataframe\">\n",
       "  <thead>\n",
       "    <tr style=\"text-align: right;\">\n",
       "      <th></th>\n",
       "      <th>Country Name</th>\n",
       "      <th>Predicted Medals Rio 2016 (G+S+B)</th>\n",
       "      <th>Actual Medals Rio 2016 (G+S+B)</th>\n",
       "    </tr>\n",
       "  </thead>\n",
       "  <tbody>\n",
       "    <tr>\n",
       "      <th>0</th>\n",
       "      <td>United States</td>\n",
       "      <td>119</td>\n",
       "      <td>121.000</td>\n",
       "    </tr>\n",
       "    <tr>\n",
       "      <th>1</th>\n",
       "      <td>United Kingdom</td>\n",
       "      <td>65</td>\n",
       "      <td>67.000</td>\n",
       "    </tr>\n",
       "    <tr>\n",
       "      <th>2</th>\n",
       "      <td>China</td>\n",
       "      <td>70</td>\n",
       "      <td>70.000</td>\n",
       "    </tr>\n",
       "    <tr>\n",
       "      <th>3</th>\n",
       "      <td>Russia</td>\n",
       "      <td>56</td>\n",
       "      <td>56.000</td>\n",
       "    </tr>\n",
       "    <tr>\n",
       "      <th>4</th>\n",
       "      <td>Germany</td>\n",
       "      <td>41</td>\n",
       "      <td>42.000</td>\n",
       "    </tr>\n",
       "  </tbody>\n",
       "</table>\n",
       "</div>"
      ],
      "text/plain": [
       "     Country Name  Predicted Medals Rio 2016 (G+S+B)  \\\n",
       "0   United States                                119   \n",
       "1  United Kingdom                                 65   \n",
       "2           China                                 70   \n",
       "3          Russia                                 56   \n",
       "4         Germany                                 41   \n",
       "\n",
       "   Actual Medals Rio 2016 (G+S+B)  \n",
       "0                         121.000  \n",
       "1                          67.000  \n",
       "2                          70.000  \n",
       "3                          56.000  \n",
       "4                          42.000  "
      ]
     },
     "execution_count": 146,
     "metadata": {},
     "output_type": "execute_result"
    }
   ],
   "source": [
    "X_scaled = StandardScaler().fit_transform(olympics.iloc[:,1:])\n",
    "# y_scaled = StandardScaler().fit(y)\n",
    "# y_scaled = np.array(y_scaled).reshape(1, -1)\n",
    "model.fit(X_scaled, olympics['Rio 2016 (G+S+B)'])\n",
    "predictions = model.predict(X_scaled)\n",
    "predictions = predictions.astype(int)\n",
    "output_train = pd.DataFrame({'Country Name': olympics['Country Name'], 'Predicted Medals Rio 2016 (G+S+B)': predictions, \n",
    "                           'Actual Medals Rio 2016 (G+S+B)':olympics['Rio 2016 (G+S+B)']})\n",
    "# output.to_csv('VaishnaviKarelia_submission.csv', index=False)\n",
    "output_train.head()"
   ]
  },
  {
   "cell_type": "code",
   "execution_count": 147,
   "metadata": {},
   "outputs": [
    {
     "data": {
      "application/javascript": [
       "\n",
       "        if (window._pyforest_update_imports_cell) { window._pyforest_update_imports_cell('import numpy as np'); }\n",
       "    "
      ],
      "text/plain": [
       "<IPython.core.display.Javascript object>"
      ]
     },
     "metadata": {},
     "output_type": "display_data"
    },
    {
     "data": {
      "text/plain": [
       "3.6851536118399655"
      ]
     },
     "execution_count": 147,
     "metadata": {},
     "output_type": "execute_result"
    }
   ],
   "source": [
    "np.sqrt(((output_train['Predicted Medals Rio 2016 (G+S+B)'].sum() - output_train['Actual Medals Rio 2016 (G+S+B)'].sum())**2)/olympics.shape[0])"
   ]
  },
  {
   "cell_type": "markdown",
   "metadata": {},
   "source": [
    "### Test"
   ]
  },
  {
   "cell_type": "code",
   "execution_count": 148,
   "metadata": {},
   "outputs": [
    {
     "data": {
      "text/html": [
       "<div>\n",
       "<style scoped>\n",
       "    .dataframe tbody tr th:only-of-type {\n",
       "        vertical-align: middle;\n",
       "    }\n",
       "\n",
       "    .dataframe tbody tr th {\n",
       "        vertical-align: top;\n",
       "    }\n",
       "\n",
       "    .dataframe thead th {\n",
       "        text-align: right;\n",
       "    }\n",
       "</style>\n",
       "<table border=\"1\" class=\"dataframe\">\n",
       "  <thead>\n",
       "    <tr style=\"text-align: right;\">\n",
       "      <th></th>\n",
       "      <th>Country Name</th>\n",
       "      <th>Rio 2016 (G+S+B)</th>\n",
       "      <th>London 2012 (G+B+S)</th>\n",
       "      <th>Beijing 2008 (G+S+B)</th>\n",
       "      <th>Athens 2004 (G+S+B)</th>\n",
       "      <th>host_country</th>\n",
       "      <th>Total Medals (G+S+B)</th>\n",
       "      <th>HDI (2019)</th>\n",
       "      <th>Population 2021</th>\n",
       "      <th>GDP per capita (US$)</th>\n",
       "    </tr>\n",
       "  </thead>\n",
       "  <tbody>\n",
       "    <tr>\n",
       "      <th>0</th>\n",
       "      <td>United States</td>\n",
       "      <td>121.000</td>\n",
       "      <td>104.000</td>\n",
       "      <td>112.000</td>\n",
       "      <td>101.000</td>\n",
       "      <td>0</td>\n",
       "      <td>438.000</td>\n",
       "      <td>0.920</td>\n",
       "      <td>332915.073</td>\n",
       "      <td>65118.000</td>\n",
       "    </tr>\n",
       "    <tr>\n",
       "      <th>1</th>\n",
       "      <td>United Kingdom</td>\n",
       "      <td>67.000</td>\n",
       "      <td>65.000</td>\n",
       "      <td>51.000</td>\n",
       "      <td>30.000</td>\n",
       "      <td>0</td>\n",
       "      <td>213.000</td>\n",
       "      <td>0.920</td>\n",
       "      <td>68207.116</td>\n",
       "      <td>42300.000</td>\n",
       "    </tr>\n",
       "    <tr>\n",
       "      <th>2</th>\n",
       "      <td>China</td>\n",
       "      <td>70.000</td>\n",
       "      <td>91.000</td>\n",
       "      <td>100.000</td>\n",
       "      <td>63.000</td>\n",
       "      <td>0</td>\n",
       "      <td>324.000</td>\n",
       "      <td>0.758</td>\n",
       "      <td>1444216.107</td>\n",
       "      <td>10262.000</td>\n",
       "    </tr>\n",
       "    <tr>\n",
       "      <th>3</th>\n",
       "      <td>Russia</td>\n",
       "      <td>56.000</td>\n",
       "      <td>68.000</td>\n",
       "      <td>60.000</td>\n",
       "      <td>90.000</td>\n",
       "      <td>0</td>\n",
       "      <td>274.000</td>\n",
       "      <td>0.824</td>\n",
       "      <td>145912.025</td>\n",
       "      <td>11585.000</td>\n",
       "    </tr>\n",
       "    <tr>\n",
       "      <th>4</th>\n",
       "      <td>Germany</td>\n",
       "      <td>42.000</td>\n",
       "      <td>44.000</td>\n",
       "      <td>41.000</td>\n",
       "      <td>49.000</td>\n",
       "      <td>0</td>\n",
       "      <td>176.000</td>\n",
       "      <td>0.939</td>\n",
       "      <td>83900.473</td>\n",
       "      <td>46259.000</td>\n",
       "    </tr>\n",
       "  </tbody>\n",
       "</table>\n",
       "</div>"
      ],
      "text/plain": [
       "     Country Name  Rio 2016 (G+S+B)  London 2012 (G+B+S)  \\\n",
       "0   United States           121.000              104.000   \n",
       "1  United Kingdom            67.000               65.000   \n",
       "2           China            70.000               91.000   \n",
       "3          Russia            56.000               68.000   \n",
       "4         Germany            42.000               44.000   \n",
       "\n",
       "   Beijing 2008 (G+S+B)  Athens 2004 (G+S+B)  host_country  \\\n",
       "0               112.000              101.000             0   \n",
       "1                51.000               30.000             0   \n",
       "2               100.000               63.000             0   \n",
       "3                60.000               90.000             0   \n",
       "4                41.000               49.000             0   \n",
       "\n",
       "   Total Medals (G+S+B)  HDI (2019)  Population 2021  GDP per capita (US$)  \n",
       "0               438.000       0.920       332915.073             65118.000  \n",
       "1               213.000       0.920        68207.116             42300.000  \n",
       "2               324.000       0.758      1444216.107             10262.000  \n",
       "3               274.000       0.824       145912.025             11585.000  \n",
       "4               176.000       0.939        83900.473             46259.000  "
      ]
     },
     "execution_count": 148,
     "metadata": {},
     "output_type": "execute_result"
    }
   ],
   "source": [
    "test.head()"
   ]
  },
  {
   "cell_type": "code",
   "execution_count": 149,
   "metadata": {},
   "outputs": [],
   "source": [
    "# from sklearn.preprocessing import PowerTransformer\n",
    "# X_scaled = PowerTransformer().fit_transform(X=test.iloc[:,1:])\n",
    "# y = PowerTransformer().fit_transform(X=test.iloc[79:,1:])"
   ]
  },
  {
   "cell_type": "code",
   "execution_count": 150,
   "metadata": {},
   "outputs": [],
   "source": [
    "X_scaled = StandardScaler().fit_transform(test.iloc[:,1:])\n",
    "# y_scaled = StandardScaler().fit(y)\n",
    "# np.array(y_scaled).reshape(-1, 1)\n",
    "model.fit(X_scaled,test['Rio 2016 (G+S+B)'])\n",
    "predictions = model.predict(X_scaled)\n",
    "predictions = predictions.astype(int)\n",
    "output = pd.DataFrame({'Country Name': train['Country Name'], 'Tokyo 2020 (G+S+B)': predictions})\n",
    "# print(output.shape)\n",
    "# output.head(10)"
   ]
  },
  {
   "cell_type": "code",
   "execution_count": 151,
   "metadata": {},
   "outputs": [],
   "source": [
    "medals = []\n",
    "for i in output['Tokyo 2020 (G+S+B)']:\n",
    "    if i < 0:\n",
    "        medals.append(0)\n",
    "    else:\n",
    "        medals.append(i)\n",
    "output['Tokyo 2020 (G+S+B)'] = medals        "
   ]
  },
  {
   "cell_type": "code",
   "execution_count": 152,
   "metadata": {},
   "outputs": [
    {
     "data": {
      "text/plain": [
       "(0, 2)"
      ]
     },
     "execution_count": 152,
     "metadata": {},
     "output_type": "execute_result"
    }
   ],
   "source": [
    "output[output['Tokyo 2020 (G+S+B)']<0].shape"
   ]
  },
  {
   "cell_type": "code",
   "execution_count": 153,
   "metadata": {},
   "outputs": [
    {
     "data": {
      "text/html": [
       "<div>\n",
       "<style scoped>\n",
       "    .dataframe tbody tr th:only-of-type {\n",
       "        vertical-align: middle;\n",
       "    }\n",
       "\n",
       "    .dataframe tbody tr th {\n",
       "        vertical-align: top;\n",
       "    }\n",
       "\n",
       "    .dataframe thead th {\n",
       "        text-align: right;\n",
       "    }\n",
       "</style>\n",
       "<table border=\"1\" class=\"dataframe\">\n",
       "  <thead>\n",
       "    <tr style=\"text-align: right;\">\n",
       "      <th></th>\n",
       "      <th>Country Name</th>\n",
       "      <th>Tokyo 2020 (G+S+B)</th>\n",
       "    </tr>\n",
       "  </thead>\n",
       "  <tbody>\n",
       "    <tr>\n",
       "      <th>0</th>\n",
       "      <td>United States</td>\n",
       "      <td>120</td>\n",
       "    </tr>\n",
       "    <tr>\n",
       "      <th>1</th>\n",
       "      <td>United Kingdom</td>\n",
       "      <td>66</td>\n",
       "    </tr>\n",
       "    <tr>\n",
       "      <th>2</th>\n",
       "      <td>China</td>\n",
       "      <td>69</td>\n",
       "    </tr>\n",
       "    <tr>\n",
       "      <th>3</th>\n",
       "      <td>Russia</td>\n",
       "      <td>55</td>\n",
       "    </tr>\n",
       "    <tr>\n",
       "      <th>4</th>\n",
       "      <td>Germany</td>\n",
       "      <td>41</td>\n",
       "    </tr>\n",
       "    <tr>\n",
       "      <th>5</th>\n",
       "      <td>Japan</td>\n",
       "      <td>40</td>\n",
       "    </tr>\n",
       "    <tr>\n",
       "      <th>6</th>\n",
       "      <td>France</td>\n",
       "      <td>41</td>\n",
       "    </tr>\n",
       "    <tr>\n",
       "      <th>7</th>\n",
       "      <td>South Korea</td>\n",
       "      <td>21</td>\n",
       "    </tr>\n",
       "    <tr>\n",
       "      <th>8</th>\n",
       "      <td>Italy</td>\n",
       "      <td>27</td>\n",
       "    </tr>\n",
       "    <tr>\n",
       "      <th>9</th>\n",
       "      <td>Australia</td>\n",
       "      <td>29</td>\n",
       "    </tr>\n",
       "  </tbody>\n",
       "</table>\n",
       "</div>"
      ],
      "text/plain": [
       "     Country Name  Tokyo 2020 (G+S+B)\n",
       "0   United States                 120\n",
       "1  United Kingdom                  66\n",
       "2           China                  69\n",
       "3          Russia                  55\n",
       "4         Germany                  41\n",
       "5           Japan                  40\n",
       "6          France                  41\n",
       "7     South Korea                  21\n",
       "8           Italy                  27\n",
       "9       Australia                  29"
      ]
     },
     "execution_count": 153,
     "metadata": {},
     "output_type": "execute_result"
    }
   ],
   "source": [
    "output.head(10)"
   ]
  },
  {
   "cell_type": "code",
   "execution_count": 154,
   "metadata": {},
   "outputs": [],
   "source": [
    "output.to_csv('VaishnaviKarelia_submission.csv', index=False)"
   ]
  },
  {
   "cell_type": "code",
   "execution_count": 155,
   "metadata": {},
   "outputs": [
    {
     "data": {
      "text/html": [
       "<div>\n",
       "<style scoped>\n",
       "    .dataframe tbody tr th:only-of-type {\n",
       "        vertical-align: middle;\n",
       "    }\n",
       "\n",
       "    .dataframe tbody tr th {\n",
       "        vertical-align: top;\n",
       "    }\n",
       "\n",
       "    .dataframe thead th {\n",
       "        text-align: right;\n",
       "    }\n",
       "</style>\n",
       "<table border=\"1\" class=\"dataframe\">\n",
       "  <thead>\n",
       "    <tr style=\"text-align: right;\">\n",
       "      <th></th>\n",
       "      <th>Country Name</th>\n",
       "      <th>Tokyo 2020 (G+S+B)</th>\n",
       "    </tr>\n",
       "  </thead>\n",
       "  <tbody>\n",
       "    <tr>\n",
       "      <th>0</th>\n",
       "      <td>United States</td>\n",
       "      <td>120</td>\n",
       "    </tr>\n",
       "    <tr>\n",
       "      <th>2</th>\n",
       "      <td>China</td>\n",
       "      <td>69</td>\n",
       "    </tr>\n",
       "    <tr>\n",
       "      <th>1</th>\n",
       "      <td>United Kingdom</td>\n",
       "      <td>66</td>\n",
       "    </tr>\n",
       "    <tr>\n",
       "      <th>3</th>\n",
       "      <td>Russia</td>\n",
       "      <td>55</td>\n",
       "    </tr>\n",
       "    <tr>\n",
       "      <th>4</th>\n",
       "      <td>Germany</td>\n",
       "      <td>41</td>\n",
       "    </tr>\n",
       "    <tr>\n",
       "      <th>6</th>\n",
       "      <td>France</td>\n",
       "      <td>41</td>\n",
       "    </tr>\n",
       "    <tr>\n",
       "      <th>5</th>\n",
       "      <td>Japan</td>\n",
       "      <td>40</td>\n",
       "    </tr>\n",
       "    <tr>\n",
       "      <th>9</th>\n",
       "      <td>Australia</td>\n",
       "      <td>29</td>\n",
       "    </tr>\n",
       "    <tr>\n",
       "      <th>8</th>\n",
       "      <td>Italy</td>\n",
       "      <td>27</td>\n",
       "    </tr>\n",
       "    <tr>\n",
       "      <th>19</th>\n",
       "      <td>Canada</td>\n",
       "      <td>21</td>\n",
       "    </tr>\n",
       "  </tbody>\n",
       "</table>\n",
       "</div>"
      ],
      "text/plain": [
       "      Country Name  Tokyo 2020 (G+S+B)\n",
       "0    United States                 120\n",
       "2            China                  69\n",
       "1   United Kingdom                  66\n",
       "3           Russia                  55\n",
       "4          Germany                  41\n",
       "6           France                  41\n",
       "5            Japan                  40\n",
       "9        Australia                  29\n",
       "8            Italy                  27\n",
       "19          Canada                  21"
      ]
     },
     "execution_count": 155,
     "metadata": {},
     "output_type": "execute_result"
    }
   ],
   "source": [
    "output.sort_values(by='Tokyo 2020 (G+S+B)',ascending=False).iloc[:10,:]"
   ]
  },
  {
   "cell_type": "code",
   "execution_count": 156,
   "metadata": {},
   "outputs": [],
   "source": [
    "top_10 = output.sort_values(by='Tokyo 2020 (G+S+B)',ascending=False).iloc[:10,:]"
   ]
  },
  {
   "cell_type": "code",
   "execution_count": 157,
   "metadata": {},
   "outputs": [
    {
     "data": {
      "text/plain": [
       "<AxesSubplot:xlabel='Tokyo 2020 (G+S+B)', ylabel='Country Name'>"
      ]
     },
     "execution_count": 157,
     "metadata": {},
     "output_type": "execute_result"
    },
    {
     "data": {
      "image/png": "[encoded data removed]",
      "text/plain": [
       "<Figure size 432x288 with 1 Axes>"
      ]
     },
     "metadata": {
      "needs_background": "light"
     },
     "output_type": "display_data"
    }
   ],
   "source": [
    "sns.barplot(data=top_10,x='Tokyo 2020 (G+S+B)',y='Country Name')"
   ]
  },
  {
   "cell_type": "code",
   "execution_count": null,
   "metadata": {},
   "outputs": [],
   "source": []
  }
 ],
 "metadata": {
  "kernelspec": {
   "display_name": "Python 3",
   "language": "python",
   "name": "python3"
  },
  "language_info": {
   "codemirror_mode": {
    "name": "ipython",
    "version": 3
   },
   "file_extension": ".py",
   "mimetype": "text/x-python",
   "name": "python",
   "nbconvert_exporter": "python",
   "pygments_lexer": "ipython3",
   "version": "3.8.5"
  }
 },
 "nbformat": 4,
 "nbformat_minor": 4
}
