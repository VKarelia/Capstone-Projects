{
 "cells": [
  {
   "cell_type": "markdown",
   "metadata": {},
   "source": [
    "# Statistical Methods for Decision Making - Project"
   ]
  },
  {
   "cell_type": "markdown",
   "metadata": {},
   "source": [
    "### Importing libraries"
   ]
  },
  {
   "cell_type": "code",
   "execution_count": 20,
   "metadata": {},
   "outputs": [],
   "source": [
    "import pandas as pd\n",
    "import numpy as np\n",
    "import matplotlib.pyplot as plt\n",
    "from matplotlib_venn  import venn2, venn3, venn2_circles, venn2_unweighted, venn3_circles, venn3_unweighted\n",
    "import matplotlib.lines as mlines\n",
    "import seaborn as sns\n",
    "import statistics\n",
    "import warnings\n",
    "from scipy.stats import norm\n",
    "from scipy import stats\n",
    "from scipy.stats import ttest_1samp, ttest_ind\n",
    "from statsmodels.stats.power import ttest_power\n",
    "\n",
    "\n",
    "warnings.filterwarnings('ignore')"
   ]
  },
  {
   "cell_type": "code",
   "execution_count": 21,
   "metadata": {},
   "outputs": [],
   "source": [
    "#Controlling figure aesthetics\n",
    "sns.set_style(\"darkgrid\") "
   ]
  },
  {
   "cell_type": "code",
   "execution_count": 22,
   "metadata": {},
   "outputs": [],
   "source": [
    "\n",
    "class color:\n",
    "   PURPLE = '\\033[95m'\n",
    "   CYAN = '\\033[96m'\n",
    "   DARKCYAN = '\\033[36m'\n",
    "   BLUE = '\\033[94m'\n",
    "   GREEN = '\\033[92m'\n",
    "   YELLOW = '\\033[93m'\n",
    "   RED = '\\033[91m'\n",
    "   BOLD = '\\033[1m'\n",
    "   UNDERLINE = '\\033[4m'\n",
    "   END = '\\033[0m'"
   ]
  },
  {
   "cell_type": "markdown",
   "metadata": {},
   "source": [
    "<font size=5><span style=\"color:darkred\">Problem 1</span></font>"
   ]
  },
  {
   "cell_type": "markdown",
   "metadata": {},
   "source": [
    "<font size=4><span style=\"color:purple\">Wholesale Customers Analysis</span>\n",
    "\n",
    "<span style=\"color:green\">Problem Statement:</span>\n",
    "    \n",
    "    \n",
    "\n",
    "A wholesale distributor operating in different regions of Portugal has information on annual spending of several items in their stores across different regions and channels. The data consists of 440 large retailers’ annual spending on 6 different varieties of products in 3 different regions (Lisbon, Oporto, Other) and across different sales channel (Hotel, Retail)."
   ]
  },
  {
   "cell_type": "code",
   "execution_count": 23,
   "metadata": {},
   "outputs": [
    {
     "data": {
      "text/html": [
       "<div>\n",
       "<style scoped>\n",
       "    .dataframe tbody tr th:only-of-type {\n",
       "        vertical-align: middle;\n",
       "    }\n",
       "\n",
       "    .dataframe tbody tr th {\n",
       "        vertical-align: top;\n",
       "    }\n",
       "\n",
       "    .dataframe thead th {\n",
       "        text-align: right;\n",
       "    }\n",
       "</style>\n",
       "<table border=\"1\" class=\"dataframe\">\n",
       "  <thead>\n",
       "    <tr style=\"text-align: right;\">\n",
       "      <th></th>\n",
       "      <th>Buyer/Spender</th>\n",
       "      <th>Channel</th>\n",
       "      <th>Region</th>\n",
       "      <th>Fresh</th>\n",
       "      <th>Milk</th>\n",
       "      <th>Grocery</th>\n",
       "      <th>Frozen</th>\n",
       "      <th>Detergents_Paper</th>\n",
       "      <th>Delicatessen</th>\n",
       "    </tr>\n",
       "  </thead>\n",
       "  <tbody>\n",
       "    <tr>\n",
       "      <th>0</th>\n",
       "      <td>1</td>\n",
       "      <td>Retail</td>\n",
       "      <td>Other</td>\n",
       "      <td>12669</td>\n",
       "      <td>9656</td>\n",
       "      <td>7561</td>\n",
       "      <td>214</td>\n",
       "      <td>2674</td>\n",
       "      <td>1338</td>\n",
       "    </tr>\n",
       "    <tr>\n",
       "      <th>1</th>\n",
       "      <td>2</td>\n",
       "      <td>Retail</td>\n",
       "      <td>Other</td>\n",
       "      <td>7057</td>\n",
       "      <td>9810</td>\n",
       "      <td>9568</td>\n",
       "      <td>1762</td>\n",
       "      <td>3293</td>\n",
       "      <td>1776</td>\n",
       "    </tr>\n",
       "    <tr>\n",
       "      <th>2</th>\n",
       "      <td>3</td>\n",
       "      <td>Retail</td>\n",
       "      <td>Other</td>\n",
       "      <td>6353</td>\n",
       "      <td>8808</td>\n",
       "      <td>7684</td>\n",
       "      <td>2405</td>\n",
       "      <td>3516</td>\n",
       "      <td>7844</td>\n",
       "    </tr>\n",
       "    <tr>\n",
       "      <th>3</th>\n",
       "      <td>4</td>\n",
       "      <td>Hotel</td>\n",
       "      <td>Other</td>\n",
       "      <td>13265</td>\n",
       "      <td>1196</td>\n",
       "      <td>4221</td>\n",
       "      <td>6404</td>\n",
       "      <td>507</td>\n",
       "      <td>1788</td>\n",
       "    </tr>\n",
       "    <tr>\n",
       "      <th>4</th>\n",
       "      <td>5</td>\n",
       "      <td>Retail</td>\n",
       "      <td>Other</td>\n",
       "      <td>22615</td>\n",
       "      <td>5410</td>\n",
       "      <td>7198</td>\n",
       "      <td>3915</td>\n",
       "      <td>1777</td>\n",
       "      <td>5185</td>\n",
       "    </tr>\n",
       "  </tbody>\n",
       "</table>\n",
       "</div>"
      ],
      "text/plain": [
       "   Buyer/Spender Channel Region  Fresh  Milk  Grocery  Frozen  \\\n",
       "0              1  Retail  Other  12669  9656     7561     214   \n",
       "1              2  Retail  Other   7057  9810     9568    1762   \n",
       "2              3  Retail  Other   6353  8808     7684    2405   \n",
       "3              4   Hotel  Other  13265  1196     4221    6404   \n",
       "4              5  Retail  Other  22615  5410     7198    3915   \n",
       "\n",
       "   Detergents_Paper  Delicatessen  \n",
       "0              2674          1338  \n",
       "1              3293          1776  \n",
       "2              3516          7844  \n",
       "3               507          1788  \n",
       "4              1777          5185  "
      ]
     },
     "execution_count": 23,
     "metadata": {},
     "output_type": "execute_result"
    }
   ],
   "source": [
    "#Importing wholesale csv\n",
    "\n",
    "wholesale = pd.read_csv('Wholesale+Customers+Data.csv')\n",
    "wholesale.head()"
   ]
  },
  {
   "cell_type": "code",
   "execution_count": 24,
   "metadata": {},
   "outputs": [
    {
     "name": "stdout",
     "output_type": "stream",
     "text": [
      "\u001b[1m\u001b[91mTotal dimension for wholesale dataset:\u001b[0m (440, 9)\n",
      "\u001b[1m\u001b[94mTotal rows in wholesale dataset:\u001b[0m 440\n",
      "\u001b[1m\u001b[94mTotal columns in wholesale dataset:\u001b[0m 9\n"
     ]
    }
   ],
   "source": [
    "#Checking the structure of the wholesale data\n",
    "\n",
    "print(color.BOLD+color.RED+'Total dimension for wholesale dataset:'+color.END,wholesale.shape)\n",
    "print(color.BOLD+color.BLUE+'Total rows in wholesale dataset:'+color.END,wholesale.shape[0])\n",
    "print(color.BOLD+color.BLUE+'Total columns in wholesale dataset:'+color.END,wholesale.shape[1])"
   ]
  },
  {
   "cell_type": "code",
   "execution_count": 25,
   "metadata": {},
   "outputs": [
    {
     "name": "stdout",
     "output_type": "stream",
     "text": [
      "<class 'pandas.core.frame.DataFrame'>\n",
      "RangeIndex: 440 entries, 0 to 439\n",
      "Data columns (total 9 columns):\n",
      " #   Column            Non-Null Count  Dtype \n",
      "---  ------            --------------  ----- \n",
      " 0   Buyer/Spender     440 non-null    int64 \n",
      " 1   Channel           440 non-null    object\n",
      " 2   Region            440 non-null    object\n",
      " 3   Fresh             440 non-null    int64 \n",
      " 4   Milk              440 non-null    int64 \n",
      " 5   Grocery           440 non-null    int64 \n",
      " 6   Frozen            440 non-null    int64 \n",
      " 7   Detergents_Paper  440 non-null    int64 \n",
      " 8   Delicatessen      440 non-null    int64 \n",
      "dtypes: int64(7), object(2)\n",
      "memory usage: 31.1+ KB\n"
     ]
    }
   ],
   "source": [
    "#Checking the info of the data\n",
    "\n",
    "wholesale.info()"
   ]
  },
  {
   "cell_type": "code",
   "execution_count": 26,
   "metadata": {},
   "outputs": [
    {
     "data": {
      "text/plain": [
       "False"
      ]
     },
     "execution_count": 26,
     "metadata": {},
     "output_type": "execute_result"
    }
   ],
   "source": [
    "#Checking to see if there are any null values\n",
    "\n",
    "wholesale.isnull().values.any()"
   ]
  },
  {
   "cell_type": "code",
   "execution_count": 27,
   "metadata": {
    "scrolled": true
   },
   "outputs": [
    {
     "name": "stdout",
     "output_type": "stream",
     "text": [
      "\u001b[1m\u001b[91mNumerical Columns: \n",
      "\n",
      "\u001b[0m ['Fresh', 'Milk', 'Grocery', 'Frozen', 'Detergents_Paper', 'Delicatessen']\n",
      "\n",
      "\u001b[1m\u001b[95mTotal number of numerical columns: \u001b[0m 6\n",
      "\n",
      "\u001b[1m\u001b[91mCategorical Columns: \n",
      "\n",
      "\u001b[0m ['Channel', 'Region']\n",
      "\n",
      "\u001b[1m\u001b[95mTotal number of categorical columns: \u001b[0m 2\n"
     ]
    }
   ],
   "source": [
    "#Dividing the columns into numerical and categorical\n",
    "\n",
    "numerical = wholesale.describe().columns.to_list()\n",
    "categorical = wholesale.select_dtypes('object').columns.to_list()\n",
    "numerical.remove('Buyer/Spender')\n",
    "\n",
    "\n",
    "print(color.BOLD+color.RED+'Numerical Columns: \\n\\n'+color.END,numerical)\n",
    "print()\n",
    "print(color.BOLD+color.PURPLE+'Total number of numerical columns: '+color.END,len(numerical))\n",
    "print()\n",
    "print(color.BOLD+color.RED+'Categorical Columns: \\n\\n'+color.END,categorical)\n",
    "print()\n",
    "print(color.BOLD+color.PURPLE+'Total number of categorical columns: '+color.END,len(categorical))"
   ]
  },
  {
   "cell_type": "markdown",
   "metadata": {},
   "source": [
    "### 1.1 Use methods of descriptive statistics to summarize data. Which Region and which Channel spent the most? Which Region and which Channel spent the least?"
   ]
  },
  {
   "cell_type": "code",
   "execution_count": 28,
   "metadata": {},
   "outputs": [],
   "source": [
    "#Creating the total column that reflects actual amount spent by the particular region/channel\n",
    "wholesale['Total'] = wholesale[['Fresh', 'Milk','Grocery','Frozen','Detergents_Paper','Delicatessen']].sum(axis=1)"
   ]
  },
  {
   "cell_type": "code",
   "execution_count": 29,
   "metadata": {},
   "outputs": [
    {
     "data": {
      "text/html": [
       "<div>\n",
       "<style scoped>\n",
       "    .dataframe tbody tr th:only-of-type {\n",
       "        vertical-align: middle;\n",
       "    }\n",
       "\n",
       "    .dataframe tbody tr th {\n",
       "        vertical-align: top;\n",
       "    }\n",
       "\n",
       "    .dataframe thead th {\n",
       "        text-align: right;\n",
       "    }\n",
       "</style>\n",
       "<table border=\"1\" class=\"dataframe\">\n",
       "  <thead>\n",
       "    <tr style=\"text-align: right;\">\n",
       "      <th></th>\n",
       "      <th>count</th>\n",
       "      <th>mean</th>\n",
       "      <th>std</th>\n",
       "      <th>min</th>\n",
       "      <th>25%</th>\n",
       "      <th>50%</th>\n",
       "      <th>75%</th>\n",
       "      <th>max</th>\n",
       "    </tr>\n",
       "  </thead>\n",
       "  <tbody>\n",
       "    <tr>\n",
       "      <th>Buyer/Spender</th>\n",
       "      <td>440.0</td>\n",
       "      <td>220.500000</td>\n",
       "      <td>127.161315</td>\n",
       "      <td>1.0</td>\n",
       "      <td>110.75</td>\n",
       "      <td>220.5</td>\n",
       "      <td>330.25</td>\n",
       "      <td>440.0</td>\n",
       "    </tr>\n",
       "    <tr>\n",
       "      <th>Fresh</th>\n",
       "      <td>440.0</td>\n",
       "      <td>12000.297727</td>\n",
       "      <td>12647.328865</td>\n",
       "      <td>3.0</td>\n",
       "      <td>3127.75</td>\n",
       "      <td>8504.0</td>\n",
       "      <td>16933.75</td>\n",
       "      <td>112151.0</td>\n",
       "    </tr>\n",
       "    <tr>\n",
       "      <th>Milk</th>\n",
       "      <td>440.0</td>\n",
       "      <td>5796.265909</td>\n",
       "      <td>7380.377175</td>\n",
       "      <td>55.0</td>\n",
       "      <td>1533.00</td>\n",
       "      <td>3627.0</td>\n",
       "      <td>7190.25</td>\n",
       "      <td>73498.0</td>\n",
       "    </tr>\n",
       "    <tr>\n",
       "      <th>Grocery</th>\n",
       "      <td>440.0</td>\n",
       "      <td>7951.277273</td>\n",
       "      <td>9503.162829</td>\n",
       "      <td>3.0</td>\n",
       "      <td>2153.00</td>\n",
       "      <td>4755.5</td>\n",
       "      <td>10655.75</td>\n",
       "      <td>92780.0</td>\n",
       "    </tr>\n",
       "    <tr>\n",
       "      <th>Frozen</th>\n",
       "      <td>440.0</td>\n",
       "      <td>3071.931818</td>\n",
       "      <td>4854.673333</td>\n",
       "      <td>25.0</td>\n",
       "      <td>742.25</td>\n",
       "      <td>1526.0</td>\n",
       "      <td>3554.25</td>\n",
       "      <td>60869.0</td>\n",
       "    </tr>\n",
       "    <tr>\n",
       "      <th>Detergents_Paper</th>\n",
       "      <td>440.0</td>\n",
       "      <td>2881.493182</td>\n",
       "      <td>4767.854448</td>\n",
       "      <td>3.0</td>\n",
       "      <td>256.75</td>\n",
       "      <td>816.5</td>\n",
       "      <td>3922.00</td>\n",
       "      <td>40827.0</td>\n",
       "    </tr>\n",
       "    <tr>\n",
       "      <th>Delicatessen</th>\n",
       "      <td>440.0</td>\n",
       "      <td>1524.870455</td>\n",
       "      <td>2820.105937</td>\n",
       "      <td>3.0</td>\n",
       "      <td>408.25</td>\n",
       "      <td>965.5</td>\n",
       "      <td>1820.25</td>\n",
       "      <td>47943.0</td>\n",
       "    </tr>\n",
       "    <tr>\n",
       "      <th>Total</th>\n",
       "      <td>440.0</td>\n",
       "      <td>33226.136364</td>\n",
       "      <td>26356.301730</td>\n",
       "      <td>904.0</td>\n",
       "      <td>17448.75</td>\n",
       "      <td>27492.0</td>\n",
       "      <td>41307.50</td>\n",
       "      <td>199891.0</td>\n",
       "    </tr>\n",
       "  </tbody>\n",
       "</table>\n",
       "</div>"
      ],
      "text/plain": [
       "                  count          mean           std    min       25%      50%  \\\n",
       "Buyer/Spender     440.0    220.500000    127.161315    1.0    110.75    220.5   \n",
       "Fresh             440.0  12000.297727  12647.328865    3.0   3127.75   8504.0   \n",
       "Milk              440.0   5796.265909   7380.377175   55.0   1533.00   3627.0   \n",
       "Grocery           440.0   7951.277273   9503.162829    3.0   2153.00   4755.5   \n",
       "Frozen            440.0   3071.931818   4854.673333   25.0    742.25   1526.0   \n",
       "Detergents_Paper  440.0   2881.493182   4767.854448    3.0    256.75    816.5   \n",
       "Delicatessen      440.0   1524.870455   2820.105937    3.0    408.25    965.5   \n",
       "Total             440.0  33226.136364  26356.301730  904.0  17448.75  27492.0   \n",
       "\n",
       "                       75%       max  \n",
       "Buyer/Spender       330.25     440.0  \n",
       "Fresh             16933.75  112151.0  \n",
       "Milk               7190.25   73498.0  \n",
       "Grocery           10655.75   92780.0  \n",
       "Frozen             3554.25   60869.0  \n",
       "Detergents_Paper   3922.00   40827.0  \n",
       "Delicatessen       1820.25   47943.0  \n",
       "Total             41307.50  199891.0  "
      ]
     },
     "execution_count": 29,
     "metadata": {},
     "output_type": "execute_result"
    }
   ],
   "source": [
    "wholesale.describe().T"
   ]
  },
  {
   "cell_type": "code",
   "execution_count": 30,
   "metadata": {},
   "outputs": [
    {
     "data": {
      "text/html": [
       "<div>\n",
       "<style scoped>\n",
       "    .dataframe tbody tr th:only-of-type {\n",
       "        vertical-align: middle;\n",
       "    }\n",
       "\n",
       "    .dataframe tbody tr th {\n",
       "        vertical-align: top;\n",
       "    }\n",
       "\n",
       "    .dataframe thead th {\n",
       "        text-align: right;\n",
       "    }\n",
       "</style>\n",
       "<table border=\"1\" class=\"dataframe\">\n",
       "  <thead>\n",
       "    <tr style=\"text-align: right;\">\n",
       "      <th></th>\n",
       "      <th>count</th>\n",
       "      <th>unique</th>\n",
       "      <th>top</th>\n",
       "      <th>freq</th>\n",
       "    </tr>\n",
       "  </thead>\n",
       "  <tbody>\n",
       "    <tr>\n",
       "      <th>Channel</th>\n",
       "      <td>440</td>\n",
       "      <td>2</td>\n",
       "      <td>Hotel</td>\n",
       "      <td>298</td>\n",
       "    </tr>\n",
       "    <tr>\n",
       "      <th>Region</th>\n",
       "      <td>440</td>\n",
       "      <td>3</td>\n",
       "      <td>Other</td>\n",
       "      <td>316</td>\n",
       "    </tr>\n",
       "  </tbody>\n",
       "</table>\n",
       "</div>"
      ],
      "text/plain": [
       "        count unique    top freq\n",
       "Channel   440      2  Hotel  298\n",
       "Region    440      3  Other  316"
      ]
     },
     "execution_count": 30,
     "metadata": {},
     "output_type": "execute_result"
    }
   ],
   "source": [
    "wholesale.describe(exclude=np.number).T"
   ]
  },
  {
   "cell_type": "code",
   "execution_count": 31,
   "metadata": {},
   "outputs": [
    {
     "data": {
      "text/html": [
       "<div>\n",
       "<style scoped>\n",
       "    .dataframe tbody tr th:only-of-type {\n",
       "        vertical-align: middle;\n",
       "    }\n",
       "\n",
       "    .dataframe tbody tr th {\n",
       "        vertical-align: top;\n",
       "    }\n",
       "\n",
       "    .dataframe thead th {\n",
       "        text-align: right;\n",
       "    }\n",
       "</style>\n",
       "<table border=\"1\" class=\"dataframe\">\n",
       "  <thead>\n",
       "    <tr style=\"text-align: right;\">\n",
       "      <th>Region</th>\n",
       "      <th>Lisbon</th>\n",
       "      <th>Oporto</th>\n",
       "      <th>Other</th>\n",
       "    </tr>\n",
       "  </thead>\n",
       "  <tbody>\n",
       "    <tr>\n",
       "      <th>Total</th>\n",
       "      <td>2386813</td>\n",
       "      <td>1555088</td>\n",
       "      <td>10677599</td>\n",
       "    </tr>\n",
       "  </tbody>\n",
       "</table>\n",
       "</div>"
      ],
      "text/plain": [
       "Region   Lisbon   Oporto     Other\n",
       "Total   2386813  1555088  10677599"
      ]
     },
     "execution_count": 31,
     "metadata": {},
     "output_type": "execute_result"
    }
   ],
   "source": [
    "region_spent = wholesale.pivot_table(columns='Region',values='Total',aggfunc=np.sum)\n",
    "region_spent"
   ]
  },
  {
   "cell_type": "code",
   "execution_count": 32,
   "metadata": {},
   "outputs": [
    {
     "data": {
      "image/png": "[encoded data removed]",
      "text/plain": [
       "<Figure size 720x360 with 1 Axes>"
      ]
     },
     "metadata": {},
     "output_type": "display_data"
    }
   ],
   "source": [
    "region_spent.plot.barh(figsize=[10,5])\n",
    "plt.title('Total spendings as per Region',fontsize=15)\n",
    "plt.xlabel('total_spent')\n",
    "plt.ylabel('Region');"
   ]
  },
  {
   "cell_type": "code",
   "execution_count": 33,
   "metadata": {},
   "outputs": [
    {
     "data": {
      "text/html": [
       "<div>\n",
       "<style scoped>\n",
       "    .dataframe tbody tr th:only-of-type {\n",
       "        vertical-align: middle;\n",
       "    }\n",
       "\n",
       "    .dataframe tbody tr th {\n",
       "        vertical-align: top;\n",
       "    }\n",
       "\n",
       "    .dataframe thead th {\n",
       "        text-align: right;\n",
       "    }\n",
       "</style>\n",
       "<table border=\"1\" class=\"dataframe\">\n",
       "  <thead>\n",
       "    <tr style=\"text-align: right;\">\n",
       "      <th>Channel</th>\n",
       "      <th>Hotel</th>\n",
       "      <th>Retail</th>\n",
       "    </tr>\n",
       "  </thead>\n",
       "  <tbody>\n",
       "    <tr>\n",
       "      <th>Total</th>\n",
       "      <td>7999569</td>\n",
       "      <td>6619931</td>\n",
       "    </tr>\n",
       "  </tbody>\n",
       "</table>\n",
       "</div>"
      ],
      "text/plain": [
       "Channel    Hotel   Retail\n",
       "Total    7999569  6619931"
      ]
     },
     "execution_count": 33,
     "metadata": {},
     "output_type": "execute_result"
    }
   ],
   "source": [
    "channel_spent = wholesale.pivot_table(columns='Channel',values='Total',aggfunc=np.sum)\n",
    "channel_spent"
   ]
  },
  {
   "cell_type": "code",
   "execution_count": 34,
   "metadata": {},
   "outputs": [
    {
     "data": {
      "image/png": "[encoded data removed]",
      "text/plain": [
       "<Figure size 720x360 with 1 Axes>"
      ]
     },
     "metadata": {},
     "output_type": "display_data"
    }
   ],
   "source": [
    "channel_spent.plot.barh(figsize=[10,5])\n",
    "plt.title('Total spendings as per Channel',fontsize=15)\n",
    "plt.xlabel('total_spent')\n",
    "plt.ylabel('Channel');"
   ]
  },
  {
   "cell_type": "markdown",
   "metadata": {},
   "source": [
    "`Analysis`\n",
    "\n",
    "+ Other (10,677,599) region spent most.\n",
    "\n",
    "\n",
    "+ Lisbon (2,386,813) comes second close and Oporto (1,555,088) region spent the least\n",
    "\n",
    "\n",
    "+ Hotel spent the most (7,999,569) and Retail spent the least (6,619,931)"
   ]
  },
  {
   "cell_type": "code",
   "execution_count": 35,
   "metadata": {},
   "outputs": [
    {
     "data": {
      "text/html": [
       "<div>\n",
       "<style scoped>\n",
       "    .dataframe tbody tr th:only-of-type {\n",
       "        vertical-align: middle;\n",
       "    }\n",
       "\n",
       "    .dataframe tbody tr th {\n",
       "        vertical-align: top;\n",
       "    }\n",
       "\n",
       "    .dataframe thead th {\n",
       "        text-align: right;\n",
       "    }\n",
       "</style>\n",
       "<table border=\"1\" class=\"dataframe\">\n",
       "  <thead>\n",
       "    <tr style=\"text-align: right;\">\n",
       "      <th>Channel</th>\n",
       "      <th>Hotel</th>\n",
       "      <th>Retail</th>\n",
       "    </tr>\n",
       "    <tr>\n",
       "      <th>Region</th>\n",
       "      <th></th>\n",
       "      <th></th>\n",
       "    </tr>\n",
       "  </thead>\n",
       "  <tbody>\n",
       "    <tr>\n",
       "      <th>Lisbon</th>\n",
       "      <td>1538342</td>\n",
       "      <td>848471</td>\n",
       "    </tr>\n",
       "    <tr>\n",
       "      <th>Oporto</th>\n",
       "      <td>719150</td>\n",
       "      <td>835938</td>\n",
       "    </tr>\n",
       "    <tr>\n",
       "      <th>Other</th>\n",
       "      <td>5742077</td>\n",
       "      <td>4935522</td>\n",
       "    </tr>\n",
       "  </tbody>\n",
       "</table>\n",
       "</div>"
      ],
      "text/plain": [
       "Channel    Hotel   Retail\n",
       "Region                   \n",
       "Lisbon   1538342   848471\n",
       "Oporto    719150   835938\n",
       "Other    5742077  4935522"
      ]
     },
     "execution_count": 35,
     "metadata": {},
     "output_type": "execute_result"
    }
   ],
   "source": [
    "total_spent = wholesale.pivot_table(index='Region',columns='Channel',values='Total',aggfunc=np.sum)\n",
    "total_spent"
   ]
  },
  {
   "cell_type": "code",
   "execution_count": 36,
   "metadata": {},
   "outputs": [
    {
     "data": {
      "image/png": "[encoded data removed]",
      "text/plain": [
       "<Figure size 720x360 with 1 Axes>"
      ]
     },
     "metadata": {},
     "output_type": "display_data"
    }
   ],
   "source": [
    "total_spent.plot.bar(figsize=[10,5])\n",
    "plt.title('Total amount spent across Region and Channel',fontsize=15)\n",
    "plt.ylabel('Total spent');"
   ]
  },
  {
   "cell_type": "code",
   "execution_count": 37,
   "metadata": {},
   "outputs": [
    {
     "data": {
      "text/html": [
       "<div>\n",
       "<style scoped>\n",
       "    .dataframe tbody tr th:only-of-type {\n",
       "        vertical-align: middle;\n",
       "    }\n",
       "\n",
       "    .dataframe tbody tr th {\n",
       "        vertical-align: top;\n",
       "    }\n",
       "\n",
       "    .dataframe thead th {\n",
       "        text-align: right;\n",
       "    }\n",
       "</style>\n",
       "<table border=\"1\" class=\"dataframe\">\n",
       "  <thead>\n",
       "    <tr style=\"text-align: right;\">\n",
       "      <th>Region</th>\n",
       "      <th>Lisbon</th>\n",
       "      <th>Oporto</th>\n",
       "      <th>Other</th>\n",
       "    </tr>\n",
       "    <tr>\n",
       "      <th>Channel</th>\n",
       "      <th></th>\n",
       "      <th></th>\n",
       "      <th></th>\n",
       "    </tr>\n",
       "  </thead>\n",
       "  <tbody>\n",
       "    <tr>\n",
       "      <th>Hotel</th>\n",
       "      <td>59</td>\n",
       "      <td>28</td>\n",
       "      <td>211</td>\n",
       "    </tr>\n",
       "    <tr>\n",
       "      <th>Retail</th>\n",
       "      <td>18</td>\n",
       "      <td>19</td>\n",
       "      <td>105</td>\n",
       "    </tr>\n",
       "  </tbody>\n",
       "</table>\n",
       "</div>"
      ],
      "text/plain": [
       "Region   Lisbon  Oporto  Other\n",
       "Channel                       \n",
       "Hotel        59      28    211\n",
       "Retail       18      19    105"
      ]
     },
     "execution_count": 37,
     "metadata": {},
     "output_type": "execute_result"
    }
   ],
   "source": [
    "pd.crosstab(wholesale.Channel,wholesale.Region)"
   ]
  },
  {
   "cell_type": "markdown",
   "metadata": {},
   "source": [
    "<span style=\"color:darkred\">From the above data, we can infer the following</span>\n",
    "\n",
    "Channel has two unique values, with \"Hotel\" as most frequent with 298 out of 440 transactions i.e. 67.7% of spendings and Retail as least frequent with 142 out of 440 transactions i.e. 32.27%\n",
    "\n",
    "Region has three unique values, with \"Other\" as most frequent with 316 out of 440 transactions i.e.71.8% of spendings and Lisbon ranking 2nd with 77 out of 440 transactions i.e. 17.5% of spendings. Least frequent is Oporto with 47 out of 440 transactions i.e.10.68%\n"
   ]
  },
  {
   "cell_type": "markdown",
   "metadata": {},
   "source": [
    "### 1.2 There are 6 different varieties of items that are considered. Describe and comment/explain all the varieties across Region and Channel? Provide a detailed justification for your answer."
   ]
  },
  {
   "cell_type": "code",
   "execution_count": 38,
   "metadata": {},
   "outputs": [],
   "source": [
    "totals = wholesale[numerical].values.sum()"
   ]
  },
  {
   "cell_type": "code",
   "execution_count": 39,
   "metadata": {},
   "outputs": [
    {
     "data": {
      "text/html": [
       "<div>\n",
       "<style scoped>\n",
       "    .dataframe tbody tr th:only-of-type {\n",
       "        vertical-align: middle;\n",
       "    }\n",
       "\n",
       "    .dataframe tbody tr th {\n",
       "        vertical-align: top;\n",
       "    }\n",
       "\n",
       "    .dataframe thead th {\n",
       "        text-align: right;\n",
       "    }\n",
       "</style>\n",
       "<table border=\"1\" class=\"dataframe\">\n",
       "  <thead>\n",
       "    <tr style=\"text-align: right;\">\n",
       "      <th></th>\n",
       "      <th>Region</th>\n",
       "      <th>Lisbon</th>\n",
       "      <th>Oporto</th>\n",
       "      <th>Other</th>\n",
       "    </tr>\n",
       "    <tr>\n",
       "      <th></th>\n",
       "      <th>Channel</th>\n",
       "      <th></th>\n",
       "      <th></th>\n",
       "      <th></th>\n",
       "    </tr>\n",
       "  </thead>\n",
       "  <tbody>\n",
       "    <tr>\n",
       "      <th rowspan=\"2\" valign=\"top\">Delicatessen</th>\n",
       "      <th>Hotel</th>\n",
       "      <td>1.488267e+06</td>\n",
       "      <td>1.116781e+06</td>\n",
       "      <td>1.341891e+07</td>\n",
       "    </tr>\n",
       "    <tr>\n",
       "      <th>Retail</th>\n",
       "      <td>2.645459e+06</td>\n",
       "      <td>1.135158e+06</td>\n",
       "      <td>4.490382e+06</td>\n",
       "    </tr>\n",
       "    <tr>\n",
       "      <th rowspan=\"2\" valign=\"top\">Detergents_Paper</th>\n",
       "      <th>Hotel</th>\n",
       "      <td>1.705395e+06</td>\n",
       "      <td>1.808890e+05</td>\n",
       "      <td>1.209935e+06</td>\n",
       "    </tr>\n",
       "    <tr>\n",
       "      <th>Retail</th>\n",
       "      <td>3.042492e+07</td>\n",
       "      <td>6.867020e+07</td>\n",
       "      <td>3.626558e+07</td>\n",
       "    </tr>\n",
       "    <tr>\n",
       "      <th rowspan=\"2\" valign=\"top\">Fresh</th>\n",
       "      <th>Hotel</th>\n",
       "      <td>1.523252e+08</td>\n",
       "      <td>8.044947e+07</td>\n",
       "      <td>2.174614e+08</td>\n",
       "    </tr>\n",
       "    <tr>\n",
       "      <th>Retail</th>\n",
       "      <td>2.932787e+07</td>\n",
       "      <td>4.716852e+07</td>\n",
       "      <td>9.284082e+07</td>\n",
       "    </tr>\n",
       "    <tr>\n",
       "      <th rowspan=\"2\" valign=\"top\">Frozen</th>\n",
       "      <th>Hotel</th>\n",
       "      <td>1.073519e+07</td>\n",
       "      <td>1.312051e+08</td>\n",
       "      <td>2.456779e+07</td>\n",
       "    </tr>\n",
       "    <tr>\n",
       "      <th>Retail</th>\n",
       "      <td>5.879532e+06</td>\n",
       "      <td>6.117047e+06</td>\n",
       "      <td>2.263516e+06</td>\n",
       "    </tr>\n",
       "    <tr>\n",
       "      <th rowspan=\"2\" valign=\"top\">Grocery</th>\n",
       "      <th>Hotel</th>\n",
       "      <td>1.317432e+07</td>\n",
       "      <td>9.292126e+06</td>\n",
       "      <td>1.291329e+07</td>\n",
       "    </tr>\n",
       "    <tr>\n",
       "      <th>Retail</th>\n",
       "      <td>1.084657e+08</td>\n",
       "      <td>1.969940e+08</td>\n",
       "      <td>1.512638e+08</td>\n",
       "    </tr>\n",
       "    <tr>\n",
       "      <th rowspan=\"2\" valign=\"top\">Milk</th>\n",
       "      <th>Hotel</th>\n",
       "      <td>1.847557e+07</td>\n",
       "      <td>8.812756e+06</td>\n",
       "      <td>2.032662e+07</td>\n",
       "    </tr>\n",
       "    <tr>\n",
       "      <th>Retail</th>\n",
       "      <td>4.368181e+07</td>\n",
       "      <td>4.371000e+07</td>\n",
       "      <td>1.118270e+08</td>\n",
       "    </tr>\n",
       "  </tbody>\n",
       "</table>\n",
       "</div>"
      ],
      "text/plain": [
       "Region                          Lisbon        Oporto         Other\n",
       "                 Channel                                          \n",
       "Delicatessen     Hotel    1.488267e+06  1.116781e+06  1.341891e+07\n",
       "                 Retail   2.645459e+06  1.135158e+06  4.490382e+06\n",
       "Detergents_Paper Hotel    1.705395e+06  1.808890e+05  1.209935e+06\n",
       "                 Retail   3.042492e+07  6.867020e+07  3.626558e+07\n",
       "Fresh            Hotel    1.523252e+08  8.044947e+07  2.174614e+08\n",
       "                 Retail   2.932787e+07  4.716852e+07  9.284082e+07\n",
       "Frozen           Hotel    1.073519e+07  1.312051e+08  2.456779e+07\n",
       "                 Retail   5.879532e+06  6.117047e+06  2.263516e+06\n",
       "Grocery          Hotel    1.317432e+07  9.292126e+06  1.291329e+07\n",
       "                 Retail   1.084657e+08  1.969940e+08  1.512638e+08\n",
       "Milk             Hotel    1.847557e+07  8.812756e+06  2.032662e+07\n",
       "                 Retail   4.368181e+07  4.371000e+07  1.118270e+08"
      ]
     },
     "execution_count": 39,
     "metadata": {},
     "output_type": "execute_result"
    }
   ],
   "source": [
    "regions = wholesale.pivot_table(index=wholesale.Region,columns=wholesale.Channel,aggfunc=np.cov)\n",
    "regions = regions.drop('Buyer/Spender',axis=1).drop('Total',axis=1).T\n",
    "regions"
   ]
  },
  {
   "cell_type": "code",
   "execution_count": 40,
   "metadata": {},
   "outputs": [
    {
     "data": {
      "image/png": "[encoded data removed]",
      "text/plain": [
       "<Figure size 1080x360 with 1 Axes>"
      ]
     },
     "metadata": {},
     "output_type": "display_data"
    }
   ],
   "source": [
    "regions.plot.bar(figsize=[15,5])\n",
    "plt.xlabel('Items and Channel');"
   ]
  },
  {
   "cell_type": "markdown",
   "metadata": {},
   "source": [
    "+ Fresh item have high covariance in Hotel channel for Lisbon and Other regions.\n",
    "\n",
    "\n",
    "+ Grocery has the highest covariance in Oporto region along with Frozen items.\n",
    "\n",
    "\n",
    "+ Delicatessen in both hotel and retail channel has low covariance across all regions.\n",
    "\n",
    "\n",
    "+ Detergents_Paper in hotel channel has low variance for all regions."
   ]
  },
  {
   "cell_type": "code",
   "execution_count": 41,
   "metadata": {
    "scrolled": true
   },
   "outputs": [
    {
     "data": {
      "text/html": [
       "<div>\n",
       "<style scoped>\n",
       "    .dataframe tbody tr th:only-of-type {\n",
       "        vertical-align: middle;\n",
       "    }\n",
       "\n",
       "    .dataframe tbody tr th {\n",
       "        vertical-align: top;\n",
       "    }\n",
       "\n",
       "    .dataframe thead th {\n",
       "        text-align: right;\n",
       "    }\n",
       "</style>\n",
       "<table border=\"1\" class=\"dataframe\">\n",
       "  <thead>\n",
       "    <tr style=\"text-align: right;\">\n",
       "      <th></th>\n",
       "      <th>Count</th>\n",
       "      <th>Mean</th>\n",
       "      <th>Standard Deviation</th>\n",
       "      <th>min</th>\n",
       "      <th>Q1 (25%)</th>\n",
       "      <th>Q2 (50%)</th>\n",
       "      <th>Q3 (75%)</th>\n",
       "      <th>max</th>\n",
       "      <th>Variance</th>\n",
       "      <th>IQR</th>\n",
       "      <th>Range</th>\n",
       "    </tr>\n",
       "  </thead>\n",
       "  <tbody>\n",
       "    <tr>\n",
       "      <th>Fresh</th>\n",
       "      <td>440.0</td>\n",
       "      <td>12000.297727</td>\n",
       "      <td>12647.328865</td>\n",
       "      <td>3.0</td>\n",
       "      <td>3127.75</td>\n",
       "      <td>8504.0</td>\n",
       "      <td>16933.75</td>\n",
       "      <td>112151.0</td>\n",
       "      <td>1.599549e+08</td>\n",
       "      <td>13806.00</td>\n",
       "      <td>112148.0</td>\n",
       "    </tr>\n",
       "    <tr>\n",
       "      <th>Milk</th>\n",
       "      <td>440.0</td>\n",
       "      <td>5796.265909</td>\n",
       "      <td>7380.377175</td>\n",
       "      <td>55.0</td>\n",
       "      <td>1533.00</td>\n",
       "      <td>3627.0</td>\n",
       "      <td>7190.25</td>\n",
       "      <td>73498.0</td>\n",
       "      <td>5.446997e+07</td>\n",
       "      <td>5657.25</td>\n",
       "      <td>73443.0</td>\n",
       "    </tr>\n",
       "    <tr>\n",
       "      <th>Grocery</th>\n",
       "      <td>440.0</td>\n",
       "      <td>7951.277273</td>\n",
       "      <td>9503.162829</td>\n",
       "      <td>3.0</td>\n",
       "      <td>2153.00</td>\n",
       "      <td>4755.5</td>\n",
       "      <td>10655.75</td>\n",
       "      <td>92780.0</td>\n",
       "      <td>9.031010e+07</td>\n",
       "      <td>8502.75</td>\n",
       "      <td>92777.0</td>\n",
       "    </tr>\n",
       "    <tr>\n",
       "      <th>Frozen</th>\n",
       "      <td>440.0</td>\n",
       "      <td>3071.931818</td>\n",
       "      <td>4854.673333</td>\n",
       "      <td>25.0</td>\n",
       "      <td>742.25</td>\n",
       "      <td>1526.0</td>\n",
       "      <td>3554.25</td>\n",
       "      <td>60869.0</td>\n",
       "      <td>2.356785e+07</td>\n",
       "      <td>2812.00</td>\n",
       "      <td>60844.0</td>\n",
       "    </tr>\n",
       "    <tr>\n",
       "      <th>Detergents_Paper</th>\n",
       "      <td>440.0</td>\n",
       "      <td>2881.493182</td>\n",
       "      <td>4767.854448</td>\n",
       "      <td>3.0</td>\n",
       "      <td>256.75</td>\n",
       "      <td>816.5</td>\n",
       "      <td>3922.00</td>\n",
       "      <td>40827.0</td>\n",
       "      <td>2.273244e+07</td>\n",
       "      <td>3665.25</td>\n",
       "      <td>40824.0</td>\n",
       "    </tr>\n",
       "    <tr>\n",
       "      <th>Delicatessen</th>\n",
       "      <td>440.0</td>\n",
       "      <td>1524.870455</td>\n",
       "      <td>2820.105937</td>\n",
       "      <td>3.0</td>\n",
       "      <td>408.25</td>\n",
       "      <td>965.5</td>\n",
       "      <td>1820.25</td>\n",
       "      <td>47943.0</td>\n",
       "      <td>7.952997e+06</td>\n",
       "      <td>1412.00</td>\n",
       "      <td>47940.0</td>\n",
       "    </tr>\n",
       "  </tbody>\n",
       "</table>\n",
       "</div>"
      ],
      "text/plain": [
       "                  Count          Mean  Standard Deviation   min  Q1 (25%)  \\\n",
       "Fresh             440.0  12000.297727        12647.328865   3.0   3127.75   \n",
       "Milk              440.0   5796.265909         7380.377175  55.0   1533.00   \n",
       "Grocery           440.0   7951.277273         9503.162829   3.0   2153.00   \n",
       "Frozen            440.0   3071.931818         4854.673333  25.0    742.25   \n",
       "Detergents_Paper  440.0   2881.493182         4767.854448   3.0    256.75   \n",
       "Delicatessen      440.0   1524.870455         2820.105937   3.0    408.25   \n",
       "\n",
       "                  Q2 (50%)  Q3 (75%)       max      Variance       IQR  \\\n",
       "Fresh               8504.0  16933.75  112151.0  1.599549e+08  13806.00   \n",
       "Milk                3627.0   7190.25   73498.0  5.446997e+07   5657.25   \n",
       "Grocery             4755.5  10655.75   92780.0  9.031010e+07   8502.75   \n",
       "Frozen              1526.0   3554.25   60869.0  2.356785e+07   2812.00   \n",
       "Detergents_Paper     816.5   3922.00   40827.0  2.273244e+07   3665.25   \n",
       "Delicatessen         965.5   1820.25   47943.0  7.952997e+06   1412.00   \n",
       "\n",
       "                     Range  \n",
       "Fresh             112148.0  \n",
       "Milk               73443.0  \n",
       "Grocery            92777.0  \n",
       "Frozen             60844.0  \n",
       "Detergents_Paper   40824.0  \n",
       "Delicatessen       47940.0  "
      ]
     },
     "execution_count": 41,
     "metadata": {},
     "output_type": "execute_result"
    }
   ],
   "source": [
    "descr_stats = wholesale[numerical].describe().T\n",
    "descr_stats['Variance'] = wholesale[numerical].var()\n",
    "descr_stats['IQR'] = descr_stats['75%']-descr_stats['25%']\n",
    "descr_stats['Range'] = descr_stats['max']-descr_stats['min']\n",
    "descr_stats.rename(columns={'count':'Count',\n",
    "                            'mean':'Mean',\n",
    "                            'std':'Standard Deviation',\n",
    "                            '25%':'Q1 (25%)',\n",
    "                            '50%':'Q2 (50%)',\n",
    "                            '75%':'Q3 (75%)'},inplace=True)\n",
    "descr_stats"
   ]
  },
  {
   "cell_type": "markdown",
   "metadata": {},
   "source": [
    "<span style=\"color:blue\">Fresh item (440 transactions):</span>\n",
    "\n",
    "With the mean of 12000.297727, standard deviation of 12647.328865, range is (max-min) 112148.0 (112151.0 - 3.0).\n",
    "\n",
    "The Q1(25%) of the data is upto 3127.75, Q3(75%) is 16933.8, with Q2(50%) 8504\n",
    "\n",
    "IQR = Q3-Q1 = 16933.8-3127.75 = 13,806.05\n",
    "\n",
    "\n",
    "<span style=\"color:blue\">Milk item (440 transactions):</span>\n",
    "\n",
    "Mean of 5796.27, standard deviation of 7380.38, range is (max-min) 73443.0.\n",
    "\n",
    "The Q1(25%) of the data is upto 1533, Q3(75%) is 7190.25, with Q2(50%) 3627\n",
    "\n",
    "IQR = Q3-Q1 = 7190.25-1533 = 5657.25\n",
    "\n",
    "<span style=\"color:blue\">Grocery item (440 transactions)</span>\n",
    "\n",
    "Mean of 7951.28, standard deviation of 9503.16, range = max-min =92780-3=92777 \n",
    "\n",
    "The Q1(25%) is 2153, Q3(75%) is 10655.8, with Q2(50%) 4755.5\n",
    "\n",
    "IQR = Q3-Q1 = 10655.8-2153 = 8502.8 \n",
    "\n",
    "<span style=\"color:blue\">Frozen (440 transactions):</span>\n",
    "\n",
    "Mean of 3071.93, standard deviation of 4854.67, range = max-min =60869-25=60844 \n",
    "\n",
    "Q1(25%) is 742.25, Q3(75%) is 3554.25, with Q2(50%) 1526\n",
    "\n",
    "IQR = Q3-Q1 = 3554.25-742.25 = 2812\n",
    "\n",
    "<span style=\"color:blue\">Detergents_Paper (440 transactions):</span>\n",
    "\n",
    "Mean of 2881.49, standard deviation of 4767.85, range = max-min =40827-3=40824 \n",
    "\n",
    "Q1(25%) is 256.75, Q3(75%) is 3922, with Q2(50%) 816.5\n",
    "\n",
    "IQR = Q3-Q1 = 3922-256.75 = 3665.25\n",
    "\n",
    "<span style=\"color:blue\">Delicatessen (440 transactions):</span>\n",
    "\n",
    "Mean of 1524.87, standard deviation of 2820.11, range = max-min =47943-3=47940 \n",
    "\n",
    "Q1(25%) is 408.25, Q3(75%) is 1820.25, with Q2(50%) 965.5\n",
    "\n",
    "IQR = Q3-Q1 = 1820.25-408.25 = 1412 "
   ]
  },
  {
   "cell_type": "markdown",
   "metadata": {},
   "source": [
    "### 1.3 On the basis of a descriptive measure of variability, which item shows the most inconsistent behaviour? Which items show the least inconsistent behaviour?"
   ]
  },
  {
   "cell_type": "code",
   "execution_count": 42,
   "metadata": {
    "scrolled": false
   },
   "outputs": [
    {
     "name": "stdout",
     "output_type": "stream",
     "text": [
      "\u001b[1mItems behaviour based on standard deviation:\n",
      "\u001b[0m\n",
      "\u001b[1mFresh\u001b[0m 12647.3289\n",
      "\u001b[1mMilk\u001b[0m 7380.3772\n",
      "\u001b[1mGrocery\u001b[0m 9503.1628\n",
      "\u001b[1mFrozen\u001b[0m 4854.6733\n",
      "\u001b[1mDetergents_Paper\u001b[0m 4767.8544\n",
      "\u001b[1mDelicatessen\u001b[0m 2820.1059\n",
      "\u001b[1m\n",
      "Items behaviour based on coefficient of variation:\n",
      "\u001b[0m\n",
      "\u001b[1mFresh\u001b[0m 1.0527\n",
      "\u001b[1mMilk\u001b[0m 1.2719\n",
      "\u001b[1mGrocery\u001b[0m 1.1938\n",
      "\u001b[1mFrozen\u001b[0m 1.5785\n",
      "\u001b[1mDetergents_Paper\u001b[0m 1.6528\n",
      "\u001b[1mDelicatessen\u001b[0m 1.8473\n"
     ]
    }
   ],
   "source": [
    "#Calculating the covariance for each item across all channel/region\n",
    "print(color.BOLD+'Items behaviour based on standard deviation:\\n'+color.END)\n",
    "    \n",
    "for i in numerical:\n",
    "    sd = wholesale[i].std()\n",
    "    print(color.BOLD+i+color.END,round(sd,4))\n",
    "    \n",
    "\n",
    "print(color.BOLD+'\\nItems behaviour based on coefficient of variation:\\n'+color.END)\n",
    "\n",
    "for i in numerical:\n",
    "    cv = np.std(wholesale[i]) / np.mean(wholesale[i])\n",
    "    print(color.BOLD+i+color.END,round(cv,4))"
   ]
  },
  {
   "cell_type": "markdown",
   "metadata": {},
   "source": [
    "<span style=\"color:brown\">Based on Standard Deviation: </span>\n",
    "\n",
    "`Delicatessen` has the lowest standard deviation of 2820.1059 and thus is the consistent.\n",
    "\n",
    "`Frozen` has the highest standard deviation of 12647.3289 and thus is the most inconsistent.\n",
    "\n",
    "<span style=\"color:brown\">Based on coefficient of variation: </span>\n",
    "\n",
    "`Fresh` has lowest variance of 1.0527 | It has the least inconsistent behaviour means less varying.\n",
    "\n",
    "\n",
    "`Delicatessen` has the highest variance of 1.8473 | It has the most inconsistent behaviour which means most varying."
   ]
  },
  {
   "cell_type": "markdown",
   "metadata": {},
   "source": [
    "### 1.4 Are there any outliers in the data? Back up your answer with a suitable plot/technique with the help of detailed comments."
   ]
  },
  {
   "cell_type": "markdown",
   "metadata": {},
   "source": [
    "<strong style=\"color: darkcyan; opacity: 0.80;\">Using the IQR Score.</strong>\n",
    "+ Sort the dataset in increasing order.\n",
    "\n",
    "\n",
    "+ Calculate the first quartile(Q1) and third quartile(Q3)\n",
    "\n",
    "\n",
    "+ Find Interquartile range (Q3-Q1)\n",
    "\n",
    "\n",
    "+ Find the Lower Bound = (Q1 -1.5 * IQR)\n",
    "\n",
    "\n",
    "+ Find the Upper Bound = (Q3 +1.5 * IQR)\n",
    "\n",
    "\n",
    "+ Anything that lies above or below the upper and lower bound is an outlier."
   ]
  },
  {
   "cell_type": "code",
   "execution_count": 43,
   "metadata": {},
   "outputs": [
    {
     "name": "stdout",
     "output_type": "stream",
     "text": [
      "\u001b[1mIQR of the items\n",
      "\u001b[0m\n",
      "Fresh               13806.00\n",
      "Milk                 5657.25\n",
      "Grocery              8502.75\n",
      "Frozen               2812.00\n",
      "Detergents_Paper     3665.25\n",
      "Delicatessen         1412.00\n",
      "dtype: float64\n"
     ]
    }
   ],
   "source": [
    "#calculating IQR\n",
    "sorted(wholesale)\n",
    "\n",
    "Q1=wholesale[numerical].quantile(0.25)\n",
    "Q3=wholesale[numerical].quantile(0.75)\n",
    "IQR=Q3-Q1\n",
    "print(color.BOLD+'IQR of the items\\n'+color.END)\n",
    "print(IQR)"
   ]
  },
  {
   "cell_type": "code",
   "execution_count": 44,
   "metadata": {
    "scrolled": false
   },
   "outputs": [
    {
     "data": {
      "text/html": [
       "<div>\n",
       "<style scoped>\n",
       "    .dataframe tbody tr th:only-of-type {\n",
       "        vertical-align: middle;\n",
       "    }\n",
       "\n",
       "    .dataframe tbody tr th {\n",
       "        vertical-align: top;\n",
       "    }\n",
       "\n",
       "    .dataframe thead th {\n",
       "        text-align: right;\n",
       "    }\n",
       "</style>\n",
       "<table border=\"1\" class=\"dataframe\">\n",
       "  <thead>\n",
       "    <tr style=\"text-align: right;\">\n",
       "      <th></th>\n",
       "      <th>Columns</th>\n",
       "      <th>Outliers</th>\n",
       "    </tr>\n",
       "  </thead>\n",
       "  <tbody>\n",
       "    <tr>\n",
       "      <th>2</th>\n",
       "      <td>Delicatessen</td>\n",
       "      <td>True</td>\n",
       "    </tr>\n",
       "    <tr>\n",
       "      <th>3</th>\n",
       "      <td>Detergents_Paper</td>\n",
       "      <td>True</td>\n",
       "    </tr>\n",
       "    <tr>\n",
       "      <th>4</th>\n",
       "      <td>Fresh</td>\n",
       "      <td>True</td>\n",
       "    </tr>\n",
       "    <tr>\n",
       "      <th>5</th>\n",
       "      <td>Frozen</td>\n",
       "      <td>True</td>\n",
       "    </tr>\n",
       "    <tr>\n",
       "      <th>6</th>\n",
       "      <td>Grocery</td>\n",
       "      <td>True</td>\n",
       "    </tr>\n",
       "    <tr>\n",
       "      <th>7</th>\n",
       "      <td>Milk</td>\n",
       "      <td>True</td>\n",
       "    </tr>\n",
       "  </tbody>\n",
       "</table>\n",
       "</div>"
      ],
      "text/plain": [
       "            Columns  Outliers\n",
       "2      Delicatessen      True\n",
       "3  Detergents_Paper      True\n",
       "4             Fresh      True\n",
       "5            Frozen      True\n",
       "6           Grocery      True\n",
       "7              Milk      True"
      ]
     },
     "execution_count": 44,
     "metadata": {},
     "output_type": "execute_result"
    }
   ],
   "source": [
    "#filtering lower and upper bound and identifying the outliers\n",
    "iqr = ((wholesale < (Q1 - 1.5 * IQR)) |(wholesale > (Q3 + 1.5 * IQR))).any()\n",
    "iqr = iqr.to_frame().reset_index().rename(columns={'index':'Columns',0:'Outliers'})\n",
    "outliers = iqr[iqr['Outliers']==True]\n",
    "outliers"
   ]
  },
  {
   "cell_type": "code",
   "execution_count": 45,
   "metadata": {},
   "outputs": [
    {
     "data": {
      "image/png": "[encoded data removed]",
      "text/plain": [
       "<Figure size 1440x1080 with 6 Axes>"
      ]
     },
     "metadata": {},
     "output_type": "display_data"
    }
   ],
   "source": [
    "# Graphical representation\n",
    "fig,axes = plt.subplots(nrows = 3,ncols = 2,figsize=[20,15])\n",
    "for c,i in zip(numerical,axes.flatten()):\n",
    "    sns.boxplot(wholesale[c],ax = i)\n",
    "    i.set_title(c,fontsize=14)"
   ]
  },
  {
   "cell_type": "markdown",
   "metadata": {},
   "source": [
    "`'Fresh', 'Milk', 'Grocery', 'Frozen', 'Detergents_Paper', 'Delicatessen' has outliers`"
   ]
  },
  {
   "cell_type": "markdown",
   "metadata": {},
   "source": [
    "### 1.5 On the basis of your analysis, what are your recommendations for the business? How can your analysis help the business to solve its problem? Answer from the business perspective"
   ]
  },
  {
   "cell_type": "markdown",
   "metadata": {},
   "source": [
    "Channel has two unique values, with \"Hotel\" as most frequent with 298 out of 440 transactions i.e. 67.7% of spendings and Retail as least frequent with 142 out of 440 transactions i.e. 32.27%.\n",
    "\n",
    "\n",
    "Region has three unique values, with \"Other\" as most frequent with 316 out of 440 transactions i.e.71.8% of spendings and Lisbon ranking 2nd with 77 out of 440 transactions i.e. 17.5% of spendings. Least frequent is Oporto with 47 out of 440 transactions i.e.10.68%\n",
    "\n",
    "\n",
    "The distributer should focus more on Hotel channel in other regions provided most of it's transactions are carried out from there. \n",
    "\n",
    "\n",
    "For retail channel the focus should be more on Oporto region. Items such as fresh, grocery and frozen have the highest demand.\n",
    "\n",
    "\n",
    "Since Fresh items has the least inconsistent behaviour the distributor should continue to supply across all regions and channels."
   ]
  },
  {
   "cell_type": "markdown",
   "metadata": {},
   "source": [
    "<font size=5><span style=\"color:darkred\">Problem 2</span>"
   ]
  },
  {
   "cell_type": "markdown",
   "metadata": {},
   "source": [
    "<font size=4><span style=\"color:green\">Problem Statement:</span>\n",
    "    \n",
    "    \n",
    "\n",
    "The Student News Service at Clear Mountain State University (CMSU) has decided to gather data about the undergraduate students that attend CMSU. CMSU creates and distributes a survey of 14 questions and receives responses from 62 undergraduates (stored in the Survey data set)."
   ]
  },
  {
   "cell_type": "code",
   "execution_count": 46,
   "metadata": {
    "scrolled": true
   },
   "outputs": [
    {
     "data": {
      "text/html": [
       "<div>\n",
       "<style scoped>\n",
       "    .dataframe tbody tr th:only-of-type {\n",
       "        vertical-align: middle;\n",
       "    }\n",
       "\n",
       "    .dataframe tbody tr th {\n",
       "        vertical-align: top;\n",
       "    }\n",
       "\n",
       "    .dataframe thead th {\n",
       "        text-align: right;\n",
       "    }\n",
       "</style>\n",
       "<table border=\"1\" class=\"dataframe\">\n",
       "  <thead>\n",
       "    <tr style=\"text-align: right;\">\n",
       "      <th></th>\n",
       "      <th>ID</th>\n",
       "      <th>Gender</th>\n",
       "      <th>Age</th>\n",
       "      <th>Class</th>\n",
       "      <th>Major</th>\n",
       "      <th>Grad Intention</th>\n",
       "      <th>GPA</th>\n",
       "      <th>Employment</th>\n",
       "      <th>Salary</th>\n",
       "      <th>Social Networking</th>\n",
       "      <th>Satisfaction</th>\n",
       "      <th>Spending</th>\n",
       "      <th>Computer</th>\n",
       "      <th>Text Messages</th>\n",
       "    </tr>\n",
       "  </thead>\n",
       "  <tbody>\n",
       "    <tr>\n",
       "      <th>0</th>\n",
       "      <td>1</td>\n",
       "      <td>Female</td>\n",
       "      <td>20</td>\n",
       "      <td>Junior</td>\n",
       "      <td>Other</td>\n",
       "      <td>Yes</td>\n",
       "      <td>2.9</td>\n",
       "      <td>Full-Time</td>\n",
       "      <td>50.0</td>\n",
       "      <td>1</td>\n",
       "      <td>3</td>\n",
       "      <td>350</td>\n",
       "      <td>Laptop</td>\n",
       "      <td>200</td>\n",
       "    </tr>\n",
       "    <tr>\n",
       "      <th>1</th>\n",
       "      <td>2</td>\n",
       "      <td>Male</td>\n",
       "      <td>23</td>\n",
       "      <td>Senior</td>\n",
       "      <td>Management</td>\n",
       "      <td>Yes</td>\n",
       "      <td>3.6</td>\n",
       "      <td>Part-Time</td>\n",
       "      <td>25.0</td>\n",
       "      <td>1</td>\n",
       "      <td>4</td>\n",
       "      <td>360</td>\n",
       "      <td>Laptop</td>\n",
       "      <td>50</td>\n",
       "    </tr>\n",
       "    <tr>\n",
       "      <th>2</th>\n",
       "      <td>3</td>\n",
       "      <td>Male</td>\n",
       "      <td>21</td>\n",
       "      <td>Junior</td>\n",
       "      <td>Other</td>\n",
       "      <td>Yes</td>\n",
       "      <td>2.5</td>\n",
       "      <td>Part-Time</td>\n",
       "      <td>45.0</td>\n",
       "      <td>2</td>\n",
       "      <td>4</td>\n",
       "      <td>600</td>\n",
       "      <td>Laptop</td>\n",
       "      <td>200</td>\n",
       "    </tr>\n",
       "    <tr>\n",
       "      <th>3</th>\n",
       "      <td>4</td>\n",
       "      <td>Male</td>\n",
       "      <td>21</td>\n",
       "      <td>Junior</td>\n",
       "      <td>CIS</td>\n",
       "      <td>Yes</td>\n",
       "      <td>2.5</td>\n",
       "      <td>Full-Time</td>\n",
       "      <td>40.0</td>\n",
       "      <td>4</td>\n",
       "      <td>6</td>\n",
       "      <td>600</td>\n",
       "      <td>Laptop</td>\n",
       "      <td>250</td>\n",
       "    </tr>\n",
       "    <tr>\n",
       "      <th>4</th>\n",
       "      <td>5</td>\n",
       "      <td>Male</td>\n",
       "      <td>23</td>\n",
       "      <td>Senior</td>\n",
       "      <td>Other</td>\n",
       "      <td>Undecided</td>\n",
       "      <td>2.8</td>\n",
       "      <td>Unemployed</td>\n",
       "      <td>40.0</td>\n",
       "      <td>2</td>\n",
       "      <td>4</td>\n",
       "      <td>500</td>\n",
       "      <td>Laptop</td>\n",
       "      <td>100</td>\n",
       "    </tr>\n",
       "  </tbody>\n",
       "</table>\n",
       "</div>"
      ],
      "text/plain": [
       "   ID  Gender  Age   Class       Major Grad Intention  GPA  Employment  \\\n",
       "0   1  Female   20  Junior       Other            Yes  2.9   Full-Time   \n",
       "1   2    Male   23  Senior  Management            Yes  3.6   Part-Time   \n",
       "2   3    Male   21  Junior       Other            Yes  2.5   Part-Time   \n",
       "3   4    Male   21  Junior         CIS            Yes  2.5   Full-Time   \n",
       "4   5    Male   23  Senior       Other      Undecided  2.8  Unemployed   \n",
       "\n",
       "   Salary  Social Networking  Satisfaction  Spending Computer  Text Messages  \n",
       "0    50.0                  1             3       350   Laptop            200  \n",
       "1    25.0                  1             4       360   Laptop             50  \n",
       "2    45.0                  2             4       600   Laptop            200  \n",
       "3    40.0                  4             6       600   Laptop            250  \n",
       "4    40.0                  2             4       500   Laptop            100  "
      ]
     },
     "execution_count": 46,
     "metadata": {},
     "output_type": "execute_result"
    }
   ],
   "source": [
    "#importing the survey csv\n",
    "cmsu = pd.read_csv('Survey-1.csv')\n",
    "cmsu.head()"
   ]
  },
  {
   "cell_type": "code",
   "execution_count": 47,
   "metadata": {},
   "outputs": [
    {
     "name": "stdout",
     "output_type": "stream",
     "text": [
      "\u001b[1m\u001b[91mTotal dimension for CMSU Survey dataset:\u001b[0m (62, 14)\n",
      "\u001b[1m\u001b[94mTotal rows in CMSU Survey dataset:\u001b[0m 62\n",
      "\u001b[1m\u001b[94mTotal columns in CMSU Survey dataset:\u001b[0m 14\n"
     ]
    }
   ],
   "source": [
    "#checking the structure of the dataset\n",
    "\n",
    "print(color.BOLD+color.RED+'Total dimension for CMSU Survey dataset:'+color.END,cmsu.shape)\n",
    "print(color.BOLD+color.BLUE+'Total rows in CMSU Survey dataset:'+color.END,cmsu.shape[0])\n",
    "print(color.BOLD+color.BLUE+'Total columns in CMSU Survey dataset:'+color.END,cmsu.shape[1])"
   ]
  },
  {
   "cell_type": "code",
   "execution_count": 48,
   "metadata": {
    "scrolled": true
   },
   "outputs": [
    {
     "name": "stdout",
     "output_type": "stream",
     "text": [
      "<class 'pandas.core.frame.DataFrame'>\n",
      "RangeIndex: 62 entries, 0 to 61\n",
      "Data columns (total 14 columns):\n",
      " #   Column             Non-Null Count  Dtype  \n",
      "---  ------             --------------  -----  \n",
      " 0   ID                 62 non-null     int64  \n",
      " 1   Gender             62 non-null     object \n",
      " 2   Age                62 non-null     int64  \n",
      " 3   Class              62 non-null     object \n",
      " 4   Major              62 non-null     object \n",
      " 5   Grad Intention     62 non-null     object \n",
      " 6   GPA                62 non-null     float64\n",
      " 7   Employment         62 non-null     object \n",
      " 8   Salary             62 non-null     float64\n",
      " 9   Social Networking  62 non-null     int64  \n",
      " 10  Satisfaction       62 non-null     int64  \n",
      " 11  Spending           62 non-null     int64  \n",
      " 12  Computer           62 non-null     object \n",
      " 13  Text Messages      62 non-null     int64  \n",
      "dtypes: float64(2), int64(6), object(6)\n",
      "memory usage: 6.9+ KB\n"
     ]
    }
   ],
   "source": [
    "#Checking the info of the data\n",
    "\n",
    "cmsu.info()"
   ]
  },
  {
   "cell_type": "code",
   "execution_count": 49,
   "metadata": {},
   "outputs": [
    {
     "data": {
      "text/plain": [
       "False"
      ]
     },
     "execution_count": 49,
     "metadata": {},
     "output_type": "execute_result"
    }
   ],
   "source": [
    "#checking if there are any null values in the dataset\n",
    "cmsu.isnull().values.any()"
   ]
  },
  {
   "cell_type": "code",
   "execution_count": 50,
   "metadata": {},
   "outputs": [
    {
     "name": "stdout",
     "output_type": "stream",
     "text": [
      "\u001b[1m\u001b[91mNumerical Columns: \n",
      "\n",
      "\u001b[0m ['Age', 'GPA', 'Salary', 'Social Networking', 'Satisfaction', 'Spending', 'Text Messages']\n",
      "\n",
      "\u001b[1m\u001b[95mTotal number of numerical columns: \u001b[0m 7\n",
      "\n",
      "\u001b[1m\u001b[91mCategorical Columns: \n",
      "\n",
      "\u001b[0m ['Gender', 'Class', 'Major', 'Grad Intention', 'Employment', 'Computer']\n",
      "\n",
      "\u001b[1m\u001b[95mTotal number of categorical columns: \u001b[0m 6\n"
     ]
    }
   ],
   "source": [
    "#Dividing the columns into numerical and categorical\n",
    "\n",
    "numerical = cmsu.describe().columns.to_list()\n",
    "categorical = cmsu.select_dtypes('object').columns.to_list()\n",
    "numerical.remove('ID')\n",
    "\n",
    "\n",
    "print(color.BOLD+color.RED+'Numerical Columns: \\n\\n'+color.END,numerical)\n",
    "print()\n",
    "print(color.BOLD+color.PURPLE+'Total number of numerical columns: '+color.END,len(numerical))\n",
    "print()\n",
    "print(color.BOLD+color.RED+'Categorical Columns: \\n\\n'+color.END,categorical)\n",
    "print()\n",
    "print(color.BOLD+color.PURPLE+'Total number of categorical columns: '+color.END,len(categorical))"
   ]
  },
  {
   "cell_type": "markdown",
   "metadata": {},
   "source": [
    "### 2.1. For this data, construct the following contingency tables (Keep Gender as row variable)\n",
    "\n",
    "#### 2.1.1. Gender and Major\n",
    "\n",
    "#### 2.1.2. Gender and Grad Intention\n",
    "\n",
    "#### 2.1.3. Gender and Employment\n",
    "\n",
    "#### 2.1.4. Gender and Computer"
   ]
  },
  {
   "cell_type": "code",
   "execution_count": 51,
   "metadata": {},
   "outputs": [
    {
     "data": {
      "text/html": [
       "<div>\n",
       "<style scoped>\n",
       "    .dataframe tbody tr th:only-of-type {\n",
       "        vertical-align: middle;\n",
       "    }\n",
       "\n",
       "    .dataframe tbody tr th {\n",
       "        vertical-align: top;\n",
       "    }\n",
       "\n",
       "    .dataframe thead th {\n",
       "        text-align: right;\n",
       "    }\n",
       "</style>\n",
       "<table border=\"1\" class=\"dataframe\">\n",
       "  <thead>\n",
       "    <tr style=\"text-align: right;\">\n",
       "      <th>Major</th>\n",
       "      <th>Accounting</th>\n",
       "      <th>CIS</th>\n",
       "      <th>Economics/Finance</th>\n",
       "      <th>International Business</th>\n",
       "      <th>Management</th>\n",
       "      <th>Other</th>\n",
       "      <th>Retailing/Marketing</th>\n",
       "      <th>Undecided</th>\n",
       "    </tr>\n",
       "    <tr>\n",
       "      <th>Gender</th>\n",
       "      <th></th>\n",
       "      <th></th>\n",
       "      <th></th>\n",
       "      <th></th>\n",
       "      <th></th>\n",
       "      <th></th>\n",
       "      <th></th>\n",
       "      <th></th>\n",
       "    </tr>\n",
       "  </thead>\n",
       "  <tbody>\n",
       "    <tr>\n",
       "      <th>Female</th>\n",
       "      <td>3</td>\n",
       "      <td>3</td>\n",
       "      <td>7</td>\n",
       "      <td>4</td>\n",
       "      <td>4</td>\n",
       "      <td>3</td>\n",
       "      <td>9</td>\n",
       "      <td>0</td>\n",
       "    </tr>\n",
       "    <tr>\n",
       "      <th>Male</th>\n",
       "      <td>4</td>\n",
       "      <td>1</td>\n",
       "      <td>4</td>\n",
       "      <td>2</td>\n",
       "      <td>6</td>\n",
       "      <td>4</td>\n",
       "      <td>5</td>\n",
       "      <td>3</td>\n",
       "    </tr>\n",
       "  </tbody>\n",
       "</table>\n",
       "</div>"
      ],
      "text/plain": [
       "Major   Accounting  CIS  Economics/Finance  International Business  \\\n",
       "Gender                                                               \n",
       "Female           3    3                  7                       4   \n",
       "Male             4    1                  4                       2   \n",
       "\n",
       "Major   Management  Other  Retailing/Marketing  Undecided  \n",
       "Gender                                                     \n",
       "Female           4      3                    9          0  \n",
       "Male             6      4                    5          3  "
      ]
     },
     "execution_count": 51,
     "metadata": {},
     "output_type": "execute_result"
    }
   ],
   "source": [
    "#2.1.1. Gender and Major\n",
    "major = pd.crosstab(cmsu.Gender,cmsu.Major)\n",
    "major"
   ]
  },
  {
   "cell_type": "code",
   "execution_count": 52,
   "metadata": {},
   "outputs": [
    {
     "data": {
      "image/png": "[encoded data removed]",
      "text/plain": [
       "<Figure size 1080x360 with 1 Axes>"
      ]
     },
     "metadata": {},
     "output_type": "display_data"
    }
   ],
   "source": [
    "major.plot.barh(figsize=[15,5])\n",
    "plt.ylabel('Gender',fontsize=13)\n",
    "plt.yticks(fontsize=12)\n",
    "plt.xticks(fontsize=12)\n",
    "plt.title('Gender and Major',fontsize=13);"
   ]
  },
  {
   "cell_type": "code",
   "execution_count": 66,
   "metadata": {},
   "outputs": [
    {
     "data": {
      "text/html": [
       "<div>\n",
       "<style scoped>\n",
       "    .dataframe tbody tr th:only-of-type {\n",
       "        vertical-align: middle;\n",
       "    }\n",
       "\n",
       "    .dataframe tbody tr th {\n",
       "        vertical-align: top;\n",
       "    }\n",
       "\n",
       "    .dataframe thead th {\n",
       "        text-align: right;\n",
       "    }\n",
       "</style>\n",
       "<table border=\"1\" class=\"dataframe\">\n",
       "  <thead>\n",
       "    <tr style=\"text-align: right;\">\n",
       "      <th>Grad Intention</th>\n",
       "      <th>No</th>\n",
       "      <th>Undecided</th>\n",
       "      <th>Yes</th>\n",
       "      <th>All</th>\n",
       "    </tr>\n",
       "    <tr>\n",
       "      <th>Gender</th>\n",
       "      <th></th>\n",
       "      <th></th>\n",
       "      <th></th>\n",
       "      <th></th>\n",
       "    </tr>\n",
       "  </thead>\n",
       "  <tbody>\n",
       "    <tr>\n",
       "      <th>Female</th>\n",
       "      <td>9</td>\n",
       "      <td>13</td>\n",
       "      <td>11</td>\n",
       "      <td>33</td>\n",
       "    </tr>\n",
       "    <tr>\n",
       "      <th>Male</th>\n",
       "      <td>3</td>\n",
       "      <td>9</td>\n",
       "      <td>17</td>\n",
       "      <td>29</td>\n",
       "    </tr>\n",
       "    <tr>\n",
       "      <th>All</th>\n",
       "      <td>12</td>\n",
       "      <td>22</td>\n",
       "      <td>28</td>\n",
       "      <td>62</td>\n",
       "    </tr>\n",
       "  </tbody>\n",
       "</table>\n",
       "</div>"
      ],
      "text/plain": [
       "Grad Intention  No  Undecided  Yes  All\n",
       "Gender                                 \n",
       "Female           9         13   11   33\n",
       "Male             3          9   17   29\n",
       "All             12         22   28   62"
      ]
     },
     "execution_count": 66,
     "metadata": {},
     "output_type": "execute_result"
    }
   ],
   "source": [
    "# 2.1.2. Gender and Grad Intention\n",
    "\n",
    "grad_intention = pd.crosstab(cmsu.Gender,cmsu['Grad Intention'],margins=True)\n",
    "grad_intention"
   ]
  },
  {
   "cell_type": "code",
   "execution_count": 54,
   "metadata": {},
   "outputs": [
    {
     "data": {
      "image/png": "[encoded data removed]",
      "text/plain": [
       "<Figure size 720x360 with 1 Axes>"
      ]
     },
     "metadata": {},
     "output_type": "display_data"
    }
   ],
   "source": [
    "grad_intention.plot.bar(figsize=[10,5])\n",
    "plt.xlabel('Gender',fontsize=13)\n",
    "plt.yticks(fontsize=12)\n",
    "plt.xticks(fontsize=12,rotation=360)\n",
    "plt.title('Gender and Grad Intention',fontsize=13);"
   ]
  },
  {
   "cell_type": "code",
   "execution_count": 55,
   "metadata": {},
   "outputs": [
    {
     "data": {
      "text/html": [
       "<div>\n",
       "<style scoped>\n",
       "    .dataframe tbody tr th:only-of-type {\n",
       "        vertical-align: middle;\n",
       "    }\n",
       "\n",
       "    .dataframe tbody tr th {\n",
       "        vertical-align: top;\n",
       "    }\n",
       "\n",
       "    .dataframe thead th {\n",
       "        text-align: right;\n",
       "    }\n",
       "</style>\n",
       "<table border=\"1\" class=\"dataframe\">\n",
       "  <thead>\n",
       "    <tr style=\"text-align: right;\">\n",
       "      <th>Employment</th>\n",
       "      <th>Full-Time</th>\n",
       "      <th>Part-Time</th>\n",
       "      <th>Unemployed</th>\n",
       "    </tr>\n",
       "    <tr>\n",
       "      <th>Gender</th>\n",
       "      <th></th>\n",
       "      <th></th>\n",
       "      <th></th>\n",
       "    </tr>\n",
       "  </thead>\n",
       "  <tbody>\n",
       "    <tr>\n",
       "      <th>Female</th>\n",
       "      <td>3</td>\n",
       "      <td>24</td>\n",
       "      <td>6</td>\n",
       "    </tr>\n",
       "    <tr>\n",
       "      <th>Male</th>\n",
       "      <td>7</td>\n",
       "      <td>19</td>\n",
       "      <td>3</td>\n",
       "    </tr>\n",
       "  </tbody>\n",
       "</table>\n",
       "</div>"
      ],
      "text/plain": [
       "Employment  Full-Time  Part-Time  Unemployed\n",
       "Gender                                      \n",
       "Female              3         24           6\n",
       "Male                7         19           3"
      ]
     },
     "execution_count": 55,
     "metadata": {},
     "output_type": "execute_result"
    }
   ],
   "source": [
    "# 2.1.3. Gender and Employment\n",
    "\n",
    "employ = pd.crosstab(cmsu.Gender,cmsu.Employment)\n",
    "employ"
   ]
  },
  {
   "cell_type": "code",
   "execution_count": 56,
   "metadata": {},
   "outputs": [
    {
     "data": {
      "image/png": "[encoded data removed]",
      "text/plain": [
       "<Figure size 720x360 with 1 Axes>"
      ]
     },
     "metadata": {},
     "output_type": "display_data"
    }
   ],
   "source": [
    "employ.plot.bar(figsize=[10,5])\n",
    "plt.xlabel('Gender',fontsize=13)\n",
    "plt.yticks(fontsize=12)\n",
    "plt.xticks(fontsize=12,rotation=360)\n",
    "plt.title('Gender and Employment',fontsize=13);"
   ]
  },
  {
   "cell_type": "code",
   "execution_count": 69,
   "metadata": {},
   "outputs": [
    {
     "data": {
      "text/html": [
       "<div>\n",
       "<style scoped>\n",
       "    .dataframe tbody tr th:only-of-type {\n",
       "        vertical-align: middle;\n",
       "    }\n",
       "\n",
       "    .dataframe tbody tr th {\n",
       "        vertical-align: top;\n",
       "    }\n",
       "\n",
       "    .dataframe thead th {\n",
       "        text-align: right;\n",
       "    }\n",
       "</style>\n",
       "<table border=\"1\" class=\"dataframe\">\n",
       "  <thead>\n",
       "    <tr style=\"text-align: right;\">\n",
       "      <th>Computer</th>\n",
       "      <th>Desktop</th>\n",
       "      <th>Laptop</th>\n",
       "      <th>Tablet</th>\n",
       "      <th>All</th>\n",
       "    </tr>\n",
       "    <tr>\n",
       "      <th>Gender</th>\n",
       "      <th></th>\n",
       "      <th></th>\n",
       "      <th></th>\n",
       "      <th></th>\n",
       "    </tr>\n",
       "  </thead>\n",
       "  <tbody>\n",
       "    <tr>\n",
       "      <th>Female</th>\n",
       "      <td>2</td>\n",
       "      <td>29</td>\n",
       "      <td>2</td>\n",
       "      <td>33</td>\n",
       "    </tr>\n",
       "    <tr>\n",
       "      <th>Male</th>\n",
       "      <td>3</td>\n",
       "      <td>26</td>\n",
       "      <td>0</td>\n",
       "      <td>29</td>\n",
       "    </tr>\n",
       "    <tr>\n",
       "      <th>All</th>\n",
       "      <td>5</td>\n",
       "      <td>55</td>\n",
       "      <td>2</td>\n",
       "      <td>62</td>\n",
       "    </tr>\n",
       "  </tbody>\n",
       "</table>\n",
       "</div>"
      ],
      "text/plain": [
       "Computer  Desktop  Laptop  Tablet  All\n",
       "Gender                                \n",
       "Female          2      29       2   33\n",
       "Male            3      26       0   29\n",
       "All             5      55       2   62"
      ]
     },
     "execution_count": 69,
     "metadata": {},
     "output_type": "execute_result"
    }
   ],
   "source": [
    "# 2.1.4. Gender and Computer\n",
    "\n",
    "computer = pd.crosstab(cmsu.Gender,cmsu.Computer,margins=True)\n",
    "computer"
   ]
  },
  {
   "cell_type": "code",
   "execution_count": 58,
   "metadata": {},
   "outputs": [
    {
     "data": {
      "image/png": "[encoded data removed]",
      "text/plain": [
       "<Figure size 720x360 with 1 Axes>"
      ]
     },
     "metadata": {},
     "output_type": "display_data"
    }
   ],
   "source": [
    "computer.plot.bar(figsize=[10,5])\n",
    "plt.xlabel('Gender',fontsize=13)\n",
    "plt.yticks(fontsize=12)\n",
    "plt.xticks(fontsize=12,rotation=360)\n",
    "plt.title('Gender and Computer',fontsize=13);"
   ]
  },
  {
   "cell_type": "markdown",
   "metadata": {},
   "source": [
    "### 2.2. Assume that the sample is representative of the population of CMSU. Based on the data, answer the following question:\n",
    "\n",
    "#### 2.2.1. What is the probability that a randomly selected CMSU student will be male?\n",
    "\n",
    "#### 2.2.2. What is the probability that a randomly selected CMSU student will be female?"
   ]
  },
  {
   "cell_type": "code",
   "execution_count": 59,
   "metadata": {},
   "outputs": [
    {
     "data": {
      "text/plain": [
       "Female    33\n",
       "Male      29\n",
       "Name: Gender, dtype: int64"
      ]
     },
     "execution_count": 59,
     "metadata": {},
     "output_type": "execute_result"
    }
   ],
   "source": [
    "#Let's check the values counts in Gender\n",
    "cmsu.Gender.value_counts()"
   ]
  },
  {
   "cell_type": "code",
   "execution_count": 60,
   "metadata": {},
   "outputs": [
    {
     "name": "stdout",
     "output_type": "stream",
     "text": [
      "\u001b[1mTotal number of Males in CMSU =\u001b[0m 29\n",
      "\u001b[1mTotal number of students in CMSU =\u001b[0m 62\n",
      "\u001b[94m\u001b[1mProbability that a randomly selected CMSU student will be male is: \u001b[0m 0.4677 or 46.77 %\n"
     ]
    }
   ],
   "source": [
    "# 2.2.1. What is the probability that a randomly selected CMSU student will be male?\n",
    "\n",
    "total_male = (cmsu.Gender == 'Male').values.sum()\n",
    "total_students = cmsu.shape[0]\n",
    "prob_male = round(total_male/total_students,4)\n",
    "\n",
    "\n",
    "\n",
    "print(color.BOLD+'Total number of Males in CMSU ='+color.END,total_male)\n",
    "print(color.BOLD+'Total number of students in CMSU ='+color.END,total_students)\n",
    "print(color.BLUE+color.BOLD+'Probability that a randomly selected CMSU student will be male is: '+color.END,prob_male,\n",
    "      'or',prob_male*100,'%')"
   ]
  },
  {
   "cell_type": "code",
   "execution_count": 61,
   "metadata": {},
   "outputs": [
    {
     "name": "stdout",
     "output_type": "stream",
     "text": [
      "\u001b[1mTotal number of Females in CMSU =\u001b[0m 33\n",
      "\u001b[1mTotal number of students in CMSU =\u001b[0m 62\n",
      "\u001b[94m\u001b[1mProbability that a randomly selected CMSU student will be female is: \u001b[0m 0.5323 or 53.23 %\n"
     ]
    }
   ],
   "source": [
    "# 2.2.2. What is the probability that a randomly selected CMSU student will be female?\n",
    "\n",
    "total_female = (cmsu.Gender == 'Female').values.sum()\n",
    "total_students = cmsu.shape[0]\n",
    "prob_female = round(total_female/total_students,4)\n",
    "\n",
    "\n",
    "\n",
    "print(color.BOLD+'Total number of Females in CMSU ='+color.END,total_female)\n",
    "print(color.BOLD+'Total number of students in CMSU ='+color.END,total_students)\n",
    "print(color.BLUE+color.BOLD+'Probability that a randomly selected CMSU student will be female is: '+color.END,prob_female,\n",
    "      'or',prob_female*100,'%')"
   ]
  },
  {
   "cell_type": "markdown",
   "metadata": {},
   "source": [
    "### 2.3. Assume that the sample is representative of the population of CMSU. Based on the data, answer the following question:\n",
    "\n",
    "#### 2.3.1. Find the conditional probability of different majors among the male students in CMSU.\n",
    "\n",
    "#### 2.3.2 Find the conditional probability of different majors among the female students of CMSU."
   ]
  },
  {
   "cell_type": "code",
   "execution_count": 62,
   "metadata": {},
   "outputs": [
    {
     "data": {
      "text/html": [
       "<div>\n",
       "<style scoped>\n",
       "    .dataframe tbody tr th:only-of-type {\n",
       "        vertical-align: middle;\n",
       "    }\n",
       "\n",
       "    .dataframe tbody tr th {\n",
       "        vertical-align: top;\n",
       "    }\n",
       "\n",
       "    .dataframe thead th {\n",
       "        text-align: right;\n",
       "    }\n",
       "</style>\n",
       "<table border=\"1\" class=\"dataframe\">\n",
       "  <thead>\n",
       "    <tr style=\"text-align: right;\">\n",
       "      <th>Major</th>\n",
       "      <th>Accounting</th>\n",
       "      <th>CIS</th>\n",
       "      <th>Economics/Finance</th>\n",
       "      <th>International Business</th>\n",
       "      <th>Management</th>\n",
       "      <th>Other</th>\n",
       "      <th>Retailing/Marketing</th>\n",
       "      <th>Undecided</th>\n",
       "    </tr>\n",
       "    <tr>\n",
       "      <th>Gender</th>\n",
       "      <th></th>\n",
       "      <th></th>\n",
       "      <th></th>\n",
       "      <th></th>\n",
       "      <th></th>\n",
       "      <th></th>\n",
       "      <th></th>\n",
       "      <th></th>\n",
       "    </tr>\n",
       "  </thead>\n",
       "  <tbody>\n",
       "    <tr>\n",
       "      <th>Female</th>\n",
       "      <td>3</td>\n",
       "      <td>3</td>\n",
       "      <td>7</td>\n",
       "      <td>4</td>\n",
       "      <td>4</td>\n",
       "      <td>3</td>\n",
       "      <td>9</td>\n",
       "      <td>0</td>\n",
       "    </tr>\n",
       "    <tr>\n",
       "      <th>Male</th>\n",
       "      <td>4</td>\n",
       "      <td>1</td>\n",
       "      <td>4</td>\n",
       "      <td>2</td>\n",
       "      <td>6</td>\n",
       "      <td>4</td>\n",
       "      <td>5</td>\n",
       "      <td>3</td>\n",
       "    </tr>\n",
       "  </tbody>\n",
       "</table>\n",
       "</div>"
      ],
      "text/plain": [
       "Major   Accounting  CIS  Economics/Finance  International Business  \\\n",
       "Gender                                                               \n",
       "Female           3    3                  7                       4   \n",
       "Male             4    1                  4                       2   \n",
       "\n",
       "Major   Management  Other  Retailing/Marketing  Undecided  \n",
       "Gender                                                     \n",
       "Female           4      3                    9          0  \n",
       "Male             6      4                    5          3  "
      ]
     },
     "execution_count": 62,
     "metadata": {},
     "output_type": "execute_result"
    }
   ],
   "source": [
    "#contingency table for different majors\n",
    "major"
   ]
  },
  {
   "cell_type": "code",
   "execution_count": 63,
   "metadata": {},
   "outputs": [
    {
     "name": "stdout",
     "output_type": "stream",
     "text": [
      "\u001b[94m\u001b[1mTotal number of Males in CMSU =\u001b[0m 29\n",
      "\u001b[1m\n",
      "Total number of males in Accounting major: \u001b[0m 4 \n",
      " \u001b[95m\u001b[1mProbability of Accounting majors among the male students of CMSU:\u001b[0m 0.1379 or 13.79 %\n",
      "\u001b[1m\n",
      "Total number of males in CIS major: \u001b[0m 1 \n",
      " \u001b[95m\u001b[1mProbability of CIS majors among the male students of CMSU:\u001b[0m 0.0345 or 3.45 %\n",
      "\u001b[1m\n",
      "Total number of males in Economics/Finance major: \u001b[0m 4 \n",
      " \u001b[95m\u001b[1mProbability of Economics/Finance majors among the male students of CMSU:\u001b[0m 0.1379 or 13.79 %\n",
      "\u001b[1m\n",
      "Total number of males in International Business major: \u001b[0m 2 \n",
      " \u001b[95m\u001b[1mProbability of International Business majors among the male students of CMSU:\u001b[0m 0.069 or 6.9 %\n",
      "\u001b[1m\n",
      "Total number of males in Management major: \u001b[0m 6 \n",
      " \u001b[95m\u001b[1mProbability of Management majors among the male students of CMSU:\u001b[0m 0.2069 or 20.69 %\n",
      "\u001b[1m\n",
      "Total number of males in Other major: \u001b[0m 4 \n",
      " \u001b[95m\u001b[1mProbability of Other majors among the male students of CMSU:\u001b[0m 0.1379 or 13.79 %\n",
      "\u001b[1m\n",
      "Total number of males in Retailing/Marketing major: \u001b[0m 5 \n",
      " \u001b[95m\u001b[1mProbability of Retailing/Marketing majors among the male students of CMSU:\u001b[0m 0.1724 or 17.24 %\n",
      "\u001b[1m\n",
      "Total number of males in Undecided major: \u001b[0m 3 \n",
      " \u001b[95m\u001b[1mProbability of Undecided majors among the male students of CMSU:\u001b[0m 0.1034 or 10.34 %\n"
     ]
    }
   ],
   "source": [
    "# 2.3.1. Find the conditional probability of different majors among the male students in CMSU.\n",
    "\n",
    "print(color.BLUE+color.BOLD+'Total number of Males in CMSU ='+color.END,total_male)\n",
    "\n",
    "for i in major.columns:\n",
    "    a = major.loc['Male',i]\n",
    "    prob = round(a/total_male,4)\n",
    "    print(color.BOLD+'\\nTotal number of males in',i,'major: '+color.END,a,'\\n',\n",
    "          color.PURPLE+color.BOLD+'Probability of',i,'majors among the male students of CMSU:'+color.END,prob,\n",
    "         'or',prob*100,'%')"
   ]
  },
  {
   "cell_type": "code",
   "execution_count": 64,
   "metadata": {},
   "outputs": [
    {
     "name": "stdout",
     "output_type": "stream",
     "text": [
      "\u001b[91m\u001b[1mTotal number of Females in CMSU =\u001b[0m 33\n",
      "\u001b[1m\n",
      "Total number of females in Accounting major: \u001b[0m 3 \n",
      " \u001b[36m\u001b[1mProbability of Accounting majors among the females students of CMSU:\u001b[0m 0.0909 or 9.09 %\n",
      "\u001b[1m\n",
      "Total number of females in CIS major: \u001b[0m 3 \n",
      " \u001b[36m\u001b[1mProbability of CIS majors among the females students of CMSU:\u001b[0m 0.0909 or 9.09 %\n",
      "\u001b[1m\n",
      "Total number of females in Economics/Finance major: \u001b[0m 7 \n",
      " \u001b[36m\u001b[1mProbability of Economics/Finance majors among the females students of CMSU:\u001b[0m 0.2121 or 21.21 %\n",
      "\u001b[1m\n",
      "Total number of females in International Business major: \u001b[0m 4 \n",
      " \u001b[36m\u001b[1mProbability of International Business majors among the females students of CMSU:\u001b[0m 0.1212 or 12.12 %\n",
      "\u001b[1m\n",
      "Total number of females in Management major: \u001b[0m 4 \n",
      " \u001b[36m\u001b[1mProbability of Management majors among the females students of CMSU:\u001b[0m 0.1212 or 12.12 %\n",
      "\u001b[1m\n",
      "Total number of females in Other major: \u001b[0m 3 \n",
      " \u001b[36m\u001b[1mProbability of Other majors among the females students of CMSU:\u001b[0m 0.0909 or 9.09 %\n",
      "\u001b[1m\n",
      "Total number of females in Retailing/Marketing major: \u001b[0m 9 \n",
      " \u001b[36m\u001b[1mProbability of Retailing/Marketing majors among the females students of CMSU:\u001b[0m 0.2727 or 27.27 %\n",
      "\u001b[1m\n",
      "Total number of females in Undecided major: \u001b[0m 0 \n",
      " \u001b[36m\u001b[1mProbability of Undecided majors among the females students of CMSU:\u001b[0m 0.0 or 0.0 %\n"
     ]
    }
   ],
   "source": [
    "# 2.3.2 Find the conditional probability of different majors among the female students of CMSU.\n",
    "\n",
    "print(color.RED+color.BOLD+'Total number of Females in CMSU ='+color.END,total_female)\n",
    "\n",
    "for i in major.columns:\n",
    "    a = major.loc['Female',i]\n",
    "    prob = round(a/total_female,4)\n",
    "    print(color.BOLD+'\\nTotal number of females in',i,'major: '+color.END,a,'\\n',\n",
    "          color.DARKCYAN+color.BOLD+'Probability of',i,'majors among the females students of CMSU:'+color.END,prob,\n",
    "          'or',round(prob*100,4),'%')"
   ]
  },
  {
   "cell_type": "markdown",
   "metadata": {},
   "source": [
    "### 2.4. Assume that the sample is a representative of the population of CMSU. Based on the data, answer the following question:\n",
    "\n",
    "#### 2.4.1. Find the probability That a randomly chosen student is a male and intends to graduate.\n",
    "\n",
    "#### 2.4.2 Find the probability that a randomly selected student is a female and does NOT have a laptop. "
   ]
  },
  {
   "cell_type": "code",
   "execution_count": 65,
   "metadata": {},
   "outputs": [
    {
     "data": {
      "text/html": [
       "<div>\n",
       "<style scoped>\n",
       "    .dataframe tbody tr th:only-of-type {\n",
       "        vertical-align: middle;\n",
       "    }\n",
       "\n",
       "    .dataframe tbody tr th {\n",
       "        vertical-align: top;\n",
       "    }\n",
       "\n",
       "    .dataframe thead th {\n",
       "        text-align: right;\n",
       "    }\n",
       "</style>\n",
       "<table border=\"1\" class=\"dataframe\">\n",
       "  <thead>\n",
       "    <tr style=\"text-align: right;\">\n",
       "      <th>Grad Intention</th>\n",
       "      <th>No</th>\n",
       "      <th>Undecided</th>\n",
       "      <th>Yes</th>\n",
       "    </tr>\n",
       "    <tr>\n",
       "      <th>Gender</th>\n",
       "      <th></th>\n",
       "      <th></th>\n",
       "      <th></th>\n",
       "    </tr>\n",
       "  </thead>\n",
       "  <tbody>\n",
       "    <tr>\n",
       "      <th>Female</th>\n",
       "      <td>9</td>\n",
       "      <td>13</td>\n",
       "      <td>11</td>\n",
       "    </tr>\n",
       "    <tr>\n",
       "      <th>Male</th>\n",
       "      <td>3</td>\n",
       "      <td>9</td>\n",
       "      <td>17</td>\n",
       "    </tr>\n",
       "  </tbody>\n",
       "</table>\n",
       "</div>"
      ],
      "text/plain": [
       "Grad Intention  No  Undecided  Yes\n",
       "Gender                            \n",
       "Female           9         13   11\n",
       "Male             3          9   17"
      ]
     },
     "execution_count": 65,
     "metadata": {},
     "output_type": "execute_result"
    }
   ],
   "source": [
    "#contingency table for graduation intentions \n",
    "grad_intention"
   ]
  },
  {
   "cell_type": "code",
   "execution_count": 68,
   "metadata": {
    "scrolled": true
   },
   "outputs": [
    {
     "name": "stdout",
     "output_type": "stream",
     "text": [
      "\u001b[1mTotal number of students that are male and intends to graduate =\u001b[0m 17\n",
      "\u001b[1mTotal number of students that intends to graduate in CMSU =\u001b[0m 62\n",
      "\u001b[91m\u001b[1mProbability that a randomly chosen student is a male and intends to graduate: \u001b[0m 0.2742 or 27.42 %\n",
      "\n"
     ]
    },
    {
     "data": {
      "image/png": "[encoded data removed]",
      "text/plain": [
       "<Figure size 432x288 with 1 Axes>"
      ]
     },
     "metadata": {},
     "output_type": "display_data"
    }
   ],
   "source": [
    "# 2.4.1. Find the probability That a randomly chosen student is a male and intends to graduate.\n",
    "\n",
    "grad_yes = grad_intention.Yes.values.sum()\n",
    "total = grad_intention.loc['All','All']\n",
    "grad = grad_intention.loc['Male','Yes']\n",
    "prob_grad = round(grad/total,4)\n",
    "\n",
    "\n",
    "print(color.BOLD+'Total number of students that are male and intends to graduate ='+color.END,grad)\n",
    "\n",
    "print(color.BOLD+'Total number of students that intends to graduate in CMSU ='+color.END,total)\n",
    "\n",
    "print(color.RED+color.BOLD+'Probability that a randomly chosen student is a male and intends to graduate: '+color.END,\n",
    "      prob_grad,'or',round(prob_grad*100,4),'%')\n",
    "\n",
    "print()\n",
    "\n",
    "\n",
    "################################################################################\n",
    "venn2([total_male,total,grad],\n",
    "      ['Total male students','Students that intends to graduate'],\n",
    "     set_colors=('purple', 'skyblue'))\n",
    "plt.title('Total number of students that are male and intends to graduate');"
   ]
  },
  {
   "cell_type": "code",
   "execution_count": 70,
   "metadata": {},
   "outputs": [
    {
     "data": {
      "text/html": [
       "<div>\n",
       "<style scoped>\n",
       "    .dataframe tbody tr th:only-of-type {\n",
       "        vertical-align: middle;\n",
       "    }\n",
       "\n",
       "    .dataframe tbody tr th {\n",
       "        vertical-align: top;\n",
       "    }\n",
       "\n",
       "    .dataframe thead th {\n",
       "        text-align: right;\n",
       "    }\n",
       "</style>\n",
       "<table border=\"1\" class=\"dataframe\">\n",
       "  <thead>\n",
       "    <tr style=\"text-align: right;\">\n",
       "      <th>Computer</th>\n",
       "      <th>Desktop</th>\n",
       "      <th>Laptop</th>\n",
       "      <th>Tablet</th>\n",
       "      <th>All</th>\n",
       "    </tr>\n",
       "    <tr>\n",
       "      <th>Gender</th>\n",
       "      <th></th>\n",
       "      <th></th>\n",
       "      <th></th>\n",
       "      <th></th>\n",
       "    </tr>\n",
       "  </thead>\n",
       "  <tbody>\n",
       "    <tr>\n",
       "      <th>Female</th>\n",
       "      <td>2</td>\n",
       "      <td>29</td>\n",
       "      <td>2</td>\n",
       "      <td>33</td>\n",
       "    </tr>\n",
       "    <tr>\n",
       "      <th>Male</th>\n",
       "      <td>3</td>\n",
       "      <td>26</td>\n",
       "      <td>0</td>\n",
       "      <td>29</td>\n",
       "    </tr>\n",
       "    <tr>\n",
       "      <th>All</th>\n",
       "      <td>5</td>\n",
       "      <td>55</td>\n",
       "      <td>2</td>\n",
       "      <td>62</td>\n",
       "    </tr>\n",
       "  </tbody>\n",
       "</table>\n",
       "</div>"
      ],
      "text/plain": [
       "Computer  Desktop  Laptop  Tablet  All\n",
       "Gender                                \n",
       "Female          2      29       2   33\n",
       "Male            3      26       0   29\n",
       "All             5      55       2   62"
      ]
     },
     "execution_count": 70,
     "metadata": {},
     "output_type": "execute_result"
    }
   ],
   "source": [
    "#contingency table for computer owned\n",
    "computer"
   ]
  },
  {
   "cell_type": "code",
   "execution_count": 74,
   "metadata": {},
   "outputs": [
    {
     "name": "stdout",
     "output_type": "stream",
     "text": [
      "\u001b[1mTotal number of students that are Female and have a desktop =\u001b[0m 2\n",
      "\u001b[1mTotal number of students that are Female and have a tablet =\u001b[0m 2\n",
      "\u001b[93m\u001b[1mProbability that a randomly selected student is a female and \u001b[4mdoes NOT have a laptop: \u001b[0m 0.0645 or 6.45 %\n",
      "\n"
     ]
    },
    {
     "data": {
      "image/png": "[encoded data removed]",
      "text/plain": [
       "<Figure size 432x288 with 1 Axes>"
      ]
     },
     "metadata": {},
     "output_type": "display_data"
    }
   ],
   "source": [
    "# 2.4.2 Find the probability that a randomly selected student is a female and does NOT have a laptop.\n",
    "\n",
    "#prob of female having a Laptop\n",
    "FnL = computer.loc['Female','Desktop']\n",
    "FnT = computer.loc['Female','Tablet']\n",
    "total = computer.loc['All','All']\n",
    "prob_FnL = round((FnL+FnT)/total,4)\n",
    "#1-(prob of female having a laptop)\n",
    "# prob_FnLc = round(1-prob_FnL,4)\n",
    "\n",
    "\n",
    "print(color.BOLD+'Total number of students that are Female and have a desktop ='+color.END,FnL)\n",
    "print(color.BOLD+'Total number of students that are Female and have a tablet ='+color.END,FnT)\n",
    "\n",
    "\n",
    "print(color.YELLOW+color.BOLD+'Probability that a randomly selected student is a female and',\n",
    "      color.UNDERLINE+'does NOT have a laptop: '\n",
    "      +color.END,prob_FnL,'or',round(prob_FnL*100,4),'%')\n",
    "\n",
    "print()\n",
    "\n",
    "################################################################################\n",
    "\n",
    "venn2([total,computer['All'].value_counts().sum(),FnL],\n",
    "      ['Total students','Students that have a Laptop'],\n",
    "     set_colors=('lightgreen', 'brown'))\n",
    "plt.title('Total number of students that are female and have a Laptop');"
   ]
  },
  {
   "cell_type": "markdown",
   "metadata": {},
   "source": [
    "### 2.5. Assume that the sample is representative of the population of CMSU. Based on the data, answer the following question:\n",
    "\n",
    "#### 2.5.1. Find the probability that a randomly chosen student is either a male or has full-time employment?\n",
    "\n",
    "#### 2.5.2. Find the conditional probability that given a female student is randomly chosen, she is majoring in international business or management."
   ]
  },
  {
   "cell_type": "code",
   "execution_count": 48,
   "metadata": {},
   "outputs": [
    {
     "data": {
      "text/html": [
       "<div>\n",
       "<style scoped>\n",
       "    .dataframe tbody tr th:only-of-type {\n",
       "        vertical-align: middle;\n",
       "    }\n",
       "\n",
       "    .dataframe tbody tr th {\n",
       "        vertical-align: top;\n",
       "    }\n",
       "\n",
       "    .dataframe thead th {\n",
       "        text-align: right;\n",
       "    }\n",
       "</style>\n",
       "<table border=\"1\" class=\"dataframe\">\n",
       "  <thead>\n",
       "    <tr style=\"text-align: right;\">\n",
       "      <th>Employment</th>\n",
       "      <th>Full-Time</th>\n",
       "      <th>Part-Time</th>\n",
       "      <th>Unemployed</th>\n",
       "    </tr>\n",
       "    <tr>\n",
       "      <th>Gender</th>\n",
       "      <th></th>\n",
       "      <th></th>\n",
       "      <th></th>\n",
       "    </tr>\n",
       "  </thead>\n",
       "  <tbody>\n",
       "    <tr>\n",
       "      <th>Female</th>\n",
       "      <td>3</td>\n",
       "      <td>24</td>\n",
       "      <td>6</td>\n",
       "    </tr>\n",
       "    <tr>\n",
       "      <th>Male</th>\n",
       "      <td>7</td>\n",
       "      <td>19</td>\n",
       "      <td>3</td>\n",
       "    </tr>\n",
       "  </tbody>\n",
       "</table>\n",
       "</div>"
      ],
      "text/plain": [
       "Employment  Full-Time  Part-Time  Unemployed\n",
       "Gender                                      \n",
       "Female              3         24           6\n",
       "Male                7         19           3"
      ]
     },
     "execution_count": 48,
     "metadata": {},
     "output_type": "execute_result"
    }
   ],
   "source": [
    "#contingency table for employment status\n",
    "employ"
   ]
  },
  {
   "cell_type": "code",
   "execution_count": 49,
   "metadata": {
    "scrolled": true
   },
   "outputs": [
    {
     "name": "stdout",
     "output_type": "stream",
     "text": [
      "\u001b[1mProbability that a randomly chosen student is a male: \u001b[0m 0.4677 or 46.77 %\n",
      "\u001b[1mProbability that a randomly chosen student has full-time employment: \u001b[0m 0.1613 or 16.13 %\n",
      "\u001b[1mProbability that a randomly chosen student is a male and has full-time employment: \u001b[0m 0.1129 or 11.29 %\n",
      "\u001b[94m\u001b[1mProbability that a randomly chosen student is either a male or has full-time employment: \u001b[0m 0.5161 or 51.61 %\n",
      "\n"
     ]
    },
    {
     "data": {
      "image/png": "[encoded data removed]",
      "text/plain": [
       "<Figure size 432x288 with 1 Axes>"
      ]
     },
     "metadata": {},
     "output_type": "display_data"
    }
   ],
   "source": [
    "# 2.5.1. Find the probability that a randomly chosen student is either a male or has full-time employment?\n",
    "\n",
    "#prob of a randomly chosen student is a male\n",
    "print(color.BOLD+'Probability that a randomly chosen student is a male: '+color.END,\n",
    "      prob_male,'or',prob_male*100,'%')\n",
    "\n",
    "#prob of a randomly chosen student has full-time employment\n",
    "FTE = employ['Full-Time'].values.sum()\n",
    "prob_FTE = round(FTE/total_students,4)\n",
    "\n",
    "print(color.BOLD+'Probability that a randomly chosen student has full-time employment: '+color.END,\n",
    "      prob_FTE,'or',prob_FTE*100,'%')\n",
    "\n",
    "#prob that a randomly chosen student is a male and has full-time employment?\n",
    "male_FTE = employ.loc['Male','Full-Time']\n",
    "prob_Mnf = round(male_FTE/total_students,4)\n",
    "\n",
    "print(color.BOLD+'Probability that a randomly chosen student is a male and has full-time employment: '\n",
    "      +color.END,prob_Mnf,'or',prob_Mnf*100,'%')\n",
    "\n",
    "\n",
    "#prob that a randomly chosen student is either a male or has full-time employment?\n",
    "prob_MuF = round(prob_male + prob_FTE - prob_Mnf,4)\n",
    "\n",
    "\n",
    "\n",
    "print(color.BLUE+color.BOLD+'Probability that a randomly chosen student is either a male or has full-time employment: '\n",
    "      +color.END,prob_MuF,'or',prob_MuF*100,'%')\n",
    "print()\n",
    "\n",
    "################################################################################\n",
    "\n",
    "venn2([total_male,FTE,male_FTE],['Total male students','Total Full-Time employed'],\n",
    "      set_colors=('green', 'green'))\n",
    "venn2_circles([total_male,FTE,male_FTE],linestyle='dotted')\n",
    "plt.title('Student is either a male or has full-time employment');"
   ]
  },
  {
   "cell_type": "code",
   "execution_count": 50,
   "metadata": {},
   "outputs": [
    {
     "data": {
      "text/html": [
       "<div>\n",
       "<style scoped>\n",
       "    .dataframe tbody tr th:only-of-type {\n",
       "        vertical-align: middle;\n",
       "    }\n",
       "\n",
       "    .dataframe tbody tr th {\n",
       "        vertical-align: top;\n",
       "    }\n",
       "\n",
       "    .dataframe thead th {\n",
       "        text-align: right;\n",
       "    }\n",
       "</style>\n",
       "<table border=\"1\" class=\"dataframe\">\n",
       "  <thead>\n",
       "    <tr style=\"text-align: right;\">\n",
       "      <th>Major</th>\n",
       "      <th>Accounting</th>\n",
       "      <th>CIS</th>\n",
       "      <th>Economics/Finance</th>\n",
       "      <th>International Business</th>\n",
       "      <th>Management</th>\n",
       "      <th>Other</th>\n",
       "      <th>Retailing/Marketing</th>\n",
       "      <th>Undecided</th>\n",
       "    </tr>\n",
       "    <tr>\n",
       "      <th>Gender</th>\n",
       "      <th></th>\n",
       "      <th></th>\n",
       "      <th></th>\n",
       "      <th></th>\n",
       "      <th></th>\n",
       "      <th></th>\n",
       "      <th></th>\n",
       "      <th></th>\n",
       "    </tr>\n",
       "  </thead>\n",
       "  <tbody>\n",
       "    <tr>\n",
       "      <th>Female</th>\n",
       "      <td>3</td>\n",
       "      <td>3</td>\n",
       "      <td>7</td>\n",
       "      <td>4</td>\n",
       "      <td>4</td>\n",
       "      <td>3</td>\n",
       "      <td>9</td>\n",
       "      <td>0</td>\n",
       "    </tr>\n",
       "    <tr>\n",
       "      <th>Male</th>\n",
       "      <td>4</td>\n",
       "      <td>1</td>\n",
       "      <td>4</td>\n",
       "      <td>2</td>\n",
       "      <td>6</td>\n",
       "      <td>4</td>\n",
       "      <td>5</td>\n",
       "      <td>3</td>\n",
       "    </tr>\n",
       "  </tbody>\n",
       "</table>\n",
       "</div>"
      ],
      "text/plain": [
       "Major   Accounting  CIS  Economics/Finance  International Business  \\\n",
       "Gender                                                               \n",
       "Female           3    3                  7                       4   \n",
       "Male             4    1                  4                       2   \n",
       "\n",
       "Major   Management  Other  Retailing/Marketing  Undecided  \n",
       "Gender                                                     \n",
       "Female           4      3                    9          0  \n",
       "Male             6      4                    5          3  "
      ]
     },
     "execution_count": 50,
     "metadata": {},
     "output_type": "execute_result"
    }
   ],
   "source": [
    "#contingency table for different measures\n",
    "major"
   ]
  },
  {
   "cell_type": "code",
   "execution_count": 51,
   "metadata": {},
   "outputs": [
    {
     "name": "stdout",
     "output_type": "stream",
     "text": [
      "\u001b[91m\u001b[1mTotal number of Females in CMSU =\u001b[0m 33\n",
      "\n",
      "\u001b[1mTotal number of Females majoring in International Business =\u001b[0m 4 / 33\n",
      "\u001b[95m\u001b[1mProbability that given a female student is randomly chosen and she is majoring in International Business:\u001b[0m 0.1212 or 12.12 %\n",
      "\n",
      "\u001b[1mTotal number of Females majoring in Management =\u001b[0m 4 / 33\n",
      "\u001b[95m\u001b[1mProbability that given a female student is randomly chosen and she is majoring in Management:\u001b[0m 0.1212 or 12.12 %\n",
      "\n",
      "\u001b[36m\u001b[1mProbability that given a female student is randomly chosen, she is majoring in international business or management:\u001b[0m 0.2424 or 24.24 %\n",
      "\n"
     ]
    },
    {
     "data": {
      "image/png": "[encoded data removed]",
      "text/plain": [
       "<Figure size 432x288 with 1 Axes>"
      ]
     },
     "metadata": {},
     "output_type": "display_data"
    }
   ],
   "source": [
    "# 2.5.2. Find the conditional probability that given a female student is randomly chosen, \n",
    "#she is majoring in international business or management.\n",
    "\n",
    "#prob of females majoring in International Business\n",
    "IB = major['International Business'].values.sum()\n",
    "FnIB = major.loc['Female','International Business']\n",
    "prob_IB = round(FnIB/total_female,4)\n",
    "\n",
    "#prob of females majoring in International Business\n",
    "mgmt = major['Management'].values.sum()\n",
    "FnM = major.loc['Female','Management']\n",
    "prob_M = round(FnM/total_female,4)\n",
    "\n",
    "#prob of female majoring in International Business or Management \n",
    "IBuM = round(prob_IB + prob_M,4)\n",
    "\n",
    "################################################################################\n",
    "print(color.RED+color.BOLD+'Total number of Females in CMSU ='+color.END,total_female)\n",
    "print()\n",
    "print(color.BOLD+'Total number of Females majoring in International Business ='+color.END,FnIB,'/',total_female)\n",
    "print(color.PURPLE+color.BOLD+\n",
    "      'Probability that given a female student is randomly chosen and she is majoring in International Business:'\n",
    "      +color.END,prob_IB,'or',round(prob_IB*100,4),'%')\n",
    "print()\n",
    "print(color.BOLD+'Total number of Females majoring in Management ='+color.END,FnM,'/',total_female)\n",
    "print(color.PURPLE+color.BOLD+\n",
    "      'Probability that given a female student is randomly chosen and she is majoring in Management:'\n",
    "      +color.END,prob_M,'or',round(prob_M*100,4),'%')\n",
    "print()\n",
    "print(color.DARKCYAN+color.BOLD+\n",
    "      'Probability that given a female student is randomly chosen, she is majoring in international business or management:'\n",
    "      +color.END,IBuM,'or',round(IBuM*100,4),'%')\n",
    "print()\n",
    "################################################################################\n",
    "\n",
    "venn3([total_female,IB,FnIB,mgmt,FnM,0,0],\n",
    "      ['Total Female students','International \\nBusiness\\n majors','Management \\nmajors'],\n",
    "      set_colors=['purple','brown','brown'])\n",
    "venn3_circles([total_female,IB,FnIB,mgmt,FnM,0,0],linestyle='dashed')\n",
    "plt.title('Female student is either a international business or management major');"
   ]
  },
  {
   "cell_type": "markdown",
   "metadata": {},
   "source": [
    "### 2.6.  Construct a contingency table of Gender and Intent to Graduate at 2 levels (Yes/No). The Undecided students are not considered now and the table is a 2x2 table. Do you think the graduate intention and being female are independent events?"
   ]
  },
  {
   "cell_type": "code",
   "execution_count": 52,
   "metadata": {},
   "outputs": [
    {
     "data": {
      "text/html": [
       "<div>\n",
       "<style scoped>\n",
       "    .dataframe tbody tr th:only-of-type {\n",
       "        vertical-align: middle;\n",
       "    }\n",
       "\n",
       "    .dataframe tbody tr th {\n",
       "        vertical-align: top;\n",
       "    }\n",
       "\n",
       "    .dataframe thead th {\n",
       "        text-align: right;\n",
       "    }\n",
       "</style>\n",
       "<table border=\"1\" class=\"dataframe\">\n",
       "  <thead>\n",
       "    <tr style=\"text-align: right;\">\n",
       "      <th>Grad Intention</th>\n",
       "      <th>No</th>\n",
       "      <th>Yes</th>\n",
       "    </tr>\n",
       "    <tr>\n",
       "      <th>Gender</th>\n",
       "      <th></th>\n",
       "      <th></th>\n",
       "    </tr>\n",
       "  </thead>\n",
       "  <tbody>\n",
       "    <tr>\n",
       "      <th>Female</th>\n",
       "      <td>9</td>\n",
       "      <td>11</td>\n",
       "    </tr>\n",
       "    <tr>\n",
       "      <th>Male</th>\n",
       "      <td>3</td>\n",
       "      <td>17</td>\n",
       "    </tr>\n",
       "  </tbody>\n",
       "</table>\n",
       "</div>"
      ],
      "text/plain": [
       "Grad Intention  No  Yes\n",
       "Gender                 \n",
       "Female           9   11\n",
       "Male             3   17"
      ]
     },
     "execution_count": 52,
     "metadata": {},
     "output_type": "execute_result"
    }
   ],
   "source": [
    "#Construct a contingency table of Gender and Intent to Graduate at 2 levels (Yes/No)\n",
    "grad_intention.drop('Undecided',axis=1)"
   ]
  },
  {
   "cell_type": "code",
   "execution_count": 53,
   "metadata": {},
   "outputs": [
    {
     "name": "stdout",
     "output_type": "stream",
     "text": [
      "\u001b[1mProbability that a randomly selected CMSU student will be female is:\u001b[0m 33 / 62 = 0.5323 or 53.23 %\n",
      "\u001b[1mProbability that a students intends to graduate from CMSU =\u001b[0m 28 / 62 = 0.4516 or 45.16 %\n",
      "\n",
      "\u001b[94m\u001b[1mProduct of the probabilities that a student will be female and that a students intends to graduate from CMSU is=\u001b[0m 0.5323 * 0.4516 = 0.2404 or 24.0387 %\n",
      "\n",
      "\u001b[91m\u001b[1mProbability that a student is female and intends to graduate from CMSU =\u001b[0m 11 / 62 = 0.1774 or 17.74 %\n",
      "\n",
      "\u001b[1mEvents are independent if the probability of an event occurring together is the product of their individual probabilities. \n",
      "\n",
      "Since the probability that a student is female and intends to graduate from CMSU does \u001b[91m\u001b[4mNOT equal\u001b[0m \u001b[1mto the product of the \n",
      "probabilities that a student will be female and that a students intends to graduate from CMSU.\n",
      " \u001b[92m\u001b[1m\n",
      " Therefore, it concludes that the graduate intention and being female are NOT independent events\n"
     ]
    }
   ],
   "source": [
    "#Do you think the graduate intention and being female are independent events?\n",
    "\n",
    "#prob of student is a female > p(female)\n",
    "\n",
    "print(color.BOLD+'Probability that a randomly selected CMSU student will be female is:'+color.END,\n",
    "      total_female,'/',total_students,'=',prob_female,\n",
    "      'or',prob_female*100,'%')\n",
    "\n",
    "#prob of student intends to graduate > p(yes) \n",
    "\n",
    "yes = round(grad_yes/total_students,4)\n",
    "print(color.BOLD+'Probability that a students intends to graduate from CMSU ='+color.END,\n",
    "      grad_yes,'/',total_students,'=',yes,\n",
    "     'or',yes*100,'%\\n')\n",
    "\n",
    "#if p(female)*p(yes) == p(female and yes) ----> then the events are independent\n",
    "\n",
    "female_into_yes = prob_female*yes\n",
    "\n",
    "print(color.BLUE+color.BOLD+\n",
    "      'Product of the probabilities that a student will be female and that a students intends to graduate from CMSU is='\n",
    "      +color.END,prob_female,'*',yes,'=',round(female_into_yes,4),'or',round(female_into_yes*100,4),'%\\n')\n",
    "\n",
    "\n",
    "#prob of student is a female and intends to graduate > p(female and yes)\n",
    "\n",
    "FnG = grad_intention.loc['Female','Yes']\n",
    "p_FnG = round(FnG/total_students,4)\n",
    "\n",
    "print(color.RED+color.BOLD+'Probability that a student is female and intends to graduate from CMSU ='+color.END,\n",
    "      FnG,'/',total_students,'=',p_FnG,\n",
    "     'or',round(p_FnG*100,4),'%\\n')\n",
    "\n",
    "######################################################################################\n",
    "\n",
    "print(color.BOLD+\n",
    "      'Events are independent if the probability of an event occurring together is the product of their individual probabilities.',\n",
    "      '\\n\\nSince the probability that a student is female and intends to graduate from CMSU does',\n",
    "      color.RED+color.UNDERLINE+'NOT equal'+color.END,color.BOLD+\n",
    "     'to the product of the \\nprobabilities that a student will be female and that a students intends to graduate from CMSU.\\n',\n",
    "      color.GREEN+color.BOLD+\n",
    "      '\\n Therefore, it concludes that the graduate intention and being female are NOT independent events')"
   ]
  },
  {
   "cell_type": "markdown",
   "metadata": {},
   "source": [
    "### 2.7. Note that there are four numerical (continuous) variables in the data set, GPA, Salary, Spending, and Text Messages. Answer the following questions based on the data\n",
    "\n",
    "#### 2.7.1. If a student is chosen randomly, what is the probability that his/her GPA is less than 3?\n",
    "\n",
    "#### 2.7.2. Find the conditional probability that a randomly selected male earns 50 or more. Find the conditional probability that a randomly selected female earns 50 or more."
   ]
  },
  {
   "cell_type": "code",
   "execution_count": 54,
   "metadata": {},
   "outputs": [
    {
     "name": "stdout",
     "output_type": "stream",
     "text": [
      "\u001b[1mTotal number of students with GPA less than 3:\u001b[0m 17 / 62\n",
      "\u001b[95m\u001b[1mProbability that a student is chosen randomly and that his/her GPA is less than 3:\u001b[0m 0.2742 or 27.4194 %\n"
     ]
    }
   ],
   "source": [
    "# 2.7.1. If a student is chosen randomly, what is the probability that his/her GPA is less than 3?\n",
    "\n",
    "below_3 = cmsu[cmsu.GPA < 3].shape[0]\n",
    "\n",
    "prob_GPA = below_3/total_students\n",
    "\n",
    "print(color.BOLD+'Total number of students with GPA less than 3:'+color.END,below_3,'/',total_students)\n",
    "print(color.PURPLE+color.BOLD+'Probability that a student is chosen randomly and that his/her GPA is less than 3:'\n",
    "      +color.END,round(prob_GPA,4),'or',round(prob_GPA*100,4),'%')"
   ]
  },
  {
   "cell_type": "code",
   "execution_count": 55,
   "metadata": {},
   "outputs": [
    {
     "data": {
      "text/html": [
       "<div>\n",
       "<style scoped>\n",
       "    .dataframe tbody tr th:only-of-type {\n",
       "        vertical-align: middle;\n",
       "    }\n",
       "\n",
       "    .dataframe tbody tr th {\n",
       "        vertical-align: top;\n",
       "    }\n",
       "\n",
       "    .dataframe thead th {\n",
       "        text-align: right;\n",
       "    }\n",
       "</style>\n",
       "<table border=\"1\" class=\"dataframe\">\n",
       "  <thead>\n",
       "    <tr style=\"text-align: right;\">\n",
       "      <th>Salary</th>\n",
       "      <th>False</th>\n",
       "      <th>True</th>\n",
       "    </tr>\n",
       "    <tr>\n",
       "      <th>Gender</th>\n",
       "      <th></th>\n",
       "      <th></th>\n",
       "    </tr>\n",
       "  </thead>\n",
       "  <tbody>\n",
       "    <tr>\n",
       "      <th>Female</th>\n",
       "      <td>15</td>\n",
       "      <td>18</td>\n",
       "    </tr>\n",
       "    <tr>\n",
       "      <th>Male</th>\n",
       "      <td>15</td>\n",
       "      <td>14</td>\n",
       "    </tr>\n",
       "  </tbody>\n",
       "</table>\n",
       "</div>"
      ],
      "text/plain": [
       "Salary  False  True \n",
       "Gender              \n",
       "Female     15     18\n",
       "Male       15     14"
      ]
     },
     "execution_count": 55,
     "metadata": {},
     "output_type": "execute_result"
    }
   ],
   "source": [
    "pd.crosstab(cmsu.Gender,cmsu.Salary>=50)"
   ]
  },
  {
   "cell_type": "code",
   "execution_count": 56,
   "metadata": {},
   "outputs": [
    {
     "name": "stdout",
     "output_type": "stream",
     "text": [
      "\u001b[92m\u001b[1m\n",
      "Probability that a randomly selected male earns 50 or more:\u001b[0m 14 / 29 = 0.4828 or 48.2759 %\n",
      "\n",
      "\u001b[95m\u001b[1mProbability that a randomly selected female earns 50 or more:\u001b[0m 18 / 33 = 0.5455 or 54.5455 %\n"
     ]
    },
    {
     "data": {
      "image/png": "[encoded data removed]",
      "text/plain": [
       "<Figure size 432x288 with 1 Axes>"
      ]
     },
     "metadata": {},
     "output_type": "display_data"
    }
   ],
   "source": [
    "# 2.7.2. Find the conditional probability that a randomly selected male earns 50 or more. \n",
    "\n",
    "male_sal_50 = (cmsu[cmsu.Salary >= 50][cmsu.Gender == 'Male']).shape[0]\n",
    "prob_Mn50 = male_sal_50/total_male\n",
    "\n",
    "print(color.GREEN+color.BOLD+'\\nProbability that a randomly selected male earns 50 or more:'+color.END,\n",
    "     male_sal_50,'/',total_male,'=',round(prob_Mn50,4),'or',round(prob_Mn50*100,4),'%\\n')\n",
    "\n",
    "# Find the conditional probability that a randomly selected female earns 50 or more.\n",
    "\n",
    "female_sal_50 = (cmsu[cmsu.Salary >= 50][cmsu.Gender == 'Female']).shape[0]\n",
    "prob_Fn50 = female_sal_50/total_female\n",
    "\n",
    "print(color.PURPLE+color.BOLD+'Probability that a randomly selected female earns 50 or more:'+color.END,\n",
    "     female_sal_50,'/',total_female,'=',round(prob_Fn50,4),'or',round(prob_Fn50*100,4),'%')\n",
    "\n",
    "#######################################################\n",
    "\n",
    "venn3([total_students,total_female,female_sal_50,total_male,male_sal_50,0,0],\n",
    "      ['Total Students','Total females\\nwith salary >= 50','Total males\\nwith salary >= 50'])\n",
    "plt.title('Randomly selected male/female earns 50 or more');"
   ]
  },
  {
   "cell_type": "markdown",
   "metadata": {},
   "source": [
    "### 2.8. Note that there are four numerical (continuous) variables in the data set, GPA, Salary, Spending, and Text Messages. For each of them comment whether they follow a normal distribution. Write a note summarizing your conclusions for this whole Problem 2."
   ]
  },
  {
   "cell_type": "code",
   "execution_count": 57,
   "metadata": {},
   "outputs": [],
   "source": [
    "continuous = ['GPA', 'Salary', 'Spending', 'Text Messages']"
   ]
  },
  {
   "cell_type": "code",
   "execution_count": 58,
   "metadata": {},
   "outputs": [
    {
     "name": "stdout",
     "output_type": "stream",
     "text": [
      "\u001b[1mGPA \u001b[91m: skewed =\u001b[0m -0.3146\n",
      "\u001b[1m\u001b[94mGPA is negatively skewed or left skewed\n",
      "\u001b[0m\n",
      "\u001b[1mSalary \u001b[91m: skewed =\u001b[0m 0.5347\n",
      "\u001b[1m\u001b[94mSalary is positively skewed or right skewed\n",
      "\u001b[0m\n",
      "\u001b[1mSpending \u001b[91m: skewed =\u001b[0m 1.5859\n",
      "\u001b[1m\u001b[94mSpending is positively skewed or right skewed\n",
      "\u001b[0m\n",
      "\u001b[1mText Messages \u001b[91m: skewed =\u001b[0m 1.2958\n",
      "\u001b[1m\u001b[94mText Messages is positively skewed or right skewed\n",
      "\u001b[0m\n"
     ]
    },
    {
     "data": {
      "image/png": "[encoded data removed]",
      "text/plain": [
       "<Figure size 720x360 with 1 Axes>"
      ]
     },
     "metadata": {},
     "output_type": "display_data"
    },
    {
     "data": {
      "image/png": "[encoded data removed]",
      "text/plain": [
       "<Figure size 720x360 with 1 Axes>"
      ]
     },
     "metadata": {},
     "output_type": "display_data"
    },
    {
     "data": {
      "image/png": "[encoded data removed]",
      "text/plain": [
       "<Figure size 720x360 with 1 Axes>"
      ]
     },
     "metadata": {},
     "output_type": "display_data"
    },
    {
     "data": {
      "image/png": "[encoded data removed]",
      "text/plain": [
       "<Figure size 720x360 with 1 Axes>"
      ]
     },
     "metadata": {},
     "output_type": "display_data"
    }
   ],
   "source": [
    "for i in continuous:\n",
    "    skewed = (cmsu[i]).skew()\n",
    "    print(color.BOLD+i,color.RED+': skewed ='+color.END,round(skewed,4))\n",
    "    \n",
    "    if skewed < 0:\n",
    "        print(color.BOLD+color.BLUE+i,'is negatively skewed or left skewed\\n'+color.END)\n",
    "    elif skewed > 0:\n",
    "        print(color.BOLD+color.BLUE+i,'is positively skewed or right skewed\\n'+color.END)\n",
    "    else:\n",
    "        print(color.BOLD+color.BLUE+i,'is symmetric\\n'+color.END)\n",
    "        \n",
    "    plt.figure(figsize=[10,5])\n",
    "    sns.boxplot(cmsu[i])\n",
    "    plt.title(i)\n",
    "\n",
    "    "
   ]
  },
  {
   "cell_type": "code",
   "execution_count": 59,
   "metadata": {
    "scrolled": true
   },
   "outputs": [
    {
     "data": {
      "image/png": "[encoded data removed]",
      "text/plain": [
       "<Figure size 936x432 with 1 Axes>"
      ]
     },
     "metadata": {},
     "output_type": "display_data"
    },
    {
     "data": {
      "image/png": "[encoded data removed]",
      "text/plain": [
       "<Figure size 936x432 with 1 Axes>"
      ]
     },
     "metadata": {},
     "output_type": "display_data"
    },
    {
     "data": {
      "image/png": "[encoded data removed]",
      "text/plain": [
       "<Figure size 936x432 with 1 Axes>"
      ]
     },
     "metadata": {},
     "output_type": "display_data"
    },
    {
     "data": {
      "image/png": "[encoded data removed]",
      "text/plain": [
       "<Figure size 936x432 with 1 Axes>"
      ]
     },
     "metadata": {},
     "output_type": "display_data"
    }
   ],
   "source": [
    "red_patch = mlines.Line2D([],[],color='red', marker='_',label='kde')\n",
    "black_patch = mlines.Line2D([],[],color='black', marker='_',label='norm')\n",
    "\n",
    "for i in continuous:\n",
    "    SD = cmsu[i].std()\n",
    "    MEAN = cmsu[i].mean()\n",
    "  \n",
    "    plt.figure(figsize=[13,6])\n",
    "    sns.distplot(cmsu[i],hist=False,kde_kws={\"shade\":True,\"color\": \"r\",\"linewidth\":1},fit=norm)\n",
    "    \n",
    "    Q1 = plt.axvline(x=(cmsu[i].quantile(0.25)),color='g',linestyle='--',label='Q1')\n",
    "    Q2 = plt.axvline(x=(cmsu[i].quantile(0.5)),color='orange',linestyle='--',label='Q2')\n",
    "    Q3 = plt.axvline(x=(cmsu[i].quantile(0.75)),color='r',linestyle='--',label='Q3')\n",
    "\n",
    "    mean = plt.axvline(x=(MEAN),color='b',label='mean')\n",
    "    sd = plt.axvline(x=(SD),color='g',label='SD')\n",
    "    \n",
    "    plt.legend(handles=[red_patch,black_patch,mean,sd,Q1,Q2,Q3],fontsize=14)\n",
    "    plt.title(i,fontsize=14)\n",
    "\n",
    "    plt.show()"
   ]
  },
  {
   "cell_type": "markdown",
   "metadata": {},
   "source": [
    "#### Write a note summarizing your conclusions for this whole Problem 2.\n",
    "\n",
    "Clear Mountain State University (CMSU) has total 62 students out of which 29 of them are male and 33 of them are female. The Management program is mostly dominated by males -probability that a male will major in management is 20.69% and the probability of retail/marketing major by a female is 27.27%; a female opting for economics/finance major is 21.21%. Even so, most of the female’s intention to graduate is still undecided with 17.74% have intentions to graduate, whereas the probability of a male and intentions to graduate are 60.71%.\n",
    "\n",
    "\n",
    "Most of the students have a part-time job, 16.13% of a student has a full-time employment. 27.4194% of the students probably has the GPS less than 3.\n"
   ]
  },
  {
   "cell_type": "markdown",
   "metadata": {},
   "source": [
    "<font size=5><span style=\"color:darkred\">Problem 3</span>"
   ]
  },
  {
   "cell_type": "markdown",
   "metadata": {},
   "source": [
    "<font size=4><span style=\"color:green\">Problem Statement:</span>\n",
    "    \n",
    "    \n",
    "An important quality characteristic used by the manufacturers of ABC asphalt shingles is the amount of moisture the shingles contain when they are packaged. Customers may feel that they have purchased a product lacking in quality if they find moisture and wet shingles inside the packaging.   In some cases, excessive moisture can cause the granules attached to the shingles for texture and colouring purposes to fall off the shingles resulting in appearance problems. To monitor the amount of moisture present, the company conducts moisture tests. A shingle is weighed and then dried. The shingle is then reweighed, and based on the amount of moisture taken out of the product, the pounds of moisture per 100 square feet is calculated. The company would like to show that the mean moisture content is less than 0.35 pound per 100 square feet.\n",
    "\n",
    "---\n",
    "    \n",
    "\n",
    "The file (A & B shingles.csv) includes 36 measurements (in pounds per 100 square feet) for A shingles and 31 for B shingles."
   ]
  },
  {
   "cell_type": "code",
   "execution_count": 60,
   "metadata": {},
   "outputs": [
    {
     "data": {
      "text/html": [
       "<div>\n",
       "<style scoped>\n",
       "    .dataframe tbody tr th:only-of-type {\n",
       "        vertical-align: middle;\n",
       "    }\n",
       "\n",
       "    .dataframe tbody tr th {\n",
       "        vertical-align: top;\n",
       "    }\n",
       "\n",
       "    .dataframe thead th {\n",
       "        text-align: right;\n",
       "    }\n",
       "</style>\n",
       "<table border=\"1\" class=\"dataframe\">\n",
       "  <thead>\n",
       "    <tr style=\"text-align: right;\">\n",
       "      <th></th>\n",
       "      <th>A</th>\n",
       "      <th>B</th>\n",
       "    </tr>\n",
       "  </thead>\n",
       "  <tbody>\n",
       "    <tr>\n",
       "      <th>0</th>\n",
       "      <td>0.44</td>\n",
       "      <td>0.14</td>\n",
       "    </tr>\n",
       "    <tr>\n",
       "      <th>1</th>\n",
       "      <td>0.61</td>\n",
       "      <td>0.15</td>\n",
       "    </tr>\n",
       "    <tr>\n",
       "      <th>2</th>\n",
       "      <td>0.47</td>\n",
       "      <td>0.31</td>\n",
       "    </tr>\n",
       "    <tr>\n",
       "      <th>3</th>\n",
       "      <td>0.30</td>\n",
       "      <td>0.16</td>\n",
       "    </tr>\n",
       "    <tr>\n",
       "      <th>4</th>\n",
       "      <td>0.15</td>\n",
       "      <td>0.37</td>\n",
       "    </tr>\n",
       "  </tbody>\n",
       "</table>\n",
       "</div>"
      ],
      "text/plain": [
       "      A     B\n",
       "0  0.44  0.14\n",
       "1  0.61  0.15\n",
       "2  0.47  0.31\n",
       "3  0.30  0.16\n",
       "4  0.15  0.37"
      ]
     },
     "execution_count": 60,
     "metadata": {},
     "output_type": "execute_result"
    }
   ],
   "source": [
    "shingles = pd.read_csv('A+&+B+shingles.csv')\n",
    "shingles.head()"
   ]
  },
  {
   "cell_type": "code",
   "execution_count": 61,
   "metadata": {},
   "outputs": [
    {
     "name": "stdout",
     "output_type": "stream",
     "text": [
      "\u001b[1m\u001b[91mTotal dimension for shingles dataset:\u001b[0m (36, 2)\n",
      "\u001b[1m\u001b[94mTotal rows in shingles dataset:\u001b[0m 36\n",
      "\u001b[1m\u001b[94mTotal columns in shingles dataset:\u001b[0m 2\n"
     ]
    }
   ],
   "source": [
    "print(color.BOLD+color.RED+'Total dimension for shingles dataset:'+color.END,shingles.shape)\n",
    "print(color.BOLD+color.BLUE+'Total rows in shingles dataset:'+color.END,shingles.shape[0])\n",
    "print(color.BOLD+color.BLUE+'Total columns in shingles dataset:'+color.END,shingles.shape[1])"
   ]
  },
  {
   "cell_type": "code",
   "execution_count": 62,
   "metadata": {},
   "outputs": [
    {
     "name": "stdout",
     "output_type": "stream",
     "text": [
      "<class 'pandas.core.frame.DataFrame'>\n",
      "RangeIndex: 36 entries, 0 to 35\n",
      "Data columns (total 2 columns):\n",
      " #   Column  Non-Null Count  Dtype  \n",
      "---  ------  --------------  -----  \n",
      " 0   A       36 non-null     float64\n",
      " 1   B       31 non-null     float64\n",
      "dtypes: float64(2)\n",
      "memory usage: 704.0 bytes\n"
     ]
    }
   ],
   "source": [
    "shingles.info()"
   ]
  },
  {
   "cell_type": "code",
   "execution_count": 63,
   "metadata": {},
   "outputs": [
    {
     "data": {
      "text/plain": [
       "True"
      ]
     },
     "execution_count": 63,
     "metadata": {},
     "output_type": "execute_result"
    }
   ],
   "source": [
    "shingles.isnull().values.any()"
   ]
  },
  {
   "cell_type": "markdown",
   "metadata": {},
   "source": [
    "### 3.1 Do you think there is evidence that means moisture contents in both types of shingles are within the permissible limits? State your conclusions clearly showing all steps."
   ]
  },
  {
   "cell_type": "markdown",
   "metadata": {},
   "source": [
    "#### __*Formulating the Hypothesis*__\n",
    "* $H_0$ = The mean moisture content is less than equal to 0.35 pound per 100 square feet.\n",
    "* $H_1$ = The mean moisture content is more than 0.35 pound per 100 square feet.\n",
    "\n",
    "                               Null Hypothesis     Hο = μ ≦ 0.35\n",
    "                                                                                     \n",
    "                          Alternate Hypothesis     H_A = μ > 0.35\n",
    "                                            \n",
    "                                     "
   ]
  },
  {
   "cell_type": "code",
   "execution_count": 64,
   "metadata": {},
   "outputs": [
    {
     "name": "stdout",
     "output_type": "stream",
     "text": [
      "\u001b[1mSample Mean of A shingles:\u001b[0m 0.3167 \u001b[1m\n",
      "Sample Std Deviation of A shingles:\u001b[0m 0.3167 \u001b[1m\n",
      "Total number of observation for A shingles:\u001b[0m 36\n",
      "\u001b[1m\n",
      "One sample t test for A shingles\u001b[0m \n",
      "t statistic: -1.4735 p value: 0.1496 \n",
      "\u001b[1m\u001b[91m\n",
      "Level of significance or alpha\u001b[0m 0.05\n",
      "\u001b[1m\n",
      "We have no evidence to reject the null hypothesis since p value > Level of significance\u001b[0m\n",
      "\u001b[1m\u001b[91mOur one-sample t-test p-value=\u001b[0m 0.1496 \u001b[1m\n",
      "which is greater than 5% level of significance\n",
      "\u001b[0m\n",
      "\u001b[1m\u001b[94mAt 95% confidence level, there is sufficient evidence to prove that mean moisture content is less than equal to 0.35 pound per 100 square feet.\u001b[0m\n"
     ]
    }
   ],
   "source": [
    "sample_mean_A = shingles.A.mean(skipna=True)\n",
    "alpha = 0.05 #significance level\n",
    "sd_A = shingles.A.std(skipna=True)\n",
    "n_A = shingles.A.count()\n",
    "\n",
    "\n",
    "t_statistic, p_value = ttest_1samp(shingles.A, 0.35,nan_policy='omit')\n",
    "\n",
    "\n",
    "print(color.BOLD+'Sample Mean of A shingles:'+color.END,round(sample_mean_A,4),\n",
    "      color.BOLD+'\\nSample Std Deviation of A shingles:'+color.END,round(sample_mean_A,4),\n",
    "      color.BOLD+'\\nTotal number of observation for A shingles:'+color.END,n_A)\n",
    "print(color.BOLD+'\\nOne sample t test for A shingles'+color.END,\n",
    "      '\\nt statistic: {0} p value: {1} '.format(round(t_statistic,4), round(p_value,4)))\n",
    "\n",
    "print(color.BOLD+color.RED+'\\nLevel of significance or alpha'+color.END,alpha)\n",
    "\n",
    "if p_value < alpha: \n",
    "    print(color.BOLD+'\\nWe have evidence to reject the null hypothesis since p value < Level of significance'+color.END)\n",
    "else:\n",
    "    print(color.BOLD+'\\nWe have no evidence to reject the null hypothesis since p value > Level of significance'+color.END) \n",
    "\n",
    "print (color.BOLD+color.RED+\"Our one-sample t-test p-value=\"+color.END, round(p_value,4),\n",
    "       color.BOLD+'\\nwhich is greater than 5% level of significance\\n'+color.END)\n",
    "\n",
    "print(color.BOLD+color.BLUE+'At 95% confidence level, there is sufficient evidence to prove that mean moisture content is less than equal to 0.35 pound per 100 square feet.'\n",
    "     +color.END)\n"
   ]
  },
  {
   "cell_type": "code",
   "execution_count": 65,
   "metadata": {},
   "outputs": [
    {
     "name": "stdout",
     "output_type": "stream",
     "text": [
      "\u001b[1mSample Mean of B shingles:\u001b[0m 0.2735 \u001b[1m\n",
      "Sample Std Deviation of B shingles:\u001b[0m 0.2735 \u001b[1m\n",
      "Total number of observation for B shingles:\u001b[0m 31\n",
      "\u001b[1m\n",
      "One sample t test for B shingles\u001b[0m \n",
      "t statistic: -3.1003 p value: 0.0042 \n",
      "\u001b[1m\u001b[91m\n",
      "Level of significance or alpha\u001b[0m 0.05\n",
      "\u001b[1m\n",
      "We have evidence to reject the null hypothesis since p value < Level of significance\u001b[0m\n",
      "\u001b[1m\u001b[91mOur one-sample t-test p-value=\u001b[0m 0.0042 \u001b[1m\n",
      "which is less than 5% level of significance\n",
      "\u001b[0m\n",
      "\u001b[1m\u001b[94mHence, at 5% level of significance, there is not enough evidence that the mean moisture content is less than equal to \n",
      "0.35 pound per 100 square feet.\u001b[0m\n"
     ]
    }
   ],
   "source": [
    "sample_mean_B = shingles.B.mean(skipna=True)\n",
    "sd_B = shingles.B.std(skipna=True)\n",
    "n_B = shingles.B.count()\n",
    "\n",
    "t_statistic, p_value = ttest_1samp(shingles.B, 0.35,nan_policy='omit')\n",
    "\n",
    "\n",
    "print(color.BOLD+'Sample Mean of B shingles:'+color.END,round(sample_mean_B,4),\n",
    "      color.BOLD+'\\nSample Std Deviation of B shingles:'+color.END,round(sample_mean_B,4),\n",
    "      color.BOLD+'\\nTotal number of observation for B shingles:'+color.END,n_B)\n",
    "print(color.BOLD+'\\nOne sample t test for B shingles'+color.END,\n",
    "      '\\nt statistic: {0} p value: {1} '.format(round(t_statistic,4), round(p_value,4)))\n",
    "\n",
    "print(color.BOLD+color.RED+'\\nLevel of significance or alpha'+color.END,alpha)\n",
    "\n",
    "if p_value < alpha: \n",
    "    print(color.BOLD+'\\nWe have evidence to reject the null hypothesis since p value < Level of significance'+color.END)\n",
    "else:\n",
    "    print(color.BOLD+'\\nWe have no evidence to reject the null hypothesis since p value > Level of significance'+color.END) \n",
    "\n",
    "print (color.BOLD+color.RED+\"Our one-sample t-test p-value=\"+color.END, round(p_value,4),\n",
    "       color.BOLD+'\\nwhich is less than 5% level of significance\\n'+color.END)\n",
    "print(color.BOLD+color.BLUE+'Hence, at 5% level of significance, there is not enough evidence that the mean moisture content is less than equal to \\n0.35 pound per 100 square feet.'\n",
    "     +color.END)"
   ]
  },
  {
   "cell_type": "markdown",
   "metadata": {},
   "source": [
    "### 3.2 Do you think that the population mean for shingles A and B are equal? Form the hypothesis and conduct the test of the hypothesis. What assumption do you need to check before the test for equality of means is performed?"
   ]
  },
  {
   "cell_type": "markdown",
   "metadata": {},
   "source": [
    "#### __*Formulating the Hypothesis*__\n",
    "* $H_0$ = $μ_A$ = $μ_B$\n",
    "* $H_1$ = $μ_A$ ≠ $μ_B$"
   ]
  },
  {
   "cell_type": "code",
   "execution_count": 66,
   "metadata": {},
   "outputs": [
    {
     "name": "stdout",
     "output_type": "stream",
     "text": [
      "\u001b[1mMean for Shingles A is\u001b[0m 0.3167 \u001b[1m\n",
      "Mean for Shingles B is\u001b[0m 0.2735\n",
      "t_statistic= 1.2896 and pvalue= 0.2017\n",
      "\u001b[1m\u001b[91m\n",
      "Level of significance or alpha\u001b[0m 0.05\n",
      "\u001b[1m\n",
      "We have no evidence to reject the null hypothesis since p value > Level of significance\u001b[0m\n",
      "\u001b[1m\u001b[91mOur one-sample t-test p-value=\u001b[0m 0.2017 \u001b[1m\n",
      "which is greater than 5% level of significance\n",
      "\u001b[0m\n",
      "\u001b[1m\u001b[94mAt 95% confidence level, there is sufficient evidence to prove that population mean for shingles A and B are equal.\u001b[0m\n"
     ]
    }
   ],
   "source": [
    "print(color.BOLD+'Mean for Shingles A is'+color.END,round(sample_mean_A,4),\n",
    "     color.BOLD+'\\nMean for Shingles B is'+color.END,round(sample_mean_B,4))\n",
    "\n",
    "t_statistic, p_value = ttest_ind(shingles.A, shingles.B,nan_policy='omit')\n",
    "\n",
    "print(\"t_statistic= {} and pvalue= {}\".format(round(t_statistic,4),round(p_value,4)))\n",
    "\n",
    "print(color.BOLD+color.RED+'\\nLevel of significance or alpha'+color.END,alpha)\n",
    "\n",
    "if p_value < alpha: \n",
    "    print(color.BOLD+'\\nWe have evidence to reject the null hypothesis since p value < Level of significance'+color.END)\n",
    "else:\n",
    "    print(color.BOLD+'\\nWe have no evidence to reject the null hypothesis since p value > Level of significance'+color.END) \n",
    "\n",
    "print (color.BOLD+color.RED+\"Our one-sample t-test p-value=\"+color.END, round(p_value,4),\n",
    "       color.BOLD+'\\nwhich is greater than 5% level of significance\\n'+color.END)\n",
    "\n",
    "print(color.BOLD+color.BLUE+'At 95% confidence level, there is sufficient evidence to prove that population mean for shingles A and B are equal.'\n",
    "     +color.END)"
   ]
  },
  {
   "cell_type": "markdown",
   "metadata": {},
   "source": [
    "                                                 ~ THE END ~"
   ]
  }
 ],
 "metadata": {
  "kernelspec": {
   "display_name": "Python 3",
   "language": "python",
   "name": "python3"
  },
  "language_info": {
   "codemirror_mode": {
    "name": "ipython",
    "version": 3
   },
   "file_extension": ".py",
   "mimetype": "text/x-python",
   "name": "python",
   "nbconvert_exporter": "python",
   "pygments_lexer": "ipython3",
   "version": "3.8.5"
  }
 },
 "nbformat": 4,
 "nbformat_minor": 4
}
